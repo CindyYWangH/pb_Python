{
  "nbformat": 4,
  "nbformat_minor": 0,
  "metadata": {
    "kernelspec": {
      "display_name": "Python 3",
      "language": "python",
      "name": "python3"
    },
    "language_info": {
      "codemirror_mode": {
        "name": "ipython",
        "version": 3
      },
      "file_extension": ".py",
      "mimetype": "text/x-python",
      "name": "python",
      "nbconvert_exporter": "python",
      "pygments_lexer": "ipython3",
      "version": "3.7.6"
    },
    "colab": {
      "name": "NumPy.ipynb",
      "provenance": [],
      "include_colab_link": true
    }
  },
  "cells": [
    {
      "cell_type": "markdown",
      "metadata": {
        "id": "view-in-github",
        "colab_type": "text"
      },
      "source": [
        "<a href=\"https://colab.research.google.com/github/CindyYWangH/pb_Python/blob/main/NumPy.ipynb\" target=\"_parent\"><img src=\"https://colab.research.google.com/assets/colab-badge.svg\" alt=\"Open In Colab\"/></a>"
      ]
    },
    {
      "cell_type": "markdown",
      "metadata": {
        "id": "bTOqXG4vxh11"
      },
      "source": [
        "## Python for Data Analysis\n",
        "\n",
        "The possibilities of Python are very many. You can code web applications, small programs or software, etc. But if you want to focus on Data Science, you will need to know some more **tools**. These tools come with **libraries**. In this section, we will introduce two essential libraries: **Numpy and Pandas**. Clearly, no one claims doing **DS** without knowing them. Their purposes are similar, but they are very complementary and they work together. Their main goal is to provide data structures that will help you do more complex analysis or statistical processing.\n",
        "\n",
        "**NumPy is the library for Numerical Python.** It is the core library for scientific computing, which contains a powerful n-dimensional array object, provides tools for integrating C, C++, etc. It is also useful in linear algebra, random number capability, etc.\n",
        "\n",
        "\n",
        "**NumPy Array**: NumPy array is a powerful n-dimensional array object which is in the form of rows and columns. We can initialise numpy arrays from nested python lists and access it elements."
      ]
    },
    {
      "cell_type": "markdown",
      "metadata": {
        "id": "BvJsxNVXxh13"
      },
      "source": [
        "## Numpy Array vs Python Lists \n",
        "\n",
        "We use Python NumPy array instead of a list because of the below reasons:\n",
        "* Less Memory : The very first reason to choose Python NumPy array is that it occupies less memory as compared to list. \n",
        "* Then, it is pretty fast in terms of execution."
      ]
    },
    {
      "cell_type": "code",
      "metadata": {
        "id": "VX4SD4KWxh13"
      },
      "source": [
        "import numpy as np"
      ],
      "execution_count": null,
      "outputs": []
    },
    {
      "cell_type": "code",
      "metadata": {
        "id": "MoXdZA3q3BzE"
      },
      "source": [
        ""
      ],
      "execution_count": null,
      "outputs": []
    },
    {
      "cell_type": "markdown",
      "metadata": {
        "id": "kS463km0xh14"
      },
      "source": [
        "## Introduction to Numpy Arrays"
      ]
    },
    {
      "cell_type": "code",
      "metadata": {
        "colab": {
          "base_uri": "https://localhost:8080/",
          "height": 185
        },
        "id": "hpzSB3xSxSOS",
        "outputId": "0911ebb3-f43b-42db-c97f-5bbef632af85"
      },
      "source": [
        "arr = np.array([1, 2, 3])\n",
        "type(arr)\n"
      ],
      "execution_count": null,
      "outputs": [
        {
          "output_type": "error",
          "ename": "TypeError",
          "evalue": "ignored",
          "traceback": [
            "\u001b[0;31m---------------------------------------------------------------------------\u001b[0m",
            "\u001b[0;31mTypeError\u001b[0m                                 Traceback (most recent call last)",
            "\u001b[0;32m<ipython-input-14-4d419f9c7d77>\u001b[0m in \u001b[0;36m<module>\u001b[0;34m()\u001b[0m\n\u001b[0;32m----> 1\u001b[0;31m \u001b[0marr\u001b[0m \u001b[0;34m=\u001b[0m \u001b[0mnp\u001b[0m\u001b[0;34m.\u001b[0m\u001b[0marray\u001b[0m\u001b[0;34m(\u001b[0m\u001b[0;36m1\u001b[0m\u001b[0;34m,\u001b[0m \u001b[0;36m2\u001b[0m\u001b[0;34m,\u001b[0m \u001b[0;36m3\u001b[0m\u001b[0;34m)\u001b[0m\u001b[0;34m\u001b[0m\u001b[0;34m\u001b[0m\u001b[0m\n\u001b[0m\u001b[1;32m      2\u001b[0m \u001b[0mtype\u001b[0m\u001b[0;34m(\u001b[0m\u001b[0marr\u001b[0m\u001b[0;34m)\u001b[0m\u001b[0;34m\u001b[0m\u001b[0;34m\u001b[0m\u001b[0m\n",
            "\u001b[0;31mTypeError\u001b[0m: array() takes from 1 to 2 positional arguments but 3 were given"
          ]
        }
      ]
    },
    {
      "cell_type": "code",
      "metadata": {
        "colab": {
          "base_uri": "https://localhost:8080/"
        },
        "id": "m6WAk3hkx86z",
        "outputId": "bd29ed1d-461f-4c88-e802-d905caf0adc6"
      },
      "source": [
        "arr = np.arange(1, 10, 2)\n",
        "arr"
      ],
      "execution_count": null,
      "outputs": [
        {
          "output_type": "execute_result",
          "data": {
            "text/plain": [
              "array([1, 3, 5, 7, 9])"
            ]
          },
          "metadata": {},
          "execution_count": 11
        }
      ]
    },
    {
      "cell_type": "code",
      "metadata": {
        "id": "hY8TrMP9xh15",
        "colab": {
          "base_uri": "https://localhost:8080/"
        },
        "outputId": "22dd59b9-6b33-47f2-f580-89936c0cbd15"
      },
      "source": [
        "a = np.arange(24)\n",
        "a"
      ],
      "execution_count": null,
      "outputs": [
        {
          "output_type": "execute_result",
          "data": {
            "text/plain": [
              "array([ 0,  1,  2,  3,  4,  5,  6,  7,  8,  9, 10, 11, 12, 13, 14, 15, 16,\n",
              "       17, 18, 19, 20, 21, 22, 23])"
            ]
          },
          "metadata": {},
          "execution_count": 12
        }
      ]
    },
    {
      "cell_type": "code",
      "metadata": {
        "id": "PCHAelQPxh15",
        "colab": {
          "base_uri": "https://localhost:8080/"
        },
        "outputId": "48c25255-6907-4817-ec39-c657d0f816e1"
      },
      "source": [
        "a.ndim"
      ],
      "execution_count": null,
      "outputs": [
        {
          "output_type": "execute_result",
          "data": {
            "text/plain": [
              "1"
            ]
          },
          "metadata": {},
          "execution_count": 13
        }
      ]
    },
    {
      "cell_type": "code",
      "metadata": {
        "id": "PTPKlqvExh16",
        "colab": {
          "base_uri": "https://localhost:8080/"
        },
        "outputId": "3cae596a-174a-4471-b1d7-1e88f83a0f30"
      },
      "source": [
        "a.shape"
      ],
      "execution_count": null,
      "outputs": [
        {
          "output_type": "execute_result",
          "data": {
            "text/plain": [
              "(24,)"
            ]
          },
          "metadata": {},
          "execution_count": 15
        }
      ]
    },
    {
      "cell_type": "code",
      "metadata": {
        "id": "5UIJl63vxh16",
        "colab": {
          "base_uri": "https://localhost:8080/"
        },
        "outputId": "cd746b43-29af-4c46-9901-33f6bb95cba0"
      },
      "source": [
        "k = a.reshape(2, 12)\n",
        "k"
      ],
      "execution_count": null,
      "outputs": [
        {
          "output_type": "execute_result",
          "data": {
            "text/plain": [
              "array([[ 0,  1,  2,  3,  4,  5,  6,  7,  8,  9, 10, 11],\n",
              "       [12, 13, 14, 15, 16, 17, 18, 19, 20, 21, 22, 23]])"
            ]
          },
          "metadata": {},
          "execution_count": 17
        }
      ]
    },
    {
      "cell_type": "code",
      "metadata": {
        "id": "s6StKcg6xh16",
        "outputId": "838e91c0-1bb4-40f0-b574-80b2c2536966"
      },
      "source": [
        "k.ndim"
      ],
      "execution_count": null,
      "outputs": [
        {
          "data": {
            "text/plain": [
              "2"
            ]
          },
          "execution_count": 9,
          "metadata": {},
          "output_type": "execute_result"
        }
      ]
    },
    {
      "cell_type": "markdown",
      "metadata": {
        "id": "65af8cJi0nvs"
      },
      "source": [
        "### Exercise\n",
        "1. Create an array with values between 10 and 30, increments by 2\n",
        "2. Transform it to a 2 dimensional array"
      ]
    },
    {
      "cell_type": "code",
      "metadata": {
        "colab": {
          "base_uri": "https://localhost:8080/"
        },
        "id": "mSsYYgTq16ap",
        "outputId": "4ac2ed36-6e7b-4e97-8ada-dc07ec6127c3"
      },
      "source": [
        "arr = np.arange(10, 30, 2)\n",
        "arr2 = arr.reshape(2,5)\n",
        "arr2.ndim"
      ],
      "execution_count": null,
      "outputs": [
        {
          "output_type": "execute_result",
          "data": {
            "text/plain": [
              "2"
            ]
          },
          "metadata": {},
          "execution_count": 21
        }
      ]
    },
    {
      "cell_type": "code",
      "metadata": {
        "id": "N-NCsvVmxh17",
        "colab": {
          "base_uri": "https://localhost:8080/"
        },
        "outputId": "c08ee217-2fa6-41c0-b8dd-7be3fcb6c1a2"
      },
      "source": [
        "b = np.arange(36)\n",
        "b\n"
      ],
      "execution_count": null,
      "outputs": [
        {
          "output_type": "execute_result",
          "data": {
            "text/plain": [
              "array([ 0,  1,  2,  3,  4,  5,  6,  7,  8,  9, 10, 11, 12, 13, 14, 15, 16,\n",
              "       17, 18, 19, 20, 21, 22, 23, 24, 25, 26, 27, 28, 29, 30, 31, 32, 33,\n",
              "       34, 35])"
            ]
          },
          "metadata": {},
          "execution_count": 2
        }
      ]
    },
    {
      "cell_type": "code",
      "metadata": {
        "colab": {
          "base_uri": "https://localhost:8080/"
        },
        "id": "lmNHIpnF3Yr7",
        "outputId": "10f5066f-54b4-473c-c4b0-31d1c3dc5d3f"
      },
      "source": [
        "c = b.reshape((3, 3, 4))\n",
        "c"
      ],
      "execution_count": null,
      "outputs": [
        {
          "output_type": "execute_result",
          "data": {
            "text/plain": [
              "array([[[ 0,  1,  2,  3],\n",
              "        [ 4,  5,  6,  7],\n",
              "        [ 8,  9, 10, 11]],\n",
              "\n",
              "       [[12, 13, 14, 15],\n",
              "        [16, 17, 18, 19],\n",
              "        [20, 21, 22, 23]],\n",
              "\n",
              "       [[24, 25, 26, 27],\n",
              "        [28, 29, 30, 31],\n",
              "        [32, 33, 34, 35]]])"
            ]
          },
          "metadata": {},
          "execution_count": 3
        }
      ]
    },
    {
      "cell_type": "code",
      "metadata": {
        "id": "SOR6keOfxh17",
        "colab": {
          "base_uri": "https://localhost:8080/"
        },
        "outputId": "cadee13b-5e20-4175-edc8-2409faf4e1cf"
      },
      "source": [
        "c.ndim"
      ],
      "execution_count": null,
      "outputs": [
        {
          "output_type": "execute_result",
          "data": {
            "text/plain": [
              "3"
            ]
          },
          "metadata": {},
          "execution_count": 28
        }
      ]
    },
    {
      "cell_type": "code",
      "metadata": {
        "id": "gk8iF3Slxh18",
        "colab": {
          "base_uri": "https://localhost:8080/"
        },
        "outputId": "a4714d98-6c25-4c5e-eebd-69d89e7ed335"
      },
      "source": [
        "c.shape"
      ],
      "execution_count": null,
      "outputs": [
        {
          "output_type": "execute_result",
          "data": {
            "text/plain": [
              "(3, 3, 4)"
            ]
          },
          "metadata": {},
          "execution_count": 30
        }
      ]
    },
    {
      "cell_type": "code",
      "metadata": {
        "id": "JEIgq-rUxh18",
        "colab": {
          "base_uri": "https://localhost:8080/"
        },
        "outputId": "e870cd3b-976a-48ad-e6b9-40ef47a4c09c"
      },
      "source": [
        "c.size"
      ],
      "execution_count": null,
      "outputs": [
        {
          "output_type": "execute_result",
          "data": {
            "text/plain": [
              "36"
            ]
          },
          "metadata": {},
          "execution_count": 31
        }
      ]
    },
    {
      "cell_type": "code",
      "metadata": {
        "id": "yMEax8vnxh18",
        "colab": {
          "base_uri": "https://localhost:8080/"
        },
        "outputId": "836b2354-4926-42da-c83f-f600d3b30155"
      },
      "source": [
        "c.dtype"
      ],
      "execution_count": null,
      "outputs": [
        {
          "output_type": "execute_result",
          "data": {
            "text/plain": [
              "dtype('int64')"
            ]
          },
          "metadata": {},
          "execution_count": 5
        }
      ]
    },
    {
      "cell_type": "code",
      "metadata": {
        "id": "9R5oKqHDxh19",
        "colab": {
          "base_uri": "https://localhost:8080/"
        },
        "outputId": "4b422946-e223-4580-e483-f7d61f715955"
      },
      "source": [
        "group = np.array([[29, 10, 40], [45, 9, 30], [34, 5, 35], [38, 4, 35]])\n",
        "group"
      ],
      "execution_count": null,
      "outputs": [
        {
          "output_type": "execute_result",
          "data": {
            "text/plain": [
              "array([[29, 10, 40],\n",
              "       [45,  9, 30],\n",
              "       [34,  5, 35],\n",
              "       [38,  4, 35]])"
            ]
          },
          "metadata": {},
          "execution_count": 36
        }
      ]
    },
    {
      "cell_type": "code",
      "metadata": {
        "id": "FE6R_Bivxh19",
        "colab": {
          "base_uri": "https://localhost:8080/"
        },
        "outputId": "5155a86e-e422-4d19-b676-53c567bdd0a4"
      },
      "source": [
        "group.shape"
      ],
      "execution_count": null,
      "outputs": [
        {
          "output_type": "execute_result",
          "data": {
            "text/plain": [
              "(4, 3)"
            ]
          },
          "metadata": {},
          "execution_count": 37
        }
      ]
    },
    {
      "cell_type": "code",
      "metadata": {
        "id": "Pp7vvogmxh19",
        "colab": {
          "base_uri": "https://localhost:8080/"
        },
        "outputId": "9bb6ff8d-170a-4393-b9a8-7c0cc7dd2c18"
      },
      "source": [
        "group[-3]"
      ],
      "execution_count": null,
      "outputs": [
        {
          "output_type": "execute_result",
          "data": {
            "text/plain": [
              "array([45,  9, 30])"
            ]
          },
          "metadata": {},
          "execution_count": 41
        }
      ]
    },
    {
      "cell_type": "code",
      "metadata": {
        "colab": {
          "base_uri": "https://localhost:8080/"
        },
        "id": "SIWPA7s16xjW",
        "outputId": "0c1b228b-d53a-451c-80f4-82a64ccd5ca1"
      },
      "source": [
        "#Print out the element 30\n",
        "group[1][-1]\n"
      ],
      "execution_count": null,
      "outputs": [
        {
          "output_type": "execute_result",
          "data": {
            "text/plain": [
              "30"
            ]
          },
          "metadata": {},
          "execution_count": 46
        }
      ]
    },
    {
      "cell_type": "code",
      "metadata": {
        "id": "COqHKN3txh1-",
        "outputId": "65d777ad-a4bf-410a-a96e-7815a2730cc9"
      },
      "source": [
        "group[0]"
      ],
      "execution_count": null,
      "outputs": [
        {
          "data": {
            "text/plain": [
              "array([29, 10, 40])"
            ]
          },
          "execution_count": 21,
          "metadata": {},
          "output_type": "execute_result"
        }
      ]
    },
    {
      "cell_type": "code",
      "metadata": {
        "id": "_pZsDQzhxh1-",
        "colab": {
          "base_uri": "https://localhost:8080/"
        },
        "outputId": "e089e021-abe2-4a01-ac06-4a54a235acc0"
      },
      "source": [
        "persons_data = [[29, 10, 40],\n",
        "               [45, 9, 30],\n",
        "               [34, 5, 35],\n",
        "               [38, 4, 35]]\n",
        "persons_data"
      ],
      "execution_count": null,
      "outputs": [
        {
          "output_type": "execute_result",
          "data": {
            "text/plain": [
              "[[29, 10, 40], [45, 9, 30], [34, 5, 35], [38, 4, 35]]"
            ]
          },
          "metadata": {},
          "execution_count": 47
        }
      ]
    },
    {
      "cell_type": "code",
      "metadata": {
        "id": "ZvH5Cv9Axh1-",
        "outputId": "020c2c50-9b5c-4820-d799-89f597570f86"
      },
      "source": [
        "persons_data[2]"
      ],
      "execution_count": null,
      "outputs": [
        {
          "data": {
            "text/plain": [
              "[34, 5, 35]"
            ]
          },
          "execution_count": 23,
          "metadata": {},
          "output_type": "execute_result"
        }
      ]
    },
    {
      "cell_type": "code",
      "metadata": {
        "id": "qRd_cARzxh1-",
        "colab": {
          "base_uri": "https://localhost:8080/",
          "height": 167
        },
        "outputId": "64483578-e22d-4440-a423-3de6f9cc2c9a"
      },
      "source": [
        "persons_data.shape"
      ],
      "execution_count": null,
      "outputs": [
        {
          "output_type": "error",
          "ename": "AttributeError",
          "evalue": "ignored",
          "traceback": [
            "\u001b[0;31m---------------------------------------------------------------------------\u001b[0m",
            "\u001b[0;31mAttributeError\u001b[0m                            Traceback (most recent call last)",
            "\u001b[0;32m<ipython-input-48-34c2ac8e3efb>\u001b[0m in \u001b[0;36m<module>\u001b[0;34m()\u001b[0m\n\u001b[0;32m----> 1\u001b[0;31m \u001b[0mpersons_data\u001b[0m\u001b[0;34m.\u001b[0m\u001b[0mshape\u001b[0m\u001b[0;34m\u001b[0m\u001b[0;34m\u001b[0m\u001b[0m\n\u001b[0m",
            "\u001b[0;31mAttributeError\u001b[0m: 'list' object has no attribute 'shape'"
          ]
        }
      ]
    },
    {
      "cell_type": "code",
      "metadata": {
        "id": "WI13hkZtxh1_",
        "colab": {
          "base_uri": "https://localhost:8080/"
        },
        "outputId": "18a44d66-79fa-4140-f866-0827474a87c2"
      },
      "source": [
        "numpy_group = np.array(persons_data)\n",
        "numpy_group"
      ],
      "execution_count": null,
      "outputs": [
        {
          "output_type": "execute_result",
          "data": {
            "text/plain": [
              "array([[29, 10, 40],\n",
              "       [45,  9, 30],\n",
              "       [34,  5, 35],\n",
              "       [38,  4, 35]])"
            ]
          },
          "metadata": {},
          "execution_count": 49
        }
      ]
    },
    {
      "cell_type": "code",
      "metadata": {
        "id": "saogh0x8xh1_",
        "outputId": "aabddac0-4ea8-4d18-8e01-3cb968adc600"
      },
      "source": [
        "numpy_group.shape"
      ],
      "execution_count": null,
      "outputs": [
        {
          "data": {
            "text/plain": [
              "(4, 3)"
            ]
          },
          "execution_count": 26,
          "metadata": {},
          "output_type": "execute_result"
        }
      ]
    },
    {
      "cell_type": "code",
      "metadata": {
        "id": "ItzfSEfXxh1_",
        "outputId": "f6219673-d311-41d6-b17f-5e3e8025a226"
      },
      "source": [
        "numpy_group[:,0]"
      ],
      "execution_count": null,
      "outputs": [
        {
          "data": {
            "text/plain": [
              "array([29, 45, 34, 38])"
            ]
          },
          "execution_count": 27,
          "metadata": {},
          "output_type": "execute_result"
        }
      ]
    },
    {
      "cell_type": "code",
      "metadata": {
        "id": "lpyxLeuhxh1_",
        "outputId": "62fcfba2-a4fd-46c0-d428-6a5d86d94a0b"
      },
      "source": [
        "numpy_group[0,:]"
      ],
      "execution_count": null,
      "outputs": [
        {
          "data": {
            "text/plain": [
              "array([29, 10, 40])"
            ]
          },
          "execution_count": 28,
          "metadata": {},
          "output_type": "execute_result"
        }
      ]
    },
    {
      "cell_type": "code",
      "metadata": {
        "colab": {
          "base_uri": "https://localhost:8080/"
        },
        "id": "9DcE_h-V9b3X",
        "outputId": "f0821130-c365-41f0-c0e5-0fa0a0a3ffea"
      },
      "source": [
        "#Last element in the lists (boxes)\n",
        "numpy_group[:, -1]"
      ],
      "execution_count": null,
      "outputs": [
        {
          "output_type": "execute_result",
          "data": {
            "text/plain": [
              "array([40, 30, 35, 35])"
            ]
          },
          "metadata": {},
          "execution_count": 51
        }
      ]
    },
    {
      "cell_type": "code",
      "metadata": {
        "colab": {
          "base_uri": "https://localhost:8080/"
        },
        "id": "EdWtthzX-cEx",
        "outputId": "b2ba2319-0f0a-487f-e399-1b325ce4a40f"
      },
      "source": [
        "import numpy as np\n",
        "a = np.array([[1,2], [3,4]])\n",
        "print (a)\n",
        "a.shape\n"
      ],
      "execution_count": null,
      "outputs": [
        {
          "output_type": "stream",
          "name": "stdout",
          "text": [
            "[[1 2]\n",
            " [3 4]]\n"
          ]
        },
        {
          "output_type": "execute_result",
          "data": {
            "text/plain": [
              "(2, 2)"
            ]
          },
          "metadata": {},
          "execution_count": 54
        }
      ]
    },
    {
      "cell_type": "code",
      "metadata": {
        "colab": {
          "base_uri": "https://localhost:8080/"
        },
        "id": "WeN-8KJE-nAs",
        "outputId": "caa60e47-f79e-41b5-eefc-28153c4d500e"
      },
      "source": [
        "b = np.array([[5,6], [7,8]])\n",
        "print (b)\n",
        "b.shape"
      ],
      "execution_count": null,
      "outputs": [
        {
          "output_type": "stream",
          "name": "stdout",
          "text": [
            "[[5 6]\n",
            " [7 8]]\n"
          ]
        },
        {
          "output_type": "execute_result",
          "data": {
            "text/plain": [
              "(2, 2)"
            ]
          },
          "metadata": {},
          "execution_count": 55
        }
      ]
    },
    {
      "cell_type": "code",
      "metadata": {
        "colab": {
          "base_uri": "https://localhost:8080/"
        },
        "id": "IFZKxNXK-zsc",
        "outputId": "34474a82-1310-4754-8529-e980abab450d"
      },
      "source": [
        "c = np.append(a,b, axis =0)\n",
        "print (c)\n",
        "c.shape"
      ],
      "execution_count": null,
      "outputs": [
        {
          "output_type": "stream",
          "name": "stdout",
          "text": [
            "[[1 2]\n",
            " [3 4]\n",
            " [5 6]\n",
            " [7 8]]\n"
          ]
        },
        {
          "output_type": "execute_result",
          "data": {
            "text/plain": [
              "(4, 2)"
            ]
          },
          "metadata": {},
          "execution_count": 56
        }
      ]
    },
    {
      "cell_type": "code",
      "metadata": {
        "colab": {
          "base_uri": "https://localhost:8080/"
        },
        "id": "jFlN_wX8-e1j",
        "outputId": "0c9d0932-3a39-4ccd-b586-3c37c53cb9d9"
      },
      "source": [
        "d = np.append (a,b, axis= 1)\n",
        "print (d)\n",
        "print (d.shape)"
      ],
      "execution_count": null,
      "outputs": [
        {
          "output_type": "stream",
          "name": "stdout",
          "text": [
            "[[1 2 5 6]\n",
            " [3 4 7 8]]\n",
            "(2, 4)\n"
          ]
        }
      ]
    },
    {
      "cell_type": "code",
      "metadata": {
        "id": "QbC--SOqxh2A",
        "outputId": "9f9948cb-4719-4c08-ca6a-e5e05f13c7ab"
      },
      "source": [
        "numpy_group.mean()"
      ],
      "execution_count": null,
      "outputs": [
        {
          "data": {
            "text/plain": [
              "26.166666666666668"
            ]
          },
          "execution_count": 29,
          "metadata": {},
          "output_type": "execute_result"
        }
      ]
    },
    {
      "cell_type": "code",
      "metadata": {
        "id": "iUxBMSH5xh2A",
        "outputId": "ca22e7e7-2595-4f35-abb5-44b730618611"
      },
      "source": [
        "numpy_group.mean(axis=0)"
      ],
      "execution_count": null,
      "outputs": [
        {
          "data": {
            "text/plain": [
              "array([36.5,  7. , 35. ])"
            ]
          },
          "execution_count": 30,
          "metadata": {},
          "output_type": "execute_result"
        }
      ]
    },
    {
      "cell_type": "code",
      "metadata": {
        "id": "BZ-Orkfkxh2A",
        "outputId": "01e58c7d-5689-4661-db8b-4a6fee5003b6"
      },
      "source": [
        "numpy_group.mean(axis = 1)"
      ],
      "execution_count": null,
      "outputs": [
        {
          "data": {
            "text/plain": [
              "array([26.33333333, 28.        , 24.66666667, 25.66666667])"
            ]
          },
          "execution_count": 31,
          "metadata": {},
          "output_type": "execute_result"
        }
      ]
    },
    {
      "cell_type": "markdown",
      "metadata": {
        "id": "AbGvQ7u6xh2A"
      },
      "source": [
        ""
      ]
    },
    {
      "cell_type": "code",
      "metadata": {
        "id": "vj3DM8VRxh2A",
        "outputId": "4ae10375-25e6-4d9d-f11a-1afe1163be7f"
      },
      "source": [
        "np.array([3, 5, 7, 1, 9, 2.56])"
      ],
      "execution_count": null,
      "outputs": [
        {
          "data": {
            "text/plain": [
              "array([3.  , 5.  , 7.  , 1.  , 9.  , 2.56])"
            ]
          },
          "execution_count": 32,
          "metadata": {},
          "output_type": "execute_result"
        }
      ]
    },
    {
      "cell_type": "markdown",
      "metadata": {
        "id": "6ZKKh1-vxh2B"
      },
      "source": [
        "#### Special Types of Arrays "
      ]
    },
    {
      "cell_type": "code",
      "metadata": {
        "id": "akoJqjp_xh2B"
      },
      "source": [
        "import numpy as np"
      ],
      "execution_count": null,
      "outputs": []
    },
    {
      "cell_type": "code",
      "metadata": {
        "id": "QSvf_BS1xh2B",
        "colab": {
          "base_uri": "https://localhost:8080/"
        },
        "outputId": "e5f5410e-b76e-4ef6-e903-501a48fa8238"
      },
      "source": [
        "np.zeros(6)"
      ],
      "execution_count": null,
      "outputs": [
        {
          "output_type": "execute_result",
          "data": {
            "text/plain": [
              "array([0., 0., 0., 0., 0., 0., 0., 0., 0.])"
            ]
          },
          "metadata": {},
          "execution_count": 61
        }
      ]
    },
    {
      "cell_type": "code",
      "metadata": {
        "id": "BnbxqMtnxh2B",
        "colab": {
          "base_uri": "https://localhost:8080/"
        },
        "outputId": "2cb32739-a54e-498f-c13f-95d309a773a4"
      },
      "source": [
        "np.zeros(6).reshape(2,3)"
      ],
      "execution_count": null,
      "outputs": [
        {
          "output_type": "execute_result",
          "data": {
            "text/plain": [
              "array([[0., 0., 0.],\n",
              "       [0., 0., 0.]])"
            ]
          },
          "metadata": {},
          "execution_count": 59
        }
      ]
    },
    {
      "cell_type": "code",
      "metadata": {
        "id": "IEbUfWG-xh2B",
        "colab": {
          "base_uri": "https://localhost:8080/"
        },
        "outputId": "745354fc-159f-4b67-9e66-e250acba33d1"
      },
      "source": [
        "np.zeros(9).reshape(3,3)"
      ],
      "execution_count": null,
      "outputs": [
        {
          "output_type": "execute_result",
          "data": {
            "text/plain": [
              "array([[0., 0., 0.],\n",
              "       [0., 0., 0.],\n",
              "       [0., 0., 0.]])"
            ]
          },
          "metadata": {},
          "execution_count": 62
        }
      ]
    },
    {
      "cell_type": "code",
      "metadata": {
        "id": "oNcYoLaTxh2C",
        "outputId": "78b39a5b-b081-44b5-db1d-69c10a000626"
      },
      "source": [
        "np.ones(18)"
      ],
      "execution_count": null,
      "outputs": [
        {
          "data": {
            "text/plain": [
              "array([1., 1., 1., 1., 1., 1., 1., 1., 1., 1., 1., 1., 1., 1., 1., 1., 1.,\n",
              "       1.])"
            ]
          },
          "execution_count": 36,
          "metadata": {},
          "output_type": "execute_result"
        }
      ]
    },
    {
      "cell_type": "code",
      "metadata": {
        "id": "uJB3cN22xh2C",
        "outputId": "846bf5f7-67ec-4873-fb6f-67ebea65d8b7"
      },
      "source": [
        "np.ones(18).reshape(3,6)"
      ],
      "execution_count": null,
      "outputs": [
        {
          "data": {
            "text/plain": [
              "array([[1., 1., 1., 1., 1., 1.],\n",
              "       [1., 1., 1., 1., 1., 1.],\n",
              "       [1., 1., 1., 1., 1., 1.]])"
            ]
          },
          "execution_count": 37,
          "metadata": {},
          "output_type": "execute_result"
        }
      ]
    },
    {
      "cell_type": "code",
      "metadata": {
        "id": "ZYawW3MXxh2C",
        "outputId": "bb1a647a-86f7-490a-e350-8091edd1c53f"
      },
      "source": [
        "np.ones((3,6))"
      ],
      "execution_count": null,
      "outputs": [
        {
          "data": {
            "text/plain": [
              "array([[1., 1., 1., 1., 1., 1.],\n",
              "       [1., 1., 1., 1., 1., 1.],\n",
              "       [1., 1., 1., 1., 1., 1.]])"
            ]
          },
          "execution_count": 38,
          "metadata": {},
          "output_type": "execute_result"
        }
      ]
    },
    {
      "cell_type": "code",
      "metadata": {
        "id": "t_8NHpkcxh2C",
        "colab": {
          "base_uri": "https://localhost:8080/"
        },
        "outputId": "3e92a55c-7814-4cd2-d21c-3ad943ab8555"
      },
      "source": [
        "np.full((2, 3), 24)"
      ],
      "execution_count": null,
      "outputs": [
        {
          "output_type": "execute_result",
          "data": {
            "text/plain": [
              "array([[24, 24, 24],\n",
              "       [24, 24, 24]])"
            ]
          },
          "metadata": {},
          "execution_count": 64
        }
      ]
    },
    {
      "cell_type": "code",
      "metadata": {
        "id": "dteJoY3Uxh2C",
        "outputId": "5888ee48-81e4-4b53-8dc0-e59bdde0b6d3"
      },
      "source": [
        "np.random.random((3, 6))"
      ],
      "execution_count": null,
      "outputs": [
        {
          "data": {
            "text/plain": [
              "array([[0.75402568, 0.04350671, 0.03666515, 0.62197035, 0.42247664,\n",
              "        0.86984268],\n",
              "       [0.21826307, 0.0145039 , 0.20542815, 0.28255793, 0.84100282,\n",
              "        0.87092274],\n",
              "       [0.74866064, 0.42136789, 0.06292128, 0.93557556, 0.93344738,\n",
              "        0.80732178]])"
            ]
          },
          "execution_count": 40,
          "metadata": {},
          "output_type": "execute_result"
        }
      ]
    },
    {
      "cell_type": "markdown",
      "metadata": {
        "id": "uLE5BLEIxh2D"
      },
      "source": [
        "#### The Arange Method"
      ]
    },
    {
      "cell_type": "code",
      "metadata": {
        "id": "4Cf0qblWxh2D",
        "outputId": "880b8d15-62e5-43eb-ba9e-7784f2e1220f"
      },
      "source": [
        "np.arange(0,20,5) #with the starting, stopping, and stepping arguments"
      ],
      "execution_count": null,
      "outputs": [
        {
          "data": {
            "text/plain": [
              "array([ 0,  5, 10, 15])"
            ]
          },
          "execution_count": 42,
          "metadata": {},
          "output_type": "execute_result"
        }
      ]
    },
    {
      "cell_type": "markdown",
      "metadata": {
        "id": "YYq-vHY2xh2D"
      },
      "source": [
        "#### Retrieving Data from an Array "
      ]
    },
    {
      "cell_type": "code",
      "metadata": {
        "id": "DnVq0KMWxh2D",
        "colab": {
          "base_uri": "https://localhost:8080/"
        },
        "outputId": "92d5808c-ebe4-4644-a6f7-fafb80c17cc9"
      },
      "source": [
        "numpy_group"
      ],
      "execution_count": null,
      "outputs": [
        {
          "output_type": "execute_result",
          "data": {
            "text/plain": [
              "array([[29, 10, 40],\n",
              "       [45,  9, 30],\n",
              "       [34,  5, 35],\n",
              "       [38,  4, 35]])"
            ]
          },
          "metadata": {},
          "execution_count": 65
        }
      ]
    },
    {
      "cell_type": "code",
      "metadata": {
        "id": "4xPM_P2Ixh2D",
        "outputId": "49b39a78-d5bc-4fb4-ea20-40483af77704"
      },
      "source": [
        "numpy_group.ndim"
      ],
      "execution_count": null,
      "outputs": [
        {
          "data": {
            "text/plain": [
              "2"
            ]
          },
          "execution_count": 44,
          "metadata": {},
          "output_type": "execute_result"
        }
      ]
    },
    {
      "cell_type": "code",
      "metadata": {
        "id": "JMsdY76Axh2E",
        "outputId": "e919808a-0060-4795-ebd2-1b908c7f183b"
      },
      "source": [
        "numpy_group[0]"
      ],
      "execution_count": null,
      "outputs": [
        {
          "data": {
            "text/plain": [
              "array([29, 10, 40])"
            ]
          },
          "execution_count": 45,
          "metadata": {},
          "output_type": "execute_result"
        }
      ]
    },
    {
      "cell_type": "code",
      "metadata": {
        "id": "1dY7LRSLxh2E",
        "outputId": "71c3bef1-1a06-4880-8da9-7d4d2d195a31"
      },
      "source": [
        "numpy_group[-1]"
      ],
      "execution_count": null,
      "outputs": [
        {
          "data": {
            "text/plain": [
              "array([38,  4, 35])"
            ]
          },
          "execution_count": 46,
          "metadata": {},
          "output_type": "execute_result"
        }
      ]
    },
    {
      "cell_type": "code",
      "metadata": {
        "id": "tlLzWQz5xh2E",
        "outputId": "787f37ec-85ce-456d-c1d4-ce9397e3a838"
      },
      "source": [
        "numpy_group[0,2]"
      ],
      "execution_count": null,
      "outputs": [
        {
          "data": {
            "text/plain": [
              "40"
            ]
          },
          "execution_count": 47,
          "metadata": {},
          "output_type": "execute_result"
        }
      ]
    },
    {
      "cell_type": "code",
      "metadata": {
        "id": "ZFgokgd_xh2E"
      },
      "source": [
        "numpy_group[0,2] = 1500"
      ],
      "execution_count": null,
      "outputs": []
    },
    {
      "cell_type": "code",
      "metadata": {
        "id": "evdred-Hxh2E",
        "outputId": "ebde014e-051e-41ae-de96-25d0e0f6568d"
      },
      "source": [
        "numpy_group"
      ],
      "execution_count": null,
      "outputs": [
        {
          "data": {
            "text/plain": [
              "array([[  29,   10, 1500],\n",
              "       [  45,    9,   30],\n",
              "       [  34,    5,   35],\n",
              "       [  38,    4,   35]])"
            ]
          },
          "execution_count": 49,
          "metadata": {},
          "output_type": "execute_result"
        }
      ]
    },
    {
      "cell_type": "code",
      "metadata": {
        "id": "Gyyg1kI1xh2E",
        "colab": {
          "base_uri": "https://localhost:8080/"
        },
        "outputId": "b31b1dc0-5f04-4632-f738-025176ce5fd1"
      },
      "source": [
        "numpy_group[0] = [30, 11, 100]\n",
        "numpy_group"
      ],
      "execution_count": null,
      "outputs": [
        {
          "output_type": "execute_result",
          "data": {
            "text/plain": [
              "array([[ 30,  11, 100],\n",
              "       [ 45,   9,  30],\n",
              "       [ 34,   5,  35],\n",
              "       [ 38,   4,  35]])"
            ]
          },
          "metadata": {},
          "execution_count": 67
        }
      ]
    },
    {
      "cell_type": "code",
      "metadata": {
        "id": "Bd0V1DVSxh2F",
        "outputId": "2e9cd7c1-b1c1-4d6f-d233-d165535e749e"
      },
      "source": [
        "numpy_group[:2]"
      ],
      "execution_count": null,
      "outputs": [
        {
          "data": {
            "text/plain": [
              "array([[  30,   11, 1400],\n",
              "       [  45,    9,   30]])"
            ]
          },
          "execution_count": 51,
          "metadata": {},
          "output_type": "execute_result"
        }
      ]
    },
    {
      "cell_type": "code",
      "metadata": {
        "id": "NTbFPm-Mxh2F",
        "outputId": "31f96e6f-9ece-4860-b4df-a3eaacb065ce"
      },
      "source": [
        "numpy_group[2:]"
      ],
      "execution_count": null,
      "outputs": [
        {
          "data": {
            "text/plain": [
              "array([[34,  5, 35],\n",
              "       [38,  4, 35]])"
            ]
          },
          "execution_count": 52,
          "metadata": {},
          "output_type": "execute_result"
        }
      ]
    },
    {
      "cell_type": "code",
      "metadata": {
        "id": "orKjUbycxh2F",
        "outputId": "d5d68497-2906-49c7-bdb5-b5c61d6c6bd6"
      },
      "source": [
        "numpy_group[:]"
      ],
      "execution_count": null,
      "outputs": [
        {
          "data": {
            "text/plain": [
              "array([[  30,   11, 1400],\n",
              "       [  45,    9,   30],\n",
              "       [  34,    5,   35],\n",
              "       [  38,    4,   35]])"
            ]
          },
          "execution_count": 53,
          "metadata": {},
          "output_type": "execute_result"
        }
      ]
    },
    {
      "cell_type": "code",
      "metadata": {
        "id": "WhnKUCmsxh2F",
        "outputId": "b6fc05af-635b-40b7-cda3-befa42945724"
      },
      "source": [
        "numpy_group[-3:]"
      ],
      "execution_count": null,
      "outputs": [
        {
          "data": {
            "text/plain": [
              "array([[45,  9, 30],\n",
              "       [34,  5, 35],\n",
              "       [38,  4, 35]])"
            ]
          },
          "execution_count": 54,
          "metadata": {},
          "output_type": "execute_result"
        }
      ]
    },
    {
      "cell_type": "code",
      "metadata": {
        "id": "_mggXe9Wxh2G",
        "outputId": "1fe4503e-09cf-4a00-b85e-efe5d4562f39"
      },
      "source": [
        "numpy_group[0:4:2] #starting, stopping, and stepping args for rows"
      ],
      "execution_count": null,
      "outputs": [
        {
          "data": {
            "text/plain": [
              "array([[  29,   10, 1500],\n",
              "       [  34,    5,   35]])"
            ]
          },
          "execution_count": 26,
          "metadata": {},
          "output_type": "execute_result"
        }
      ]
    },
    {
      "cell_type": "code",
      "metadata": {
        "id": "9S0T7QS5xh2G",
        "outputId": "62591897-3052-4ad8-ade3-3d2ec8939035"
      },
      "source": [
        "numpy_group[::-1]"
      ],
      "execution_count": null,
      "outputs": [
        {
          "data": {
            "text/plain": [
              "array([[  38,    4,   35],\n",
              "       [  34,    5,   35],\n",
              "       [  45,    9,   30],\n",
              "       [  30,   11, 1400]])"
            ]
          },
          "execution_count": 55,
          "metadata": {},
          "output_type": "execute_result"
        }
      ]
    },
    {
      "cell_type": "code",
      "metadata": {
        "id": "LDWxi8sFxh2G",
        "outputId": "6ab83320-c081-46ed-b442-6598aa779b7b"
      },
      "source": [
        "numpy_group[0:3,1:3]"
      ],
      "execution_count": null,
      "outputs": [
        {
          "data": {
            "text/plain": [
              "array([[  11, 1400],\n",
              "       [   9,   30],\n",
              "       [   5,   35]])"
            ]
          },
          "execution_count": 56,
          "metadata": {},
          "output_type": "execute_result"
        }
      ]
    },
    {
      "cell_type": "code",
      "metadata": {
        "id": "kJSr8Ukdxh2G",
        "outputId": "1dc81777-552b-4359-eac7-d113c68d54ee"
      },
      "source": [
        "numpy_group[:,2]"
      ],
      "execution_count": null,
      "outputs": [
        {
          "data": {
            "text/plain": [
              "array([1400,   30,   35,   35])"
            ]
          },
          "execution_count": 57,
          "metadata": {},
          "output_type": "execute_result"
        }
      ]
    },
    {
      "cell_type": "code",
      "metadata": {
        "id": "dgVuZZG7xh2G",
        "outputId": "1402c15e-241f-40d2-dc17-bc2b9ebe5954"
      },
      "source": [
        "numpy_group"
      ],
      "execution_count": null,
      "outputs": [
        {
          "data": {
            "text/plain": [
              "array([[  30,   11, 1400],\n",
              "       [  45,    9,   30],\n",
              "       [  34,    5,   35],\n",
              "       [  38,    4,   35]])"
            ]
          },
          "execution_count": 60,
          "metadata": {},
          "output_type": "execute_result"
        }
      ]
    },
    {
      "cell_type": "code",
      "metadata": {
        "id": "TLpL9U0Cxh2H",
        "outputId": "03e618dc-6847-4d85-8ff7-8b26b1a2d5cb"
      },
      "source": [
        "numpy_group[0:3:2, ::-122]"
      ],
      "execution_count": null,
      "outputs": [
        {
          "data": {
            "text/plain": [
              "array([[1400],\n",
              "       [  35]])"
            ]
          },
          "execution_count": 70,
          "metadata": {},
          "output_type": "execute_result"
        }
      ]
    },
    {
      "cell_type": "markdown",
      "metadata": {
        "id": "w7bdoz7ixh2H"
      },
      "source": [
        ""
      ]
    },
    {
      "cell_type": "markdown",
      "metadata": {
        "id": "9pkbffzWxh2H"
      },
      "source": [
        "## Manipulating Numpy Arrays with Operators and Aggregate Functions "
      ]
    },
    {
      "cell_type": "markdown",
      "metadata": {
        "id": "vqWvx56Pxh2H"
      },
      "source": [
        "### Basic Operators"
      ]
    },
    {
      "cell_type": "code",
      "metadata": {
        "id": "QIWyC2Roxh2H",
        "colab": {
          "base_uri": "https://localhost:8080/"
        },
        "outputId": "77ba9e48-4584-4375-e136-bd50f50bc9d5"
      },
      "source": [
        "numpy_group"
      ],
      "execution_count": null,
      "outputs": [
        {
          "output_type": "execute_result",
          "data": {
            "text/plain": [
              "array([[ 30,  11, 100],\n",
              "       [ 45,   9,  30],\n",
              "       [ 34,   5,  35],\n",
              "       [ 38,   4,  35]])"
            ]
          },
          "metadata": {},
          "execution_count": 68
        }
      ]
    },
    {
      "cell_type": "code",
      "metadata": {
        "id": "AfFfLpXpxh2H",
        "colab": {
          "base_uri": "https://localhost:8080/"
        },
        "outputId": "720ddea5-6f1e-445f-b158-8c5a9ec39638"
      },
      "source": [
        "numpy_group + 1"
      ],
      "execution_count": null,
      "outputs": [
        {
          "output_type": "execute_result",
          "data": {
            "text/plain": [
              "array([[ 31,  12, 101],\n",
              "       [ 46,  10,  31],\n",
              "       [ 35,   6,  36],\n",
              "       [ 39,   5,  36]])"
            ]
          },
          "metadata": {},
          "execution_count": 69
        }
      ]
    },
    {
      "cell_type": "code",
      "metadata": {
        "id": "cc-Usqucxh2I",
        "colab": {
          "base_uri": "https://localhost:8080/"
        },
        "outputId": "46503ded-ea37-4c39-b6c3-bd440a49b9bb"
      },
      "source": [
        "numpy_group / 10"
      ],
      "execution_count": null,
      "outputs": [
        {
          "output_type": "execute_result",
          "data": {
            "text/plain": [
              "array([[ 3. ,  1.1, 10. ],\n",
              "       [ 4.5,  0.9,  3. ],\n",
              "       [ 3.4,  0.5,  3.5],\n",
              "       [ 3.8,  0.4,  3.5]])"
            ]
          },
          "metadata": {},
          "execution_count": 70
        }
      ]
    },
    {
      "cell_type": "code",
      "metadata": {
        "id": "AiB-mbPLxh2I",
        "colab": {
          "base_uri": "https://localhost:8080/"
        },
        "outputId": "76d84fe6-8f43-4e0b-88ca-dee4089bb6e0"
      },
      "source": [
        "numpy_group // 10"
      ],
      "execution_count": null,
      "outputs": [
        {
          "output_type": "execute_result",
          "data": {
            "text/plain": [
              "array([[ 3,  1, 10],\n",
              "       [ 4,  0,  3],\n",
              "       [ 3,  0,  3],\n",
              "       [ 3,  0,  3]])"
            ]
          },
          "metadata": {},
          "execution_count": 71
        }
      ]
    },
    {
      "cell_type": "code",
      "metadata": {
        "id": "ZiNaz4w8xh2I",
        "colab": {
          "base_uri": "https://localhost:8080/"
        },
        "outputId": "a6c06a23-8c4d-4f26-95db-ee2f9bfd2fa0"
      },
      "source": [
        "numpy_group * 2"
      ],
      "execution_count": null,
      "outputs": [
        {
          "output_type": "execute_result",
          "data": {
            "text/plain": [
              "array([[ 60,  22, 200],\n",
              "       [ 90,  18,  60],\n",
              "       [ 68,  10,  70],\n",
              "       [ 76,   8,  70]])"
            ]
          },
          "metadata": {},
          "execution_count": 72
        }
      ]
    },
    {
      "cell_type": "code",
      "metadata": {
        "id": "CO0xikQkxh2I",
        "colab": {
          "base_uri": "https://localhost:8080/"
        },
        "outputId": "54429394-9094-4e82-86e0-86e1b4b5f586"
      },
      "source": [
        "#Adding two arrays of the same shape\n",
        "print (numpy_group + numpy_group)"
      ],
      "execution_count": null,
      "outputs": [
        {
          "output_type": "stream",
          "name": "stdout",
          "text": [
            "[[ 60  22 200]\n",
            " [ 90  18  60]\n",
            " [ 68  10  70]\n",
            " [ 76   8  70]]\n"
          ]
        }
      ]
    },
    {
      "cell_type": "code",
      "metadata": {
        "id": "9eE-Ptgbxh2I",
        "colab": {
          "base_uri": "https://localhost:8080/"
        },
        "outputId": "b66777e8-4aa4-4ea7-c3d3-be4ccb7c1633"
      },
      "source": [
        "numpy_group - numpy_group"
      ],
      "execution_count": null,
      "outputs": [
        {
          "output_type": "execute_result",
          "data": {
            "text/plain": [
              "array([[0, 0, 0],\n",
              "       [0, 0, 0],\n",
              "       [0, 0, 0],\n",
              "       [0, 0, 0]])"
            ]
          },
          "metadata": {},
          "execution_count": 76
        }
      ]
    },
    {
      "cell_type": "markdown",
      "metadata": {
        "id": "43M_0ATdxh2J"
      },
      "source": [
        "### Comparison Operators"
      ]
    },
    {
      "cell_type": "code",
      "metadata": {
        "id": "e6rcQizTxh2J",
        "outputId": "b72ca7fd-cc3d-4a95-ea19-cf1b48398093"
      },
      "source": [
        "numpy_group"
      ],
      "execution_count": null,
      "outputs": [
        {
          "data": {
            "text/plain": [
              "array([[29, 10, 40],\n",
              "       [45,  9, 30],\n",
              "       [34,  5, 35],\n",
              "       [38,  4, 35]])"
            ]
          },
          "execution_count": 12,
          "metadata": {},
          "output_type": "execute_result"
        }
      ]
    },
    {
      "cell_type": "code",
      "metadata": {
        "id": "AFv8gk-Oxh2J",
        "outputId": "bb168516-27c7-4b17-a943-e19c09176ee6"
      },
      "source": [
        "numpy_group > 30"
      ],
      "execution_count": null,
      "outputs": [
        {
          "data": {
            "text/plain": [
              "array([[False, False,  True],\n",
              "       [ True, False, False],\n",
              "       [ True, False,  True],\n",
              "       [ True, False,  True]])"
            ]
          },
          "execution_count": 13,
          "metadata": {},
          "output_type": "execute_result"
        }
      ]
    },
    {
      "cell_type": "code",
      "metadata": {
        "id": "dSqk1f7Oxh2J",
        "outputId": "20288f5a-c114-4eef-8545-2cac3f3eddba"
      },
      "source": [
        "numpy_group < 50"
      ],
      "execution_count": null,
      "outputs": [
        {
          "data": {
            "text/plain": [
              "array([[ True,  True,  True],\n",
              "       [ True,  True,  True],\n",
              "       [ True,  True,  True],\n",
              "       [ True,  True,  True]])"
            ]
          },
          "execution_count": 14,
          "metadata": {},
          "output_type": "execute_result"
        }
      ]
    },
    {
      "cell_type": "code",
      "metadata": {
        "id": "j7zJatVSxh2J",
        "outputId": "df1e7349-05c4-4d9b-dfdf-2d651e3fa520"
      },
      "source": [
        "numpy_group >=11"
      ],
      "execution_count": null,
      "outputs": [
        {
          "data": {
            "text/plain": [
              "array([[ True, False,  True],\n",
              "       [ True, False,  True],\n",
              "       [ True, False,  True],\n",
              "       [ True, False,  True]])"
            ]
          },
          "execution_count": 15,
          "metadata": {},
          "output_type": "execute_result"
        }
      ]
    },
    {
      "cell_type": "code",
      "metadata": {
        "id": "ZWCdMrrExh2K",
        "outputId": "a4181dee-4c94-4165-f58e-3cda0d28d60e"
      },
      "source": [
        "numpy_group <= 35"
      ],
      "execution_count": null,
      "outputs": [
        {
          "data": {
            "text/plain": [
              "array([[ True,  True, False],\n",
              "       [False,  True,  True],\n",
              "       [ True,  True,  True],\n",
              "       [False,  True,  True]])"
            ]
          },
          "execution_count": 16,
          "metadata": {},
          "output_type": "execute_result"
        }
      ]
    },
    {
      "cell_type": "code",
      "metadata": {
        "id": "FwnUHQWIxh2K",
        "outputId": "03954f2f-ae0a-4285-fcb5-9d34614bbe98"
      },
      "source": [
        "numpy_group == 38"
      ],
      "execution_count": null,
      "outputs": [
        {
          "data": {
            "text/plain": [
              "array([[False, False, False],\n",
              "       [False, False, False],\n",
              "       [False, False, False],\n",
              "       [ True, False, False]])"
            ]
          },
          "execution_count": 17,
          "metadata": {},
          "output_type": "execute_result"
        }
      ]
    },
    {
      "cell_type": "markdown",
      "metadata": {
        "id": "lgmDSGXkxh2K"
      },
      "source": [
        ""
      ]
    },
    {
      "cell_type": "markdown",
      "metadata": {
        "id": "HNAlCAKJxh2K"
      },
      "source": [
        "### Logical Operators"
      ]
    },
    {
      "cell_type": "code",
      "metadata": {
        "id": "_vB0aEBWxh2K",
        "outputId": "5071bc59-e901-4069-bc4b-da9a1ee108b4"
      },
      "source": [
        "(numpy_group > 30)"
      ],
      "execution_count": null,
      "outputs": [
        {
          "data": {
            "text/plain": [
              "array([[False, False,  True],\n",
              "       [ True, False, False],\n",
              "       [ True, False,  True],\n",
              "       [ True, False,  True]])"
            ]
          },
          "execution_count": 18,
          "metadata": {},
          "output_type": "execute_result"
        }
      ]
    },
    {
      "cell_type": "code",
      "metadata": {
        "id": "wgzEIiDpxh2L",
        "outputId": "95a98ae6-38e3-4375-c496-85c085ec751e"
      },
      "source": [
        "(numpy_group <= 35)"
      ],
      "execution_count": null,
      "outputs": [
        {
          "data": {
            "text/plain": [
              "array([[ True,  True, False],\n",
              "       [False,  True,  True],\n",
              "       [ True,  True,  True],\n",
              "       [False,  True,  True]])"
            ]
          },
          "execution_count": 19,
          "metadata": {},
          "output_type": "execute_result"
        }
      ]
    },
    {
      "cell_type": "code",
      "metadata": {
        "id": "kuGEOfq_xh2L",
        "outputId": "d49f06f8-b6b3-4eee-c791-f93a57299de4"
      },
      "source": [
        "#The 'and' operator\n",
        "(numpy_group > 30) & (numpy_group <= 35)"
      ],
      "execution_count": null,
      "outputs": [
        {
          "data": {
            "text/plain": [
              "array([[False, False, False],\n",
              "       [False, False, False],\n",
              "       [ True, False,  True],\n",
              "       [False, False,  True]])"
            ]
          },
          "execution_count": 20,
          "metadata": {},
          "output_type": "execute_result"
        }
      ]
    },
    {
      "cell_type": "code",
      "metadata": {
        "id": "sWHKck7hxh2L",
        "outputId": "f7d91ed2-46be-4483-8aae-98219455e0d8"
      },
      "source": [
        "#The 'or' operator\n",
        "(numpy_group <= 30) | (numpy_group > 35)"
      ],
      "execution_count": null,
      "outputs": [
        {
          "data": {
            "text/plain": [
              "array([[ True,  True,  True],\n",
              "       [ True,  True,  True],\n",
              "       [False,  True, False],\n",
              "       [ True,  True, False]])"
            ]
          },
          "execution_count": 21,
          "metadata": {},
          "output_type": "execute_result"
        }
      ]
    },
    {
      "cell_type": "code",
      "metadata": {
        "id": "S9VF9Vzyxh2M",
        "outputId": "c2404d7b-467d-4a1b-ce25-7dd3d282ae0a"
      },
      "source": [
        "(numpy_group <= 30) | (numpy_group > 35)"
      ],
      "execution_count": null,
      "outputs": [
        {
          "data": {
            "text/plain": [
              "array([[ True,  True,  True],\n",
              "       [ True,  True,  True],\n",
              "       [False,  True, False],\n",
              "       [ True,  True, False]])"
            ]
          },
          "execution_count": 22,
          "metadata": {},
          "output_type": "execute_result"
        }
      ]
    },
    {
      "cell_type": "code",
      "metadata": {
        "id": "UHyp6__xxh2M",
        "outputId": "6576adbb-ea96-44e3-eac4-ec653383e828"
      },
      "source": [
        "#The 'negation' operator\n",
        "#The tilda sign is used to represent the not operator\n",
        "~((numpy_group <= 30) | (numpy_group > 35))"
      ],
      "execution_count": null,
      "outputs": [
        {
          "data": {
            "text/plain": [
              "array([[False, False, False],\n",
              "       [False, False, False],\n",
              "       [ True, False,  True],\n",
              "       [False, False,  True]])"
            ]
          },
          "execution_count": 23,
          "metadata": {},
          "output_type": "execute_result"
        }
      ]
    },
    {
      "cell_type": "code",
      "metadata": {
        "id": "6drKF6LAxh2M"
      },
      "source": [
        "numpy_group"
      ],
      "execution_count": null,
      "outputs": []
    },
    {
      "cell_type": "markdown",
      "metadata": {
        "id": "DVyrzh6jxh2M"
      },
      "source": [
        ""
      ]
    },
    {
      "cell_type": "code",
      "metadata": {
        "id": "iAGrBO04xh2M"
      },
      "source": [
        ""
      ],
      "execution_count": null,
      "outputs": []
    },
    {
      "cell_type": "markdown",
      "metadata": {
        "id": "G2AMUNFZxh2N"
      },
      "source": [
        "## Adding and Removing Elements from NumPy Arrays\n",
        "\n",
        "* Append horizontally and vertically,\n",
        "* Vertical stacking,\n",
        "* Insert, and\n",
        "* Delete"
      ]
    },
    {
      "cell_type": "markdown",
      "metadata": {
        "id": "kLzazlsWxh2N"
      },
      "source": [
        "#### Append"
      ]
    },
    {
      "cell_type": "code",
      "metadata": {
        "scrolled": true,
        "id": "0g8YcR2-xh2N",
        "outputId": "c80afb16-3852-4aca-98d3-597abe6b1d6f"
      },
      "source": [
        "a = np.arange(24).reshape((2,3,4))\n",
        "a"
      ],
      "execution_count": null,
      "outputs": [
        {
          "data": {
            "text/plain": [
              "array([[[ 0,  1,  2,  3],\n",
              "        [ 4,  5,  6,  7],\n",
              "        [ 8,  9, 10, 11]],\n",
              "\n",
              "       [[12, 13, 14, 15],\n",
              "        [16, 17, 18, 19],\n",
              "        [20, 21, 22, 23]]])"
            ]
          },
          "execution_count": 24,
          "metadata": {},
          "output_type": "execute_result"
        }
      ]
    },
    {
      "cell_type": "code",
      "metadata": {
        "id": "ojH0plArxh2N",
        "outputId": "310cc26a-e559-4570-db2c-36e44efe7ffa"
      },
      "source": [
        "b = np.append(a, [5,6,7,8])\n",
        "b"
      ],
      "execution_count": null,
      "outputs": [
        {
          "data": {
            "text/plain": [
              "array([ 0,  1,  2,  3,  4,  5,  6,  7,  8,  9, 10, 11, 12, 13, 14, 15, 16,\n",
              "       17, 18, 19, 20, 21, 22, 23,  5,  6,  7,  8])"
            ]
          },
          "execution_count": 25,
          "metadata": {},
          "output_type": "execute_result"
        }
      ]
    },
    {
      "cell_type": "code",
      "metadata": {
        "id": "MX1y9UC8xh2N",
        "outputId": "a8720932-b3e6-4402-a2c4-343beebdeca1"
      },
      "source": [
        "b.shape"
      ],
      "execution_count": null,
      "outputs": [
        {
          "data": {
            "text/plain": [
              "(28,)"
            ]
          },
          "execution_count": 45,
          "metadata": {},
          "output_type": "execute_result"
        }
      ]
    },
    {
      "cell_type": "code",
      "metadata": {
        "id": "WAcoWyqbxh2O",
        "outputId": "f51f7d8d-7e2b-4b9d-efdd-ab4dca84b0bc"
      },
      "source": [
        "b.reshape(7,4)"
      ],
      "execution_count": null,
      "outputs": [
        {
          "data": {
            "text/plain": [
              "array([[ 0,  1,  2,  3],\n",
              "       [ 4,  5,  6,  7],\n",
              "       [ 8,  9, 10, 11],\n",
              "       [12, 13, 14, 15],\n",
              "       [16, 17, 18, 19],\n",
              "       [20, 21, 22, 23],\n",
              "       [ 5,  6,  7,  8]])"
            ]
          },
          "execution_count": 26,
          "metadata": {},
          "output_type": "execute_result"
        }
      ]
    },
    {
      "cell_type": "code",
      "metadata": {
        "id": "ClK9Ypaexh2O",
        "outputId": "fc5e4b6b-f2a4-4b7a-b8a9-81d24a1c32f2"
      },
      "source": [
        "c = np.arange(24).reshape(2,3,4)*10+3\n",
        "c"
      ],
      "execution_count": null,
      "outputs": [
        {
          "data": {
            "text/plain": [
              "array([[[  3,  13,  23,  33],\n",
              "        [ 43,  53,  63,  73],\n",
              "        [ 83,  93, 103, 113]],\n",
              "\n",
              "       [[123, 133, 143, 153],\n",
              "        [163, 173, 183, 193],\n",
              "        [203, 213, 223, 233]]])"
            ]
          },
          "execution_count": 27,
          "metadata": {},
          "output_type": "execute_result"
        }
      ]
    },
    {
      "cell_type": "code",
      "metadata": {
        "id": "qPTSkGlBxh2O",
        "outputId": "11390672-8d8e-4426-be36-a30356ecb9f1"
      },
      "source": [
        "esther = np.arange(6).reshape(2,3)\n",
        "esther"
      ],
      "execution_count": null,
      "outputs": [
        {
          "data": {
            "text/plain": [
              "array([[0, 1, 2],\n",
              "       [3, 4, 5]])"
            ]
          },
          "execution_count": 29,
          "metadata": {},
          "output_type": "execute_result"
        }
      ]
    },
    {
      "cell_type": "code",
      "metadata": {
        "id": "1IN0MJEsxh2O",
        "outputId": "6b89749f-0e62-4919-b19f-c803608d18d4"
      },
      "source": [
        "mike = np.arange(6, 18).reshape(4,3)\n",
        "mike"
      ],
      "execution_count": null,
      "outputs": [
        {
          "data": {
            "text/plain": [
              "array([[ 6,  7,  8],\n",
              "       [ 9, 10, 11],\n",
              "       [12, 13, 14],\n",
              "       [15, 16, 17]])"
            ]
          },
          "execution_count": 30,
          "metadata": {},
          "output_type": "execute_result"
        }
      ]
    },
    {
      "cell_type": "code",
      "metadata": {
        "id": "_mpUtPCMxh2P",
        "outputId": "b8b95509-0926-4ff1-905f-03e6bde0dee7"
      },
      "source": [
        "np.append(esther, mike, axis = 0)"
      ],
      "execution_count": null,
      "outputs": [
        {
          "data": {
            "text/plain": [
              "array([[ 0,  1,  2],\n",
              "       [ 3,  4,  5],\n",
              "       [ 6,  7,  8],\n",
              "       [ 9, 10, 11],\n",
              "       [12, 13, 14],\n",
              "       [15, 16, 17]])"
            ]
          },
          "execution_count": 33,
          "metadata": {},
          "output_type": "execute_result"
        }
      ]
    },
    {
      "cell_type": "code",
      "metadata": {
        "id": "y050WNo9xh2P",
        "outputId": "5fea934c-8ea2-4eef-a419-1027196487ff"
      },
      "source": [
        "a"
      ],
      "execution_count": null,
      "outputs": [
        {
          "data": {
            "text/plain": [
              "array([[[ 0,  1,  2,  3],\n",
              "        [ 4,  5,  6,  7],\n",
              "        [ 8,  9, 10, 11]],\n",
              "\n",
              "       [[12, 13, 14, 15],\n",
              "        [16, 17, 18, 19],\n",
              "        [20, 21, 22, 23]]])"
            ]
          },
          "execution_count": 34,
          "metadata": {},
          "output_type": "execute_result"
        }
      ]
    },
    {
      "cell_type": "code",
      "metadata": {
        "id": "6XWKx05Rxh2P",
        "outputId": "bf3425d7-f92a-4b15-b239-38b373da9d6b"
      },
      "source": [
        "c"
      ],
      "execution_count": null,
      "outputs": [
        {
          "data": {
            "text/plain": [
              "array([[[  3,  13,  23,  33],\n",
              "        [ 43,  53,  63,  73],\n",
              "        [ 83,  93, 103, 113]],\n",
              "\n",
              "       [[123, 133, 143, 153],\n",
              "        [163, 173, 183, 193],\n",
              "        [203, 213, 223, 233]]])"
            ]
          },
          "execution_count": 35,
          "metadata": {},
          "output_type": "execute_result"
        }
      ]
    },
    {
      "cell_type": "code",
      "metadata": {
        "id": "IqBL74eFxh2P",
        "outputId": "044ac7e7-1e0a-41cf-e337-cd92c021b600"
      },
      "source": [
        "# Joining along the row (axis = 0)\n",
        "\n",
        "np.append(a, c, axis = 0)"
      ],
      "execution_count": null,
      "outputs": [
        {
          "data": {
            "text/plain": [
              "array([[[  0,   1,   2,   3],\n",
              "        [  4,   5,   6,   7],\n",
              "        [  8,   9,  10,  11]],\n",
              "\n",
              "       [[ 12,  13,  14,  15],\n",
              "        [ 16,  17,  18,  19],\n",
              "        [ 20,  21,  22,  23]],\n",
              "\n",
              "       [[  3,  13,  23,  33],\n",
              "        [ 43,  53,  63,  73],\n",
              "        [ 83,  93, 103, 113]],\n",
              "\n",
              "       [[123, 133, 143, 153],\n",
              "        [163, 173, 183, 193],\n",
              "        [203, 213, 223, 233]]])"
            ]
          },
          "execution_count": 36,
          "metadata": {},
          "output_type": "execute_result"
        }
      ]
    },
    {
      "cell_type": "code",
      "metadata": {
        "id": "odM0XCJ0xh2R",
        "outputId": "c54c8bb1-eea1-4d71-d599-0d309eced67f"
      },
      "source": [
        "a.shape"
      ],
      "execution_count": null,
      "outputs": [
        {
          "data": {
            "text/plain": [
              "(2, 3, 4)"
            ]
          },
          "execution_count": 37,
          "metadata": {},
          "output_type": "execute_result"
        }
      ]
    },
    {
      "cell_type": "code",
      "metadata": {
        "id": "vanUy_i3xh2R",
        "outputId": "671d6a31-3820-4e15-ee62-852952559e2f"
      },
      "source": [
        "c.shape"
      ],
      "execution_count": null,
      "outputs": [
        {
          "data": {
            "text/plain": [
              "(2, 3, 4)"
            ]
          },
          "execution_count": 38,
          "metadata": {},
          "output_type": "execute_result"
        }
      ]
    },
    {
      "cell_type": "code",
      "metadata": {
        "id": "uQbtXicKxh2R",
        "outputId": "96ebe925-b5d7-4d5c-ce3e-77f35ad0b318"
      },
      "source": [
        "np.append(a, c, axis = 0).shape"
      ],
      "execution_count": null,
      "outputs": [
        {
          "data": {
            "text/plain": [
              "(4, 3, 4)"
            ]
          },
          "execution_count": 49,
          "metadata": {},
          "output_type": "execute_result"
        }
      ]
    },
    {
      "cell_type": "code",
      "metadata": {
        "id": "NuY_qziYxh2S",
        "outputId": "95f53520-aefc-4368-e619-531393d78c9e"
      },
      "source": [
        "# Joining along the column (axis = 1)\n",
        "\n",
        "np.append(a, c, axis = 1)"
      ],
      "execution_count": null,
      "outputs": [
        {
          "data": {
            "text/plain": [
              "array([[[  0,   1,   2,   3],\n",
              "        [  4,   5,   6,   7],\n",
              "        [  8,   9,  10,  11],\n",
              "        [  3,  13,  23,  33],\n",
              "        [ 43,  53,  63,  73],\n",
              "        [ 83,  93, 103, 113]],\n",
              "\n",
              "       [[ 12,  13,  14,  15],\n",
              "        [ 16,  17,  18,  19],\n",
              "        [ 20,  21,  22,  23],\n",
              "        [123, 133, 143, 153],\n",
              "        [163, 173, 183, 193],\n",
              "        [203, 213, 223, 233]]])"
            ]
          },
          "execution_count": 39,
          "metadata": {},
          "output_type": "execute_result"
        }
      ]
    },
    {
      "cell_type": "code",
      "metadata": {
        "id": "PdfLmHzDxh2S",
        "outputId": "d8f65cef-2eca-4591-8fb0-391282f23d75"
      },
      "source": [
        "np.append(a, c, axis = 1).shape"
      ],
      "execution_count": null,
      "outputs": [
        {
          "data": {
            "text/plain": [
              "(2, 6, 4)"
            ]
          },
          "execution_count": 40,
          "metadata": {},
          "output_type": "execute_result"
        }
      ]
    },
    {
      "cell_type": "code",
      "metadata": {
        "id": "PV6RvARixh2S",
        "outputId": "5d3838c3-d077-48ef-db0b-ddfac818ae8a"
      },
      "source": [
        "np.append(a, c, axis = 2)"
      ],
      "execution_count": null,
      "outputs": [
        {
          "data": {
            "text/plain": [
              "array([[[  0,   1,   2,   3,   3,  13,  23,  33],\n",
              "        [  4,   5,   6,   7,  43,  53,  63,  73],\n",
              "        [  8,   9,  10,  11,  83,  93, 103, 113]],\n",
              "\n",
              "       [[ 12,  13,  14,  15, 123, 133, 143, 153],\n",
              "        [ 16,  17,  18,  19, 163, 173, 183, 193],\n",
              "        [ 20,  21,  22,  23, 203, 213, 223, 233]]])"
            ]
          },
          "execution_count": 41,
          "metadata": {},
          "output_type": "execute_result"
        }
      ]
    },
    {
      "cell_type": "code",
      "metadata": {
        "id": "Z4ZtlOXbxh2S",
        "outputId": "dce9286e-668d-4f98-dfd9-a6d504cb837e"
      },
      "source": [
        "np.append(a,c, axis = 2).shape"
      ],
      "execution_count": null,
      "outputs": [
        {
          "data": {
            "text/plain": [
              "(2, 3, 8)"
            ]
          },
          "execution_count": 42,
          "metadata": {},
          "output_type": "execute_result"
        }
      ]
    },
    {
      "cell_type": "markdown",
      "metadata": {
        "id": "TuHbrwXMxh2S"
      },
      "source": [
        "#### Hstack"
      ]
    },
    {
      "cell_type": "code",
      "metadata": {
        "id": "uuMgvvLhxh2T",
        "outputId": "f7f1dfb8-14d3-4f73-aa4b-924e821a3418"
      },
      "source": [
        "a"
      ],
      "execution_count": null,
      "outputs": [
        {
          "data": {
            "text/plain": [
              "array([[[ 0,  1,  2,  3],\n",
              "        [ 4,  5,  6,  7],\n",
              "        [ 8,  9, 10, 11]],\n",
              "\n",
              "       [[12, 13, 14, 15],\n",
              "        [16, 17, 18, 19],\n",
              "        [20, 21, 22, 23]]])"
            ]
          },
          "execution_count": 43,
          "metadata": {},
          "output_type": "execute_result"
        }
      ]
    },
    {
      "cell_type": "code",
      "metadata": {
        "id": "E3XH--wWxh2T",
        "outputId": "ccd4d223-536b-4a5f-faed-06ec8f4aaec8"
      },
      "source": [
        "c"
      ],
      "execution_count": null,
      "outputs": [
        {
          "data": {
            "text/plain": [
              "array([[[  3,  13,  23,  33],\n",
              "        [ 43,  53,  63,  73],\n",
              "        [ 83,  93, 103, 113]],\n",
              "\n",
              "       [[123, 133, 143, 153],\n",
              "        [163, 173, 183, 193],\n",
              "        [203, 213, 223, 233]]])"
            ]
          },
          "execution_count": 44,
          "metadata": {},
          "output_type": "execute_result"
        }
      ]
    },
    {
      "cell_type": "code",
      "metadata": {
        "id": "yD7vOfH5xh2T",
        "outputId": "b5d8b3f1-c1ac-401c-92b1-e6dce0378189"
      },
      "source": [
        "my_num = np.hstack((a,c))\n",
        "my_num"
      ],
      "execution_count": null,
      "outputs": [
        {
          "data": {
            "text/plain": [
              "array([[[  0,   1,   2,   3],\n",
              "        [  4,   5,   6,   7],\n",
              "        [  8,   9,  10,  11],\n",
              "        [  3,  13,  23,  33],\n",
              "        [ 43,  53,  63,  73],\n",
              "        [ 83,  93, 103, 113]],\n",
              "\n",
              "       [[ 12,  13,  14,  15],\n",
              "        [ 16,  17,  18,  19],\n",
              "        [ 20,  21,  22,  23],\n",
              "        [123, 133, 143, 153],\n",
              "        [163, 173, 183, 193],\n",
              "        [203, 213, 223, 233]]])"
            ]
          },
          "execution_count": 45,
          "metadata": {},
          "output_type": "execute_result"
        }
      ]
    },
    {
      "cell_type": "code",
      "metadata": {
        "id": "p7qYL9G6xh2T",
        "outputId": "04fed318-fec7-4811-c311-87568c94983b"
      },
      "source": [
        "my_num"
      ],
      "execution_count": null,
      "outputs": [
        {
          "data": {
            "text/plain": [
              "array([[[  0,   1,   2,   3],\n",
              "        [  4,   5,   6,   7],\n",
              "        [  8,   9,  10,  11],\n",
              "        [  3,  13,  23,  33],\n",
              "        [ 43,  53,  63,  73],\n",
              "        [ 83,  93, 103, 113]],\n",
              "\n",
              "       [[ 12,  13,  14,  15],\n",
              "        [ 16,  17,  18,  19],\n",
              "        [ 20,  21,  22,  23],\n",
              "        [123, 133, 143, 153],\n",
              "        [163, 173, 183, 193],\n",
              "        [203, 213, 223, 233]]])"
            ]
          },
          "execution_count": 46,
          "metadata": {},
          "output_type": "execute_result"
        }
      ]
    },
    {
      "cell_type": "code",
      "metadata": {
        "id": "5v1glZLDxh2U",
        "outputId": "ee6b7d3c-afed-4c88-93e9-5a32c63703a0"
      },
      "source": [
        "my_num[0,0,2] = 999\n",
        "my_num"
      ],
      "execution_count": null,
      "outputs": [
        {
          "data": {
            "text/plain": [
              "array([[[  0,   1, 999,   3],\n",
              "        [  4,   5,   6,   7],\n",
              "        [  8,   9,  10,  11],\n",
              "        [  3,  13,  23,  33],\n",
              "        [ 43,  53,  63,  73],\n",
              "        [ 83,  93, 103, 113]],\n",
              "\n",
              "       [[ 12,  13,  14,  15],\n",
              "        [ 16,  17,  18,  19],\n",
              "        [ 20,  21,  22,  23],\n",
              "        [123, 133, 143, 153],\n",
              "        [163, 173, 183, 193],\n",
              "        [203, 213, 223, 233]]])"
            ]
          },
          "execution_count": 47,
          "metadata": {},
          "output_type": "execute_result"
        }
      ]
    },
    {
      "cell_type": "code",
      "metadata": {
        "id": "HIJ82cDBxh2U",
        "outputId": "22f2cd6e-a784-4d89-e6ac-ff20f8da5e1a"
      },
      "source": [
        "c"
      ],
      "execution_count": null,
      "outputs": [
        {
          "data": {
            "text/plain": [
              "array([[[  3,  13,  23,  33],\n",
              "        [ 43,  53,  63,  73],\n",
              "        [ 83,  93, 103, 113]],\n",
              "\n",
              "       [[123, 133, 143, 153],\n",
              "        [163, 173, 183, 193],\n",
              "        [203, 213, 223, 233]]])"
            ]
          },
          "execution_count": 48,
          "metadata": {},
          "output_type": "execute_result"
        }
      ]
    },
    {
      "cell_type": "code",
      "metadata": {
        "id": "mEZzpfBYxh2U",
        "outputId": "11bd67dc-147f-4ce6-f268-950824c513c2"
      },
      "source": [
        "mike"
      ],
      "execution_count": null,
      "outputs": [
        {
          "data": {
            "text/plain": [
              "array([[ 6,  7,  8],\n",
              "       [ 9, 10, 11],\n",
              "       [12, 13, 14],\n",
              "       [15, 16, 17]])"
            ]
          },
          "execution_count": 50,
          "metadata": {},
          "output_type": "execute_result"
        }
      ]
    },
    {
      "cell_type": "code",
      "metadata": {
        "id": "qiQYZ5Bqxh2U",
        "outputId": "526fca4a-fb38-4802-b006-8f966f149bd6"
      },
      "source": [
        "mike_insert = np.insert(mike, 1, 44, axis = 1)\n",
        "mike_insert"
      ],
      "execution_count": null,
      "outputs": [
        {
          "data": {
            "text/plain": [
              "array([[ 6, 44,  7,  8],\n",
              "       [ 9, 44, 10, 11],\n",
              "       [12, 44, 13, 14],\n",
              "       [15, 44, 16, 17]])"
            ]
          },
          "execution_count": 53,
          "metadata": {},
          "output_type": "execute_result"
        }
      ]
    },
    {
      "cell_type": "code",
      "metadata": {
        "id": "4V_9zyXtxh2U",
        "outputId": "cf596cce-9ca0-45be-b532-8c542819408b"
      },
      "source": [
        "after_insert_array = np.insert(c, 1, 444, axis = 0)\n",
        "after_insert_array"
      ],
      "execution_count": null,
      "outputs": [
        {
          "data": {
            "text/plain": [
              "array([[[  3,  13,  23,  33],\n",
              "        [ 43,  53,  63,  73],\n",
              "        [ 83,  93, 103, 113]],\n",
              "\n",
              "       [[444, 444, 444, 444],\n",
              "        [444, 444, 444, 444],\n",
              "        [444, 444, 444, 444]],\n",
              "\n",
              "       [[123, 133, 143, 153],\n",
              "        [163, 173, 183, 193],\n",
              "        [203, 213, 223, 233]]])"
            ]
          },
          "execution_count": 54,
          "metadata": {},
          "output_type": "execute_result"
        }
      ]
    },
    {
      "cell_type": "code",
      "metadata": {
        "id": "6SXonA9qxh2V",
        "outputId": "24a47647-7635-4095-a546-1efa00b4a2d5"
      },
      "source": [
        "after_insert_array = np.insert(c, 1, 444, axis = 1)\n",
        "after_insert_array"
      ],
      "execution_count": null,
      "outputs": [
        {
          "data": {
            "text/plain": [
              "array([[[  3,  13,  23,  33],\n",
              "        [444, 444, 444, 444],\n",
              "        [ 43,  53,  63,  73],\n",
              "        [ 83,  93, 103, 113]],\n",
              "\n",
              "       [[123, 133, 143, 153],\n",
              "        [444, 444, 444, 444],\n",
              "        [163, 173, 183, 193],\n",
              "        [203, 213, 223, 233]]])"
            ]
          },
          "execution_count": 55,
          "metadata": {},
          "output_type": "execute_result"
        }
      ]
    },
    {
      "cell_type": "code",
      "metadata": {
        "id": "4nguIPiWxh2V",
        "outputId": "2a07d22e-bacd-4dda-fadf-30c34ca0ad86"
      },
      "source": [
        "after_insert_array = np.insert(c, 1, 444, axis = 2)\n",
        "after_insert_array"
      ],
      "execution_count": null,
      "outputs": [
        {
          "data": {
            "text/plain": [
              "array([[[  3, 444,  13,  23,  33],\n",
              "        [ 43, 444,  53,  63,  73],\n",
              "        [ 83, 444,  93, 103, 113]],\n",
              "\n",
              "       [[123, 444, 133, 143, 153],\n",
              "        [163, 444, 173, 183, 193],\n",
              "        [203, 444, 213, 223, 233]]])"
            ]
          },
          "execution_count": 56,
          "metadata": {},
          "output_type": "execute_result"
        }
      ]
    },
    {
      "cell_type": "code",
      "metadata": {
        "id": "7Q2qh3p4xh2V",
        "outputId": "64bc94a2-6216-4214-8fcd-701755893cd7"
      },
      "source": [
        "c.shape"
      ],
      "execution_count": null,
      "outputs": [
        {
          "data": {
            "text/plain": [
              "(2, 3, 4)"
            ]
          },
          "execution_count": 57,
          "metadata": {},
          "output_type": "execute_result"
        }
      ]
    },
    {
      "cell_type": "code",
      "metadata": {
        "id": "W8xQ54Xoxh2V",
        "outputId": "da4ef46f-b71e-463d-b6bb-12956b4ed553"
      },
      "source": [
        "d = np.empty(c.shape)\n",
        "d"
      ],
      "execution_count": null,
      "outputs": [
        {
          "data": {
            "text/plain": [
              "array([[[1.32040844e-311, 7.31217156e-322, 0.00000000e+000,\n",
              "         0.00000000e+000],\n",
              "        [1.33511018e-306, 1.15998412e-028, 2.44171989e+232,\n",
              "         8.00801729e+159],\n",
              "        [8.16124052e-153, 6.03108138e-154, 6.01391519e-154,\n",
              "         1.17633628e-095]],\n",
              "\n",
              "       [[8.18920594e+140, 6.01347002e-154, 4.57669518e-072,\n",
              "         1.03080550e+136],\n",
              "        [6.01347002e-154, 1.03895280e-095, 5.79961843e+294,\n",
              "         1.43267083e+161],\n",
              "        [4.56317366e-144, 4.82412328e+228, 1.04718130e-142,\n",
              "         1.11260652e-306]]])"
            ]
          },
          "execution_count": 58,
          "metadata": {},
          "output_type": "execute_result"
        }
      ]
    },
    {
      "cell_type": "code",
      "metadata": {
        "id": "DJFru5uVxh2W",
        "outputId": "7a95948d-0da1-49c2-dff2-3710e4c0a562"
      },
      "source": [
        "np.copyto(d,c)\n",
        "d"
      ],
      "execution_count": null,
      "outputs": [
        {
          "data": {
            "text/plain": [
              "array([[[  3.,  13.,  23.,  33.],\n",
              "        [ 43.,  53.,  63.,  73.],\n",
              "        [ 83.,  93., 103., 113.]],\n",
              "\n",
              "       [[123., 133., 143., 153.],\n",
              "        [163., 173., 183., 193.],\n",
              "        [203., 213., 223., 233.]]])"
            ]
          },
          "execution_count": 59,
          "metadata": {},
          "output_type": "execute_result"
        }
      ]
    },
    {
      "cell_type": "code",
      "metadata": {
        "id": "b2ZH_npxxh2W",
        "outputId": "e6416e87-eae1-4968-df47-c45b43e9f0b8"
      },
      "source": [
        "print(d)\n",
        "print(c)"
      ],
      "execution_count": null,
      "outputs": [
        {
          "name": "stdout",
          "output_type": "stream",
          "text": [
            "[[[  3.  13.  23.  33.]\n",
            "  [ 43.  53.  63.  73.]\n",
            "  [ 83.  93. 103. 113.]]\n",
            "\n",
            " [[123. 133. 143. 153.]\n",
            "  [163. 173. 183. 193.]\n",
            "  [203. 213. 223. 233.]]]\n",
            "[[[  3  13  23  33]\n",
            "  [ 43  53  63  73]\n",
            "  [ 83  93 103 113]]\n",
            "\n",
            " [[123 133 143 153]\n",
            "  [163 173 183 193]\n",
            "  [203 213 223 233]]]\n"
          ]
        }
      ]
    },
    {
      "cell_type": "code",
      "metadata": {
        "id": "uTH8UDu0xh2X",
        "outputId": "0b5ebe81-d180-4075-cd29-97da2bce57e2"
      },
      "source": [
        "np.delete(d, 1, axis = 0)"
      ],
      "execution_count": null,
      "outputs": [
        {
          "data": {
            "text/plain": [
              "array([[[  3.,  13.,  23.,  33.],\n",
              "        [ 43.,  53.,  63.,  73.],\n",
              "        [ 83.,  93., 103., 113.]]])"
            ]
          },
          "execution_count": 61,
          "metadata": {},
          "output_type": "execute_result"
        }
      ]
    },
    {
      "cell_type": "code",
      "metadata": {
        "id": "XS5jGvxLxh2X",
        "outputId": "385552a6-ae87-414a-ddb5-97b98263efbe"
      },
      "source": [
        "np.delete(d, 1, axis = 1)"
      ],
      "execution_count": null,
      "outputs": [
        {
          "data": {
            "text/plain": [
              "array([[[  3.,  13.,  23.,  33.],\n",
              "        [ 83.,  93., 103., 113.]],\n",
              "\n",
              "       [[123., 133., 143., 153.],\n",
              "        [203., 213., 223., 233.]]])"
            ]
          },
          "execution_count": 62,
          "metadata": {},
          "output_type": "execute_result"
        }
      ]
    },
    {
      "cell_type": "code",
      "metadata": {
        "id": "rvexPp5xxh2X",
        "outputId": "413bde07-5e9f-4966-b92b-c184dc6e9019"
      },
      "source": [
        "np.delete(d, 1, axis = 2)"
      ],
      "execution_count": null,
      "outputs": [
        {
          "data": {
            "text/plain": [
              "array([[[  3.,  23.,  33.],\n",
              "        [ 43.,  63.,  73.],\n",
              "        [ 83., 103., 113.]],\n",
              "\n",
              "       [[123., 143., 153.],\n",
              "        [163., 183., 193.],\n",
              "        [203., 223., 233.]]])"
            ]
          },
          "execution_count": 63,
          "metadata": {},
          "output_type": "execute_result"
        }
      ]
    },
    {
      "cell_type": "markdown",
      "metadata": {
        "id": "KDUUIpBmxh2Y"
      },
      "source": [
        ""
      ]
    },
    {
      "cell_type": "markdown",
      "metadata": {
        "id": "uK9BV2m7xh2Y"
      },
      "source": [
        "### Joining and Splitting Arrays\n",
        "\n",
        "Concatenate, Stack, Split"
      ]
    },
    {
      "cell_type": "code",
      "metadata": {
        "id": "66JKi7oqxh2Y",
        "outputId": "02a3aa82-88a7-4f2e-bc97-000909267efb"
      },
      "source": [
        "a = np.array([1,2,3,4]).reshape((2,2))\n",
        "b = np.array([[5,6]])\n",
        "print(a)\n",
        "print(b)"
      ],
      "execution_count": null,
      "outputs": [
        {
          "name": "stdout",
          "output_type": "stream",
          "text": [
            "[[1 2]\n",
            " [3 4]]\n",
            "[[5 6]]\n"
          ]
        }
      ]
    },
    {
      "cell_type": "code",
      "metadata": {
        "id": "grJ1JZKtxh2Y",
        "outputId": "830e6440-f946-49f3-d7db-a525fd9edeb1"
      },
      "source": [
        "together = np.concatenate((a,b), axis = 0)\n",
        "together"
      ],
      "execution_count": null,
      "outputs": [
        {
          "data": {
            "text/plain": [
              "array([[1, 2],\n",
              "       [3, 4],\n",
              "       [5, 6]])"
            ]
          },
          "execution_count": 65,
          "metadata": {},
          "output_type": "execute_result"
        }
      ]
    },
    {
      "cell_type": "code",
      "metadata": {
        "id": "WPuTyRCSxh2Y",
        "outputId": "ab553f97-b7ef-42d4-ac16-d108cf91a6d1"
      },
      "source": [
        "together.shape"
      ],
      "execution_count": null,
      "outputs": [
        {
          "data": {
            "text/plain": [
              "(3, 2)"
            ]
          },
          "execution_count": 66,
          "metadata": {},
          "output_type": "execute_result"
        }
      ]
    },
    {
      "cell_type": "code",
      "metadata": {
        "id": "KE6jG7Cexh2Z",
        "outputId": "e701336c-05a6-469e-e416-2a0b00bbc4c2"
      },
      "source": [
        "together.ndim"
      ],
      "execution_count": null,
      "outputs": [
        {
          "data": {
            "text/plain": [
              "2"
            ]
          },
          "execution_count": 67,
          "metadata": {},
          "output_type": "execute_result"
        }
      ]
    },
    {
      "cell_type": "code",
      "metadata": {
        "id": "yfbRCrqCxh2Z",
        "outputId": "29f0c83e-1071-4aed-ff83-443e24b2b64d"
      },
      "source": [
        "together[2,1] = 55\n",
        "together"
      ],
      "execution_count": null,
      "outputs": [
        {
          "data": {
            "text/plain": [
              "array([[ 1,  2],\n",
              "       [ 3,  4],\n",
              "       [ 5, 55]])"
            ]
          },
          "execution_count": 68,
          "metadata": {},
          "output_type": "execute_result"
        }
      ]
    },
    {
      "cell_type": "code",
      "metadata": {
        "id": "J2c0Jws7xh2Z",
        "outputId": "7399d387-b6e8-4f96-ead2-59cc3dea9e32"
      },
      "source": [
        "a"
      ],
      "execution_count": null,
      "outputs": [
        {
          "data": {
            "text/plain": [
              "array([[1, 2],\n",
              "       [3, 4]])"
            ]
          },
          "execution_count": 69,
          "metadata": {},
          "output_type": "execute_result"
        }
      ]
    },
    {
      "cell_type": "code",
      "metadata": {
        "id": "tyaBWdMKxh2Z",
        "outputId": "44131d46-4464-4c6e-925f-cc3bafd56b82"
      },
      "source": [
        "c = np.array([[1,2], [3,4]])*3+5\n",
        "c"
      ],
      "execution_count": null,
      "outputs": [
        {
          "data": {
            "text/plain": [
              "array([[ 8, 11],\n",
              "       [14, 17]])"
            ]
          },
          "execution_count": 70,
          "metadata": {},
          "output_type": "execute_result"
        }
      ]
    },
    {
      "cell_type": "code",
      "metadata": {
        "id": "Canbi0tNxh2Z",
        "outputId": "e3b5d4fc-234d-4cfa-bc61-42cd28f8705e"
      },
      "source": [
        "np.concatenate((a,c), axis = 0)"
      ],
      "execution_count": null,
      "outputs": [
        {
          "data": {
            "text/plain": [
              "array([[ 1,  2],\n",
              "       [ 3,  4],\n",
              "       [ 8, 11],\n",
              "       [14, 17]])"
            ]
          },
          "execution_count": 71,
          "metadata": {},
          "output_type": "execute_result"
        }
      ]
    },
    {
      "cell_type": "code",
      "metadata": {
        "id": "n0C3togexh2a",
        "outputId": "5bc4e194-5852-4e1a-f117-1ad5564c3b1a"
      },
      "source": [
        "np.concatenate((a,c), axis = 1)"
      ],
      "execution_count": null,
      "outputs": [
        {
          "data": {
            "text/plain": [
              "array([[ 1,  2,  8, 11],\n",
              "       [ 3,  4, 14, 17]])"
            ]
          },
          "execution_count": 72,
          "metadata": {},
          "output_type": "execute_result"
        }
      ]
    },
    {
      "cell_type": "code",
      "metadata": {
        "id": "2ApEFnGgxh2a",
        "outputId": "46314f74-5c12-4300-ddb9-2abd995911c0"
      },
      "source": [
        "np.concatenate((a,c), axis = 2)"
      ],
      "execution_count": null,
      "outputs": [
        {
          "ename": "AxisError",
          "evalue": "axis 2 is out of bounds for array of dimension 2",
          "output_type": "error",
          "traceback": [
            "\u001b[1;31m---------------------------------------------------------------------------\u001b[0m",
            "\u001b[1;31mAxisError\u001b[0m                                 Traceback (most recent call last)",
            "\u001b[1;32m<ipython-input-73-f2d02e789126>\u001b[0m in \u001b[0;36m<module>\u001b[1;34m\u001b[0m\n\u001b[1;32m----> 1\u001b[1;33m \u001b[0mnp\u001b[0m\u001b[1;33m.\u001b[0m\u001b[0mconcatenate\u001b[0m\u001b[1;33m(\u001b[0m\u001b[1;33m(\u001b[0m\u001b[0ma\u001b[0m\u001b[1;33m,\u001b[0m\u001b[0mc\u001b[0m\u001b[1;33m)\u001b[0m\u001b[1;33m,\u001b[0m \u001b[0maxis\u001b[0m \u001b[1;33m=\u001b[0m \u001b[1;36m2\u001b[0m\u001b[1;33m)\u001b[0m\u001b[1;33m\u001b[0m\u001b[1;33m\u001b[0m\u001b[0m\n\u001b[0m",
            "\u001b[1;32m<__array_function__ internals>\u001b[0m in \u001b[0;36mconcatenate\u001b[1;34m(*args, **kwargs)\u001b[0m\n",
            "\u001b[1;31mAxisError\u001b[0m: axis 2 is out of bounds for array of dimension 2"
          ]
        }
      ]
    },
    {
      "cell_type": "code",
      "metadata": {
        "id": "1hOqsNOIxh2a",
        "outputId": "5c024097-de4f-478b-adbe-6cc71ea392aa"
      },
      "source": [
        "mike"
      ],
      "execution_count": null,
      "outputs": [
        {
          "data": {
            "text/plain": [
              "array([[ 6,  7,  8],\n",
              "       [ 9, 10, 11],\n",
              "       [12, 13, 14],\n",
              "       [15, 16, 17]])"
            ]
          },
          "execution_count": 74,
          "metadata": {},
          "output_type": "execute_result"
        }
      ]
    },
    {
      "cell_type": "markdown",
      "metadata": {
        "id": "A7xJVuUSxh2a"
      },
      "source": [
        ""
      ]
    },
    {
      "cell_type": "markdown",
      "metadata": {
        "id": "HGdslXxDxh2a"
      },
      "source": [
        "### Rearranging Array Elements"
      ]
    },
    {
      "cell_type": "code",
      "metadata": {
        "id": "uWk6GHV5xh2a"
      },
      "source": [
        "import numpy as np"
      ],
      "execution_count": null,
      "outputs": []
    },
    {
      "cell_type": "code",
      "metadata": {
        "id": "_qYi3royxh2b"
      },
      "source": [
        "first = np.array(np.arange(24))\n",
        "second = first.reshape((3,8))\n",
        "third = second.reshape((2,3,4))"
      ],
      "execution_count": null,
      "outputs": []
    },
    {
      "cell_type": "code",
      "metadata": {
        "id": "61t_guEzxh2b",
        "outputId": "9786001f-6330-4aa5-98a4-6fe7b899ade4"
      },
      "source": [
        "first"
      ],
      "execution_count": null,
      "outputs": [
        {
          "data": {
            "text/plain": [
              "array([ 0,  1,  2,  3,  4,  5,  6,  7,  8,  9, 10, 11, 12, 13, 14, 15, 16,\n",
              "       17, 18, 19, 20, 21, 22, 23])"
            ]
          },
          "execution_count": 3,
          "metadata": {},
          "output_type": "execute_result"
        }
      ]
    },
    {
      "cell_type": "code",
      "metadata": {
        "id": "oehSC0Iyxh2b",
        "outputId": "ea8926e6-a23c-4df8-e846-49d86c916742"
      },
      "source": [
        "second"
      ],
      "execution_count": null,
      "outputs": [
        {
          "data": {
            "text/plain": [
              "array([[ 0,  1,  2,  3,  4,  5,  6,  7],\n",
              "       [ 8,  9, 10, 11, 12, 13, 14, 15],\n",
              "       [16, 17, 18, 19, 20, 21, 22, 23]])"
            ]
          },
          "execution_count": 4,
          "metadata": {},
          "output_type": "execute_result"
        }
      ]
    },
    {
      "cell_type": "code",
      "metadata": {
        "id": "4iQZfDEVxh2b",
        "outputId": "de663c9e-a978-450d-8d88-b87cd6f1b004"
      },
      "source": [
        "third"
      ],
      "execution_count": null,
      "outputs": [
        {
          "data": {
            "text/plain": [
              "array([[[ 0,  1,  2,  3],\n",
              "        [ 4,  5,  6,  7],\n",
              "        [ 8,  9, 10, 11]],\n",
              "\n",
              "       [[12, 13, 14, 15],\n",
              "        [16, 17, 18, 19],\n",
              "        [20, 21, 22, 23]]])"
            ]
          },
          "execution_count": 5,
          "metadata": {},
          "output_type": "execute_result"
        }
      ]
    },
    {
      "cell_type": "markdown",
      "metadata": {
        "id": "9zr9lHhDxh2b"
      },
      "source": [
        ""
      ]
    },
    {
      "cell_type": "markdown",
      "metadata": {
        "id": "6HDBh1Fuxh2b"
      },
      "source": [
        "#### Flip Left to Right "
      ]
    },
    {
      "cell_type": "code",
      "metadata": {
        "id": "phAmlBG2xh2c",
        "outputId": "a89994e0-eaf8-46c9-8372-44e99f489589"
      },
      "source": [
        "second"
      ],
      "execution_count": null,
      "outputs": [
        {
          "data": {
            "text/plain": [
              "array([[ 0,  1,  2,  3,  4,  5,  6,  7],\n",
              "       [ 8,  9, 10, 11, 12, 13, 14, 15],\n",
              "       [16, 17, 18, 19, 20, 21, 22, 23]])"
            ]
          },
          "execution_count": 7,
          "metadata": {},
          "output_type": "execute_result"
        }
      ]
    },
    {
      "cell_type": "code",
      "metadata": {
        "id": "oHCSlCo_xh2c",
        "outputId": "086cc7fa-f8cf-4de0-a459-cb4619d5521f"
      },
      "source": [
        "np.fliplr(second)"
      ],
      "execution_count": null,
      "outputs": [
        {
          "data": {
            "text/plain": [
              "array([[ 7,  6,  5,  4,  3,  2,  1,  0],\n",
              "       [15, 14, 13, 12, 11, 10,  9,  8],\n",
              "       [23, 22, 21, 20, 19, 18, 17, 16]])"
            ]
          },
          "execution_count": 6,
          "metadata": {},
          "output_type": "execute_result"
        }
      ]
    },
    {
      "cell_type": "code",
      "metadata": {
        "id": "1W8KpjMpxh2f",
        "outputId": "63f37ead-d580-4577-ee70-62258ee06cd0"
      },
      "source": [
        "third"
      ],
      "execution_count": null,
      "outputs": [
        {
          "data": {
            "text/plain": [
              "array([[[ 0,  1,  2,  3],\n",
              "        [ 4,  5,  6,  7],\n",
              "        [ 8,  9, 10, 11]],\n",
              "\n",
              "       [[12, 13, 14, 15],\n",
              "        [16, 17, 18, 19],\n",
              "        [20, 21, 22, 23]]])"
            ]
          },
          "execution_count": 9,
          "metadata": {},
          "output_type": "execute_result"
        }
      ]
    },
    {
      "cell_type": "code",
      "metadata": {
        "id": "pUe_XEEcxh2g",
        "outputId": "eb434680-f3c3-4b0f-93ff-d32303d782d4"
      },
      "source": [
        "np.fliplr(third)"
      ],
      "execution_count": null,
      "outputs": [
        {
          "data": {
            "text/plain": [
              "array([[[ 8,  9, 10, 11],\n",
              "        [ 4,  5,  6,  7],\n",
              "        [ 0,  1,  2,  3]],\n",
              "\n",
              "       [[20, 21, 22, 23],\n",
              "        [16, 17, 18, 19],\n",
              "        [12, 13, 14, 15]]])"
            ]
          },
          "execution_count": 8,
          "metadata": {},
          "output_type": "execute_result"
        }
      ]
    },
    {
      "cell_type": "markdown",
      "metadata": {
        "id": "lbwS6s_Lxh2g"
      },
      "source": [
        ""
      ]
    },
    {
      "cell_type": "markdown",
      "metadata": {
        "id": "WYNnBbFDxh2g"
      },
      "source": [
        "#### Flip Up and Down "
      ]
    },
    {
      "cell_type": "code",
      "metadata": {
        "id": "4TFWck9sxh2g",
        "outputId": "13cf9a53-15d4-4e0a-9750-dfdc126b0f1f"
      },
      "source": [
        "np.flipud(third)"
      ],
      "execution_count": null,
      "outputs": [
        {
          "data": {
            "text/plain": [
              "array([[[12, 13, 14, 15],\n",
              "        [16, 17, 18, 19],\n",
              "        [20, 21, 22, 23]],\n",
              "\n",
              "       [[ 0,  1,  2,  3],\n",
              "        [ 4,  5,  6,  7],\n",
              "        [ 8,  9, 10, 11]]])"
            ]
          },
          "execution_count": 10,
          "metadata": {},
          "output_type": "execute_result"
        }
      ]
    },
    {
      "cell_type": "code",
      "metadata": {
        "id": "CGQChbwZxh2g"
      },
      "source": [
        ""
      ],
      "execution_count": null,
      "outputs": []
    },
    {
      "cell_type": "markdown",
      "metadata": {
        "id": "d62XoYVuxh2h"
      },
      "source": [
        ""
      ]
    },
    {
      "cell_type": "code",
      "metadata": {
        "id": "XwdmboF8xh2h",
        "outputId": "8f5011a2-6470-465c-aa85-5cda793f9f3e"
      },
      "source": [
        "first"
      ],
      "execution_count": null,
      "outputs": [
        {
          "data": {
            "text/plain": [
              "array([ 0,  1,  2,  3,  4,  5,  6,  7,  8,  9, 10, 11, 12, 13, 14, 15, 16,\n",
              "       17, 18, 19, 20, 21, 22, 23])"
            ]
          },
          "execution_count": 11,
          "metadata": {},
          "output_type": "execute_result"
        }
      ]
    },
    {
      "cell_type": "code",
      "metadata": {
        "id": "oMJHTVVOxh2h",
        "outputId": "25e97021-a403-4eb7-ba3c-dcb403df4fdb"
      },
      "source": [
        "np.roll(first, 5)"
      ],
      "execution_count": null,
      "outputs": [
        {
          "data": {
            "text/plain": [
              "array([19, 20, 21, 22, 23,  0,  1,  2,  3,  4,  5,  6,  7,  8,  9, 10, 11,\n",
              "       12, 13, 14, 15, 16, 17, 18])"
            ]
          },
          "execution_count": 12,
          "metadata": {},
          "output_type": "execute_result"
        }
      ]
    },
    {
      "cell_type": "code",
      "metadata": {
        "id": "udyp3X5Mxh2h",
        "outputId": "210c2b32-928b-4bf5-fed4-b41c2615188f"
      },
      "source": [
        "np.roll(first, -5)"
      ],
      "execution_count": null,
      "outputs": [
        {
          "data": {
            "text/plain": [
              "array([ 5,  6,  7,  8,  9, 10, 11, 12, 13, 14, 15, 16, 17, 18, 19, 20, 21,\n",
              "       22, 23,  0,  1,  2,  3,  4])"
            ]
          },
          "execution_count": 13,
          "metadata": {},
          "output_type": "execute_result"
        }
      ]
    },
    {
      "cell_type": "code",
      "metadata": {
        "id": "9TXxCXfyxh2h",
        "outputId": "37e30482-12e2-4f22-ed28-0effad2b8977"
      },
      "source": [
        "third"
      ],
      "execution_count": null,
      "outputs": [
        {
          "data": {
            "text/plain": [
              "array([[[ 0,  1,  2,  3],\n",
              "        [ 4,  5,  6,  7],\n",
              "        [ 8,  9, 10, 11]],\n",
              "\n",
              "       [[12, 13, 14, 15],\n",
              "        [16, 17, 18, 19],\n",
              "        [20, 21, 22, 23]]])"
            ]
          },
          "execution_count": 14,
          "metadata": {},
          "output_type": "execute_result"
        }
      ]
    },
    {
      "cell_type": "code",
      "metadata": {
        "id": "-rNhiNIxxh2h",
        "outputId": "811519b1-88f0-4b94-8642-810536c43da2"
      },
      "source": [
        "np.roll(third, 2)"
      ],
      "execution_count": null,
      "outputs": [
        {
          "data": {
            "text/plain": [
              "array([[[22, 23,  0,  1],\n",
              "        [ 2,  3,  4,  5],\n",
              "        [ 6,  7,  8,  9]],\n",
              "\n",
              "       [[10, 11, 12, 13],\n",
              "        [14, 15, 16, 17],\n",
              "        [18, 19, 20, 21]]])"
            ]
          },
          "execution_count": 15,
          "metadata": {},
          "output_type": "execute_result"
        }
      ]
    },
    {
      "cell_type": "code",
      "metadata": {
        "id": "i0lNsulYxh2i",
        "outputId": "f12d61c2-2c16-461c-dde1-6fc309618c7a"
      },
      "source": [
        "second"
      ],
      "execution_count": null,
      "outputs": [
        {
          "data": {
            "text/plain": [
              "array([[ 0,  1,  2,  3,  4,  5,  6,  7],\n",
              "       [ 8,  9, 10, 11, 12, 13, 14, 15],\n",
              "       [16, 17, 18, 19, 20, 21, 22, 23]])"
            ]
          },
          "execution_count": 16,
          "metadata": {},
          "output_type": "execute_result"
        }
      ]
    },
    {
      "cell_type": "code",
      "metadata": {
        "id": "-C2WdoyNxh2i",
        "outputId": "dc936711-0542-412e-db1e-5a2adcac3694"
      },
      "source": [
        "np.rot90(second)"
      ],
      "execution_count": null,
      "outputs": [
        {
          "data": {
            "text/plain": [
              "array([[ 7, 15, 23],\n",
              "       [ 6, 14, 22],\n",
              "       [ 5, 13, 21],\n",
              "       [ 4, 12, 20],\n",
              "       [ 3, 11, 19],\n",
              "       [ 2, 10, 18],\n",
              "       [ 1,  9, 17],\n",
              "       [ 0,  8, 16]])"
            ]
          },
          "execution_count": 17,
          "metadata": {},
          "output_type": "execute_result"
        }
      ]
    },
    {
      "cell_type": "code",
      "metadata": {
        "id": "rH-7QBfCxh2i",
        "outputId": "a1f0b723-a179-46f0-8582-27bf005735f3"
      },
      "source": [
        "np.rot90(second, k = -1)"
      ],
      "execution_count": null,
      "outputs": [
        {
          "data": {
            "text/plain": [
              "array([[16,  8,  0],\n",
              "       [17,  9,  1],\n",
              "       [18, 10,  2],\n",
              "       [19, 11,  3],\n",
              "       [20, 12,  4],\n",
              "       [21, 13,  5],\n",
              "       [22, 14,  6],\n",
              "       [23, 15,  7]])"
            ]
          },
          "execution_count": 18,
          "metadata": {},
          "output_type": "execute_result"
        }
      ]
    },
    {
      "cell_type": "markdown",
      "metadata": {
        "id": "lbOOyjcixh2i"
      },
      "source": [
        ""
      ]
    },
    {
      "cell_type": "markdown",
      "metadata": {
        "id": "ev0urKOOxh2j"
      },
      "source": [
        "#### Splitting "
      ]
    },
    {
      "cell_type": "code",
      "metadata": {
        "id": "j8RagUSGxh2j",
        "outputId": "7c7a73c5-b745-4212-b37d-3e523c07060d"
      },
      "source": [
        "temp = np.arange(6)\n",
        "np.split(temp, 2)"
      ],
      "execution_count": null,
      "outputs": [
        {
          "data": {
            "text/plain": [
              "[array([0, 1, 2]), array([3, 4, 5])]"
            ]
          },
          "execution_count": 19,
          "metadata": {},
          "output_type": "execute_result"
        }
      ]
    },
    {
      "cell_type": "code",
      "metadata": {
        "id": "XXlDHB9hxh2j",
        "outputId": "2a9f4587-468e-44be-b54d-21c71fd04b76"
      },
      "source": [
        "np.split(temp, 3)"
      ],
      "execution_count": null,
      "outputs": [
        {
          "data": {
            "text/plain": [
              "[array([0, 1]), array([2, 3]), array([4, 5])]"
            ]
          },
          "execution_count": 20,
          "metadata": {},
          "output_type": "execute_result"
        }
      ]
    },
    {
      "cell_type": "code",
      "metadata": {
        "id": "udEAsmXLxh2k",
        "outputId": "2475aa96-613a-4adf-e6d4-a48ed238c87a"
      },
      "source": [
        "np.split(temp, 6)"
      ],
      "execution_count": null,
      "outputs": [
        {
          "data": {
            "text/plain": [
              "[array([0]), array([1]), array([2]), array([3]), array([4]), array([5])]"
            ]
          },
          "execution_count": 21,
          "metadata": {},
          "output_type": "execute_result"
        }
      ]
    },
    {
      "cell_type": "markdown",
      "metadata": {
        "id": "l4M13Ycrxh2k"
      },
      "source": [
        ""
      ]
    },
    {
      "cell_type": "code",
      "metadata": {
        "id": "-o6BHZ8txh2n",
        "outputId": "65571566-dbef-4774-9e5f-59005e6f1e78"
      },
      "source": [
        "np.vectorize(len)(price)"
      ],
      "execution_count": null,
      "outputs": [
        {
          "data": {
            "text/plain": [
              "array([3, 2, 5, 2, 6, 2, 9, 2])"
            ]
          },
          "execution_count": 29,
          "metadata": {},
          "output_type": "execute_result"
        }
      ]
    },
    {
      "cell_type": "markdown",
      "metadata": {
        "id": "G0hoGqu4xh2o"
      },
      "source": [
        ""
      ]
    },
    {
      "cell_type": "markdown",
      "metadata": {
        "id": "cK9aTvuBxh2q"
      },
      "source": [
        "### Copy and View methods"
      ]
    },
    {
      "cell_type": "code",
      "metadata": {
        "colab": {
          "base_uri": "https://localhost:8080/"
        },
        "id": "mSdx8keVF-tY",
        "outputId": "7d0599dd-c116-46d5-82e6-2c32d92170ec"
      },
      "source": [
        "arr = np.array([1,2,3,4,5])\n",
        "arr"
      ],
      "execution_count": null,
      "outputs": [
        {
          "output_type": "execute_result",
          "data": {
            "text/plain": [
              "array([1, 2, 3, 4, 5])"
            ]
          },
          "metadata": {},
          "execution_count": 78
        }
      ]
    },
    {
      "cell_type": "code",
      "metadata": {
        "id": "JkFiDJjrGHg2"
      },
      "source": [
        "arr_copy = arr.copy()"
      ],
      "execution_count": null,
      "outputs": []
    },
    {
      "cell_type": "code",
      "metadata": {
        "colab": {
          "base_uri": "https://localhost:8080/"
        },
        "id": "iN0zQVxoGN6K",
        "outputId": "2afcdacb-4b82-4cb9-f7ef-629af42fd5b3"
      },
      "source": [
        "arr_copy[0] = 50\n",
        "print('original arr', arr)\n",
        "print('array copy', arr_copy)"
      ],
      "execution_count": null,
      "outputs": [
        {
          "output_type": "stream",
          "name": "stdout",
          "text": [
            "original arr [1 2 3 4 5]\n",
            "array copy [50  2  3  4  5]\n"
          ]
        }
      ]
    },
    {
      "cell_type": "code",
      "metadata": {
        "colab": {
          "base_uri": "https://localhost:8080/"
        },
        "id": "B_9z5B-bGhmO",
        "outputId": "901c6241-96bc-4dd8-c314-9bbb50beee34"
      },
      "source": [
        "arr2 = np.array([1,2,3,4,5])\n",
        "arr2"
      ],
      "execution_count": null,
      "outputs": [
        {
          "output_type": "execute_result",
          "data": {
            "text/plain": [
              "array([1, 2, 3, 4, 5])"
            ]
          },
          "metadata": {},
          "execution_count": 81
        }
      ]
    },
    {
      "cell_type": "code",
      "metadata": {
        "id": "Hxs5uu63GlVb"
      },
      "source": [
        "arr2_view = arr2.view()"
      ],
      "execution_count": null,
      "outputs": []
    },
    {
      "cell_type": "code",
      "metadata": {
        "colab": {
          "base_uri": "https://localhost:8080/"
        },
        "id": "msvhGe1pGqwG",
        "outputId": "e9e257c4-422f-4ccd-cd53-894928ab0287"
      },
      "source": [
        "arr2_view[0] = 48\n",
        "print('original arr', arr2)\n",
        "print('array view', arr2_view)"
      ],
      "execution_count": null,
      "outputs": [
        {
          "output_type": "stream",
          "name": "stdout",
          "text": [
            "original arr [48  2  3  4  5]\n",
            "array view [48  2  3  4  5]\n"
          ]
        }
      ]
    },
    {
      "cell_type": "code",
      "metadata": {
        "colab": {
          "base_uri": "https://localhost:8080/"
        },
        "id": "kyKOVZSIHTQH",
        "outputId": "34a5368a-5cff-434e-c358-1b3fcb167b46"
      },
      "source": [
        "arr2[-1] = 100\n",
        "print('original arr', arr2)\n",
        "print('array view', arr2_view)"
      ],
      "execution_count": null,
      "outputs": [
        {
          "output_type": "stream",
          "name": "stdout",
          "text": [
            "original arr [ 48   2   3   4 100]\n",
            "array view [ 48   2   3   4 100]\n"
          ]
        }
      ]
    },
    {
      "cell_type": "code",
      "metadata": {
        "colab": {
          "base_uri": "https://localhost:8080/"
        },
        "id": "M45Wu_vhHn_e",
        "outputId": "0868eb33-8a18-4054-f4bd-1b81cc937123"
      },
      "source": [
        "print (arr2_view.base)\n",
        "print (arr_copy.base)"
      ],
      "execution_count": null,
      "outputs": [
        {
          "output_type": "stream",
          "name": "stdout",
          "text": [
            "[ 48   2   3   4 100]\n",
            "None\n"
          ]
        }
      ]
    },
    {
      "cell_type": "markdown",
      "metadata": {
        "id": "hCPkU88Zxh2t"
      },
      "source": [
        ""
      ]
    },
    {
      "cell_type": "markdown",
      "metadata": {
        "id": "2bV54l4TIXg_"
      },
      "source": [
        "### Exercise \n",
        "\n",
        "Create an array with 5 dimensions containing the values 1,2,3,4 and check the dimension..."
      ]
    },
    {
      "cell_type": "code",
      "metadata": {
        "colab": {
          "base_uri": "https://localhost:8080/"
        },
        "id": "dh7p0gsbJDn9",
        "outputId": "0d0a6a65-a280-4698-85f0-3714fb0d8f43"
      },
      "source": [
        "arr = np.array([1,2,3,4], ndmin=5)\n",
        "arr.shape"
      ],
      "execution_count": null,
      "outputs": [
        {
          "output_type": "execute_result",
          "data": {
            "text/plain": [
              "(1, 1, 1, 1, 4)"
            ]
          },
          "metadata": {},
          "execution_count": 89
        }
      ]
    },
    {
      "cell_type": "markdown",
      "metadata": {
        "id": "wf4oTAuqxh2u"
      },
      "source": [
        "### Transpose-Like Operations"
      ]
    },
    {
      "cell_type": "code",
      "metadata": {
        "id": "mCkyZR69xh2u",
        "outputId": "396a0b50-483a-454e-8f8e-693447127e9d"
      },
      "source": [
        "first"
      ],
      "execution_count": null,
      "outputs": [
        {
          "data": {
            "text/plain": [
              "array([ 0,  1,  2,  3,  4,  5,  6,  7,  8,  9, 10, 11, 12, 13, 14, 15, 16,\n",
              "       17, 18, 19, 20, 21, 22, 23])"
            ]
          },
          "execution_count": 47,
          "metadata": {},
          "output_type": "execute_result"
        }
      ]
    },
    {
      "cell_type": "code",
      "metadata": {
        "id": "5qgKuQSXxh2u",
        "outputId": "f1dcc557-c98f-453a-bad5-674d4ca5db10"
      },
      "source": [
        "second = first.reshape(3,8)\n",
        "second"
      ],
      "execution_count": null,
      "outputs": [
        {
          "data": {
            "text/plain": [
              "array([[ 0,  1,  2,  3,  4,  5,  6,  7],\n",
              "       [ 8,  9, 10, 11, 12, 13, 14, 15],\n",
              "       [16, 17, 18, 19, 20, 21, 22, 23]])"
            ]
          },
          "execution_count": 48,
          "metadata": {},
          "output_type": "execute_result"
        }
      ]
    },
    {
      "cell_type": "code",
      "metadata": {
        "id": "9knZrv1txh2u",
        "outputId": "d616c817-27ed-44ec-817e-74c052b3abb3"
      },
      "source": [
        "third = second.reshape(2,3,4)\n",
        "third"
      ],
      "execution_count": null,
      "outputs": [
        {
          "data": {
            "text/plain": [
              "array([[[ 0,  1,  2,  3],\n",
              "        [ 4,  5,  6,  7],\n",
              "        [ 8,  9, 10, 11]],\n",
              "\n",
              "       [[12, 13, 14, 15],\n",
              "        [16, 17, 18, 19],\n",
              "        [20, 21, 22, 23]]])"
            ]
          },
          "execution_count": 49,
          "metadata": {},
          "output_type": "execute_result"
        }
      ]
    },
    {
      "cell_type": "code",
      "metadata": {
        "id": "MbP9_48Exh2v",
        "outputId": "050e8667-b8f6-4fe0-f66d-60178605ad27"
      },
      "source": [
        "first_trans = np.transpose(first)\n",
        "first_trans"
      ],
      "execution_count": null,
      "outputs": [
        {
          "data": {
            "text/plain": [
              "array([ 0,  1,  2,  3,  4,  5,  6,  7,  8,  9, 10, 11, 12, 13, 14, 15, 16,\n",
              "       17, 18, 19, 20, 21, 22, 23])"
            ]
          },
          "execution_count": 50,
          "metadata": {},
          "output_type": "execute_result"
        }
      ]
    },
    {
      "cell_type": "code",
      "metadata": {
        "id": "NCGfA11Txh2v",
        "outputId": "1b8704b8-7e7a-4be8-ae92-958fa4d99106"
      },
      "source": [
        "print(first.shape)\n",
        "print(first_trans.shape)"
      ],
      "execution_count": null,
      "outputs": [
        {
          "name": "stdout",
          "output_type": "stream",
          "text": [
            "(24,)\n",
            "(24,)\n"
          ]
        }
      ]
    },
    {
      "cell_type": "code",
      "metadata": {
        "id": "SzbR8TuOxh2v",
        "outputId": "66ee09aa-4a1f-4716-bc03-82ac585d2d03"
      },
      "source": [
        "second_trans = np.transpose(second)\n",
        "second_trans"
      ],
      "execution_count": null,
      "outputs": [
        {
          "data": {
            "text/plain": [
              "array([[ 0,  8, 16],\n",
              "       [ 1,  9, 17],\n",
              "       [ 2, 10, 18],\n",
              "       [ 3, 11, 19],\n",
              "       [ 4, 12, 20],\n",
              "       [ 5, 13, 21],\n",
              "       [ 6, 14, 22],\n",
              "       [ 7, 15, 23]])"
            ]
          },
          "execution_count": 52,
          "metadata": {},
          "output_type": "execute_result"
        }
      ]
    },
    {
      "cell_type": "code",
      "metadata": {
        "id": "QRdWhoPwxh2v",
        "outputId": "f29ac58f-959e-49fa-b4b5-5ccf8206405c"
      },
      "source": [
        "print(second.shape)\n",
        "print(second_trans.shape)"
      ],
      "execution_count": null,
      "outputs": [
        {
          "name": "stdout",
          "output_type": "stream",
          "text": [
            "(3, 8)\n",
            "(8, 3)\n"
          ]
        }
      ]
    },
    {
      "cell_type": "code",
      "metadata": {
        "id": "mxDe5xXQxh2v",
        "outputId": "d2abe39e-f90f-4667-a044-b75971b1b8e1"
      },
      "source": [
        "third"
      ],
      "execution_count": null,
      "outputs": [
        {
          "data": {
            "text/plain": [
              "array([[[ 0,  1,  2,  3],\n",
              "        [ 4,  5,  6,  7],\n",
              "        [ 8,  9, 10, 11]],\n",
              "\n",
              "       [[12, 13, 14, 15],\n",
              "        [16, 17, 18, 19],\n",
              "        [20, 21, 22, 23]]])"
            ]
          },
          "execution_count": 54,
          "metadata": {},
          "output_type": "execute_result"
        }
      ]
    },
    {
      "cell_type": "markdown",
      "metadata": {
        "collapsed": true,
        "id": "RePEBvQuxh2w"
      },
      "source": [
        "### np.transpose(third)"
      ]
    },
    {
      "cell_type": "code",
      "metadata": {
        "id": "ouy2yDdYxh2w",
        "outputId": "f37c1a4e-5514-47c6-cb66-2e3ec653c129"
      },
      "source": [
        "third_trans = np.transpose(third, axes=(0,2,1))\n",
        "third_trans"
      ],
      "execution_count": null,
      "outputs": [
        {
          "data": {
            "text/plain": [
              "array([[[ 0,  4,  8],\n",
              "        [ 1,  5,  9],\n",
              "        [ 2,  6, 10],\n",
              "        [ 3,  7, 11]],\n",
              "\n",
              "       [[12, 16, 20],\n",
              "        [13, 17, 21],\n",
              "        [14, 18, 22],\n",
              "        [15, 19, 23]]])"
            ]
          },
          "execution_count": 55,
          "metadata": {},
          "output_type": "execute_result"
        }
      ]
    },
    {
      "cell_type": "code",
      "metadata": {
        "id": "gbQ3IW4Xxh2w",
        "outputId": "f33c6a36-3cdb-45a3-e6d9-9cd3580ccfdd"
      },
      "source": [
        "print(third.shape)\n",
        "print(third_trans.shape)"
      ],
      "execution_count": null,
      "outputs": [
        {
          "name": "stdout",
          "output_type": "stream",
          "text": [
            "(2, 3, 4)\n",
            "(2, 4, 3)\n"
          ]
        }
      ]
    },
    {
      "cell_type": "markdown",
      "metadata": {
        "id": "1k5bD8ejxh2w"
      },
      "source": [
        "**NOTE:** The axes parameter represents the positioning of the shape of the array. Initially our array is of the **form(shape) (2,3,4)** which means that the inital axes is by default **(0,1,2)**. Transposing it with the **axes = (0,2,1)** implies the transpose function should make our second axis to be third and the third axis to be second, which will in turn return **(2,4,3)**."
      ]
    },
    {
      "cell_type": "markdown",
      "metadata": {
        "id": "VzcPif2Pxh2w"
      },
      "source": [
        ""
      ]
    },
    {
      "cell_type": "markdown",
      "metadata": {
        "id": "Uj7jNfYyxh2w"
      },
      "source": [
        "### Linear Algebra "
      ]
    },
    {
      "cell_type": "markdown",
      "metadata": {
        "id": "N_2LLGxsxh2w"
      },
      "source": [
        "To install the sympy library use the command below:\n",
        "\n",
        "`conda install sympy`"
      ]
    },
    {
      "cell_type": "code",
      "metadata": {
        "id": "-Red9HU-xh2x",
        "outputId": "18be858f-3ca1-4cb6-c235-75ca9edaa396"
      },
      "source": [
        "from sympy import init_session\n",
        "init_session()\n",
        "\n",
        "# SymPy is a Python library for symbolic mathematics\n",
        "\n",
        "# SymPy uses Unicode characters to render output in form of \n",
        "# pretty print. If you are using Python console for executing \n",
        "# SymPy session, the best pretty printing environment is activated \n",
        "# by calling init_session() function."
      ],
      "execution_count": null,
      "outputs": [
        {
          "name": "stdout",
          "output_type": "stream",
          "text": [
            "IPython console for SymPy 1.8 (Python 3.8.8-64-bit) (ground types: python)\n",
            "\n",
            "These commands were executed:\n",
            ">>> from __future__ import division\n",
            ">>> from sympy import *\n",
            ">>> x, y, z, t = symbols('x y z t')\n",
            ">>> k, m, n = symbols('k m n', integer=True)\n",
            ">>> f, g, h = symbols('f g h', cls=Function)\n",
            ">>> init_printing()\n",
            "\n",
            "Documentation can be found at https://docs.sympy.org/1.8/\n",
            "\n"
          ]
        }
      ]
    },
    {
      "cell_type": "code",
      "metadata": {
        "id": "L3qsrIZwxh2x",
        "outputId": "b0899e4e-61c2-490f-bd48-c1d1d79f9b92"
      },
      "source": [
        "diff(x**3)"
      ],
      "execution_count": null,
      "outputs": [
        {
          "data": {
            "image/png": "[encoded data removed]",
            "text/latex": [
              "$\\displaystyle 3 x^{2}$"
            ],
            "text/plain": [
              "   2\n",
              "3⋅x "
            ]
          },
          "execution_count": 58,
          "metadata": {},
          "output_type": "execute_result"
        }
      ]
    },
    {
      "cell_type": "code",
      "metadata": {
        "id": "tyox8JlWxh2x",
        "outputId": "bfdbf611-e8ac-4578-cad6-046bf02166b3"
      },
      "source": [
        "diff(x**3, x, 2)"
      ],
      "execution_count": null,
      "outputs": [
        {
          "data": {
            "image/png": "[encoded data removed]",
            "text/latex": [
              "$\\displaystyle 6 x$"
            ],
            "text/plain": [
              "6⋅x"
            ]
          },
          "execution_count": 59,
          "metadata": {},
          "output_type": "execute_result"
        }
      ]
    },
    {
      "cell_type": "code",
      "metadata": {
        "id": "B6rN5N28xh2x",
        "outputId": "ebe44228-4e84-4e20-d802-d8ddcf92826a"
      },
      "source": [
        "diff((x**2 - 3*x + 5)**3)"
      ],
      "execution_count": null,
      "outputs": [
        {
          "data": {
            "image/png": "[encoded data removed]",
            "text/latex": [
              "$\\displaystyle \\left(6 x - 9\\right) \\left(x^{2} - 3 x + 5\\right)^{2}$"
            ],
            "text/plain": [
              "                        2\n",
              "          ⎛ 2          ⎞ \n",
              "(6⋅x - 9)⋅⎝x  - 3⋅x + 5⎠ "
            ]
          },
          "execution_count": 60,
          "metadata": {},
          "output_type": "execute_result"
        }
      ]
    },
    {
      "cell_type": "code",
      "metadata": {
        "id": "Cd4Fxbvjxh2x",
        "outputId": "513cba86-d137-4422-b79e-077981d1b3a2"
      },
      "source": [
        "diff((x**2 - 3*x + 5)**3, x,2)"
      ],
      "execution_count": null,
      "outputs": [
        {
          "data": {
            "image/png": "[encoded data removed]",
            "text/latex": [
              "$\\displaystyle 6 \\left(x^{2} - 3 x + 5\\right) \\left(x^{2} - 3 x + \\left(2 x - 3\\right)^{2} + 5\\right)$"
            ],
            "text/plain": [
              "  ⎛ 2          ⎞ ⎛ 2                  2    ⎞\n",
              "6⋅⎝x  - 3⋅x + 5⎠⋅⎝x  - 3⋅x + (2⋅x - 3)  + 5⎠"
            ]
          },
          "execution_count": 61,
          "metadata": {},
          "output_type": "execute_result"
        }
      ]
    },
    {
      "cell_type": "code",
      "metadata": {
        "id": "GqHMWL-Bxh2x"
      },
      "source": [
        ""
      ],
      "execution_count": null,
      "outputs": []
    }
  ]
}