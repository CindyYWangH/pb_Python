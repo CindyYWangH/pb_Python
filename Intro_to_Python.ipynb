{
  "nbformat": 4,
  "nbformat_minor": 0,
  "metadata": {
    "kernelspec": {
      "display_name": "Python 3",
      "language": "python",
      "name": "python3"
    },
    "language_info": {
      "codemirror_mode": {
        "name": "ipython",
        "version": 3
      },
      "file_extension": ".py",
      "mimetype": "text/x-python",
      "name": "python",
      "nbconvert_exporter": "python",
      "pygments_lexer": "ipython3",
      "version": "3.7.6"
    },
    "colab": {
      "name": "Intro to Python.ipynb",
      "provenance": [],
      "collapsed_sections": [],
      "include_colab_link": true
    }
  },
  "cells": [
    {
      "cell_type": "markdown",
      "metadata": {
        "id": "view-in-github",
        "colab_type": "text"
      },
      "source": [
        "<a href=\"https://colab.research.google.com/github/CindyYWangH/pb_Python/blob/main/Intro_to_Python.ipynb\" target=\"_parent\"><img src=\"https://colab.research.google.com/assets/colab-badge.svg\" alt=\"Open In Colab\"/></a>"
      ]
    },
    {
      "cell_type": "markdown",
      "metadata": {
        "id": "EEzPX3bu4KXi"
      },
      "source": [
        "##Introduction to Python"
      ]
    },
    {
      "cell_type": "code",
      "metadata": {
        "id": "21NOjXDO0sGT"
      },
      "source": [
        ""
      ],
      "execution_count": null,
      "outputs": []
    },
    {
      "cell_type": "code",
      "metadata": {
        "id": "hnfq0QE-2V1I"
      },
      "source": [
        ""
      ],
      "execution_count": null,
      "outputs": []
    },
    {
      "cell_type": "markdown",
      "metadata": {
        "id": "2oSdcGQm5D7p"
      },
      "source": [
        ""
      ]
    },
    {
      "cell_type": "markdown",
      "metadata": {
        "id": "Yv6v6I744KXn"
      },
      "source": [
        "Python is an open-source (free) programming language that is used in web programming, data science, artificial intelligence, and many scientific applications. It was created by Guido van Rossum, and released in 1991.\n",
        "\n",
        "It's in the top 10 for \"Most Popular\" and \"Most Loved\" technologies (according to StackOverflow's 2016 Developer Survey), making it a relatively friendly language for beginners.\n",
        "\n",
        "Learning Python allows the programmer to focus on solving problems, rather than focusing on syntax. Its relative size and simplified syntax gives it an edge over languages like Java and C++, yet the abundance of libraries gives it the power needed to accomplish great things."
      ]
    },
    {
      "cell_type": "markdown",
      "metadata": {
        "id": "63I3a1Hj4KXo"
      },
      "source": [
        "## Why Python?"
      ]
    },
    {
      "cell_type": "markdown",
      "metadata": {
        "id": "djajn4p34KXp"
      },
      "source": [
        "* Clean syntax\n",
        "* The same code can run on all Operating Systems\n",
        "* Extensive first and third party libraries"
      ]
    },
    {
      "cell_type": "markdown",
      "metadata": {
        "id": "hl_S2ZXj4KXp"
      },
      "source": [
        "## Applications where python can be used"
      ]
    },
    {
      "cell_type": "markdown",
      "metadata": {
        "id": "bNOC9SsN4KXq"
      },
      "source": [
        "Python is used in many application domains.\n",
        "\n",
        "* Web and Internet Development:\n",
        " Python offers many choices for web development.\n",
        " \n",
        "* Scientific and Numeric:\n",
        "Python is widely used in scientific and numeric computing.\n",
        "\n",
        "* Education:\n",
        "Python is a superb language for teaching programming, both at the introductory level and in more advanced courses.\n",
        "\n",
        "* Desktop GUIs:\n",
        "The Tk GUI library is included with most binary distributions of Python.\n",
        "\n",
        "* Business Applications:\n",
        "Python is also used to build ERP and e-commerce systems."
      ]
    },
    {
      "cell_type": "markdown",
      "metadata": {
        "id": "NkMRobfc4KXr"
      },
      "source": [
        "## Python Installation and command line usage"
      ]
    },
    {
      "cell_type": "markdown",
      "metadata": {
        "id": "y4_vSw-d4KXr"
      },
      "source": [
        ""
      ]
    },
    {
      "cell_type": "markdown",
      "metadata": {
        "id": "PzB31U8Q4KXs"
      },
      "source": [
        "* Python Syntax\n",
        "* Python comments\n",
        "* Python Variables\n",
        "* Python Data Types\n",
        "* Python Numbers\n",
        "* Python Casting\n",
        "* Python Strings\n",
        "* Python Boolean\n",
        "* Python Operators\n",
        "* Python User Input\n",
        "* Python conditional (if/else)\n",
        "* Python for loop\n",
        "* Python while loop\n",
        "* Python Iterator\n",
        "* Python Functions\n",
        "* Recursive Functions\n",
        "* Python Lambda function\n",
        "* Recap of what we’ve done last week\n",
        "* Python Modules\n",
        "* Exception Handling\n",
        "* Python Scope\n",
        "* File handling\n",
        "* Reading Files\n",
        "* Writing files\n",
        "* Deleting Files\n",
        "* Python Dates"
      ]
    },
    {
      "cell_type": "markdown",
      "metadata": {
        "id": "LxdqDXaC4KXt"
      },
      "source": [
        "# Python Syntax"
      ]
    },
    {
      "cell_type": "markdown",
      "metadata": {
        "id": "PlAN7Vrd4KXu"
      },
      "source": [
        "### What is Python Syntax?\n",
        "\n",
        "Python syntax of the is the set of rules which defines how a Python program can be written.\n",
        "\n",
        "**Example** –  We have to learn grammar to learn the English language. In the same way, you will need to learn and understand the Python syntax in order to learn the Python language."
      ]
    },
    {
      "cell_type": "markdown",
      "metadata": {
        "id": "VDMBmVYh4KXu"
      },
      "source": [
        "### Example of Python Syntax\n",
        "\n",
        "Python is a popular programming language because of its elegant syntax structure.\n",
        "\n",
        "Let’s take a quick look at a simple Python program to give you an idea of how programming in Python looks like."
      ]
    },
    {
      "cell_type": "code",
      "metadata": {
        "colab": {
          "base_uri": "https://localhost:8080/"
        },
        "id": "XeD4wwh04KXv",
        "outputId": "aacb6459-8518-417f-a9b1-25f9639152b9"
      },
      "source": [
        "#Simple Python Program to see if a user is eligible to vote or not.\n",
        "\n",
        "# getting user’s name \n",
        "print(\"kindly enter your name:\")\n",
        "name = input()  #input is in-built python function\n",
        "\n",
        "# getting user’s age\n",
        "print(\"Kindly enter your age:\")\n",
        "age = int(input())  #converting from string to integer\n",
        "\n",
        "# condition to check if user is eligible or not\n",
        "if( age >= 18 ):\n",
        "    print( name,' is eligible to vote.')\n",
        "else:\n",
        "    print( name,' is not eligible to vote.')"
      ],
      "execution_count": null,
      "outputs": [
        {
          "output_type": "stream",
          "name": "stdout",
          "text": [
            "kindly enter your name:\n",
            "Mary\n",
            "Kindly enter your age:\n",
            "20\n",
            "Mary  is eligible to vote.\n"
          ]
        }
      ]
    },
    {
      "cell_type": "markdown",
      "metadata": {
        "id": "ERdC00WH4KXx"
      },
      "source": [
        " #### Examples of Python Syntax\n",
        " \n",
        "1. Python Line Structure\n",
        "2. Python Multiline Statements\n",
        "3. Python Comments\n",
        "4. Python Docstrings\n",
        "5. Python Indentation\n",
        "6. Python Quotations\n",
        "7. Python Blank Lines\n",
        "8. Python Identifiers\n",
        "9. Python Variables"
      ]
    },
    {
      "cell_type": "markdown",
      "metadata": {
        "id": "qsAlHP7J4KXx"
      },
      "source": [
        "### 1. Python Line Structure\n",
        "\n",
        "Python coding style comprises physical lines as well as logical lines or statements.\n",
        "\n",
        "A physical line in a Python program is a sequence of characters, and the end of the line terminates the line sequence as opposed to some other languages, such as C and C++ where a semi-colon is used to mark the end of the statement. \n",
        "\n",
        "A logical line, on the other hand, is composed of one or more physical lines. The use of a semi-colon is not prohibited in Python, although it’s not mandatory. \n",
        "\n",
        "The NEWLINE token denotes the end of the logical line.\n",
        "\n",
        "**NOTE:**  A logical line that only contains spaces, comments, or tabs are called blank lines and they are ignored by the interpreter."
      ]
    },
    {
      "cell_type": "markdown",
      "metadata": {
        "id": "W-aEYIRI4KXy"
      },
      "source": [
        "### 2. Python Multiline Statements\n",
        "\n",
        "Usually, every Python statement ends with a newline character. However, we can extend it over to multiple lines using **the line continuation character ( \\ )**.\n",
        "\n",
        "And Python gives us two ways to enable multi-line statements in a program."
      ]
    },
    {
      "cell_type": "markdown",
      "metadata": {
        "id": "EmL9VVL34KXy"
      },
      "source": [
        "#### Explicit line continuation\n",
        "\n",
        "When you right away use the line continuation character ( \\ ) to split a statement into multiple lines."
      ]
    },
    {
      "cell_type": "code",
      "metadata": {
        "colab": {
          "base_uri": "https://localhost:8080/"
        },
        "id": "bGlcfxIZZTmQ",
        "outputId": "0ddd4690-e30a-456c-d18a-ffbb1c29e3e6"
      },
      "source": [
        "#One line statement\n",
        "my_list = [10,11, 12,13,14,15]\n",
        "print (my_list)"
      ],
      "execution_count": null,
      "outputs": [
        {
          "output_type": "stream",
          "name": "stdout",
          "text": [
            "[10, 11, 12, 13, 14, 15]\n"
          ]
        }
      ]
    },
    {
      "cell_type": "code",
      "metadata": {
        "colab": {
          "base_uri": "https://localhost:8080/"
        },
        "id": "eBelgeCw4KXy",
        "outputId": "72844910-a633-4f3a-d4c4-ab018c9dd908"
      },
      "source": [
        "# Initializing a list using the multi-line statement\n",
        "\n",
        "my_list = [10,11 \\\n",
        "           ,12,13 \\\n",
        "           ,14,15 \\\n",
        "           ]\n",
        "print(my_list)"
      ],
      "execution_count": null,
      "outputs": [
        {
          "output_type": "stream",
          "name": "stdout",
          "text": [
            "[10, 11, 12, 13, 14, 15]\n"
          ]
        }
      ]
    },
    {
      "cell_type": "code",
      "metadata": {
        "colab": {
          "base_uri": "https://localhost:8080/"
        },
        "id": "yEP5cQBv4KXz",
        "outputId": "7ab72722-5da5-447e-e514-edaa8a7e984c"
      },
      "source": [
        "# Evalulate an expression using a multi-line statement\n",
        "\n",
        "eval ( \\\n",
        " \" 3.5 \\\n",
        " + \\\n",
        "5.5\")"
      ],
      "execution_count": null,
      "outputs": [
        {
          "output_type": "execute_result",
          "data": {
            "text/plain": [
              "9.0"
            ]
          },
          "metadata": {},
          "execution_count": 13
        }
      ]
    },
    {
      "cell_type": "markdown",
      "metadata": {
        "id": "SsCuNJ3I4KXz"
      },
      "source": [
        "#### Implicit line continuation\n",
        "\n",
        "Implicit line continuation is when you split a statement using either of parentheses ( ), brackets [ ] and braces { }. \n",
        "You need to enclose the target statement using the mentioned construct."
      ]
    },
    {
      "cell_type": "code",
      "metadata": {
        "colab": {
          "base_uri": "https://localhost:8080/"
        },
        "id": "2-JerMrCbOif",
        "outputId": "957710ae-26d3-44d9-b7be-3bb615dccbd7"
      },
      "source": [
        "#Does python use BODMAS?\n",
        "#result = 10 + 1 * 5 - 5 / 1 + 1  #Bracket Of Division Multiplication Addition Subtraction \n",
        "result = 10 + 1 * 5 - 5 / 1 + 1   \n",
        "print(result)"
      ],
      "execution_count": null,
      "outputs": [
        {
          "output_type": "stream",
          "name": "stdout",
          "text": [
            "11.0\n"
          ]
        }
      ]
    },
    {
      "cell_type": "code",
      "metadata": {
        "colab": {
          "base_uri": "https://localhost:8080/"
        },
        "id": "E5NxmYxB4KX0",
        "outputId": "49054632-9176-4067-d6ff-d471f9135daf"
      },
      "source": [
        "##**Example**\n",
        "\n",
        "result = (10 + 1 \n",
        "          * 5 - 5 \n",
        "          / 1 + 1)\n",
        "print(result)\n",
        "\n",
        "print(result)"
      ],
      "execution_count": null,
      "outputs": [
        {
          "output_type": "stream",
          "name": "stdout",
          "text": [
            "11.0\n"
          ]
        }
      ]
    },
    {
      "cell_type": "code",
      "metadata": {
        "colab": {
          "base_uri": "https://localhost:8080/"
        },
        "id": "8uYevVItcRko",
        "outputId": "588f1535-243a-499d-8a78-9ddf5101629f"
      },
      "source": [
        "subjects = ['Mathematics', 'English Langauage', 'Agricultural Science']\n",
        "print(subjects)"
      ],
      "execution_count": null,
      "outputs": [
        {
          "output_type": "stream",
          "name": "stdout",
          "text": [
            "['Mathematics', 'English Langauage', 'Agricultural Science']\n"
          ]
        }
      ]
    },
    {
      "cell_type": "code",
      "metadata": {
        "colab": {
          "base_uri": "https://localhost:8080/"
        },
        "id": "X6SlcNbx4KX0",
        "outputId": "68f1e749-18e1-40a9-d4bd-7d33761a292c"
      },
      "source": [
        "##**Example**\n",
        "\n",
        "subjects = [\n",
        "            'Mathematics',\n",
        "            'English Langauage',\n",
        "            'Agricultural Science'\n",
        "            ]\n",
        "\n",
        "print(subjects)"
      ],
      "execution_count": null,
      "outputs": [
        {
          "output_type": "stream",
          "name": "stdout",
          "text": [
            "['Mathematics', 'English Langauage', 'Agricultural Science']\n"
          ]
        }
      ]
    },
    {
      "cell_type": "markdown",
      "metadata": {
        "id": "7_2iD35X4KX1"
      },
      "source": [
        "### 3. Python Comments\n",
        "\n",
        "When writing code in Python, it’s important to make sure that your code can be easily understood by others, hence the use of comments in python. \n",
        "\n",
        "Comments in Python are the lines in the code that are ignored by the compiler during the execution of the program. They enhance the readability of the code and help the programmers and others to understand the code very carefully.\n",
        "\n",
        "\n",
        "\n",
        "#### Comments are generally used for the following purposes: \n",
        "\n",
        "* Code Readability\n",
        "* Explanation of the code or Metadata of the project\n",
        "* Prevent execution of code\n",
        "* To include resources\n",
        "\n",
        "**Comments in Python begin with a hash mark (#) and whitespace character and continue to the end of the line.**"
      ]
    },
    {
      "cell_type": "markdown",
      "metadata": {
        "id": "d1n90GG34KX1"
      },
      "source": [
        "#### Example"
      ]
    },
    {
      "cell_type": "code",
      "metadata": {
        "colab": {
          "base_uri": "https://localhost:8080/"
        },
        "id": "IZqhWken4KX1",
        "outputId": "198ee286-0c94-4770-f389-513f84737dbd"
      },
      "source": [
        "#This is a comment\n",
        "#print(\"Hello, World!\")\n",
        "print(\"Hello World!\")"
      ],
      "execution_count": null,
      "outputs": [
        {
          "output_type": "stream",
          "name": "stdout",
          "text": [
            "Hello World!\n"
          ]
        }
      ]
    },
    {
      "cell_type": "markdown",
      "metadata": {
        "id": "HCF1wfDs4KX1"
      },
      "source": [
        "#### Comments can be placed at the end of a line, and Python will ignore the rest of the line:\n",
        "\n",
        "#### Example"
      ]
    },
    {
      "cell_type": "code",
      "metadata": {
        "colab": {
          "base_uri": "https://localhost:8080/"
        },
        "id": "3GNTSK264KX2",
        "outputId": "a48f2839-a9f7-456c-db67-145d9cf5f259"
      },
      "source": [
        "print(\"Hello, World!\") #This is a comment"
      ],
      "execution_count": null,
      "outputs": [
        {
          "output_type": "stream",
          "name": "stdout",
          "text": [
            "Hello, World!\n"
          ]
        }
      ]
    },
    {
      "cell_type": "markdown",
      "metadata": {
        "id": "xDcVmGqs4KX2"
      },
      "source": [
        "#### A comment does not have to be text that explains the code, it can also be used to prevent Python from executing code:\n",
        "\n",
        "#### Example"
      ]
    },
    {
      "cell_type": "code",
      "metadata": {
        "colab": {
          "base_uri": "https://localhost:8080/"
        },
        "id": "-_1RHkBG4KX2",
        "outputId": "da4af56d-0f12-4b8b-ecf3-d8e3409fe883"
      },
      "source": [
        "print(\"Hello, World!\")\n",
        "#print(\"Cheers, Mate!\")"
      ],
      "execution_count": null,
      "outputs": [
        {
          "output_type": "stream",
          "name": "stdout",
          "text": [
            "Hello, World!\n"
          ]
        }
      ]
    },
    {
      "cell_type": "markdown",
      "metadata": {
        "id": "SiFNIw8S4KX2"
      },
      "source": [
        "#### Types of Comments in Python\n",
        "\n",
        "There are two main kinds of comments in Python. They are: \n",
        "\n",
        "**1. Single line comment:** \n",
        "In Python, we use the hash symbol **#** to write a single-line comment.\n",
        "\n",
        "All the examples sited above are examples of single line comments."
      ]
    },
    {
      "cell_type": "markdown",
      "metadata": {
        "id": "7PLrlzHM4KX3"
      },
      "source": [
        "**2. Multiple line comment:**\n",
        "\n",
        "Python doesn't offer a separate way to write multiline comments. However, there are other ways to get around this issue.\n",
        "\n",
        "**We can use # at the beginning of each line of comment on multiple lines.**"
      ]
    },
    {
      "cell_type": "code",
      "metadata": {
        "id": "waak86b44KX3"
      },
      "source": [
        "# We can use # at the beginning of each line of comment on multiple lines.\n",
        "# We can use # at the beginning of each line of comment on multiple lines.\n",
        "# We can use # at the beginning of each line of comment on multiple lines.\n",
        "# We can use # at the beginning of each line of comment on multiple lines.\n",
        "\n",
        "print('This is an example of a multiple line comment')\n",
        "\n",
        "# Here, each line is treated as a single comment and all of them are ignored."
      ],
      "execution_count": null,
      "outputs": []
    },
    {
      "cell_type": "markdown",
      "metadata": {
        "id": "ZH9qKpIv4KX3"
      },
      "source": [
        "We can also use multiline strings (triple quotes) to write multiline comments.\n",
        "\n",
        "The quotation character can either be **'** or **\"**."
      ]
    },
    {
      "cell_type": "code",
      "metadata": {
        "colab": {
          "base_uri": "https://localhost:8080/",
          "height": 71
        },
        "id": "_4It0axn4KX4",
        "outputId": "a191e6f1-3e94-4513-cd65-7b6666bd4cd7"
      },
      "source": [
        "'''\n",
        "Comments in Python are the lines in the code that are ignored by the compiler during the execution of the program. \n",
        "They enhance the readability of the code and help the programmers and others to understand the code very carefully.\n",
        "\n",
        "\n",
        "print('This is an example of a multiple line comment')\n",
        "\n",
        "'''"
      ],
      "execution_count": null,
      "outputs": [
        {
          "output_type": "execute_result",
          "data": {
            "application/vnd.google.colaboratory.intrinsic+json": {
              "type": "string"
            },
            "text/plain": [
              "\"\\nComments in Python are the lines in the code that are ignored by the compiler during the execution of the program. \\nThey enhance the readability of the code and help the programmers and others to understand the code very carefully.\\n\\n\\nprint('This is an example of a multiple line comment')\\n\\n\""
            ]
          },
          "metadata": {},
          "execution_count": 25
        }
      ]
    },
    {
      "cell_type": "markdown",
      "metadata": {
        "id": "K_EVRzHV4KX4"
      },
      "source": [
        "### 4. Python Docstrings\n",
        "\n",
        "\n",
        "Python has a built-in concept called docstrings, which is a great way to associate documentation you've written with Python modules, functions, classes, and methods. A docstring is added as a comment right below the function, module, or object head, and describes what the function, module, or object does. **It is expected to follow these rules:**\n",
        "\n",
        "* A docstring is either a single line, or a multi-line comment. In the latter case, the first line is a short description, and after the first line an empty line follows.\n",
        "\n",
        "* Begin the docstring with a capital letter, and end it with a period."
      ]
    },
    {
      "cell_type": "markdown",
      "metadata": {
        "id": "m1oWsGOy4KX4"
      },
      "source": [
        "#### This is a basic example of what it looks like:"
      ]
    },
    {
      "cell_type": "code",
      "metadata": {
        "id": "vJII41eD4KX5"
      },
      "source": [
        "def multiply(value1, value2):\n",
        "    \"\"\"Calculate the product of value1 and value2.\"\"\"\n",
        "    return value1 * value2"
      ],
      "execution_count": null,
      "outputs": []
    },
    {
      "cell_type": "code",
      "metadata": {
        "colab": {
          "base_uri": "https://localhost:8080/"
        },
        "id": "5SKWfVLg4KX5",
        "outputId": "520bd827-218e-4aee-e218-2a13dede1f3d"
      },
      "source": [
        "multiply(5, 7)"
      ],
      "execution_count": null,
      "outputs": [
        {
          "output_type": "execute_result",
          "data": {
            "text/plain": [
              "35"
            ]
          },
          "metadata": {},
          "execution_count": 35
        }
      ]
    },
    {
      "cell_type": "markdown",
      "metadata": {
        "id": "2LrZT1o24KX5"
      },
      "source": [
        "**In the Python interactive help system, the docstring is then made available via the __doc__ attribute.**"
      ]
    },
    {
      "cell_type": "code",
      "metadata": {
        "colab": {
          "base_uri": "https://localhost:8080/"
        },
        "id": "OkvfuJsj4KX5",
        "outputId": "dffcc747-dac3-44c3-da07-81560f2c3e35"
      },
      "source": [
        "print (multiply.__doc__)"
      ],
      "execution_count": null,
      "outputs": [
        {
          "output_type": "stream",
          "name": "stdout",
          "text": [
            "Calculate the product of value1 and value2.\n"
          ]
        }
      ]
    },
    {
      "cell_type": "markdown",
      "metadata": {
        "id": "5Vk2NkIA4KX6"
      },
      "source": [
        "### 5. Python Indentation\n",
        "\n",
        "Indentation refers to the spaces at the beginning of a code line.\n",
        "\n",
        "Where in other programming languages the indentation in code is for readability only, the indentation in Python is very important.\n",
        "\n",
        "Python uses indentation to indicate a block of code. A block of code refers to a collection of code that is in the same block or indent.\n",
        "\n",
        "Indentation is a very important concept of Python because without proper indenting the Python code, you will end up seeing ***IndentationError*** and the code will not get compiled.\n",
        "\n",
        "**Generally, four whitespaces are used for indentation or a tabs. Here is an example.**"
      ]
    },
    {
      "cell_type": "markdown",
      "metadata": {
        "id": "s3f3CgMP4KX6"
      },
      "source": [
        "#### Example"
      ]
    },
    {
      "cell_type": "code",
      "metadata": {
        "colab": {
          "base_uri": "https://localhost:8080/"
        },
        "id": "8gbj7w9RVK0V",
        "outputId": "43662d62-2a96-4422-8499-efe992653a7b"
      },
      "source": [
        "#\n",
        "if 100==100:\n",
        "  print (\"Hundred is equal to hundred\")"
      ],
      "execution_count": null,
      "outputs": [
        {
          "output_type": "stream",
          "name": "stdout",
          "text": [
            "Hundred is equal to hundred\n"
          ]
        }
      ]
    },
    {
      "cell_type": "code",
      "metadata": {
        "id": "JQ0VZvIN4KX6"
      },
      "source": [
        "for i in range(1,11):\n",
        "    print(i)\n",
        "\n",
        "    if i == 5:\n",
        "        break"
      ],
      "execution_count": null,
      "outputs": []
    },
    {
      "cell_type": "markdown",
      "metadata": {
        "id": "R-lUJmOm4KX6"
      },
      "source": [
        "### 6. Python Quotations\n",
        "\n",
        "Python string functions are very popular. There are two ways to represent strings in python. String is enclosed either with single quotes or double quotes. \n",
        "Both ways (single or double quotes) are correct depending upon the requirement. Sometimes we have to use quotes (single or double quotes) together in the same string, in such cases, we use single and double quotes alternatively so that they can be distinguished."
      ]
    },
    {
      "cell_type": "markdown",
      "metadata": {
        "id": "RMcGjHwp4KX6"
      },
      "source": [
        "**Basic Usage**\n",
        "\n",
        "The most common use of single and double quotes is to represent strings by enclosing a series of characters. As shown in the code below, we create these two strings using single and double quotes, respectively."
      ]
    },
    {
      "cell_type": "code",
      "metadata": {
        "colab": {
          "base_uri": "https://localhost:8080/"
        },
        "id": "wdu7FJeZ4KX7",
        "outputId": "4645ee30-9975-4ac8-b537-39eb5b91f41c"
      },
      "source": [
        "quotes_single = 'a_string'\n",
        "quotes_double = \"a_string\"\n",
        "quotes_single == quotes_double"
      ],
      "execution_count": null,
      "outputs": [
        {
          "output_type": "execute_result",
          "data": {
            "text/plain": [
              "True"
            ]
          },
          "metadata": {},
          "execution_count": 40
        }
      ]
    },
    {
      "cell_type": "markdown",
      "metadata": {
        "id": "A_pMOeb24KX7"
      },
      "source": [
        "As you notice, the strings created by using single and double quotes are the same. In other words, we can use single and double quotes interchangeably when we declare a string. However, it should be noted that we don’t want to mix them as it’s a syntactical error."
      ]
    },
    {
      "cell_type": "code",
      "metadata": {
        "colab": {
          "base_uri": "https://localhost:8080/",
          "height": 132
        },
        "id": "oWu3w0We4KX7",
        "outputId": "d7cc52a3-ebfa-4d9c-e7a9-34562cdf3fdd"
      },
      "source": [
        "\"mixed quotes'"
      ],
      "execution_count": null,
      "outputs": [
        {
          "output_type": "error",
          "ename": "SyntaxError",
          "evalue": "ignored",
          "traceback": [
            "\u001b[0;36m  File \u001b[0;32m\"<ipython-input-41-50a8120c3464>\"\u001b[0;36m, line \u001b[0;32m1\u001b[0m\n\u001b[0;31m    \"mixed quotes'\u001b[0m\n\u001b[0m                  ^\u001b[0m\n\u001b[0;31mSyntaxError\u001b[0m\u001b[0;31m:\u001b[0m EOL while scanning string literal\n"
          ]
        }
      ]
    },
    {
      "cell_type": "code",
      "metadata": {
        "colab": {
          "base_uri": "https://localhost:8080/",
          "height": 132
        },
        "id": "BLYyjQIS4KX7",
        "outputId": "14bfc785-1cec-4907-b11c-1e6e5f0d235a"
      },
      "source": [
        "'mixed quotes\""
      ],
      "execution_count": null,
      "outputs": [
        {
          "output_type": "error",
          "ename": "SyntaxError",
          "evalue": "ignored",
          "traceback": [
            "\u001b[0;36m  File \u001b[0;32m\"<ipython-input-42-b2d30ba43f7d>\"\u001b[0;36m, line \u001b[0;32m1\u001b[0m\n\u001b[0;31m    'mixed quotes\"\u001b[0m\n\u001b[0m                  ^\u001b[0m\n\u001b[0;31mSyntaxError\u001b[0m\u001b[0;31m:\u001b[0m EOL while scanning string literal\n"
          ]
        }
      ]
    },
    {
      "cell_type": "markdown",
      "metadata": {
        "id": "LYnbUdtG4KX8"
      },
      "source": [
        "**Escaping Behaviors**\n",
        "\n",
        "Like other programming languages, when a string contains special characters like quotes, we need to escape them. An example of failing to escape is shown below."
      ]
    },
    {
      "cell_type": "code",
      "metadata": {
        "colab": {
          "base_uri": "https://localhost:8080/",
          "height": 35
        },
        "id": "MEI_sF7Fz3Y6",
        "outputId": "007aab40-9821-43fc-d1ea-c1826e875901"
      },
      "source": [
        "'It\\'s a bad example'"
      ],
      "execution_count": null,
      "outputs": [
        {
          "output_type": "execute_result",
          "data": {
            "application/vnd.google.colaboratory.intrinsic+json": {
              "type": "string"
            },
            "text/plain": [
              "\"It's a bad example\""
            ]
          },
          "metadata": {},
          "execution_count": 46
        }
      ]
    },
    {
      "cell_type": "code",
      "metadata": {
        "id": "DCZFczjs4KX8"
      },
      "source": [
        "'It's a bad example.'"
      ],
      "execution_count": null,
      "outputs": []
    },
    {
      "cell_type": "markdown",
      "metadata": {
        "id": "yJNgF7jd4KX8"
      },
      "source": [
        "How can we fix this error? One is to escape the single quote by placing a backslash before it. The other is to use double quotes instead of single quotes as the enclosing quotes. Both ways are shown below."
      ]
    },
    {
      "cell_type": "code",
      "metadata": {
        "id": "TcL-dxKO4KX8"
      },
      "source": [
        "'It\\'s a good example.'"
      ],
      "execution_count": null,
      "outputs": []
    },
    {
      "cell_type": "code",
      "metadata": {
        "id": "on2_aqSC4KX8"
      },
      "source": [
        "\"It's a good example.\""
      ],
      "execution_count": null,
      "outputs": []
    },
    {
      "cell_type": "markdown",
      "metadata": {
        "id": "G7R3lvXu4KX9"
      },
      "source": [
        "Similarly, if the string contains double quotes, we can use single quotes to represent the string such that we don’t have to escape the double quotes. An example is given below."
      ]
    },
    {
      "cell_type": "code",
      "metadata": {
        "id": "WW1vsEZn4KX9"
      },
      "source": [
        "'She said, \"Thank you!\"'"
      ],
      "execution_count": null,
      "outputs": []
    },
    {
      "cell_type": "markdown",
      "metadata": {
        "id": "E69ZC8uh4KX9"
      },
      "source": [
        "**NOTE:** Always make use of single quotes when you know your string may contain double quotes within.\n",
        "    \n",
        "**NOTE:** Use double quotes to enclose your strings when you know there are going to be single quotes within your string"
      ]
    },
    {
      "cell_type": "markdown",
      "metadata": {
        "id": "HLrZHqOK4KX9"
      },
      "source": [
        "**However, if there are both single and double quotes in the string, it’s a syntactical error if you don’t escape the quotes that are the same as the enclosing ones used by the entire string.**"
      ]
    },
    {
      "cell_type": "code",
      "metadata": {
        "id": "NqGCWUWf4KX9"
      },
      "source": [
        "print('She said, \"Thank you! It's mine.\"')"
      ],
      "execution_count": null,
      "outputs": []
    },
    {
      "cell_type": "code",
      "metadata": {
        "id": "KUaVXWqQ4KX-"
      },
      "source": [
        "print('She said, \"Thank you! It's mine.\"')"
      ],
      "execution_count": null,
      "outputs": []
    },
    {
      "cell_type": "code",
      "metadata": {
        "id": "fH8ajxTg4KX-"
      },
      "source": [
        "print('She said, \"Thank you! It\\'s mine.')"
      ],
      "execution_count": null,
      "outputs": []
    },
    {
      "cell_type": "markdown",
      "metadata": {
        "id": "8C5kne6W4KX-"
      },
      "source": [
        "**Triple Quotes**\n",
        "\n",
        "**Enclosing Strings Containing Single and Double Quotes**\n",
        "\n",
        "As mentioned at the end of the above section, we need to escape single or double quotes depending on what enclosing quotes the string uses. Actually, we can use triple quotes (i.e., triplet of single quotes or triplet double quotes) to represent the strings containing both single and double quotes to eliminate the need of escaping any."
      ]
    },
    {
      "cell_type": "code",
      "metadata": {
        "id": "J8hmToeV4KX-"
      },
      "source": [
        "print('''She said, \"Thank you! It's mine.\"''')"
      ],
      "execution_count": null,
      "outputs": []
    },
    {
      "cell_type": "markdown",
      "metadata": {
        "id": "v6t3oKT74KX-"
      },
      "source": [
        "It should be noted that when a string starts or ends with a single or double quote and we want to use the triple quotes for the string, we need to use the ones that differ from the starting or ending one. For example, for the string in the above code snippet, using triple double quotes would result in a syntactical error. In this case, we want to use the triple single quotes as above."
      ]
    },
    {
      "cell_type": "code",
      "metadata": {
        "id": "V_H9YWZk4KX_"
      },
      "source": [
        ">>> print(\"\"\"She said, \"Thank you! It's mine.\"\"\"\")"
      ],
      "execution_count": null,
      "outputs": []
    },
    {
      "cell_type": "markdown",
      "metadata": {
        "id": "Riblg2BF4KX_"
      },
      "source": [
        "### 7. Python Blank Lines"
      ]
    },
    {
      "cell_type": "code",
      "metadata": {
        "colab": {
          "base_uri": "https://localhost:8080/"
        },
        "id": "NBgDpIlc4KX_",
        "outputId": "bad185d4-3e52-4312-f83f-413c09381b9e"
      },
      "source": [
        "#using print() for empty lines\n",
        " \n",
        "str = 'latracal Solutions'\n",
        "s = 'is the best website'\n",
        " \n",
        "print(str)\n",
        "print()\n",
        "print(s)"
      ],
      "execution_count": null,
      "outputs": [
        {
          "output_type": "stream",
          "name": "stdout",
          "text": [
            "latracal Solutions\n",
            "\n",
            "is the best website\n"
          ]
        }
      ]
    },
    {
      "cell_type": "code",
      "metadata": {
        "colab": {
          "base_uri": "https://localhost:8080/"
        },
        "id": "xtELAYDp1Bgc",
        "outputId": "91874b77-c5c2-4e97-e45c-d534d81e42d8"
      },
      "source": [
        "print()"
      ],
      "execution_count": null,
      "outputs": [
        {
          "output_type": "stream",
          "name": "stdout",
          "text": [
            "\n"
          ]
        }
      ]
    },
    {
      "cell_type": "code",
      "metadata": {
        "id": "mVzAquOJ4KYA"
      },
      "source": [
        "#using print() with single quotes for empty lines\n",
        " \n",
        "str = 'latracal'\n",
        "s = 'solutions'\n",
        " \n",
        "print(str)\n",
        "print('')\n",
        "print(s)"
      ],
      "execution_count": null,
      "outputs": []
    },
    {
      "cell_type": "code",
      "metadata": {
        "id": "MzQATcNB4KYA"
      },
      "source": [
        "#using print() with double quotes for empty lines\n",
        " \n",
        "str = 'latracal'\n",
        "s = 'solutions'\n",
        " \n",
        "print(str)\n",
        "print(\"\")\n",
        "print(s)"
      ],
      "execution_count": null,
      "outputs": []
    },
    {
      "cell_type": "markdown",
      "metadata": {
        "id": "PZQsdUbw4KYA"
      },
      "source": [
        "**2. Using Print() function with a newline character To Print Blank Line In Python**\n",
        "\n",
        "In this example, we will be using print() with having a newline character in them to print the empty line between the two given lines. The newline character is denoted by n. The newline character can be written in single and double quotes according to your preference. Let us look at the example for a better understanding of the concept:"
      ]
    },
    {
      "cell_type": "code",
      "metadata": {
        "id": "VEwPC8vN4KYA"
      },
      "source": [
        "#using print() with newline character for empty lines\n",
        " \n",
        "str = 'latracal'\n",
        "s = 'solutions'\n",
        " \n",
        "print(str,\"\\n\")\n",
        "print(s)"
      ],
      "execution_count": null,
      "outputs": []
    },
    {
      "cell_type": "markdown",
      "metadata": {
        "id": "SzATGx454KYA"
      },
      "source": [
        "**5. Printing multiple blank lines**\n",
        "\n",
        "**A. Using multiplication operator**\n",
        "\n",
        "In this example, we will be using the print() function with the newline character and '*' operator, who can produce multiple blank lines between the two give lines. The newline character is denoted by \\n. Let us look at the example for a better understanding of the concept:"
      ]
    },
    {
      "cell_type": "code",
      "metadata": {
        "id": "xTy8ZdVr4KYB"
      },
      "source": [
        "#using print() with newline character with * for multiple empty lines\n",
        " \n",
        "str = 'latracal'\n",
        "s = 'solutions'\n",
        " \n",
        "print(str)\n",
        "print(5 * \"\\n\")\n",
        "print(s)"
      ],
      "execution_count": null,
      "outputs": []
    },
    {
      "cell_type": "markdown",
      "metadata": {
        "id": "9BJOBfk54KYB"
      },
      "source": [
        "**B. Using multiple times newline character to print blank line in Python**\n",
        "\n",
        "In this example, we will be using the print() function with the newline character multiple times to produce multiple blank lines between the two give lines. The newline character is denoted by n. Let us look at the example for a better understanding of the concept:"
      ]
    },
    {
      "cell_type": "code",
      "metadata": {
        "id": "nrwb9SO24KYB"
      },
      "source": [
        "#using print() with newline character writing multiple times to print multiple empty lines\n",
        " \n",
        "str = 'latracal'\n",
        "s = 'solutions'\n",
        " \n",
        "print(str)\n",
        "print(\"\\n\\n\\n\\n\\n\\n\")\n",
        "print(s)"
      ],
      "execution_count": null,
      "outputs": []
    },
    {
      "cell_type": "markdown",
      "metadata": {
        "id": "2EDHtNhX4KYB"
      },
      "source": [
        "### 7. Python Identifiers and Keywords"
      ]
    },
    {
      "cell_type": "markdown",
      "metadata": {
        "id": "9jQwMnn84KYB"
      },
      "source": [
        "#### Python Keywords\n",
        "The keywords are some predefined and reserved words in python that have special meanings.\n",
        "\n",
        "We cannot use a keyword as a variable name, function name or any other identifier. They are used to define the syntax and structure of the Python language.\n",
        "\n",
        "**In Python, keywords are case sensitive.**\n",
        "\n",
        "There are 35 keywords in Python. This number can vary slightly over the course of time.\n",
        "\n",
        "**All the keywords except True, False and None are in lowercase and they must be written as they are.** "
      ]
    },
    {
      "cell_type": "code",
      "metadata": {
        "colab": {
          "base_uri": "https://localhost:8080/"
        },
        "id": "uVPow2KJ4KYC",
        "outputId": "58c00f3f-3dc2-4e60-a94c-d193659507e5"
      },
      "source": [
        "import keyword\n",
        "print(keyword.kwlist)"
      ],
      "execution_count": null,
      "outputs": [
        {
          "output_type": "stream",
          "name": "stdout",
          "text": [
            "['False', 'None', 'True', 'and', 'as', 'assert', 'async', 'await', 'break', 'class', 'continue', 'def', 'del', 'elif', 'else', 'except', 'finally', 'for', 'from', 'global', 'if', 'import', 'in', 'is', 'lambda', 'nonlocal', 'not', 'or', 'pass', 'raise', 'return', 'try', 'while', 'with', 'yield']\n"
          ]
        }
      ]
    },
    {
      "cell_type": "markdown",
      "metadata": {
        "id": "C3pyi_ep4KYC"
      },
      "source": [
        "**List of key words in Python**"
      ]
    },
    {
      "cell_type": "code",
      "metadata": {
        "id": "X1qdZ5D04KYC"
      },
      "source": [
        "len(keyword.kwlist)"
      ],
      "execution_count": null,
      "outputs": []
    },
    {
      "cell_type": "markdown",
      "metadata": {
        "id": "Amud4n2r4KYC"
      },
      "source": [
        "#### Python Identifiers\n",
        "An identifier is a name given to entities like class, functions, variables, etc. It helps to differentiate one entity from another."
      ]
    },
    {
      "cell_type": "markdown",
      "metadata": {
        "id": "8zrQlj8q4KYC"
      },
      "source": [
        "#### Rules for writing identifiers\n",
        "\n",
        "**1.** Identifiers can be a combination of letters in lowercase (a to z) or uppercase (A to Z) or digits (0 to 9) or an underscore _. Names like myClass, var_1 and print_this_to_screen, all are valid example.\n",
        "\n",
        "**2.** An identifier cannot start with a digit. 1variable is invalid, but variable1 is a valid name.\n",
        "\n",
        "**3.** Keywords cannot be used as identifiers."
      ]
    },
    {
      "cell_type": "code",
      "metadata": {
        "id": "ZuQjiKoS4KYC"
      },
      "source": [
        "global = 1"
      ],
      "execution_count": null,
      "outputs": []
    },
    {
      "cell_type": "markdown",
      "metadata": {
        "id": "K8-JSehw4KYD"
      },
      "source": [
        "**4.** We cannot use special symbols like !, @, #, $, % etc. in our identifier."
      ]
    },
    {
      "cell_type": "code",
      "metadata": {
        "id": "XLRlAq6_4KYD"
      },
      "source": [
        "a@ = 0"
      ],
      "execution_count": null,
      "outputs": []
    },
    {
      "cell_type": "markdown",
      "metadata": {
        "id": "VM99vxje4KYD"
      },
      "source": [
        "**5.**  An identifier can be of any length."
      ]
    },
    {
      "cell_type": "markdown",
      "metadata": {
        "id": "-TsYnPHh4KYD"
      },
      "source": [
        "#### Things to Remember in naming Identifiers\n",
        "\n",
        "Python is a case-sensitive language. This means, **Variable** and **variable** are not the same.\n",
        "\n",
        "Always give the identifiers a name that makes sense. **while c = 10** is a valid name, **writing count = 10** would make more sense, and it would be easier to figure out what it represents when you look at your code after a long gap.\n",
        "\n",
        "**Multiple words can be separated using an underscore, like this_is_a_long_variable.**"
      ]
    },
    {
      "cell_type": "markdown",
      "metadata": {
        "id": "DBuLD7ks4KYD"
      },
      "source": [
        "### 9. Python Variable\n",
        "\n",
        "Sometimes variable and identifier are often misunderstood as same but they are not. Well for clarity, let’s see what is a variable?\n",
        "\n",
        "#### What is a Variable in Python?\n",
        "A variable, as the name indicates is something whose value is changeable over time. In fact a variable is a memory location where a value can be stored. Later we can retrieve the value to use. But for doing it we need to give a nickname to that memory location so that we can refer to it. **That’s identifier, the nickname.**\n",
        "\n",
        "**A variable is a container for a value.**\n",
        "\n",
        "**To create a variable, you just assign it a value and then start using it. Assignment is done with a single equals sign (=):**"
      ]
    },
    {
      "cell_type": "code",
      "metadata": {
        "id": "O6qKo-wG4KYE"
      },
      "source": [
        "fruit1, fruit2, fruit3 = 'apple', 'pineapple', 'orange'\n"
      ],
      "execution_count": null,
      "outputs": []
    },
    {
      "cell_type": "code",
      "metadata": {
        "colab": {
          "base_uri": "https://localhost:8080/"
        },
        "id": "XCN5eu1o4KYE",
        "outputId": "fa4f2b71-701a-49bb-b947-9075ed97c7ec"
      },
      "source": [
        "print(fruit1)\n",
        "print(fruit2)\n",
        "print(fruit3)"
      ],
      "execution_count": null,
      "outputs": [
        {
          "output_type": "stream",
          "name": "stdout",
          "text": [
            "apple         \n",
            " pineapple\n",
            "orange\n"
          ]
        }
      ]
    },
    {
      "cell_type": "code",
      "metadata": {
        "colab": {
          "base_uri": "https://localhost:8080/"
        },
        "id": "v2YblIf16cyM",
        "outputId": "4acbedf4-1f8c-4339-c7c8-17710667dab3"
      },
      "source": [
        "fruit1 = 'apple'\n",
        "fruit2 = ' pineapple'\n",
        "print (type(fruit1))"
      ],
      "execution_count": null,
      "outputs": [
        {
          "output_type": "stream",
          "name": "stdout",
          "text": [
            "<class 'str'>\n"
          ]
        }
      ]
    },
    {
      "cell_type": "code",
      "metadata": {
        "colab": {
          "base_uri": "https://localhost:8080/"
        },
        "id": "DD7f_A6K7qvn",
        "outputId": "13245a89-818d-43b9-899f-2f2070896c93"
      },
      "source": [
        "fruit= ['apple', 'pineapple', 'orange', 'water melon']\n",
        "print (fruit)"
      ],
      "execution_count": null,
      "outputs": [
        {
          "output_type": "stream",
          "name": "stdout",
          "text": [
            "['apple', 'pineapple', 'orange', 'water melon']\n"
          ]
        }
      ]
    },
    {
      "cell_type": "markdown",
      "metadata": {
        "id": "7rLwnT0t4KYE"
      },
      "source": [
        "**Variable uses last memory that is, if you Later change the value of *nick* and use it again, the new value will be substituted instead:**"
      ]
    },
    {
      "cell_type": "code",
      "metadata": {
        "id": "XBrYsprc4KYF"
      },
      "source": [
        "nick = 35000"
      ],
      "execution_count": null,
      "outputs": []
    },
    {
      "cell_type": "code",
      "metadata": {
        "id": "KpWjbuIY4KYF"
      },
      "source": [
        "print(nick)"
      ],
      "execution_count": null,
      "outputs": []
    },
    {
      "cell_type": "code",
      "metadata": {
        "id": "IaRUUrFe4KYF"
      },
      "source": [
        "# note: you can either print or call a variable\n",
        "nick  #this is calling a variable name"
      ],
      "execution_count": null,
      "outputs": []
    },
    {
      "cell_type": "markdown",
      "metadata": {
        "id": "k5Isn9VW4KYG"
      },
      "source": [
        "**Note:** **All the rules for writing Identifiers applies to writing a variable**"
      ]
    },
    {
      "cell_type": "markdown",
      "metadata": {
        "id": "gKzc4V6a4KYF"
      },
      "source": [
        "**Python also allows chained assignment, which makes it possible to assign the same value to several variables simultaneously:**"
      ]
    },
    {
      "cell_type": "code",
      "metadata": {
        "id": "1jeL1gF94KYF"
      },
      "source": [
        "arc = bag = cap = 3000\n",
        "print(arc, bag, cap)"
      ],
      "execution_count": null,
      "outputs": []
    },
    {
      "cell_type": "code",
      "metadata": {
        "colab": {
          "base_uri": "https://localhost:8080/"
        },
        "id": "Yffz8waJ9hta",
        "outputId": "0166563d-2da3-44dc-a8ea-46848ac92789"
      },
      "source": [
        "#chained assignment\n",
        "x=y=z=\"Apple\"\n",
        "print (x)\n",
        "print (y)\n",
        "print (z)"
      ],
      "execution_count": null,
      "outputs": [
        {
          "output_type": "stream",
          "name": "stdout",
          "text": [
            "Apple\n",
            "Apple\n",
            "Apple\n"
          ]
        }
      ]
    },
    {
      "cell_type": "markdown",
      "metadata": {
        "id": "2OGl6-_q41ae"
      },
      "source": [
        "#### Exercise - Assigning variables\n",
        "Assign variable for any 3 color of your choice and print them"
      ]
    },
    {
      "cell_type": "markdown",
      "metadata": {
        "id": "gg6UlCgE4KYG"
      },
      "source": [
        "### 10. Python String Formatters"
      ]
    },
    {
      "cell_type": "markdown",
      "metadata": {
        "id": "C-fib3AX4KYG"
      },
      "source": [
        "# Python Data Types"
      ]
    },
    {
      "cell_type": "markdown",
      "metadata": {
        "id": "jsWNc_dQ4KYG"
      },
      "source": [
        "Data types are an essential concept in the python programming language. In Python, every value has its own python data type. \n",
        "\n",
        "The classification of data items or to put the data value into some sort of data category is called **Data Types**. It helps to understand what kind of operations can be performed on a value."
      ]
    },
    {
      "cell_type": "markdown",
      "metadata": {
        "id": "S52-a_bO4KYH"
      },
      "source": [
        "Python has the following data types built-in by default, in these categories:\n",
        "\n",
        "* **Text Type:**\t  string (str)\n",
        "* **Numeric Types:**\t integer (int), float, complex\n",
        "* **Sequence Types:**\t list, tuple, range\n",
        "* **Mapping Type:**\t  dictionary (dict)\n",
        "* **Set Types:**\tset, frozenset\n",
        "* **Boolean Type:**\t  bool\n",
        "* **Binary Types:**  bytes, bytearray, memoryview"
      ]
    },
    {
      "cell_type": "markdown",
      "metadata": {
        "id": "VbeLmsXS4KYI"
      },
      "source": [
        "### Getting the Data Type\n",
        "You can get the data type of any object by using the type() function:"
      ]
    },
    {
      "cell_type": "markdown",
      "metadata": {
        "id": "IW2ifwVH4KYI"
      },
      "source": [
        "#### Examples\n",
        "Print the data type of the following variables:"
      ]
    },
    {
      "cell_type": "code",
      "metadata": {
        "colab": {
          "base_uri": "https://localhost:8080/"
        },
        "id": "-db3C6_g4KYI",
        "outputId": "b4c78202-3d88-497d-ae6a-6daf65055243"
      },
      "source": [
        "x = 509\n",
        "print(type(x))"
      ],
      "execution_count": null,
      "outputs": [
        {
          "output_type": "stream",
          "name": "stdout",
          "text": [
            "<class 'int'>\n"
          ]
        }
      ]
    },
    {
      "cell_type": "code",
      "metadata": {
        "colab": {
          "base_uri": "https://localhost:8080/"
        },
        "id": "sQfLrnT74KYI",
        "outputId": "d1f49eee-a0b6-4a6b-aaca-ac61e885f479"
      },
      "source": [
        "y = \"I love Python\"\n",
        "print(type(y))"
      ],
      "execution_count": null,
      "outputs": [
        {
          "output_type": "stream",
          "name": "stdout",
          "text": [
            "<class 'str'>\n"
          ]
        }
      ]
    },
    {
      "cell_type": "markdown",
      "metadata": {
        "id": "Yb2FMk9T4KYJ"
      },
      "source": [
        "### Setting the Data Type\n",
        "In Python, the data type is set when you assign a value to a variable:"
      ]
    },
    {
      "cell_type": "code",
      "metadata": {
        "id": "hMnzJvnQW9Ot"
      },
      "source": [
        "a = \"Hello World\"\n",
        "print(type(a))"
      ],
      "execution_count": null,
      "outputs": []
    },
    {
      "cell_type": "code",
      "metadata": {
        "id": "K9Mo0ihyW_kL"
      },
      "source": [
        "c = 20\n",
        "print(type(c))"
      ],
      "execution_count": null,
      "outputs": []
    },
    {
      "cell_type": "code",
      "metadata": {
        "id": "G2a8qb3dXBl0"
      },
      "source": [
        "v = 20.5\n",
        "print(type(v))"
      ],
      "execution_count": null,
      "outputs": []
    },
    {
      "cell_type": "code",
      "metadata": {
        "id": "D6YOCtrmXDhE"
      },
      "source": [
        "x = 1j\n",
        "print(type(x))"
      ],
      "execution_count": null,
      "outputs": []
    },
    {
      "cell_type": "code",
      "metadata": {
        "colab": {
          "base_uri": "https://localhost:8080/"
        },
        "id": "JpOoKJlS4KYJ",
        "outputId": "0a0e1d21-9b34-4b88-9116-53d7c0bf2369"
      },
      "source": [
        "\n",
        "y = [\"apple\", \"banana\", \"cherry\"]\n",
        "print(type(y))\n",
        "\n",
        "u = (\"apple\", \"banana\", \"cherry\")\n",
        "print(type(u),\"\\n\")\n",
        "\n",
        "i = range(6)\n",
        "print(type(i),\"\\n\")\n",
        "\n",
        "o = {\"name\" : \"John\", \"age\" : 36}\n",
        "print(type(o),\"\\n\")\n",
        "\n",
        "p = {\"apple\", \"banana\", \"cherry\"}\n",
        "print(type(p),\"\\n\")\n",
        "\n",
        "l = frozenset({\"apple\", \"banana\", \"cherry\"})\n",
        "print(type(l),\"\\n\")\n",
        "\n",
        "m = True\n",
        "print(type(m),\"\\n\")\n",
        "\n",
        "d = b\"Hello\"\n",
        "print(type(d),\"\\n\")\n",
        "\n",
        "w = bytearray(5)\n",
        "print(type(w),\"\\n\")\n",
        "\n",
        "e = memoryview(bytes(5))\n",
        "print(type(e),\"\\n\")"
      ],
      "execution_count": null,
      "outputs": [
        {
          "output_type": "stream",
          "name": "stdout",
          "text": [
            "<class 'str'> \n",
            "\n",
            "<class 'int'>\n",
            "<class 'float'> \n",
            "\n",
            "<class 'complex'> \n",
            "\n",
            "<class 'list'> \n",
            "\n",
            "<class 'tuple'> \n",
            "\n",
            "<class 'range'> \n",
            "\n",
            "<class 'dict'> \n",
            "\n",
            "<class 'set'> \n",
            "\n",
            "<class 'frozenset'> \n",
            "\n",
            "<class 'bool'> \n",
            "\n",
            "<class 'bytes'> \n",
            "\n",
            "<class 'bytearray'> \n",
            "\n",
            "<class 'memoryview'> \n",
            "\n"
          ]
        }
      ]
    },
    {
      "cell_type": "code",
      "metadata": {
        "colab": {
          "base_uri": "https://localhost:8080/"
        },
        "id": "uhHhhZVx_jMG",
        "outputId": "dc3439fe-b7fb-477e-efee-c9ffed9dbb1c"
      },
      "source": [
        "d = b\"Hello\"\n",
        "print(type(d),\"\\n\")"
      ],
      "execution_count": null,
      "outputs": [
        {
          "output_type": "stream",
          "name": "stdout",
          "text": [
            "<class 'bytes'> \n",
            "\n"
          ]
        }
      ]
    },
    {
      "cell_type": "markdown",
      "metadata": {
        "id": "xP4vKi3B4KYJ"
      },
      "source": [
        "### Setting the Specific Data Type\n",
        "If you want to specify the data type, you can use the following constructor functions:"
      ]
    },
    {
      "cell_type": "code",
      "metadata": {
        "id": "FDnt0tjC4KYJ"
      },
      "source": [
        "x = str(\"Hello World\")\n",
        "y = int(20)\n",
        "z = float(20.5)\n",
        "q = complex(1j)\n",
        "r = list((\"apple\", \"banana\", \"cherry\"))\n",
        "s = tuple((\"apple\", \"banana\", \"cherry\"))\n",
        "t = range(6)\n",
        "u = dict(name=\"John\", age=36)\n",
        "v = set((\"apple\", \"banana\", \"cherry\"))\n",
        "w = frozenset((\"apple\", \"banana\", \"cherry\"))\n",
        "s = bool(5)\n",
        "t = bytes(5)\n",
        "o = bytearray(5)\n",
        "p = memoryview(bytes(5))\n",
        "\n",
        "##You can check to confirm the data types of the variables above."
      ],
      "execution_count": null,
      "outputs": []
    },
    {
      "cell_type": "markdown",
      "metadata": {
        "id": "DWFBt9As4KYJ"
      },
      "source": [
        "### Python Numbers\n",
        "\n",
        "Integers, floating point numbers and complex numbers fall under Python numbers category. They are defined as int, float and complex classes in Python.\n",
        "\n",
        "* **Integers/int :**  Int, or integer, is a whole number, positive or negative, without decimals, of unlimited length. It is only limited by the memory available. Eg. \"123\", \"3545646473\" etc.\n",
        "\n",
        "* **float :** Float, or \"floating point number\" is a number, positive or negative, containing one or more decimals. They can also be scientific numbers with an \"e\" to indicate the power of 10. Eg. \"23.66474\", 35e3\n",
        "\n",
        "* **complex :**  Complex numbers are written with a \"j\" as the imaginary part: 3+5j"
      ]
    },
    {
      "cell_type": "code",
      "metadata": {
        "id": "xQySBObH4KYK"
      },
      "source": [
        "# Examples:\n",
        "\n",
        "a = 567\n",
        "print(a, \"is of type\", type(a),\"\\n\")\n",
        "\n",
        "a = 2.067\n",
        "print(a, \"is of type\", type(a),\"\\n\")\n",
        "\n",
        "a = 1+2j\n",
        "print(a, \"is complex number?\", isinstance(1+2j,complex))"
      ],
      "execution_count": null,
      "outputs": []
    },
    {
      "cell_type": "code",
      "metadata": {
        "id": "Xe9_5Eu64KYK"
      },
      "source": [
        "#Integers:\n",
        "\n",
        "x = 1\n",
        "y = 35656222554887711\n",
        "z = -3255522\n",
        "\n",
        "print(type(x),\"\\n\")\n",
        "print(type(y),\"\\n\")\n",
        "print(type(z),\"\\n\")"
      ],
      "execution_count": null,
      "outputs": []
    },
    {
      "cell_type": "code",
      "metadata": {
        "id": "G6-Xqp8Y4KYK"
      },
      "source": [
        "#float\n",
        "\n",
        "x = 1657.10657\n",
        "y = 45.08\n",
        "z = -35e59\n",
        "\n",
        "print(type(x))\n",
        "print(type(y))\n",
        "print(type(z))"
      ],
      "execution_count": null,
      "outputs": []
    },
    {
      "cell_type": "code",
      "metadata": {
        "id": "1D1PEqV84KYK"
      },
      "source": [
        "#Complex\n",
        "\n",
        "x = 5+9j\n",
        "y = 10-4j\n",
        "z = -5j\n",
        "\n",
        "print(type(x))\n",
        "print(type(y))\n",
        "print(type(z))"
      ],
      "execution_count": null,
      "outputs": []
    },
    {
      "cell_type": "markdown",
      "metadata": {
        "id": "YVy_3rFV4KYL"
      },
      "source": [
        "#### Type Conversion\n",
        "You can convert from one type to another with the int(), float(), and complex() methods:"
      ]
    },
    {
      "cell_type": "code",
      "metadata": {
        "id": "egPz4vwc4KYL"
      },
      "source": [
        "x = 13847    # int\n",
        "y = 246.876  # float\n",
        "z = 19-7j    # complex\n",
        "\n",
        "#convert from int to float:\n",
        "a = float(x)\n",
        "\n",
        "#convert from float to int:\n",
        "b = int(y)\n",
        "\n",
        "#convert from int to complex:\n",
        "c = complex(x)\n",
        "\n",
        "print(a)\n",
        "print(b)\n",
        "print(c,\"\\n\")\n",
        "\n",
        "print(type(a))\n",
        "print(type(b))\n",
        "print(type(c))"
      ],
      "execution_count": null,
      "outputs": []
    },
    {
      "cell_type": "code",
      "metadata": {
        "id": "Cro6Nh4_4KYL"
      },
      "source": [
        "z = 19-7j\n",
        "\n",
        "c =float(z)"
      ],
      "execution_count": null,
      "outputs": []
    },
    {
      "cell_type": "code",
      "metadata": {
        "id": "uhWoi-5R4KYL"
      },
      "source": [
        "z = 19-7j\n",
        "\n",
        "c = int(z)"
      ],
      "execution_count": null,
      "outputs": []
    },
    {
      "cell_type": "markdown",
      "metadata": {
        "id": "t_nZhVvE4KYL"
      },
      "source": [
        "**Note: Complex numbers cannot be converted to float or integers**"
      ]
    },
    {
      "cell_type": "markdown",
      "metadata": {
        "id": "YAG_cDIx4KYM"
      },
      "source": [
        "### Random Number\n",
        "Python does not have a random() function to make a random number, but Python has a built-in module called random that can be used to make random numbers:\n",
        "\n",
        "#### Example\n",
        "Import the random module, and display a random number between 1 and 9:"
      ]
    },
    {
      "cell_type": "code",
      "metadata": {
        "id": "lSb26RfA4KYM"
      },
      "source": [
        "import random\n",
        "\n",
        "print(random.randrange(1, 10))"
      ],
      "execution_count": null,
      "outputs": []
    },
    {
      "cell_type": "code",
      "metadata": {
        "id": "fIOSVXQ84KYM"
      },
      "source": [
        "print(random.randrange(1, 10))"
      ],
      "execution_count": null,
      "outputs": []
    },
    {
      "cell_type": "code",
      "metadata": {
        "id": "q3igvJcH4KYM"
      },
      "source": [
        "print(random.randrange(1, 10))"
      ],
      "execution_count": null,
      "outputs": []
    },
    {
      "cell_type": "markdown",
      "metadata": {
        "id": "-oGPUJEc4KYM"
      },
      "source": [
        "# Python Casting"
      ]
    },
    {
      "cell_type": "markdown",
      "metadata": {
        "id": "fVTImqIa4KYN"
      },
      "source": [
        "Type Casting is the method to convert a certain variable data type into a different data type in order to match the operation required to be performed by the user. \n",
        "\n",
        "Casting in python is therefore done using constructor functions like int(), string(), float(), etc.\n",
        "\n",
        "**There can be two types of Type Casting in Python:**\n",
        "\n",
        "* Implicit Type Casting\n",
        "* Explicit Type Casting"
      ]
    },
    {
      "cell_type": "markdown",
      "metadata": {
        "id": "99RBtM9I4KYN"
      },
      "source": [
        "### Implicit Type Casting:\n",
        "\n",
        "Implicit type conversion is performed automatically by the interpreter, without user intervention. Python automatically converts one data type to another data type. \n",
        "\n",
        "This process doesn’t need any user involvement. Python promotes the conversion of lower data type, for example, integer to higher data type says float to avoid data loss. This type of conversion or type casting is called UpCasting."
      ]
    },
    {
      "cell_type": "code",
      "metadata": {
        "id": "Y_S6lbSA4KYN"
      },
      "source": [
        "# Python program to demonstrate\n",
        "# implicit type Casting\n",
        "\n",
        "# Python automatically converts\n",
        "# a to int\n",
        "a = 7\n",
        "print(type(a))\n",
        "\n",
        "# Python automatically converts\n",
        "# b to float\n",
        "b = 3.0\n",
        "print(type(b))\n",
        "\n",
        "# Python automatically converts\n",
        "# c to float as it is a float addition\n",
        "c = a + b\n",
        "print(c)\n",
        "print(type(c))\n",
        "\n",
        "# Python automatically converts\n",
        "# d to float as it is a float multiplication\n",
        "d = a * b\n",
        "print(d)\n",
        "print(type(d))"
      ],
      "execution_count": null,
      "outputs": []
    },
    {
      "cell_type": "markdown",
      "metadata": {
        "id": "FznBPRTk4KYN"
      },
      "source": [
        "#### Explicit Type Casting\n",
        "\n",
        "In Explicit Type conversion, the user or programmer converts the data type of an object to the required data type. \n",
        "\n",
        "In Python we use predefined functions like int(), float(), str(), bool() etc to perform explicit type conversion."
      ]
    },
    {
      "cell_type": "markdown",
      "metadata": {
        "id": "4i6-acDd4KYO"
      },
      "source": [
        "#### Mainly in type casting can be done with these data type function:\n",
        "\n",
        "* **Int() :** Int() function take float or string as an argument and return int type object.\n",
        "* **float() :** float() function take int or string as an argument and return float type object.\n",
        "* **str() :** str() function take float or int as an argument and return string type object."
      ]
    },
    {
      "cell_type": "markdown",
      "metadata": {
        "id": "QsPbDBQl4KYO"
      },
      "source": [
        "#### Type Casting int to float:\n",
        "\n",
        "**Here, we are casting integer object to float object with float() function.**"
      ]
    },
    {
      "cell_type": "code",
      "metadata": {
        "id": "yIqgAPlj4KYO"
      },
      "source": [
        "# Python program to demonstrate\n",
        "# type Casting\n",
        "\n",
        "# int variable\n",
        "a = 5\n",
        "\n",
        "# typecast to float\n",
        "n = float(a)\n",
        "\n",
        "print(n)\n",
        "print(type(n))"
      ],
      "execution_count": null,
      "outputs": []
    },
    {
      "cell_type": "markdown",
      "metadata": {
        "id": "yqwN1Ld64KYO"
      },
      "source": [
        "#### Type Casting float to int:\n",
        "\n",
        "**Here, we are casting float data type into integer data type with int() function.**"
      ]
    },
    {
      "cell_type": "code",
      "metadata": {
        "id": "ou_y7h2q4KYO"
      },
      "source": [
        "# Python program to demonstrate\n",
        "# type Casting\n",
        "\n",
        "# int variable\n",
        "a = 5.9\n",
        "\n",
        "# typecast to int\n",
        "n = int(a)\n",
        "\n",
        "print(n)\n",
        "print(type(n))"
      ],
      "execution_count": null,
      "outputs": []
    },
    {
      "cell_type": "markdown",
      "metadata": {
        "id": "yPfUQELP4KYO"
      },
      "source": [
        "**Type casting int to string:**\n",
        "\n",
        "**Here, we are casting int data type into string data type with str() function.**`"
      ]
    },
    {
      "cell_type": "code",
      "metadata": {
        "id": "QvbwQm-X4KYP"
      },
      "source": [
        "# Python program to demonstrate\n",
        "# type Casting\n",
        "\n",
        "# int variable\n",
        "a = 5\n",
        "\n",
        "# typecast to str\n",
        "n = str(a)\n",
        "\n",
        "print(n)\n",
        "print(type(n))"
      ],
      "execution_count": null,
      "outputs": []
    },
    {
      "cell_type": "markdown",
      "metadata": {
        "id": "DuX5-kTT4KYP"
      },
      "source": [
        "#### Type Casting string to int:\n",
        "\n",
        "**Here, we are casting string data type into integer data type with int() function.**"
      ]
    },
    {
      "cell_type": "code",
      "metadata": {
        "id": "Ei4o8EgX4KYP"
      },
      "source": [
        "# Python program to demonstrate\n",
        "# type Casting\n",
        "\n",
        "# string variable\n",
        "a = \"5\"\n",
        "\n",
        "# typecast to int\n",
        "n = int(a)\n",
        "\n",
        "print(n)\n",
        "print(type(n))"
      ],
      "execution_count": null,
      "outputs": []
    },
    {
      "cell_type": "markdown",
      "metadata": {
        "id": "KxNybiIt4KYP"
      },
      "source": [
        "**Type Casting String to float:**\n",
        "\n",
        "**Here, we are casting string data type into float data type with float() function.**"
      ]
    },
    {
      "cell_type": "code",
      "metadata": {
        "id": "iQm4DeV04KYP"
      },
      "source": [
        "# Python program to demonstrate\n",
        "# type Casting\n",
        "\n",
        "# string variable\n",
        "a = \"5.9\"\n",
        "\n",
        "# typecast to float\n",
        "n = float(a)\n",
        "\n",
        "print(n)\n",
        "print(type(n))"
      ],
      "execution_count": null,
      "outputs": []
    },
    {
      "cell_type": "markdown",
      "metadata": {
        "id": "srhX4HKU4KYP"
      },
      "source": [
        "**Type Casting Boolean value to an integer**\n",
        "\n",
        "**Here, we are casting Boolean data type into integer data type with bool() function.**"
      ]
    },
    {
      "cell_type": "code",
      "metadata": {
        "id": "QphsaDu04KYQ"
      },
      "source": [
        "flag_true = True\n",
        "flag_false = False\n",
        "print(type(flag_true),\"\\n\")\n",
        "\n",
        "# converting boolean to integer\n",
        "num1 = int(flag_true)\n",
        "num2 = int(flag_false)\n",
        "\n",
        "print(\"Integer number 1:\", num1)  \n",
        "print(type(num1),\"\\n\")  \n",
        "\n",
        "print(\"Integer number 2:\", num2)\n",
        "print(type(num2))"
      ],
      "execution_count": null,
      "outputs": []
    },
    {
      "cell_type": "markdown",
      "metadata": {
        "id": "E-3Knmn6V2qV"
      },
      "source": [
        "### Exercise - Python Data Types / Casting\n",
        "\n",
        "1. Convert onvert 20 to float\n",
        "2. Convert 20.5 to integer\n",
        "3. Convert boolean True to int\n",
        "4. Convert string True to boolean"
      ]
    },
    {
      "cell_type": "markdown",
      "metadata": {
        "id": "9TKT15ks4KYQ"
      },
      "source": [
        "# Python Strings"
      ]
    },
    {
      "cell_type": "code",
      "metadata": {
        "id": "qL8ZV3T6KwuJ"
      },
      "source": [
        ""
      ],
      "execution_count": null,
      "outputs": []
    },
    {
      "cell_type": "markdown",
      "metadata": {
        "id": "iAHmneSjJ3EE"
      },
      "source": [
        "# Python Strings"
      ]
    },
    {
      "cell_type": "markdown",
      "metadata": {
        "id": "G0HMPVtOJ3EF"
      },
      "source": [
        "### What is String in Python?\n",
        "\n",
        "Python string is the collection of the characters surrounded by single quotes, double quotes, or triple quotes.\n",
        "**In Python, anything inside quotes is a string.**\n",
        "\n",
        "A character is simply a symbol. For example, the English language has 26 characters.\n",
        "\n",
        "Computers do not understand characters, they only understand with binary numbers. Even though you may see characters on your screen, internally it is stored and manipulated as a combination of 0s and 1s.\n",
        "\n",
        "The conversion of characters to numbers is known as encoding, and the reverse process is decoding. ASCII and Unicode are some of the popular encodings used.\n",
        "\n",
        "In Python, a string is a sequence of Unicode characters. Unicode was introduced to include every character in all languages and bring uniformity in encoding. "
      ]
    },
    {
      "cell_type": "code",
      "metadata": {
        "id": "WtAaHlgJJ3EF"
      },
      "source": [
        "# 'hello' is the same as \"hello\".\n",
        "\n",
        "#You can display a string literal with the print() function:"
      ],
      "execution_count": null,
      "outputs": []
    },
    {
      "cell_type": "code",
      "metadata": {
        "id": "6s0x-JR9J3EF",
        "outputId": "906b8c87-dd07-496f-cab0-fd428b78a070"
      },
      "source": [
        "print(\"Hello\")\n",
        "print('Hello')"
      ],
      "execution_count": null,
      "outputs": [
        {
          "name": "stdout",
          "output_type": "stream",
          "text": [
            "Hello\n",
            "Hello\n"
          ]
        }
      ]
    },
    {
      "cell_type": "markdown",
      "metadata": {
        "id": "cyWZ7auzE8g2"
      },
      "source": [
        "Strings in python are surrounded by either single quotation marks, or double quotation marks. \n",
        "'hello' is the same as \"hello\".\n"
      ]
    },
    {
      "cell_type": "markdown",
      "metadata": {
        "id": "SD3VeElxJ3EG"
      },
      "source": [
        "# Storing Values in Variables"
      ]
    },
    {
      "cell_type": "markdown",
      "metadata": {
        "id": "36phN_hqJ3EG"
      },
      "source": [
        "A variable is like a box in the computer's memory where you can store a single value. If you want to use the result of an evaluated expression later in your programme, you can save it as a variable.\n",
        "\n",
        "Assignment statements: You will store values in variables with an assignmant statement.\n",
        "\n",
        "An assignment statement consists of a variable name, an equal sign (called the assignment operator) and the value to be stored. If you enter the assignment statement, spam = 40, then a variable named \"spam\" will have the integer value 42 stored in it."
      ]
    },
    {
      "cell_type": "code",
      "metadata": {
        "id": "j957xktwJ3EG",
        "colab": {
          "base_uri": "https://localhost:8080/"
        },
        "outputId": "b58def92-addc-4ff4-af5e-8a3b8f962099"
      },
      "source": [
        "orange = 40\n",
        "orange"
      ],
      "execution_count": null,
      "outputs": [
        {
          "output_type": "execute_result",
          "data": {
            "text/plain": [
              "40"
            ]
          },
          "metadata": {},
          "execution_count": 2
        }
      ]
    },
    {
      "cell_type": "code",
      "metadata": {
        "id": "pnpauT7NJ3EH",
        "colab": {
          "base_uri": "https://localhost:8080/"
        },
        "outputId": "01d5bc46-714b-4d3b-f12b-c7c25e2b5a10"
      },
      "source": [
        "eggs = 2\n",
        "orange + eggs"
      ],
      "execution_count": null,
      "outputs": [
        {
          "output_type": "execute_result",
          "data": {
            "text/plain": [
              "42"
            ]
          },
          "metadata": {},
          "execution_count": 3
        }
      ]
    },
    {
      "cell_type": "code",
      "metadata": {
        "id": "mqD2mSqLJ3EH",
        "colab": {
          "base_uri": "https://localhost:8080/"
        },
        "outputId": "dc858161-0ffe-4772-9d89-bdf49da381c2"
      },
      "source": [
        "orange = orange + 2\n",
        "orange"
      ],
      "execution_count": null,
      "outputs": [
        {
          "output_type": "execute_result",
          "data": {
            "text/plain": [
              "42"
            ]
          },
          "metadata": {},
          "execution_count": 4
        }
      ]
    },
    {
      "cell_type": "code",
      "metadata": {
        "id": "qdhVukhGJ3EH",
        "colab": {
          "base_uri": "https://localhost:8080/",
          "height": 35
        },
        "outputId": "f8e155f3-4b66-4469-bf96-0b24eba3b09b"
      },
      "source": [
        "orange = 'Hello' # This is called overwriting the variable\n",
        "\n",
        "orange"
      ],
      "execution_count": null,
      "outputs": [
        {
          "output_type": "execute_result",
          "data": {
            "application/vnd.google.colaboratory.intrinsic+json": {
              "type": "string"
            },
            "text/plain": [
              "'Hello'"
            ]
          },
          "metadata": {},
          "execution_count": 5
        }
      ]
    },
    {
      "cell_type": "code",
      "metadata": {
        "id": "7U6FCTMEJ3EI",
        "outputId": "0aac8e5b-5ea1-455f-cbcb-43468cc5a8fc"
      },
      "source": [
        "orange = 'Goodbye'\n",
        "\n",
        "orange"
      ],
      "execution_count": null,
      "outputs": [
        {
          "data": {
            "text/plain": [
              "'Goodbye'"
            ]
          },
          "execution_count": 8,
          "metadata": {},
          "output_type": "execute_result"
        }
      ]
    },
    {
      "cell_type": "code",
      "metadata": {
        "id": "EurKIO63J3EI",
        "outputId": "4c6691f1-6c18-49b7-d186-d9de9f4282e6"
      },
      "source": [
        "orange + ' world'"
      ],
      "execution_count": null,
      "outputs": [
        {
          "data": {
            "text/plain": [
              "'Goodbye world'"
            ]
          },
          "execution_count": 9,
          "metadata": {},
          "output_type": "execute_result"
        }
      ]
    },
    {
      "cell_type": "code",
      "metadata": {
        "id": "ZOOjUzkYLhEt"
      },
      "source": [
        ""
      ],
      "execution_count": null,
      "outputs": []
    },
    {
      "cell_type": "markdown",
      "metadata": {
        "id": "qTpq5gFHJ3EI"
      },
      "source": [
        "# Multiline Strings\n",
        "\n",
        "You can assign a multiline string to a variable by using three quotes:"
      ]
    },
    {
      "cell_type": "markdown",
      "metadata": {
        "id": "bp-t0oa8J3EJ"
      },
      "source": [
        "#### Example\n",
        "You can use three double quotes:"
      ]
    },
    {
      "cell_type": "code",
      "metadata": {
        "id": "NWAzvOmxJ3EJ",
        "colab": {
          "base_uri": "https://localhost:8080/"
        },
        "outputId": "9fe78db4-a66c-424d-8913-128bb0757491"
      },
      "source": [
        "a = \"\"\"Lorem ipsum dolor sit amet,\n",
        "consectetur adipiscing elit,\n",
        "sed do eiusmod tempor incididunt\n",
        "ut labore et dolore magna aliqua.\"\"\"\n",
        "\n",
        "print(a)"
      ],
      "execution_count": null,
      "outputs": [
        {
          "output_type": "stream",
          "name": "stdout",
          "text": [
            "Lorem ipsum dolor sit amet,\n",
            "consectetur adipiscing elit,\n",
            "sed do eiusmod tempor incididunt\n",
            "ut labore et dolore magna aliqua.\n"
          ]
        }
      ]
    },
    {
      "cell_type": "markdown",
      "metadata": {
        "id": "3Fi-rqyqJ3EJ"
      },
      "source": [
        "Or three single quotes:\n",
        "\n",
        "#### Example"
      ]
    },
    {
      "cell_type": "code",
      "metadata": {
        "id": "kSA3YnFlJ3EK",
        "outputId": "8989bac4-638d-4bc3-fd62-5ba3a90a3342"
      },
      "source": [
        "a = '''Lorem ipsum dolor sit amet,\n",
        "consectetur adipiscing elit,\n",
        "sed do eiusmod tempor incididunt\n",
        "ut labore et dolore magna aliqua.'''\n",
        "print(a)"
      ],
      "execution_count": null,
      "outputs": [
        {
          "name": "stdout",
          "output_type": "stream",
          "text": [
            "Lorem ipsum dolor sit amet,\n",
            "consectetur adipiscing elit,\n",
            "sed do eiusmod tempor incididunt\n",
            "ut labore et dolore magna aliqua.\n"
          ]
        }
      ]
    },
    {
      "cell_type": "markdown",
      "metadata": {
        "id": "drwMipn2J3EL"
      },
      "source": [
        "### String Length\n",
        "To get the length of a string, use the len() function."
      ]
    },
    {
      "cell_type": "code",
      "metadata": {
        "id": "_U7lyzTyJ3EL",
        "outputId": "56ed9e9b-3853-4bd8-e401-210c755e0b1e"
      },
      "source": [
        "a = \"Hello, World!\"\n",
        "print(len(a))"
      ],
      "execution_count": null,
      "outputs": [
        {
          "name": "stdout",
          "output_type": "stream",
          "text": [
            "13\n"
          ]
        }
      ]
    },
    {
      "cell_type": "markdown",
      "metadata": {
        "id": "0sOZYl57J3EM"
      },
      "source": [
        "### Slicing"
      ]
    },
    {
      "cell_type": "markdown",
      "metadata": {
        "id": "PRbbav-bJ3EM"
      },
      "source": [
        "You can return a range of characters by using the slice syntax.\n",
        "\n",
        "Specify the start index and the end index, separated by a colon, to return a part of the string.\n",
        "\n",
        "Example\n",
        "Get the characters from position 2 to position 5 (not included):"
      ]
    },
    {
      "cell_type": "code",
      "metadata": {
        "id": "ID5g9K2eJ3EM",
        "outputId": "5b72d1f0-224e-4381-b8ef-c31c70d722e7"
      },
      "source": [
        "b = \"Hello, World!\"\n",
        "print(b[2:5])"
      ],
      "execution_count": null,
      "outputs": [
        {
          "name": "stdout",
          "output_type": "stream",
          "text": [
            "llo\n"
          ]
        }
      ]
    },
    {
      "cell_type": "markdown",
      "metadata": {
        "id": "8JC_VizPJ3EM"
      },
      "source": [
        "**Note: The first character has index 0.**"
      ]
    },
    {
      "cell_type": "markdown",
      "metadata": {
        "id": "ks_madKrJ3EN"
      },
      "source": [
        "#### Slice From the Start\n",
        "By leaving out the start index, the range will start at the first character:\n",
        "\n",
        "**Example**\n",
        "\n",
        "Get the characters from the start to position 5 (not included):"
      ]
    },
    {
      "cell_type": "code",
      "metadata": {
        "id": "GwlEjkfdJ3EN",
        "outputId": "5e53de47-f4bf-43d2-cd61-8792cf6c1cbf"
      },
      "source": [
        "b = \"Hello, World!\"\n",
        "print(b[:5])"
      ],
      "execution_count": null,
      "outputs": [
        {
          "name": "stdout",
          "output_type": "stream",
          "text": [
            "Hello\n"
          ]
        }
      ]
    },
    {
      "cell_type": "markdown",
      "metadata": {
        "id": "-KOSbJzEJ3EN"
      },
      "source": [
        "#### Slice To the End\n",
        "By leaving out the end index, the range will go to the end:\n",
        "\n",
        "**Example**\n",
        "\n",
        "Get the characters from position 2, and all the way to the end:"
      ]
    },
    {
      "cell_type": "code",
      "metadata": {
        "id": "vT4XjoToJ3EN",
        "colab": {
          "base_uri": "https://localhost:8080/"
        },
        "outputId": "84653f84-8630-4506-e544-7fb894ed09b0"
      },
      "source": [
        "b = \"Hello, World!\"\n",
        "print(b[7:])"
      ],
      "execution_count": null,
      "outputs": [
        {
          "output_type": "stream",
          "name": "stdout",
          "text": [
            "World!\n"
          ]
        }
      ]
    },
    {
      "cell_type": "markdown",
      "metadata": {
        "id": "wImrHe-jJ3EO"
      },
      "source": [
        "#### Negative Indexing\n",
        "\n",
        "Use negative indexes to start the slice from the end of the string:\n",
        "\n",
        "**Example**"
      ]
    },
    {
      "cell_type": "code",
      "metadata": {
        "id": "zBZlmhGlJ3EP",
        "colab": {
          "base_uri": "https://localhost:8080/"
        },
        "outputId": "22d2c4d8-5add-4c0b-9dce-f08609a832f1"
      },
      "source": [
        "## Get the characters:\n",
        "\n",
        "## From: \"o\" in \"World!\" (position -5)\n",
        "\n",
        "## To, but not included: \"d\" in \"World!\" (position -2):\n",
        "\n",
        "b = \"Hello, World!\"\n",
        "print(b[-6:-1])\n",
        "\n"
      ],
      "execution_count": null,
      "outputs": [
        {
          "output_type": "stream",
          "name": "stdout",
          "text": [
            "World\n"
          ]
        }
      ]
    },
    {
      "cell_type": "code",
      "metadata": {
        "colab": {
          "base_uri": "https://localhost:8080/"
        },
        "id": "vvtEIO6xvoOU",
        "outputId": "df5e9554-c1e2-4503-d181-6b0c777704e3"
      },
      "source": [
        "print ('Hello') #Print 'Hello' using negative indexing\n",
        "\n"
      ],
      "execution_count": null,
      "outputs": [
        {
          "output_type": "stream",
          "name": "stdout",
          "text": [
            "Hello\n",
            "llo, \n"
          ]
        }
      ]
    },
    {
      "cell_type": "code",
      "metadata": {
        "colab": {
          "base_uri": "https://localhost:8080/"
        },
        "id": "L1GgaZxgwdy9",
        "outputId": "e417dc36-d7aa-4b3e-93a0-d508a09ab13b"
      },
      "source": [
        "print(b[-13:-8])\n",
        "print(b[-8:])"
      ],
      "execution_count": null,
      "outputs": [
        {
          "output_type": "stream",
          "name": "stdout",
          "text": [
            "Hello\n",
            ", World!\n"
          ]
        }
      ]
    },
    {
      "cell_type": "markdown",
      "metadata": {
        "id": "DE5WiMYCJ3EP"
      },
      "source": [
        "#### How to change or delete a string?"
      ]
    },
    {
      "cell_type": "markdown",
      "metadata": {
        "id": "93Z3qVyRJ3EP"
      },
      "source": [
        "Strings are immutable. This means that elements of a string cannot be changed once they have been assigned. We can simply reassign different strings to the same name."
      ]
    },
    {
      "cell_type": "code",
      "metadata": {
        "id": "AhjOklrOJ3EQ",
        "colab": {
          "base_uri": "https://localhost:8080/",
          "height": 185
        },
        "outputId": "7061c190-d4bd-43db-9142-222fd62c2e12"
      },
      "source": [
        "my_string = 'programiz'\n",
        "my_string[5] = 'b'"
      ],
      "execution_count": null,
      "outputs": [
        {
          "output_type": "error",
          "ename": "TypeError",
          "evalue": "ignored",
          "traceback": [
            "\u001b[0;31m---------------------------------------------------------------------------\u001b[0m",
            "\u001b[0;31mTypeError\u001b[0m                                 Traceback (most recent call last)",
            "\u001b[0;32m<ipython-input-16-a0735a64cbb9>\u001b[0m in \u001b[0;36m<module>\u001b[0;34m()\u001b[0m\n\u001b[1;32m      1\u001b[0m \u001b[0mmy_string\u001b[0m \u001b[0;34m=\u001b[0m \u001b[0;34m'programiz'\u001b[0m\u001b[0;34m\u001b[0m\u001b[0;34m\u001b[0m\u001b[0m\n\u001b[0;32m----> 2\u001b[0;31m \u001b[0mmy_string\u001b[0m\u001b[0;34m[\u001b[0m\u001b[0;36m5\u001b[0m\u001b[0;34m]\u001b[0m \u001b[0;34m=\u001b[0m \u001b[0;34m'b'\u001b[0m\u001b[0;34m\u001b[0m\u001b[0;34m\u001b[0m\u001b[0m\n\u001b[0m",
            "\u001b[0;31mTypeError\u001b[0m: 'str' object does not support item assignment"
          ]
        }
      ]
    },
    {
      "cell_type": "code",
      "metadata": {
        "id": "N-paxiQmJ3EQ",
        "outputId": "02053926-185c-46ce-82ad-5c773803a1be"
      },
      "source": [
        "my_string = 'Python'\n",
        "my_string"
      ],
      "execution_count": null,
      "outputs": [
        {
          "data": {
            "text/plain": [
              "'Python'"
            ]
          },
          "execution_count": 41,
          "metadata": {},
          "output_type": "execute_result"
        }
      ]
    },
    {
      "cell_type": "markdown",
      "metadata": {
        "id": "7gcAB-v0J3ER"
      },
      "source": [
        "We cannot delete or remove characters from a string. But deleting the string entirely is possible using the (del) keyword."
      ]
    },
    {
      "cell_type": "code",
      "metadata": {
        "id": "63YzoSzDJ3ET",
        "colab": {
          "base_uri": "https://localhost:8080/",
          "height": 167
        },
        "outputId": "a0ebcb17-371e-4ab8-df31-d79014708a1a"
      },
      "source": [
        "del my_string[1]"
      ],
      "execution_count": null,
      "outputs": [
        {
          "output_type": "error",
          "ename": "TypeError",
          "evalue": "ignored",
          "traceback": [
            "\u001b[0;31m---------------------------------------------------------------------------\u001b[0m",
            "\u001b[0;31mTypeError\u001b[0m                                 Traceback (most recent call last)",
            "\u001b[0;32m<ipython-input-17-d6fdf108d0d3>\u001b[0m in \u001b[0;36m<module>\u001b[0;34m()\u001b[0m\n\u001b[0;32m----> 1\u001b[0;31m \u001b[0;32mdel\u001b[0m \u001b[0mmy_string\u001b[0m\u001b[0;34m[\u001b[0m\u001b[0;36m1\u001b[0m\u001b[0;34m]\u001b[0m\u001b[0;34m\u001b[0m\u001b[0;34m\u001b[0m\u001b[0m\n\u001b[0m",
            "\u001b[0;31mTypeError\u001b[0m: 'str' object doesn't support item deletion"
          ]
        }
      ]
    },
    {
      "cell_type": "code",
      "metadata": {
        "id": "PzkU76idJ3ET",
        "colab": {
          "base_uri": "https://localhost:8080/",
          "height": 185
        },
        "outputId": "367c7ded-230a-4d7f-a1dd-be0f784b5d5b"
      },
      "source": [
        "del my_string\n",
        "my_string"
      ],
      "execution_count": null,
      "outputs": [
        {
          "output_type": "error",
          "ename": "NameError",
          "evalue": "ignored",
          "traceback": [
            "\u001b[0;31m---------------------------------------------------------------------------\u001b[0m",
            "\u001b[0;31mNameError\u001b[0m                                 Traceback (most recent call last)",
            "\u001b[0;32m<ipython-input-19-0a2d59ca20bb>\u001b[0m in \u001b[0;36m<module>\u001b[0;34m()\u001b[0m\n\u001b[0;32m----> 1\u001b[0;31m \u001b[0;32mdel\u001b[0m \u001b[0mmy_string\u001b[0m\u001b[0;34m\u001b[0m\u001b[0;34m\u001b[0m\u001b[0m\n\u001b[0m\u001b[1;32m      2\u001b[0m \u001b[0mmy_string\u001b[0m\u001b[0;34m\u001b[0m\u001b[0;34m\u001b[0m\u001b[0m\n",
            "\u001b[0;31mNameError\u001b[0m: name 'my_string' is not defined"
          ]
        }
      ]
    },
    {
      "cell_type": "markdown",
      "metadata": {
        "id": "KvHtaDZfJ3EU"
      },
      "source": [
        "### Python String Operations\n",
        "\n",
        "There are many operations that can be performed with strings which makes it one of the most used data types in Python.\n",
        "\n",
        "To learn more about the data types available in Python visit: Python Data Types"
      ]
    },
    {
      "cell_type": "markdown",
      "metadata": {
        "id": "KFDidh3wJ3EU"
      },
      "source": [
        "### Concatenation and Replication of Two or More Strings\n",
        "\n",
        "Joining of two or more strings into a single one is called concatenation.\n",
        "\n",
        "The + operator does this in Python. Simply writing two string literals together also concatenates them.\n",
        "\n",
        "**we cannot concatenate strings and numbers**\n",
        "\n",
        "The * operator can be used to repeat the string for a given number of times.\n",
        "\n",
        "**the * operator can be used with only two numeric values for multiplication or one string value and one integer value \n",
        "(for string replication) otherwise, Python will just display an error message.**"
      ]
    },
    {
      "cell_type": "code",
      "metadata": {
        "id": "IvX-DqVRJ3EU",
        "colab": {
          "base_uri": "https://localhost:8080/",
          "height": 35
        },
        "outputId": "1c0226af-dd2d-4f9d-cc9b-2a651db3729d"
      },
      "source": [
        "'Precious' + ' ' + 'Sam'"
      ],
      "execution_count": null,
      "outputs": [
        {
          "output_type": "execute_result",
          "data": {
            "application/vnd.google.colaboratory.intrinsic+json": {
              "type": "string"
            },
            "text/plain": [
              "'Precious Sam'"
            ]
          },
          "metadata": {},
          "execution_count": 22
        }
      ]
    },
    {
      "cell_type": "code",
      "metadata": {
        "id": "hFkkpvMQJ3EV",
        "outputId": "dbf3634c-652b-4199-876e-eaf334ecc80e"
      },
      "source": [
        "'Precious' + ' Sam'"
      ],
      "execution_count": null,
      "outputs": [
        {
          "data": {
            "text/plain": [
              "'Precious Sam'"
            ]
          },
          "execution_count": 49,
          "metadata": {},
          "output_type": "execute_result"
        }
      ]
    },
    {
      "cell_type": "code",
      "metadata": {
        "id": "TOfkELu0J3EV",
        "outputId": "ad590fb9-e898-41d4-bee2-2281c350239e"
      },
      "source": [
        "\"Dooshima\" * 5"
      ],
      "execution_count": null,
      "outputs": [
        {
          "data": {
            "text/plain": [
              "'DooshimaDooshimaDooshimaDooshimaDooshima'"
            ]
          },
          "execution_count": 51,
          "metadata": {},
          "output_type": "execute_result"
        }
      ]
    },
    {
      "cell_type": "code",
      "metadata": {
        "id": "yNBkgRu9J3EV",
        "outputId": "a49fecae-7489-4127-adbf-d646ce06f4f2"
      },
      "source": [
        "\"Dooshima \" * 5"
      ],
      "execution_count": null,
      "outputs": [
        {
          "data": {
            "text/plain": [
              "'Dooshima Dooshima Dooshima Dooshima Dooshima '"
            ]
          },
          "execution_count": 52,
          "metadata": {},
          "output_type": "execute_result"
        }
      ]
    },
    {
      "cell_type": "code",
      "metadata": {
        "id": "HVF-FB_0J3EW",
        "outputId": "369d22c2-69f6-4254-d2f8-4d6d3bbfa1d6"
      },
      "source": [
        "# Python String Operations\n",
        "str1 = 'Hello'\n",
        "str2 ='World!'\n",
        "\n",
        "# using +\n",
        "print('str1 + str2 = ', str1 + str2)\n",
        "\n",
        "# using *\n",
        "print('str1 * 3 =', str1 * 3)"
      ],
      "execution_count": null,
      "outputs": [
        {
          "name": "stdout",
          "output_type": "stream",
          "text": [
            "str1 + str2 =  HelloWorld!\n",
            "str1 * 3 = HelloHelloHello\n"
          ]
        }
      ]
    },
    {
      "cell_type": "markdown",
      "metadata": {
        "id": "8WO9GQiZJ3EW"
      },
      "source": [
        "Writing two string literals together also concatenates them like + operator.\n",
        "\n",
        "If we want to concatenate strings in different lines, we can use parentheses."
      ]
    },
    {
      "cell_type": "code",
      "metadata": {
        "id": "QzNXs91gJ3EW",
        "colab": {
          "base_uri": "https://localhost:8080/",
          "height": 35
        },
        "outputId": "6660777d-c0b2-4bc1-c49e-3e5b007b9e7c"
      },
      "source": [
        "# two string literals together\n",
        "'Hello ''World!'"
      ],
      "execution_count": null,
      "outputs": [
        {
          "output_type": "execute_result",
          "data": {
            "application/vnd.google.colaboratory.intrinsic+json": {
              "type": "string"
            },
            "text/plain": [
              "'Hello World!'"
            ]
          },
          "metadata": {},
          "execution_count": 24
        }
      ]
    },
    {
      "cell_type": "code",
      "metadata": {
        "id": "s87Layn9J3EX",
        "colab": {
          "base_uri": "https://localhost:8080/",
          "height": 35
        },
        "outputId": "1820408b-8515-4c97-e497-3741c67f97b3"
      },
      "source": [
        "# using parentheses\n",
        "s = ('Hello '\n",
        "      'World')\n",
        "s"
      ],
      "execution_count": null,
      "outputs": [
        {
          "output_type": "execute_result",
          "data": {
            "application/vnd.google.colaboratory.intrinsic+json": {
              "type": "string"
            },
            "text/plain": [
              "'Hello World'"
            ]
          },
          "metadata": {},
          "execution_count": 25
        }
      ]
    },
    {
      "cell_type": "markdown",
      "metadata": {
        "id": "E1R2vIJkJ3EY"
      },
      "source": [
        "### Iterating Through a string\n",
        "\n",
        "We can iterate through a string using a for loop. Here is an example to count the number of 'l's in a string."
      ]
    },
    {
      "cell_type": "code",
      "metadata": {
        "id": "BJlxVSONJ3EY",
        "outputId": "87b8e3dc-73e1-4ff5-e409-7dc55f1f34ae"
      },
      "source": [
        "## Example\n",
        "## Loop through the letters in the word \"banana\":\n",
        "\n",
        "for x in \"banana\":\n",
        "  print(x)"
      ],
      "execution_count": null,
      "outputs": [
        {
          "name": "stdout",
          "output_type": "stream",
          "text": [
            "b\n",
            "a\n",
            "n\n",
            "a\n",
            "n\n",
            "a\n"
          ]
        }
      ]
    },
    {
      "cell_type": "markdown",
      "metadata": {
        "id": "xcEZYhJsJ3EY"
      },
      "source": [
        "### String Membership Test"
      ]
    },
    {
      "cell_type": "code",
      "metadata": {
        "id": "-TD6OFaVJ3EZ",
        "colab": {
          "base_uri": "https://localhost:8080/"
        },
        "outputId": "68004d44-6b9c-40d9-e1a6-fd5372bec3b6"
      },
      "source": [
        "# We can test if a substring exists within a string or not, using the keyword in.\n",
        "\n",
        "'progm' in 'program' #pro is a substring"
      ],
      "execution_count": null,
      "outputs": [
        {
          "output_type": "execute_result",
          "data": {
            "text/plain": [
              "False"
            ]
          },
          "metadata": {},
          "execution_count": 35
        }
      ]
    },
    {
      "cell_type": "code",
      "metadata": {
        "id": "5ZF756iTJ3EZ",
        "colab": {
          "base_uri": "https://localhost:8080/"
        },
        "outputId": "9bf44322-1c46-4099-d8e0-f38b16059428"
      },
      "source": [
        "'z' not in 'battle'"
      ],
      "execution_count": null,
      "outputs": [
        {
          "output_type": "execute_result",
          "data": {
            "text/plain": [
              "True"
            ]
          },
          "metadata": {},
          "execution_count": 37
        }
      ]
    },
    {
      "cell_type": "code",
      "metadata": {
        "id": "zs3k-P3YJ3EZ",
        "outputId": "7e52798a-a462-49e6-f0e3-58ad20fe3883"
      },
      "source": [
        "# Check if \"free\" is present in the following text:\n",
        "\n",
        "txt = \"The best things in life are free!\"\n",
        "print(\"free\" in txt)"
      ],
      "execution_count": null,
      "outputs": [
        {
          "name": "stdout",
          "output_type": "stream",
          "text": [
            "True\n"
          ]
        }
      ]
    },
    {
      "cell_type": "code",
      "metadata": {
        "id": "bd1WJAg1J3Ea"
      },
      "source": [
        "#Use it in an if statement:\n",
        "\n",
        "#Example\n",
        "#Print only if \"free\" is present:\n",
        "\n",
        "txt = \"The best things in life are free!\"\n",
        "if \"freedom\" in txt:\n",
        "  print(\"Yes, 'free' is present.\")"
      ],
      "execution_count": null,
      "outputs": []
    },
    {
      "cell_type": "code",
      "metadata": {
        "id": "2xRlPsmpJ3Eb",
        "colab": {
          "base_uri": "https://localhost:8080/"
        },
        "outputId": "1f85ae66-af69-4681-cd7a-1412161f34ad"
      },
      "source": [
        "# Iterating through a string\n",
        "count = 0\n",
        "for letter in 'Hello World':\n",
        "    if(letter == 'l'):\n",
        "        count += 1\n",
        "print(count,'letters found')"
      ],
      "execution_count": null,
      "outputs": [
        {
          "output_type": "stream",
          "name": "stdout",
          "text": [
            "3 letters found\n"
          ]
        }
      ]
    },
    {
      "cell_type": "markdown",
      "metadata": {
        "id": "10Tr7Ok1J3Ec"
      },
      "source": [
        "### Modify Strings\n",
        "Python has a set of built-in methods that you can use on strings."
      ]
    },
    {
      "cell_type": "markdown",
      "metadata": {
        "id": "bgCvqzFdMOG-"
      },
      "source": [
        "#### Upper Case\n",
        "\n",
        "**Example**:\n",
        "The upper() method returns the string in upper case:"
      ]
    },
    {
      "cell_type": "code",
      "metadata": {
        "id": "pJrmknGoJ3Ec",
        "outputId": "7b5d8a1b-81b4-4b55-c293-7831e1246d8a"
      },
      "source": [
        "a = \"Hello, World!\"\n",
        "print(a.upper())"
      ],
      "execution_count": null,
      "outputs": [
        {
          "name": "stdout",
          "output_type": "stream",
          "text": [
            "HELLO, WORLD!\n"
          ]
        }
      ]
    },
    {
      "cell_type": "markdown",
      "metadata": {
        "id": "YAG-BoH7J3Ed"
      },
      "source": [
        "#### Lower Case\n",
        "**Example**: The lower() method returns the string in lower case:"
      ]
    },
    {
      "cell_type": "code",
      "metadata": {
        "id": "nQjr7uodJ3Ed",
        "outputId": "c62dd0bb-5f44-4b34-b61f-501cf03ee80d"
      },
      "source": [
        "a = \"Hello, World!\"\n",
        "print(a.lower())"
      ],
      "execution_count": null,
      "outputs": [
        {
          "name": "stdout",
          "output_type": "stream",
          "text": [
            "hello, world!\n"
          ]
        }
      ]
    },
    {
      "cell_type": "markdown",
      "metadata": {
        "id": "X7KdhCgnJ3Ee"
      },
      "source": [
        "#### Remove Whitespace\n",
        "Whitespace is the space before and/or after the actual text, and very often you want to remove this space.\n",
        "\n",
        "**Example**:\n",
        "The strip() method removes any whitespace from the beginning or the end:"
      ]
    },
    {
      "cell_type": "code",
      "metadata": {
        "id": "GFd1CAwqJ3Ee",
        "colab": {
          "base_uri": "https://localhost:8080/"
        },
        "outputId": "da7893f8-d9a4-4371-c5c1-6b9bc5435781"
      },
      "source": [
        "a = \"    Hello, World!                     \"\n",
        "print(a.strip()) # returns \"Hello, World!\""
      ],
      "execution_count": null,
      "outputs": [
        {
          "output_type": "stream",
          "name": "stdout",
          "text": [
            "Hello, World!\n"
          ]
        }
      ]
    },
    {
      "cell_type": "markdown",
      "metadata": {
        "id": "ZsmWPiFBJ3Ee"
      },
      "source": [
        "#### Replace String\n",
        "**Example**:\n",
        "The replace() method replaces a string with another string:"
      ]
    },
    {
      "cell_type": "code",
      "metadata": {
        "id": "Yk49tQsAJ3Ef",
        "outputId": "7bd39e43-2f7f-4aa9-f2d9-cc1384c1b9a9"
      },
      "source": [
        "a = \"Hello, World!\"\n",
        "print(a.replace(\"H\", \"J\"))"
      ],
      "execution_count": null,
      "outputs": [
        {
          "name": "stdout",
          "output_type": "stream",
          "text": [
            "Jello, World!\n"
          ]
        }
      ]
    },
    {
      "cell_type": "markdown",
      "metadata": {
        "id": "wN_u6LYnJ3Ef"
      },
      "source": [
        "#### Split String\n",
        "The split() method returns a list where the text between the specified separator becomes the list items.\n",
        "\n",
        "**Example**:\n",
        "The split() method splits the string into substrings if it finds instances of the separator:"
      ]
    },
    {
      "cell_type": "code",
      "metadata": {
        "id": "x_zvCkj0J3Ef",
        "colab": {
          "base_uri": "https://localhost:8080/"
        },
        "outputId": "be0e7bfb-cdab-4250-b5dc-a86769cbcfe0"
      },
      "source": [
        "a = \"Hello, World!\"\n",
        "print(a.split(\" \")) # returns ['Hello', ' World!']"
      ],
      "execution_count": null,
      "outputs": [
        {
          "output_type": "stream",
          "name": "stdout",
          "text": [
            "['Hello,', 'World!']\n"
          ]
        }
      ]
    },
    {
      "cell_type": "markdown",
      "metadata": {
        "id": "8VdHgbwuJ3Eg"
      },
      "source": [
        "### String Format\n",
        "As we learned in the Concatenation and Replication of Two or More Strings, we cannot combine strings and numbers like this:\n",
        "\n",
        "**Example**"
      ]
    },
    {
      "cell_type": "code",
      "metadata": {
        "id": "IEor-mqKJ3Eg",
        "outputId": "54d1e5c4-3fdf-42a0-ecba-72780777bd35"
      },
      "source": [
        "age = 36\n",
        "txt = \"My name is John, I am \" + age\n",
        "print(txt)"
      ],
      "execution_count": null,
      "outputs": [
        {
          "ename": "TypeError",
          "evalue": "can only concatenate str (not \"int\") to str",
          "output_type": "error",
          "traceback": [
            "\u001b[1;31m---------------------------------------------------------------------------\u001b[0m",
            "\u001b[1;31mTypeError\u001b[0m                                 Traceback (most recent call last)",
            "\u001b[1;32m<ipython-input-92-4d1b227cff41>\u001b[0m in \u001b[0;36m<module>\u001b[1;34m\u001b[0m\n\u001b[0;32m      1\u001b[0m \u001b[0mage\u001b[0m \u001b[1;33m=\u001b[0m \u001b[1;36m36\u001b[0m\u001b[1;33m\u001b[0m\u001b[1;33m\u001b[0m\u001b[0m\n\u001b[1;32m----> 2\u001b[1;33m \u001b[0mtxt\u001b[0m \u001b[1;33m=\u001b[0m \u001b[1;34m\"My name is John, I am \"\u001b[0m \u001b[1;33m+\u001b[0m \u001b[0mage\u001b[0m\u001b[1;33m\u001b[0m\u001b[1;33m\u001b[0m\u001b[0m\n\u001b[0m\u001b[0;32m      3\u001b[0m \u001b[0mprint\u001b[0m\u001b[1;33m(\u001b[0m\u001b[0mtxt\u001b[0m\u001b[1;33m)\u001b[0m\u001b[1;33m\u001b[0m\u001b[1;33m\u001b[0m\u001b[0m\n",
            "\u001b[1;31mTypeError\u001b[0m: can only concatenate str (not \"int\") to str"
          ]
        }
      ]
    },
    {
      "cell_type": "markdown",
      "metadata": {
        "id": "3kyyapqHJ3Eh"
      },
      "source": [
        "But we can combine strings and numbers by using the format() method!\n",
        "\n",
        "The format() method takes the passed arguments, formats them, and places them in the string where the placeholders {} are:\n",
        "\n",
        "Example\n",
        "Use the format() method to insert numbers into strings:"
      ]
    },
    {
      "cell_type": "code",
      "metadata": {
        "id": "6cMzHdV2J3Eh",
        "colab": {
          "base_uri": "https://localhost:8080/"
        },
        "outputId": "a01d4e54-7b3d-4e2e-9ecc-15f8c6f9d379"
      },
      "source": [
        "age = 36\n",
        "txt = \"My name is John, and I am {}\"\n",
        "print(txt.format(age))"
      ],
      "execution_count": null,
      "outputs": [
        {
          "output_type": "stream",
          "name": "stdout",
          "text": [
            "My name is John, and I am 36\n"
          ]
        }
      ]
    },
    {
      "cell_type": "code",
      "metadata": {
        "colab": {
          "base_uri": "https://localhost:8080/"
        },
        "id": "3udT39PZ4Rsq",
        "outputId": "5955610b-d7b9-4b9e-d7f6-b38a46907107"
      },
      "source": [
        "age = 36\n",
        "txt = \"My name is John, and I am\" + \" \" + str(age)\n",
        "print (txt)"
      ],
      "execution_count": null,
      "outputs": [
        {
          "output_type": "stream",
          "name": "stdout",
          "text": [
            "My name is John, and I am 36\n"
          ]
        }
      ]
    },
    {
      "cell_type": "code",
      "metadata": {
        "id": "XBst8a4UJ3Ei",
        "outputId": "0f39edc4-9fbc-44c0-ba1a-c9bf2f8dbdc7"
      },
      "source": [
        "## The format() method takes unlimited number of arguments, and are placed into the respective placeholders:\n",
        "\n",
        "## Example\n",
        "quantity = 3\n",
        "itemno = 567\n",
        "price = 49.95\n",
        "myorder = \"I want {} pieces of item {} for {} dollars.\"\n",
        "print(myorder.format(quantity, itemno, price))"
      ],
      "execution_count": null,
      "outputs": [
        {
          "name": "stdout",
          "output_type": "stream",
          "text": [
            "I want 3 pieces of item 567 for 49.95 dollars.\n"
          ]
        }
      ]
    },
    {
      "cell_type": "code",
      "metadata": {
        "id": "FssWHbziJ3Ei",
        "colab": {
          "base_uri": "https://localhost:8080/"
        },
        "outputId": "7e5096a6-f130-47cf-e637-6c044c4a25e8"
      },
      "source": [
        "## You can use index numbers {0} to be sure the arguments are placed in the correct placeholders:\n",
        "\n",
        "## Example\n",
        "quantity = 3\n",
        "itemno = 567\n",
        "price = 49.95\n",
        "myorder = \"I want to pay {2} dollars for {0} pieces of item {1}.\"\n",
        "print(myorder.format(quantity, itemno, price))"
      ],
      "execution_count": null,
      "outputs": [
        {
          "output_type": "stream",
          "name": "stdout",
          "text": [
            "I want to pay 49.95 dollars for 3 pieces of item 567.\n"
          ]
        }
      ]
    },
    {
      "cell_type": "code",
      "metadata": {
        "colab": {
          "base_uri": "https://localhost:8080/"
        },
        "id": "mIgVgm2WMOn6",
        "outputId": "1b19554f-3fa8-4a90-8008-e01ef44ac950"
      },
      "source": [
        "#String formatting\n",
        "age = 60\n",
        "year = 2000\n",
        "txt = \"I can vote in year {}, My name is Mary, and I am {}\"\n",
        "print (txt.format(age, year))"
      ],
      "execution_count": null,
      "outputs": [
        {
          "output_type": "stream",
          "name": "stdout",
          "text": [
            "I can vote in year 60, My name is Mary, and I am 2000\n"
          ]
        }
      ]
    },
    {
      "cell_type": "markdown",
      "metadata": {
        "id": "sFPFpt5sF3rn"
      },
      "source": [
        "How to Check whether certain character or phrase is present in a string or not?"
      ]
    },
    {
      "cell_type": "code",
      "metadata": {
        "colab": {
          "base_uri": "https://localhost:8080/"
        },
        "id": "6bn4zY87FyVG",
        "outputId": "897e6838-8aff-42cc-f701-5a2218cdc06a"
      },
      "source": [
        "txt = \"The best things in life are so not free!\" \n",
        "print(\"\" in txt) #Is there 'free' in txt?"
      ],
      "execution_count": null,
      "outputs": [
        {
          "output_type": "stream",
          "name": "stdout",
          "text": [
            "False\n"
          ]
        }
      ]
    },
    {
      "cell_type": "code",
      "metadata": {
        "colab": {
          "base_uri": "https://localhost:8080/"
        },
        "id": "ezrhB5PkF_Wn",
        "outputId": "2f91ef0f-53b3-41eb-bfed-a6a259f77afd"
      },
      "source": [
        "txt = \"The best things in life are so not free!\" \n",
        "print(\"expensive\" not in txt) #Is expensive in the txt?"
      ],
      "execution_count": null,
      "outputs": [
        {
          "output_type": "stream",
          "name": "stdout",
          "text": [
            "True\n"
          ]
        }
      ]
    },
    {
      "cell_type": "markdown",
      "metadata": {
        "id": "JJm9swFJJ3Ei"
      },
      "source": [
        "### String Methods\n",
        "Python has a set of built-in methods that you can use on strings.\n",
        "\n",
        "**Note: All string methods returns new values. They do not change the original string.**"
      ]
    },
    {
      "cell_type": "markdown",
      "metadata": {
        "id": "cwW6646fJ3Ej"
      },
      "source": [
        "There are numerous methods available with the string object. The **format()** method that we mentioned above is one of them. Some of the commonly used methods are **lower()**, **upper()**, **join()**, **split()**, **find()**, **replace()** etc.\n",
        "\n",
        "https://www.programiz.com/python-programming/methods/string Here is a complete list of all the built-in methods to work with strings in Python."
      ]
    },
    {
      "cell_type": "markdown",
      "metadata": {
        "id": "XD2pXsXhFaaZ"
      },
      "source": [
        "### String indexing\n",
        "Strings are Arrays. Square brackets can be used to access elements of the string"
      ]
    },
    {
      "cell_type": "code",
      "metadata": {
        "colab": {
          "base_uri": "https://localhost:8080/"
        },
        "id": "R1VBPK72FOyd",
        "outputId": "4afbeace-4c24-47e5-8bf8-46555f8cfefb"
      },
      "source": [
        "a = \"Hello, World!\" \n",
        "print(a[6])"
      ],
      "execution_count": null,
      "outputs": [
        {
          "output_type": "stream",
          "name": "stdout",
          "text": [
            " \n"
          ]
        }
      ]
    },
    {
      "cell_type": "markdown",
      "metadata": {
        "id": "kmzVlL8TH24k"
      },
      "source": [
        "Slicing strings"
      ]
    },
    {
      "cell_type": "markdown",
      "metadata": {
        "id": "xJHwvyj-Jk6y"
      },
      "source": [
        "Specify the start index and end index (not inclusive) - like the character counts"
      ]
    },
    {
      "cell_type": "markdown",
      "metadata": {
        "id": "Quzr1JUsI4Td"
      },
      "source": [
        "### Exercise - Strings\n",
        "1. Print **World** from **Hello, World!**\n",
        "2. Write a Python script that takes input from the user and displays that input back in upper and lower cases. (Tip: use the function **input()** to get user input)\n",
        "\n",
        "![image.png](https://www.w3resource.com/w3r_images/python-data-type-string-image-exercise-13.png)\n",
        "\n",
        "3. Write a Python code to insert a string in the middle of a 4 character string.\n",
        "\n",
        "Input: 4 Character string **Mary**. (String to insert **Python**)\n",
        "\n",
        "Output: MaPythonry\n",
        "\n",
        "4.  Write a Python code that takes a user input string and inserts it in the middle of an even-character user input string.\n",
        "\n",
        "Input: Even Character string **Maryleen**. (String to insert **Python**)\n",
        "\n",
        "Output: MaryPythonleen\n"
      ]
    },
    {
      "cell_type": "code",
      "metadata": {
        "colab": {
          "base_uri": "https://localhost:8080/"
        },
        "id": "E0UxpyOilGBu",
        "outputId": "2bcf1534-d11b-449c-a253-ade0630dbca0"
      },
      "source": [
        "#print (5%2) #2 remainder 1\n",
        "#print (564%2) #2 remainder 1\n",
        "print (9 // 2) #4 remainder 1"
      ],
      "execution_count": null,
      "outputs": [
        {
          "output_type": "stream",
          "name": "stdout",
          "text": [
            "4\n"
          ]
        }
      ]
    },
    {
      "cell_type": "code",
      "metadata": {
        "colab": {
          "base_uri": "https://localhost:8080/",
          "height": 416
        },
        "id": "F37idjXve0zI",
        "outputId": "835be2b3-a31b-441d-f2c9-6e34ba38a6a7"
      },
      "source": [
        "#Get user input of two strings\n",
        "#Check if it's an even character string, else user request\n",
        "#Get the length of the string\n",
        "#Divide into two equal substrings\n",
        "#Insert the string in the middle\n",
        "def insert_string ():\n",
        "  print ('Enter an even character string')\n",
        "  even_string = input()\n",
        "  print ('Enter a string to be inserted in the middle')\n",
        "  mid_string = input()\n",
        "  if (len(even_string) % 2) != 0:\n",
        "    print ('The number is not an even character string')\n",
        "  else:\n",
        "    mid_index = len(even_string) // 2\n",
        "    print (mid_index)\n",
        "    new_string = even_string [:mid_index] + mid_string + even_string[mid_index:]\n",
        "    return new_string\n",
        "\n",
        "\n",
        "insert_string()"
      ],
      "execution_count": null,
      "outputs": [
        {
          "output_type": "stream",
          "name": "stdout",
          "text": [
            "Enter an even character string\n",
            "Maryleeno\n",
            "Enter a string to be inserted in the middle\n",
            "Python\n",
            "The number is not an even character string\n"
          ]
        },
        {
          "output_type": "error",
          "ename": "UnboundLocalError",
          "evalue": "ignored",
          "traceback": [
            "\u001b[0;31m---------------------------------------------------------------------------\u001b[0m",
            "\u001b[0;31mUnboundLocalError\u001b[0m                         Traceback (most recent call last)",
            "\u001b[0;32m<ipython-input-22-829413e19201>\u001b[0m in \u001b[0;36m<module>\u001b[0;34m()\u001b[0m\n\u001b[1;32m     18\u001b[0m \u001b[0;34m\u001b[0m\u001b[0m\n\u001b[1;32m     19\u001b[0m \u001b[0;34m\u001b[0m\u001b[0m\n\u001b[0;32m---> 20\u001b[0;31m \u001b[0minsert_string\u001b[0m\u001b[0;34m(\u001b[0m\u001b[0;34m)\u001b[0m\u001b[0;34m\u001b[0m\u001b[0;34m\u001b[0m\u001b[0m\n\u001b[0m",
            "\u001b[0;32m<ipython-input-22-829413e19201>\u001b[0m in \u001b[0;36minsert_string\u001b[0;34m()\u001b[0m\n\u001b[1;32m     15\u001b[0m     \u001b[0mprint\u001b[0m \u001b[0;34m(\u001b[0m\u001b[0mmid_index\u001b[0m\u001b[0;34m)\u001b[0m\u001b[0;34m\u001b[0m\u001b[0;34m\u001b[0m\u001b[0m\n\u001b[1;32m     16\u001b[0m     \u001b[0mnew_string\u001b[0m \u001b[0;34m=\u001b[0m \u001b[0meven_string\u001b[0m \u001b[0;34m[\u001b[0m\u001b[0;34m:\u001b[0m\u001b[0mmid_index\u001b[0m\u001b[0;34m]\u001b[0m \u001b[0;34m+\u001b[0m \u001b[0mmid_string\u001b[0m \u001b[0;34m+\u001b[0m \u001b[0meven_string\u001b[0m\u001b[0;34m[\u001b[0m\u001b[0mmid_index\u001b[0m\u001b[0;34m:\u001b[0m\u001b[0;34m]\u001b[0m\u001b[0;34m\u001b[0m\u001b[0;34m\u001b[0m\u001b[0m\n\u001b[0;32m---> 17\u001b[0;31m   \u001b[0;32mreturn\u001b[0m \u001b[0mnew_string\u001b[0m\u001b[0;34m\u001b[0m\u001b[0;34m\u001b[0m\u001b[0m\n\u001b[0m\u001b[1;32m     18\u001b[0m \u001b[0;34m\u001b[0m\u001b[0m\n\u001b[1;32m     19\u001b[0m \u001b[0;34m\u001b[0m\u001b[0m\n",
            "\u001b[0;31mUnboundLocalError\u001b[0m: local variable 'new_string' referenced before assignment"
          ]
        }
      ]
    },
    {
      "cell_type": "code",
      "metadata": {
        "colab": {
          "base_uri": "https://localhost:8080/",
          "height": 564
        },
        "id": "jbTfu8temzTb",
        "outputId": "5dcdc234-0ef7-42b4-a9e5-aed1f082a99e"
      },
      "source": [
        "insert_string()"
      ],
      "execution_count": null,
      "outputs": [
        {
          "output_type": "stream",
          "name": "stdout",
          "text": [
            "Enter an even character string\n"
          ]
        },
        {
          "output_type": "error",
          "ename": "KeyboardInterrupt",
          "evalue": "ignored",
          "traceback": [
            "\u001b[0;31m---------------------------------------------------------------------------\u001b[0m",
            "\u001b[0;31mKeyboardInterrupt\u001b[0m                         Traceback (most recent call last)",
            "\u001b[0;32m/usr/local/lib/python3.7/dist-packages/ipykernel/kernelbase.py\u001b[0m in \u001b[0;36m_input_request\u001b[0;34m(self, prompt, ident, parent, password)\u001b[0m\n\u001b[1;32m    728\u001b[0m             \u001b[0;32mtry\u001b[0m\u001b[0;34m:\u001b[0m\u001b[0;34m\u001b[0m\u001b[0;34m\u001b[0m\u001b[0m\n\u001b[0;32m--> 729\u001b[0;31m                 \u001b[0mident\u001b[0m\u001b[0;34m,\u001b[0m \u001b[0mreply\u001b[0m \u001b[0;34m=\u001b[0m \u001b[0mself\u001b[0m\u001b[0;34m.\u001b[0m\u001b[0msession\u001b[0m\u001b[0;34m.\u001b[0m\u001b[0mrecv\u001b[0m\u001b[0;34m(\u001b[0m\u001b[0mself\u001b[0m\u001b[0;34m.\u001b[0m\u001b[0mstdin_socket\u001b[0m\u001b[0;34m,\u001b[0m \u001b[0;36m0\u001b[0m\u001b[0;34m)\u001b[0m\u001b[0;34m\u001b[0m\u001b[0;34m\u001b[0m\u001b[0m\n\u001b[0m\u001b[1;32m    730\u001b[0m             \u001b[0;32mexcept\u001b[0m \u001b[0mException\u001b[0m\u001b[0;34m:\u001b[0m\u001b[0;34m\u001b[0m\u001b[0;34m\u001b[0m\u001b[0m\n",
            "\u001b[0;32m/usr/local/lib/python3.7/dist-packages/jupyter_client/session.py\u001b[0m in \u001b[0;36mrecv\u001b[0;34m(self, socket, mode, content, copy)\u001b[0m\n\u001b[1;32m    802\u001b[0m         \u001b[0;32mtry\u001b[0m\u001b[0;34m:\u001b[0m\u001b[0;34m\u001b[0m\u001b[0;34m\u001b[0m\u001b[0m\n\u001b[0;32m--> 803\u001b[0;31m             \u001b[0mmsg_list\u001b[0m \u001b[0;34m=\u001b[0m \u001b[0msocket\u001b[0m\u001b[0;34m.\u001b[0m\u001b[0mrecv_multipart\u001b[0m\u001b[0;34m(\u001b[0m\u001b[0mmode\u001b[0m\u001b[0;34m,\u001b[0m \u001b[0mcopy\u001b[0m\u001b[0;34m=\u001b[0m\u001b[0mcopy\u001b[0m\u001b[0;34m)\u001b[0m\u001b[0;34m\u001b[0m\u001b[0;34m\u001b[0m\u001b[0m\n\u001b[0m\u001b[1;32m    804\u001b[0m         \u001b[0;32mexcept\u001b[0m \u001b[0mzmq\u001b[0m\u001b[0;34m.\u001b[0m\u001b[0mZMQError\u001b[0m \u001b[0;32mas\u001b[0m \u001b[0me\u001b[0m\u001b[0;34m:\u001b[0m\u001b[0;34m\u001b[0m\u001b[0;34m\u001b[0m\u001b[0m\n",
            "\u001b[0;32m/usr/local/lib/python3.7/dist-packages/zmq/sugar/socket.py\u001b[0m in \u001b[0;36mrecv_multipart\u001b[0;34m(self, flags, copy, track)\u001b[0m\n\u001b[1;32m    624\u001b[0m         \"\"\"\n\u001b[0;32m--> 625\u001b[0;31m         \u001b[0mparts\u001b[0m \u001b[0;34m=\u001b[0m \u001b[0;34m[\u001b[0m\u001b[0mself\u001b[0m\u001b[0;34m.\u001b[0m\u001b[0mrecv\u001b[0m\u001b[0;34m(\u001b[0m\u001b[0mflags\u001b[0m\u001b[0;34m,\u001b[0m \u001b[0mcopy\u001b[0m\u001b[0;34m=\u001b[0m\u001b[0mcopy\u001b[0m\u001b[0;34m,\u001b[0m \u001b[0mtrack\u001b[0m\u001b[0;34m=\u001b[0m\u001b[0mtrack\u001b[0m\u001b[0;34m)\u001b[0m\u001b[0;34m]\u001b[0m\u001b[0;34m\u001b[0m\u001b[0;34m\u001b[0m\u001b[0m\n\u001b[0m\u001b[1;32m    626\u001b[0m         \u001b[0;31m# have first part already, only loop while more to receive\u001b[0m\u001b[0;34m\u001b[0m\u001b[0;34m\u001b[0m\u001b[0;34m\u001b[0m\u001b[0m\n",
            "\u001b[0;32mzmq/backend/cython/socket.pyx\u001b[0m in \u001b[0;36mzmq.backend.cython.socket.Socket.recv\u001b[0;34m()\u001b[0m\n",
            "\u001b[0;32mzmq/backend/cython/socket.pyx\u001b[0m in \u001b[0;36mzmq.backend.cython.socket.Socket.recv\u001b[0;34m()\u001b[0m\n",
            "\u001b[0;32mzmq/backend/cython/socket.pyx\u001b[0m in \u001b[0;36mzmq.backend.cython.socket._recv_copy\u001b[0;34m()\u001b[0m\n",
            "\u001b[0;32m/usr/local/lib/python3.7/dist-packages/zmq/backend/cython/checkrc.pxd\u001b[0m in \u001b[0;36mzmq.backend.cython.checkrc._check_rc\u001b[0;34m()\u001b[0m\n",
            "\u001b[0;31mKeyboardInterrupt\u001b[0m: ",
            "\nDuring handling of the above exception, another exception occurred:\n",
            "\u001b[0;31mKeyboardInterrupt\u001b[0m                         Traceback (most recent call last)",
            "\u001b[0;32m<ipython-input-17-d2852bd6fb0e>\u001b[0m in \u001b[0;36m<module>\u001b[0;34m()\u001b[0m\n\u001b[0;32m----> 1\u001b[0;31m \u001b[0minsert_string\u001b[0m\u001b[0;34m(\u001b[0m\u001b[0;34m)\u001b[0m\u001b[0;34m\u001b[0m\u001b[0;34m\u001b[0m\u001b[0m\n\u001b[0m",
            "\u001b[0;32m<ipython-input-16-a5378b4b276a>\u001b[0m in \u001b[0;36minsert_string\u001b[0;34m()\u001b[0m\n\u001b[1;32m      8\u001b[0m \u001b[0;32mdef\u001b[0m \u001b[0minsert_string\u001b[0m \u001b[0;34m(\u001b[0m\u001b[0;34m)\u001b[0m\u001b[0;34m:\u001b[0m\u001b[0;34m\u001b[0m\u001b[0;34m\u001b[0m\u001b[0m\n\u001b[1;32m      9\u001b[0m   \u001b[0mprint\u001b[0m \u001b[0;34m(\u001b[0m\u001b[0;34m'Enter an even character string'\u001b[0m\u001b[0;34m)\u001b[0m\u001b[0;34m\u001b[0m\u001b[0;34m\u001b[0m\u001b[0m\n\u001b[0;32m---> 10\u001b[0;31m   \u001b[0meven_string\u001b[0m \u001b[0;34m=\u001b[0m \u001b[0minput\u001b[0m\u001b[0;34m(\u001b[0m\u001b[0;34m)\u001b[0m\u001b[0;34m\u001b[0m\u001b[0;34m\u001b[0m\u001b[0m\n\u001b[0m\u001b[1;32m     11\u001b[0m   \u001b[0mprint\u001b[0m \u001b[0;34m(\u001b[0m\u001b[0;34m'Enter a string to be inserted in the middle'\u001b[0m\u001b[0;34m)\u001b[0m\u001b[0;34m\u001b[0m\u001b[0;34m\u001b[0m\u001b[0m\n\u001b[1;32m     12\u001b[0m   \u001b[0mmid_string\u001b[0m \u001b[0;34m=\u001b[0m \u001b[0minput\u001b[0m\u001b[0;34m(\u001b[0m\u001b[0;34m)\u001b[0m\u001b[0;34m\u001b[0m\u001b[0;34m\u001b[0m\u001b[0m\n",
            "\u001b[0;32m/usr/local/lib/python3.7/dist-packages/ipykernel/kernelbase.py\u001b[0m in \u001b[0;36mraw_input\u001b[0;34m(self, prompt)\u001b[0m\n\u001b[1;32m    702\u001b[0m             \u001b[0mself\u001b[0m\u001b[0;34m.\u001b[0m\u001b[0m_parent_ident\u001b[0m\u001b[0;34m,\u001b[0m\u001b[0;34m\u001b[0m\u001b[0;34m\u001b[0m\u001b[0m\n\u001b[1;32m    703\u001b[0m             \u001b[0mself\u001b[0m\u001b[0;34m.\u001b[0m\u001b[0m_parent_header\u001b[0m\u001b[0;34m,\u001b[0m\u001b[0;34m\u001b[0m\u001b[0;34m\u001b[0m\u001b[0m\n\u001b[0;32m--> 704\u001b[0;31m             \u001b[0mpassword\u001b[0m\u001b[0;34m=\u001b[0m\u001b[0;32mFalse\u001b[0m\u001b[0;34m,\u001b[0m\u001b[0;34m\u001b[0m\u001b[0;34m\u001b[0m\u001b[0m\n\u001b[0m\u001b[1;32m    705\u001b[0m         )\n\u001b[1;32m    706\u001b[0m \u001b[0;34m\u001b[0m\u001b[0m\n",
            "\u001b[0;32m/usr/local/lib/python3.7/dist-packages/ipykernel/kernelbase.py\u001b[0m in \u001b[0;36m_input_request\u001b[0;34m(self, prompt, ident, parent, password)\u001b[0m\n\u001b[1;32m    732\u001b[0m             \u001b[0;32mexcept\u001b[0m \u001b[0mKeyboardInterrupt\u001b[0m\u001b[0;34m:\u001b[0m\u001b[0;34m\u001b[0m\u001b[0;34m\u001b[0m\u001b[0m\n\u001b[1;32m    733\u001b[0m                 \u001b[0;31m# re-raise KeyboardInterrupt, to truncate traceback\u001b[0m\u001b[0;34m\u001b[0m\u001b[0;34m\u001b[0m\u001b[0;34m\u001b[0m\u001b[0m\n\u001b[0;32m--> 734\u001b[0;31m                 \u001b[0;32mraise\u001b[0m \u001b[0mKeyboardInterrupt\u001b[0m\u001b[0;34m\u001b[0m\u001b[0;34m\u001b[0m\u001b[0m\n\u001b[0m\u001b[1;32m    735\u001b[0m             \u001b[0;32melse\u001b[0m\u001b[0;34m:\u001b[0m\u001b[0;34m\u001b[0m\u001b[0;34m\u001b[0m\u001b[0m\n\u001b[1;32m    736\u001b[0m                 \u001b[0;32mbreak\u001b[0m\u001b[0;34m\u001b[0m\u001b[0;34m\u001b[0m\u001b[0m\n",
            "\u001b[0;31mKeyboardInterrupt\u001b[0m: "
          ]
        }
      ]
    },
    {
      "cell_type": "markdown",
      "metadata": {
        "id": "Oy1Rh-LA-WOJ"
      },
      "source": [
        "user_input = input(\"What's your favourite programming language?\")\n",
        "\n",
        "Input: \"Python\"\n",
        "\n",
        "PYTHON #Uppercase\n",
        "\n",
        "python #Lowercase"
      ]
    },
    {
      "cell_type": "code",
      "metadata": {
        "colab": {
          "base_uri": "https://localhost:8080/"
        },
        "id": "sFsnlKIZANJc",
        "outputId": "6ba6930e-5d83-42c4-e291-6695c94e9d35"
      },
      "source": [
        "print (\"What's your favourite programming language?\")\n",
        "user_word = input()\n",
        "print (user_word.lower())\n",
        "print (user_word.upper())"
      ],
      "execution_count": null,
      "outputs": [
        {
          "output_type": "stream",
          "name": "stdout",
          "text": [
            "What's your favourite programming language?\n",
            "java\n",
            "java\n",
            "JAVA\n"
          ]
        }
      ]
    },
    {
      "cell_type": "code",
      "metadata": {
        "colab": {
          "base_uri": "https://localhost:8080/"
        },
        "id": "FrMVqSIoBJyj",
        "outputId": "8920f12f-27ff-4243-8adf-962291aea10c"
      },
      "source": [
        "word =\"Mary\"\n",
        "word2 = \"Python\"\n",
        "print (word[:2] + word2 + word[2:])\n",
        "#MaryPythonleen"
      ],
      "execution_count": null,
      "outputs": [
        {
          "output_type": "stream",
          "name": "stdout",
          "text": [
            "MaPythonry\n"
          ]
        }
      ]
    },
    {
      "cell_type": "markdown",
      "metadata": {
        "id": "7NJdfmnJP7u-"
      },
      "source": [
        ""
      ]
    }
  ]
}