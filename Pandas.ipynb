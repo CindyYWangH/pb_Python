{
  "nbformat": 4,
  "nbformat_minor": 0,
  "metadata": {
    "kernelspec": {
      "display_name": "Python 3",
      "language": "python",
      "name": "python3"
    },
    "language_info": {
      "codemirror_mode": {
        "name": "ipython",
        "version": 3
      },
      "file_extension": ".py",
      "mimetype": "text/x-python",
      "name": "python",
      "nbconvert_exporter": "python",
      "pygments_lexer": "ipython3",
      "version": "3.7.6"
    },
    "colab": {
      "name": "Pandas.ipynb",
      "provenance": [],
      "include_colab_link": true
    }
  },
  "cells": [
    {
      "cell_type": "markdown",
      "metadata": {
        "id": "view-in-github",
        "colab_type": "text"
      },
      "source": [
        "<a href=\"https://colab.research.google.com/github/CindyYWangH/pb_Python/blob/main/Pandas.ipynb\" target=\"_parent\"><img src=\"https://colab.research.google.com/assets/colab-badge.svg\" alt=\"Open In Colab\"/></a>"
      ]
    },
    {
      "cell_type": "markdown",
      "metadata": {
        "id": "kLOq_og65_4m"
      },
      "source": [
        "# Working with Pandas"
      ]
    },
    {
      "cell_type": "markdown",
      "metadata": {
        "id": "UcKKqpWR5_4o"
      },
      "source": [
        "In this course, you will learn about the Python Pandas library built upon NumPy, which provides data manipulation and analysis methods for structured data frames. "
      ]
    },
    {
      "cell_type": "markdown",
      "metadata": {
        "id": "msanbKb55_4o"
      },
      "source": [
        "#### Introducing pandas Series, pandas DataFrames, and pandas Indexes\n",
        "\n",
        "pandas Series, pandas DataFrames, and pandas Indexes are the fundamental pandas data structures."
      ]
    },
    {
      "cell_type": "markdown",
      "metadata": {
        "id": "kdepbt1T5_4p"
      },
      "source": [
        "## pandas.Series"
      ]
    },
    {
      "cell_type": "markdown",
      "metadata": {
        "id": "Bp_Rgyjz5_4p"
      },
      "source": [
        "The pandas.Series data structure represents a one-dimensional series of homogenous values (integer values, string values, double/float values, and so on). Series are a type of list and can contain only a single list with an index. A Data Frame, on the other hand, is a collection of one or more series.\n",
        "\n",
        "Let's create a pandas.Series data structure:"
      ]
    },
    {
      "cell_type": "code",
      "metadata": {
        "id": "14OYFiv_5_4q"
      },
      "source": [
        "# Always import pandas library first. Henceforth, \n",
        "# when you see \"pd\" it refers to \n",
        "# calling pandas and using its functionalities.\n",
        "import pandas as pd"
      ],
      "execution_count": null,
      "outputs": []
    },
    {
      "cell_type": "code",
      "metadata": {
        "colab": {
          "base_uri": "https://localhost:8080/"
        },
        "id": "9fCfAvoq5_4r",
        "outputId": "17be94d5-ff66-41ae-d95d-c5bca625d46f"
      },
      "source": [
        "#This series contains the index in the first column, \n",
        "#and in the second column, the index's corresponding values.\n",
        "ser1 = pd.Series(range(0,7,2))\n",
        "ser1"
      ],
      "execution_count": null,
      "outputs": [
        {
          "output_type": "execute_result",
          "data": {
            "text/plain": [
              "0    0\n",
              "1    2\n",
              "2    4\n",
              "3    6\n",
              "dtype: int64"
            ]
          },
          "metadata": {},
          "execution_count": 12
        }
      ]
    },
    {
      "cell_type": "code",
      "metadata": {
        "colab": {
          "base_uri": "https://localhost:8080/"
        },
        "id": "PUN5IZFl5_4s",
        "outputId": "170c545d-7f13-4cdc-f84c-4277cbfcb8af"
      },
      "source": [
        "#We can specify custom index names by specifying the \n",
        "#index parameter.\n",
        "ser2 = pd.Series(range(1, 6), index=['a', 'b', 'c', 'd', 'e'])\n",
        "ser2"
      ],
      "execution_count": null,
      "outputs": [
        {
          "output_type": "execute_result",
          "data": {
            "text/plain": [
              "a    1\n",
              "b    2\n",
              "c    3\n",
              "d    4\n",
              "e    5\n",
              "dtype: int64"
            ]
          },
          "metadata": {},
          "execution_count": 5
        }
      ]
    },
    {
      "cell_type": "code",
      "metadata": {
        "colab": {
          "base_uri": "https://localhost:8080/"
        },
        "id": "SVqM77ub5_4t",
        "outputId": "0d3dfd9f-5259-42ba-92ff-d8fe4e77003d"
      },
      "source": [
        "#We can also create a series by specifying the \n",
        "#index -> value mapping via a dictionary.\n",
        "ser3 = pd.Series({ 'M': 1, 'b': 2, 'c': 3, 'd': 4, 'e': 5})\n",
        "ser3"
      ],
      "execution_count": null,
      "outputs": [
        {
          "output_type": "execute_result",
          "data": {
            "text/plain": [
              "M    1\n",
              "b    2\n",
              "c    3\n",
              "d    4\n",
              "e    5\n",
              "dtype: int64"
            ]
          },
          "metadata": {},
          "execution_count": 8
        }
      ]
    },
    {
      "cell_type": "code",
      "metadata": {
        "colab": {
          "base_uri": "https://localhost:8080/"
        },
        "id": "xq4Wbofh5_4t",
        "outputId": "31822657-5eab-4ce9-f33c-3f24233ae821"
      },
      "source": [
        "#The pandas.Series.index attribute lets us access the index.\n",
        "# As you can see,the index is of type pandas.Index.\n",
        "ser3.index"
      ],
      "execution_count": null,
      "outputs": [
        {
          "output_type": "execute_result",
          "data": {
            "text/plain": [
              "Index(['M', 'b', 'c', 'd', 'e'], dtype='object')"
            ]
          },
          "metadata": {},
          "execution_count": 9
        }
      ]
    },
    {
      "cell_type": "code",
      "metadata": {
        "colab": {
          "base_uri": "https://localhost:8080/"
        },
        "id": "WYb16wdw5_4u",
        "outputId": "8a4f06b2-200d-4a37-ed4e-594c775aff95"
      },
      "source": [
        "# The values of the series can also be accessed using the \n",
        "#pandas.Series.values attribute:\n",
        "ser3.values"
      ],
      "execution_count": null,
      "outputs": [
        {
          "output_type": "execute_result",
          "data": {
            "text/plain": [
              "array([1, 2, 3, 4, 5])"
            ]
          },
          "metadata": {},
          "execution_count": 13
        }
      ]
    },
    {
      "cell_type": "markdown",
      "metadata": {
        "id": "OqFy2jh75_4u"
      },
      "source": [
        "## pandas.DataFrame"
      ]
    },
    {
      "cell_type": "markdown",
      "metadata": {
        "id": "fGWixiWn5_4v"
      },
      "source": [
        " Now let's learn about DataFrames, a data structure that may contain multiple Pandas Series."
      ]
    },
    {
      "cell_type": "markdown",
      "metadata": {
        "id": "jds6NbXP5_4v"
      },
      "source": [
        "The pandas.DataFrame data structure is a collection of multiple pandas.Series objects of possibly different types indexed by the same common Index object.\n",
        "\n",
        "The majority of data science operations are performed on DataFrames and pandas.DataFrame is optimized for parallel super-fast processing of DataFrames, much faster than if the processing was done on separate series."
      ]
    },
    {
      "cell_type": "code",
      "metadata": {
        "colab": {
          "base_uri": "https://localhost:8080/"
        },
        "id": "UMmL54Ez5_4v",
        "outputId": "48981f05-07e4-46d7-9d22-df72af39015e"
      },
      "source": [
        "#We can create a DataFrame from a dictionary, where the \n",
        "#key is the column name and the value \n",
        "#of that key contains the data for the corresponding \n",
        "#series/column:\n",
        "data = {'A': range(1,5,1), 'B': range(10,50,10), \n",
        "                    'C': range(100, 500, 100)}\n",
        "data"
      ],
      "execution_count": null,
      "outputs": [
        {
          "output_type": "execute_result",
          "data": {
            "text/plain": [
              "{'A': range(1, 5), 'B': range(10, 50, 10), 'C': range(100, 500, 100)}"
            ]
          },
          "metadata": {},
          "execution_count": 15
        }
      ]
    },
    {
      "cell_type": "code",
      "metadata": {
        "colab": {
          "base_uri": "https://localhost:8080/",
          "height": 173
        },
        "id": "gJbI53o-NAnN",
        "outputId": "1cfde364-e9ce-41e7-8a36-ac54e18a2530"
      },
      "source": [
        "df1 = pd.DataFrame(data)\n",
        "df1"
      ],
      "execution_count": null,
      "outputs": [
        {
          "output_type": "execute_result",
          "data": {
            "text/html": [
              "<div>\n",
              "<style scoped>\n",
              "    .dataframe tbody tr th:only-of-type {\n",
              "        vertical-align: middle;\n",
              "    }\n",
              "\n",
              "    .dataframe tbody tr th {\n",
              "        vertical-align: top;\n",
              "    }\n",
              "\n",
              "    .dataframe thead th {\n",
              "        text-align: right;\n",
              "    }\n",
              "</style>\n",
              "<table border=\"1\" class=\"dataframe\">\n",
              "  <thead>\n",
              "    <tr style=\"text-align: right;\">\n",
              "      <th></th>\n",
              "      <th>A</th>\n",
              "      <th>B</th>\n",
              "      <th>C</th>\n",
              "    </tr>\n",
              "  </thead>\n",
              "  <tbody>\n",
              "    <tr>\n",
              "      <th>0</th>\n",
              "      <td>1</td>\n",
              "      <td>10</td>\n",
              "      <td>100</td>\n",
              "    </tr>\n",
              "    <tr>\n",
              "      <th>1</th>\n",
              "      <td>2</td>\n",
              "      <td>20</td>\n",
              "      <td>200</td>\n",
              "    </tr>\n",
              "    <tr>\n",
              "      <th>2</th>\n",
              "      <td>3</td>\n",
              "      <td>30</td>\n",
              "      <td>300</td>\n",
              "    </tr>\n",
              "    <tr>\n",
              "      <th>3</th>\n",
              "      <td>4</td>\n",
              "      <td>40</td>\n",
              "      <td>400</td>\n",
              "    </tr>\n",
              "  </tbody>\n",
              "</table>\n",
              "</div>"
            ],
            "text/plain": [
              "   A   B    C\n",
              "0  1  10  100\n",
              "1  2  20  200\n",
              "2  3  30  300\n",
              "3  4  40  400"
            ]
          },
          "metadata": {},
          "execution_count": 16
        }
      ]
    },
    {
      "cell_type": "code",
      "metadata": {
        "colab": {
          "base_uri": "https://localhost:8080/"
        },
        "id": "Kpeqtifi5_4w",
        "outputId": "ae8bebee-ff63-46e3-9fd4-ca203b903307"
      },
      "source": [
        "df1.columns #returns the columnns"
      ],
      "execution_count": null,
      "outputs": [
        {
          "output_type": "execute_result",
          "data": {
            "text/plain": [
              "Index(['A', 'B', 'C'], dtype='object')"
            ]
          },
          "metadata": {},
          "execution_count": 17
        }
      ]
    },
    {
      "cell_type": "code",
      "metadata": {
        "colab": {
          "base_uri": "https://localhost:8080/"
        },
        "id": "xyudVaDF5_4w",
        "outputId": "db3a1b2e-2660-4969-ea8a-5ebe49a44805"
      },
      "source": [
        "df1.info()"
      ],
      "execution_count": null,
      "outputs": [
        {
          "output_type": "stream",
          "name": "stdout",
          "text": [
            "<class 'pandas.core.frame.DataFrame'>\n",
            "RangeIndex: 4 entries, 0 to 3\n",
            "Data columns (total 3 columns):\n",
            " #   Column  Non-Null Count  Dtype\n",
            "---  ------  --------------  -----\n",
            " 0   A       4 non-null      int64\n",
            " 1   B       4 non-null      int64\n",
            " 2   C       4 non-null      int64\n",
            "dtypes: int64(3)\n",
            "memory usage: 224.0 bytes\n"
          ]
        }
      ]
    },
    {
      "cell_type": "code",
      "metadata": {
        "colab": {
          "base_uri": "https://localhost:8080/",
          "height": 142
        },
        "id": "thwps07_5_4w",
        "outputId": "bb556863-5c44-45a2-87ff-2866a0162d27"
      },
      "source": [
        "df1.describe().T"
      ],
      "execution_count": null,
      "outputs": [
        {
          "output_type": "execute_result",
          "data": {
            "text/html": [
              "<div>\n",
              "<style scoped>\n",
              "    .dataframe tbody tr th:only-of-type {\n",
              "        vertical-align: middle;\n",
              "    }\n",
              "\n",
              "    .dataframe tbody tr th {\n",
              "        vertical-align: top;\n",
              "    }\n",
              "\n",
              "    .dataframe thead th {\n",
              "        text-align: right;\n",
              "    }\n",
              "</style>\n",
              "<table border=\"1\" class=\"dataframe\">\n",
              "  <thead>\n",
              "    <tr style=\"text-align: right;\">\n",
              "      <th></th>\n",
              "      <th>count</th>\n",
              "      <th>mean</th>\n",
              "      <th>std</th>\n",
              "      <th>min</th>\n",
              "      <th>25%</th>\n",
              "      <th>50%</th>\n",
              "      <th>75%</th>\n",
              "      <th>max</th>\n",
              "    </tr>\n",
              "  </thead>\n",
              "  <tbody>\n",
              "    <tr>\n",
              "      <th>A</th>\n",
              "      <td>4.0</td>\n",
              "      <td>2.5</td>\n",
              "      <td>1.290994</td>\n",
              "      <td>1.0</td>\n",
              "      <td>1.75</td>\n",
              "      <td>2.5</td>\n",
              "      <td>3.25</td>\n",
              "      <td>4.0</td>\n",
              "    </tr>\n",
              "    <tr>\n",
              "      <th>B</th>\n",
              "      <td>4.0</td>\n",
              "      <td>25.0</td>\n",
              "      <td>12.909944</td>\n",
              "      <td>10.0</td>\n",
              "      <td>17.50</td>\n",
              "      <td>25.0</td>\n",
              "      <td>32.50</td>\n",
              "      <td>40.0</td>\n",
              "    </tr>\n",
              "    <tr>\n",
              "      <th>C</th>\n",
              "      <td>4.0</td>\n",
              "      <td>250.0</td>\n",
              "      <td>129.099445</td>\n",
              "      <td>100.0</td>\n",
              "      <td>175.00</td>\n",
              "      <td>250.0</td>\n",
              "      <td>325.00</td>\n",
              "      <td>400.0</td>\n",
              "    </tr>\n",
              "  </tbody>\n",
              "</table>\n",
              "</div>"
            ],
            "text/plain": [
              "   count   mean         std    min     25%    50%     75%    max\n",
              "A    4.0    2.5    1.290994    1.0    1.75    2.5    3.25    4.0\n",
              "B    4.0   25.0   12.909944   10.0   17.50   25.0   32.50   40.0\n",
              "C    4.0  250.0  129.099445  100.0  175.00  250.0  325.00  400.0"
            ]
          },
          "metadata": {},
          "execution_count": 21
        }
      ]
    },
    {
      "cell_type": "code",
      "metadata": {
        "colab": {
          "base_uri": "https://localhost:8080/"
        },
        "id": "p79CdKpr5_4x",
        "outputId": "aaaf7124-1325-4495-a3f2-8957d3fb809a"
      },
      "source": [
        "#We can also pass the index= parameter here to label the indices:\n",
        "df2 = pd.DataFrame({'A': range(1,5,1), 'B': range(10,50,10), \n",
        "                    'C': range(100, 500, 100)}, index=['a', 'b', 'c', 'd'])\n",
        "df2.info()"
      ],
      "execution_count": null,
      "outputs": [
        {
          "output_type": "stream",
          "name": "stdout",
          "text": [
            "<class 'pandas.core.frame.DataFrame'>\n",
            "Index: 4 entries, a to d\n",
            "Data columns (total 3 columns):\n",
            " #   Column  Non-Null Count  Dtype\n",
            "---  ------  --------------  -----\n",
            " 0   A       4 non-null      int64\n",
            " 1   B       4 non-null      int64\n",
            " 2   C       4 non-null      int64\n",
            "dtypes: int64(3)\n",
            "memory usage: 128.0+ bytes\n"
          ]
        }
      ]
    },
    {
      "cell_type": "code",
      "metadata": {
        "id": "Apz-Gxsy5_4x",
        "outputId": "534e8358-9115-4c05-e82d-4282a5029071"
      },
      "source": [
        "#The pandas.DataFrame.columns attribute returns the \n",
        "#names of the different columns.\n",
        "# The result is an Index object.\n",
        "df2.columns"
      ],
      "execution_count": null,
      "outputs": [
        {
          "data": {
            "text/plain": [
              "Index(['A', 'B', 'C'], dtype='object')"
            ]
          },
          "execution_count": 13,
          "metadata": {},
          "output_type": "execute_result"
        }
      ]
    },
    {
      "cell_type": "code",
      "metadata": {
        "id": "IGPabwk-5_4y",
        "outputId": "9326018f-19c0-4c71-ce56-71592383a35e"
      },
      "source": [
        "#The indices can be accessed from the pandas.DataFrame.index \n",
        "#attribute.\n",
        "df2.index"
      ],
      "execution_count": null,
      "outputs": [
        {
          "data": {
            "text/plain": [
              "Index(['a', 'b', 'c', 'd'], dtype='object')"
            ]
          },
          "execution_count": 14,
          "metadata": {},
          "output_type": "execute_result"
        }
      ]
    },
    {
      "cell_type": "code",
      "metadata": {
        "colab": {
          "base_uri": "https://localhost:8080/"
        },
        "id": "M8Viowdd5_4y",
        "outputId": "91e71453-7413-4eaf-c022-4b9b606c5c64"
      },
      "source": [
        "#The DataFrame also contains the pandas.DataFrame.values attribute,\n",
        "#which returns the values contained in the columns.\n",
        "#The result is the following 2D array.\n",
        "\n",
        "df2.values"
      ],
      "execution_count": null,
      "outputs": [
        {
          "output_type": "execute_result",
          "data": {
            "text/plain": [
              "array([[  1,  10, 100],\n",
              "       [  2,  20, 200],\n",
              "       [  3,  30, 300],\n",
              "       [  4,  40, 400]])"
            ]
          },
          "metadata": {},
          "execution_count": 23
        }
      ]
    },
    {
      "cell_type": "markdown",
      "metadata": {
        "id": "8Mmp_ONH5_4y"
      },
      "source": [
        "### Subsetting columns"
      ]
    },
    {
      "cell_type": "code",
      "metadata": {
        "colab": {
          "base_uri": "https://localhost:8080/",
          "height": 173
        },
        "id": "wltWKVng5_4z",
        "outputId": "cffa1b86-0922-4605-feda-b52bdbf5a5af"
      },
      "source": [
        "df2"
      ],
      "execution_count": null,
      "outputs": [
        {
          "output_type": "execute_result",
          "data": {
            "text/html": [
              "<div>\n",
              "<style scoped>\n",
              "    .dataframe tbody tr th:only-of-type {\n",
              "        vertical-align: middle;\n",
              "    }\n",
              "\n",
              "    .dataframe tbody tr th {\n",
              "        vertical-align: top;\n",
              "    }\n",
              "\n",
              "    .dataframe thead th {\n",
              "        text-align: right;\n",
              "    }\n",
              "</style>\n",
              "<table border=\"1\" class=\"dataframe\">\n",
              "  <thead>\n",
              "    <tr style=\"text-align: right;\">\n",
              "      <th></th>\n",
              "      <th>A</th>\n",
              "      <th>B</th>\n",
              "      <th>C</th>\n",
              "    </tr>\n",
              "  </thead>\n",
              "  <tbody>\n",
              "    <tr>\n",
              "      <th>a</th>\n",
              "      <td>1</td>\n",
              "      <td>10</td>\n",
              "      <td>100</td>\n",
              "    </tr>\n",
              "    <tr>\n",
              "      <th>b</th>\n",
              "      <td>2</td>\n",
              "      <td>20</td>\n",
              "      <td>200</td>\n",
              "    </tr>\n",
              "    <tr>\n",
              "      <th>c</th>\n",
              "      <td>3</td>\n",
              "      <td>30</td>\n",
              "      <td>300</td>\n",
              "    </tr>\n",
              "    <tr>\n",
              "      <th>d</th>\n",
              "      <td>4</td>\n",
              "      <td>40</td>\n",
              "      <td>400</td>\n",
              "    </tr>\n",
              "  </tbody>\n",
              "</table>\n",
              "</div>"
            ],
            "text/plain": [
              "   A   B    C\n",
              "a  1  10  100\n",
              "b  2  20  200\n",
              "c  3  30  300\n",
              "d  4  40  400"
            ]
          },
          "metadata": {},
          "execution_count": 24
        }
      ]
    },
    {
      "cell_type": "code",
      "metadata": {
        "colab": {
          "base_uri": "https://localhost:8080/"
        },
        "id": "Gz6BlddM5_4z",
        "outputId": "67cb799e-0f6a-432d-c7fa-96976e8e6b17"
      },
      "source": [
        "df2['A']"
      ],
      "execution_count": null,
      "outputs": [
        {
          "output_type": "execute_result",
          "data": {
            "text/plain": [
              "a    1\n",
              "b    2\n",
              "c    3\n",
              "d    4\n",
              "Name: A, dtype: int64"
            ]
          },
          "metadata": {},
          "execution_count": 25
        }
      ]
    },
    {
      "cell_type": "code",
      "metadata": {
        "id": "w07Q3WWY5_4z",
        "outputId": "01078051-9a7f-4ba1-bde3-5fcc0f133350"
      },
      "source": [
        "df2[['A', 'C']]"
      ],
      "execution_count": null,
      "outputs": [
        {
          "data": {
            "text/html": [
              "<div>\n",
              "<style scoped>\n",
              "    .dataframe tbody tr th:only-of-type {\n",
              "        vertical-align: middle;\n",
              "    }\n",
              "\n",
              "    .dataframe tbody tr th {\n",
              "        vertical-align: top;\n",
              "    }\n",
              "\n",
              "    .dataframe thead th {\n",
              "        text-align: right;\n",
              "    }\n",
              "</style>\n",
              "<table border=\"1\" class=\"dataframe\">\n",
              "  <thead>\n",
              "    <tr style=\"text-align: right;\">\n",
              "      <th></th>\n",
              "      <th>A</th>\n",
              "      <th>C</th>\n",
              "    </tr>\n",
              "  </thead>\n",
              "  <tbody>\n",
              "    <tr>\n",
              "      <th>a</th>\n",
              "      <td>1</td>\n",
              "      <td>100</td>\n",
              "    </tr>\n",
              "    <tr>\n",
              "      <th>b</th>\n",
              "      <td>2</td>\n",
              "      <td>200</td>\n",
              "    </tr>\n",
              "    <tr>\n",
              "      <th>c</th>\n",
              "      <td>3</td>\n",
              "      <td>300</td>\n",
              "    </tr>\n",
              "    <tr>\n",
              "      <th>d</th>\n",
              "      <td>4</td>\n",
              "      <td>400</td>\n",
              "    </tr>\n",
              "  </tbody>\n",
              "</table>\n",
              "</div>"
            ],
            "text/plain": [
              "   A    C\n",
              "a  1  100\n",
              "b  2  200\n",
              "c  3  300\n",
              "d  4  400"
            ]
          },
          "execution_count": 18,
          "metadata": {},
          "output_type": "execute_result"
        }
      ]
    },
    {
      "cell_type": "code",
      "metadata": {
        "colab": {
          "base_uri": "https://localhost:8080/"
        },
        "id": "AQaRPKSK5_4z",
        "outputId": "7e69e675-d291-4767-a32e-bf1fe9af40b7"
      },
      "source": [
        "len(df2) #returns the number of rows contained in the dataframe"
      ],
      "execution_count": null,
      "outputs": [
        {
          "output_type": "execute_result",
          "data": {
            "text/plain": [
              "4"
            ]
          },
          "metadata": {},
          "execution_count": 26
        }
      ]
    },
    {
      "cell_type": "markdown",
      "metadata": {
        "id": "Y2GTSPqL5_40"
      },
      "source": [
        "### Adding another column"
      ]
    },
    {
      "cell_type": "code",
      "metadata": {
        "colab": {
          "base_uri": "https://localhost:8080/",
          "height": 173
        },
        "id": "Kapnc6f45_40",
        "outputId": "25a5163b-988d-4db9-8995-18096548fb95"
      },
      "source": [
        "df2"
      ],
      "execution_count": null,
      "outputs": [
        {
          "output_type": "execute_result",
          "data": {
            "text/html": [
              "<div>\n",
              "<style scoped>\n",
              "    .dataframe tbody tr th:only-of-type {\n",
              "        vertical-align: middle;\n",
              "    }\n",
              "\n",
              "    .dataframe tbody tr th {\n",
              "        vertical-align: top;\n",
              "    }\n",
              "\n",
              "    .dataframe thead th {\n",
              "        text-align: right;\n",
              "    }\n",
              "</style>\n",
              "<table border=\"1\" class=\"dataframe\">\n",
              "  <thead>\n",
              "    <tr style=\"text-align: right;\">\n",
              "      <th></th>\n",
              "      <th>A</th>\n",
              "      <th>B</th>\n",
              "      <th>C</th>\n",
              "    </tr>\n",
              "  </thead>\n",
              "  <tbody>\n",
              "    <tr>\n",
              "      <th>a</th>\n",
              "      <td>1</td>\n",
              "      <td>10</td>\n",
              "      <td>100</td>\n",
              "    </tr>\n",
              "    <tr>\n",
              "      <th>b</th>\n",
              "      <td>2</td>\n",
              "      <td>20</td>\n",
              "      <td>200</td>\n",
              "    </tr>\n",
              "    <tr>\n",
              "      <th>c</th>\n",
              "      <td>3</td>\n",
              "      <td>30</td>\n",
              "      <td>300</td>\n",
              "    </tr>\n",
              "    <tr>\n",
              "      <th>d</th>\n",
              "      <td>4</td>\n",
              "      <td>40</td>\n",
              "      <td>400</td>\n",
              "    </tr>\n",
              "  </tbody>\n",
              "</table>\n",
              "</div>"
            ],
            "text/plain": [
              "   A   B    C\n",
              "a  1  10  100\n",
              "b  2  20  200\n",
              "c  3  30  300\n",
              "d  4  40  400"
            ]
          },
          "metadata": {},
          "execution_count": 27
        }
      ]
    },
    {
      "cell_type": "code",
      "metadata": {
        "colab": {
          "base_uri": "https://localhost:8080/",
          "height": 582
        },
        "id": "-Hm7s6qy5_40",
        "outputId": "8b4d43c2-ee30-4aad-8cea-778f205603f0"
      },
      "source": [
        "df2['D']"
      ],
      "execution_count": null,
      "outputs": [
        {
          "output_type": "error",
          "ename": "KeyError",
          "evalue": "ignored",
          "traceback": [
            "\u001b[0;31m---------------------------------------------------------------------------\u001b[0m",
            "\u001b[0;31mKeyError\u001b[0m                                  Traceback (most recent call last)",
            "\u001b[0;32m/usr/local/lib/python3.7/dist-packages/pandas/core/indexes/base.py\u001b[0m in \u001b[0;36mget_loc\u001b[0;34m(self, key, method, tolerance)\u001b[0m\n\u001b[1;32m   2897\u001b[0m             \u001b[0;32mtry\u001b[0m\u001b[0;34m:\u001b[0m\u001b[0;34m\u001b[0m\u001b[0;34m\u001b[0m\u001b[0m\n\u001b[0;32m-> 2898\u001b[0;31m                 \u001b[0;32mreturn\u001b[0m \u001b[0mself\u001b[0m\u001b[0;34m.\u001b[0m\u001b[0m_engine\u001b[0m\u001b[0;34m.\u001b[0m\u001b[0mget_loc\u001b[0m\u001b[0;34m(\u001b[0m\u001b[0mcasted_key\u001b[0m\u001b[0;34m)\u001b[0m\u001b[0;34m\u001b[0m\u001b[0;34m\u001b[0m\u001b[0m\n\u001b[0m\u001b[1;32m   2899\u001b[0m             \u001b[0;32mexcept\u001b[0m \u001b[0mKeyError\u001b[0m \u001b[0;32mas\u001b[0m \u001b[0merr\u001b[0m\u001b[0;34m:\u001b[0m\u001b[0;34m\u001b[0m\u001b[0;34m\u001b[0m\u001b[0m\n",
            "\u001b[0;32mpandas/_libs/index.pyx\u001b[0m in \u001b[0;36mpandas._libs.index.IndexEngine.get_loc\u001b[0;34m()\u001b[0m\n",
            "\u001b[0;32mpandas/_libs/index.pyx\u001b[0m in \u001b[0;36mpandas._libs.index.IndexEngine.get_loc\u001b[0;34m()\u001b[0m\n",
            "\u001b[0;32mpandas/_libs/hashtable_class_helper.pxi\u001b[0m in \u001b[0;36mpandas._libs.hashtable.PyObjectHashTable.get_item\u001b[0;34m()\u001b[0m\n",
            "\u001b[0;32mpandas/_libs/hashtable_class_helper.pxi\u001b[0m in \u001b[0;36mpandas._libs.hashtable.PyObjectHashTable.get_item\u001b[0;34m()\u001b[0m\n",
            "\u001b[0;31mKeyError\u001b[0m: 'D'",
            "\nThe above exception was the direct cause of the following exception:\n",
            "\u001b[0;31mKeyError\u001b[0m                                  Traceback (most recent call last)",
            "\u001b[0;32m<ipython-input-28-2a80d86e92ef>\u001b[0m in \u001b[0;36m<module>\u001b[0;34m()\u001b[0m\n\u001b[0;32m----> 1\u001b[0;31m \u001b[0mdf2\u001b[0m\u001b[0;34m[\u001b[0m\u001b[0;34m'D'\u001b[0m\u001b[0;34m]\u001b[0m\u001b[0;34m\u001b[0m\u001b[0;34m\u001b[0m\u001b[0m\n\u001b[0m",
            "\u001b[0;32m/usr/local/lib/python3.7/dist-packages/pandas/core/frame.py\u001b[0m in \u001b[0;36m__getitem__\u001b[0;34m(self, key)\u001b[0m\n\u001b[1;32m   2904\u001b[0m             \u001b[0;32mif\u001b[0m \u001b[0mself\u001b[0m\u001b[0;34m.\u001b[0m\u001b[0mcolumns\u001b[0m\u001b[0;34m.\u001b[0m\u001b[0mnlevels\u001b[0m \u001b[0;34m>\u001b[0m \u001b[0;36m1\u001b[0m\u001b[0;34m:\u001b[0m\u001b[0;34m\u001b[0m\u001b[0;34m\u001b[0m\u001b[0m\n\u001b[1;32m   2905\u001b[0m                 \u001b[0;32mreturn\u001b[0m \u001b[0mself\u001b[0m\u001b[0;34m.\u001b[0m\u001b[0m_getitem_multilevel\u001b[0m\u001b[0;34m(\u001b[0m\u001b[0mkey\u001b[0m\u001b[0;34m)\u001b[0m\u001b[0;34m\u001b[0m\u001b[0;34m\u001b[0m\u001b[0m\n\u001b[0;32m-> 2906\u001b[0;31m             \u001b[0mindexer\u001b[0m \u001b[0;34m=\u001b[0m \u001b[0mself\u001b[0m\u001b[0;34m.\u001b[0m\u001b[0mcolumns\u001b[0m\u001b[0;34m.\u001b[0m\u001b[0mget_loc\u001b[0m\u001b[0;34m(\u001b[0m\u001b[0mkey\u001b[0m\u001b[0;34m)\u001b[0m\u001b[0;34m\u001b[0m\u001b[0;34m\u001b[0m\u001b[0m\n\u001b[0m\u001b[1;32m   2907\u001b[0m             \u001b[0;32mif\u001b[0m \u001b[0mis_integer\u001b[0m\u001b[0;34m(\u001b[0m\u001b[0mindexer\u001b[0m\u001b[0;34m)\u001b[0m\u001b[0;34m:\u001b[0m\u001b[0;34m\u001b[0m\u001b[0;34m\u001b[0m\u001b[0m\n\u001b[1;32m   2908\u001b[0m                 \u001b[0mindexer\u001b[0m \u001b[0;34m=\u001b[0m \u001b[0;34m[\u001b[0m\u001b[0mindexer\u001b[0m\u001b[0;34m]\u001b[0m\u001b[0;34m\u001b[0m\u001b[0;34m\u001b[0m\u001b[0m\n",
            "\u001b[0;32m/usr/local/lib/python3.7/dist-packages/pandas/core/indexes/base.py\u001b[0m in \u001b[0;36mget_loc\u001b[0;34m(self, key, method, tolerance)\u001b[0m\n\u001b[1;32m   2898\u001b[0m                 \u001b[0;32mreturn\u001b[0m \u001b[0mself\u001b[0m\u001b[0;34m.\u001b[0m\u001b[0m_engine\u001b[0m\u001b[0;34m.\u001b[0m\u001b[0mget_loc\u001b[0m\u001b[0;34m(\u001b[0m\u001b[0mcasted_key\u001b[0m\u001b[0;34m)\u001b[0m\u001b[0;34m\u001b[0m\u001b[0;34m\u001b[0m\u001b[0m\n\u001b[1;32m   2899\u001b[0m             \u001b[0;32mexcept\u001b[0m \u001b[0mKeyError\u001b[0m \u001b[0;32mas\u001b[0m \u001b[0merr\u001b[0m\u001b[0;34m:\u001b[0m\u001b[0;34m\u001b[0m\u001b[0;34m\u001b[0m\u001b[0m\n\u001b[0;32m-> 2900\u001b[0;31m                 \u001b[0;32mraise\u001b[0m \u001b[0mKeyError\u001b[0m\u001b[0;34m(\u001b[0m\u001b[0mkey\u001b[0m\u001b[0;34m)\u001b[0m \u001b[0;32mfrom\u001b[0m \u001b[0merr\u001b[0m\u001b[0;34m\u001b[0m\u001b[0;34m\u001b[0m\u001b[0m\n\u001b[0m\u001b[1;32m   2901\u001b[0m \u001b[0;34m\u001b[0m\u001b[0m\n\u001b[1;32m   2902\u001b[0m         \u001b[0;32mif\u001b[0m \u001b[0mtolerance\u001b[0m \u001b[0;32mis\u001b[0m \u001b[0;32mnot\u001b[0m \u001b[0;32mNone\u001b[0m\u001b[0;34m:\u001b[0m\u001b[0;34m\u001b[0m\u001b[0;34m\u001b[0m\u001b[0m\n",
            "\u001b[0;31mKeyError\u001b[0m: 'D'"
          ]
        }
      ]
    },
    {
      "cell_type": "code",
      "metadata": {
        "colab": {
          "base_uri": "https://localhost:8080/",
          "height": 173
        },
        "id": "5fSc1w2V5_40",
        "outputId": "1bd5e5fe-3760-4f4a-dafe-e9a11d88a26b"
      },
      "source": [
        "#We can add a new column to the DataFrame with specified values \n",
        "#and the same index.\n",
        "#The updated DataFrame is as follows:\n",
        "\n",
        "df2['D'] = range(1000,5000,1000)\n",
        "df2"
      ],
      "execution_count": null,
      "outputs": [
        {
          "output_type": "execute_result",
          "data": {
            "text/html": [
              "<div>\n",
              "<style scoped>\n",
              "    .dataframe tbody tr th:only-of-type {\n",
              "        vertical-align: middle;\n",
              "    }\n",
              "\n",
              "    .dataframe tbody tr th {\n",
              "        vertical-align: top;\n",
              "    }\n",
              "\n",
              "    .dataframe thead th {\n",
              "        text-align: right;\n",
              "    }\n",
              "</style>\n",
              "<table border=\"1\" class=\"dataframe\">\n",
              "  <thead>\n",
              "    <tr style=\"text-align: right;\">\n",
              "      <th></th>\n",
              "      <th>A</th>\n",
              "      <th>B</th>\n",
              "      <th>C</th>\n",
              "      <th>D</th>\n",
              "    </tr>\n",
              "  </thead>\n",
              "  <tbody>\n",
              "    <tr>\n",
              "      <th>a</th>\n",
              "      <td>1</td>\n",
              "      <td>10</td>\n",
              "      <td>100</td>\n",
              "      <td>1000</td>\n",
              "    </tr>\n",
              "    <tr>\n",
              "      <th>b</th>\n",
              "      <td>2</td>\n",
              "      <td>20</td>\n",
              "      <td>200</td>\n",
              "      <td>2000</td>\n",
              "    </tr>\n",
              "    <tr>\n",
              "      <th>c</th>\n",
              "      <td>3</td>\n",
              "      <td>30</td>\n",
              "      <td>300</td>\n",
              "      <td>3000</td>\n",
              "    </tr>\n",
              "    <tr>\n",
              "      <th>d</th>\n",
              "      <td>4</td>\n",
              "      <td>40</td>\n",
              "      <td>400</td>\n",
              "      <td>4000</td>\n",
              "    </tr>\n",
              "  </tbody>\n",
              "</table>\n",
              "</div>"
            ],
            "text/plain": [
              "   A   B    C     D\n",
              "a  1  10  100  1000\n",
              "b  2  20  200  2000\n",
              "c  3  30  300  3000\n",
              "d  4  40  400  4000"
            ]
          },
          "metadata": {},
          "execution_count": 31
        }
      ]
    },
    {
      "cell_type": "code",
      "metadata": {
        "id": "vwyzW_Y65_40"
      },
      "source": [
        "df2.index.name"
      ],
      "execution_count": null,
      "outputs": []
    },
    {
      "cell_type": "code",
      "metadata": {
        "colab": {
          "base_uri": "https://localhost:8080/",
          "height": 204
        },
        "id": "tn2EFQmb5_41",
        "outputId": "41cc1071-f6c3-4cee-b5a3-fdf60dd75333"
      },
      "source": [
        "#We can assign names to the DataFrame's index and columns.\n",
        "#We can name the index by modifying the pandas.DataFrame.index.name\n",
        "#attribute:\n",
        "df2.index.name = 'lowercase'\n",
        "df2"
      ],
      "execution_count": null,
      "outputs": [
        {
          "output_type": "execute_result",
          "data": {
            "text/html": [
              "<div>\n",
              "<style scoped>\n",
              "    .dataframe tbody tr th:only-of-type {\n",
              "        vertical-align: middle;\n",
              "    }\n",
              "\n",
              "    .dataframe tbody tr th {\n",
              "        vertical-align: top;\n",
              "    }\n",
              "\n",
              "    .dataframe thead th {\n",
              "        text-align: right;\n",
              "    }\n",
              "</style>\n",
              "<table border=\"1\" class=\"dataframe\">\n",
              "  <thead>\n",
              "    <tr style=\"text-align: right;\">\n",
              "      <th></th>\n",
              "      <th>A</th>\n",
              "      <th>B</th>\n",
              "      <th>C</th>\n",
              "      <th>D</th>\n",
              "    </tr>\n",
              "    <tr>\n",
              "      <th>lowercase</th>\n",
              "      <th></th>\n",
              "      <th></th>\n",
              "      <th></th>\n",
              "      <th></th>\n",
              "    </tr>\n",
              "  </thead>\n",
              "  <tbody>\n",
              "    <tr>\n",
              "      <th>a</th>\n",
              "      <td>1</td>\n",
              "      <td>10</td>\n",
              "      <td>100</td>\n",
              "      <td>1000</td>\n",
              "    </tr>\n",
              "    <tr>\n",
              "      <th>b</th>\n",
              "      <td>2</td>\n",
              "      <td>20</td>\n",
              "      <td>200</td>\n",
              "      <td>2000</td>\n",
              "    </tr>\n",
              "    <tr>\n",
              "      <th>c</th>\n",
              "      <td>3</td>\n",
              "      <td>30</td>\n",
              "      <td>300</td>\n",
              "      <td>3000</td>\n",
              "    </tr>\n",
              "    <tr>\n",
              "      <th>d</th>\n",
              "      <td>4</td>\n",
              "      <td>40</td>\n",
              "      <td>400</td>\n",
              "      <td>4000</td>\n",
              "    </tr>\n",
              "  </tbody>\n",
              "</table>\n",
              "</div>"
            ],
            "text/plain": [
              "           A   B    C     D\n",
              "lowercase                  \n",
              "a          1  10  100  1000\n",
              "b          2  20  200  2000\n",
              "c          3  30  300  3000\n",
              "d          4  40  400  4000"
            ]
          },
          "metadata": {},
          "execution_count": 33
        }
      ]
    },
    {
      "cell_type": "code",
      "metadata": {
        "colab": {
          "base_uri": "https://localhost:8080/"
        },
        "id": "FtYMjdSo5_41",
        "outputId": "6aa31867-3b08-4d94-f7e8-2cb9059ca7e6"
      },
      "source": [
        "df2.columns"
      ],
      "execution_count": null,
      "outputs": [
        {
          "output_type": "execute_result",
          "data": {
            "text/plain": [
              "Index(['A', 'B', 'C', 'D'], dtype='object')"
            ]
          },
          "metadata": {},
          "execution_count": 34
        }
      ]
    },
    {
      "cell_type": "code",
      "metadata": {
        "id": "Zx63jjm25_41"
      },
      "source": [
        "df2.index.name"
      ],
      "execution_count": null,
      "outputs": []
    },
    {
      "cell_type": "code",
      "metadata": {
        "colab": {
          "base_uri": "https://localhost:8080/",
          "height": 204
        },
        "id": "pyEN6Goe5_41",
        "outputId": "457e107f-fb32-4d06-a46b-1984dba08d2e"
      },
      "source": [
        "#The columns can also be renamed using the \n",
        "#pandas.DataFrame.columns.name attribute:\n",
        "df2.columns.name = 'uppercase'\n",
        "df2"
      ],
      "execution_count": null,
      "outputs": [
        {
          "output_type": "execute_result",
          "data": {
            "text/html": [
              "<div>\n",
              "<style scoped>\n",
              "    .dataframe tbody tr th:only-of-type {\n",
              "        vertical-align: middle;\n",
              "    }\n",
              "\n",
              "    .dataframe tbody tr th {\n",
              "        vertical-align: top;\n",
              "    }\n",
              "\n",
              "    .dataframe thead th {\n",
              "        text-align: right;\n",
              "    }\n",
              "</style>\n",
              "<table border=\"1\" class=\"dataframe\">\n",
              "  <thead>\n",
              "    <tr style=\"text-align: right;\">\n",
              "      <th>uppercase</th>\n",
              "      <th>A</th>\n",
              "      <th>B</th>\n",
              "      <th>C</th>\n",
              "      <th>D</th>\n",
              "    </tr>\n",
              "    <tr>\n",
              "      <th>lowercase</th>\n",
              "      <th></th>\n",
              "      <th></th>\n",
              "      <th></th>\n",
              "      <th></th>\n",
              "    </tr>\n",
              "  </thead>\n",
              "  <tbody>\n",
              "    <tr>\n",
              "      <th>a</th>\n",
              "      <td>1</td>\n",
              "      <td>10</td>\n",
              "      <td>100</td>\n",
              "      <td>1000</td>\n",
              "    </tr>\n",
              "    <tr>\n",
              "      <th>b</th>\n",
              "      <td>2</td>\n",
              "      <td>20</td>\n",
              "      <td>200</td>\n",
              "      <td>2000</td>\n",
              "    </tr>\n",
              "    <tr>\n",
              "      <th>c</th>\n",
              "      <td>3</td>\n",
              "      <td>30</td>\n",
              "      <td>300</td>\n",
              "      <td>3000</td>\n",
              "    </tr>\n",
              "    <tr>\n",
              "      <th>d</th>\n",
              "      <td>4</td>\n",
              "      <td>40</td>\n",
              "      <td>400</td>\n",
              "      <td>4000</td>\n",
              "    </tr>\n",
              "  </tbody>\n",
              "</table>\n",
              "</div>"
            ],
            "text/plain": [
              "uppercase  A   B    C     D\n",
              "lowercase                  \n",
              "a          1  10  100  1000\n",
              "b          2  20  200  2000\n",
              "c          3  30  300  3000\n",
              "d          4  40  400  4000"
            ]
          },
          "metadata": {},
          "execution_count": 35
        }
      ]
    },
    {
      "cell_type": "markdown",
      "metadata": {
        "id": "tpiCIAu45_42"
      },
      "source": [
        "## pandas.Index"
      ]
    },
    {
      "cell_type": "markdown",
      "metadata": {
        "id": "r_N12QxL5_42"
      },
      "source": [
        "Both the pandas.Series and pandas.DataFrame data structures utilize the pandas.Index data structure.\n",
        "\n",
        "There are many special types of Index objects:\n",
        "\n",
        "* Int64Index: Int64Index contains integer index values.\n",
        "* MultiIndex: MultiIndex contains indices that are tuples used in hierarchical indexing, which we will explore in this course.\n",
        "* DatetimeIndex: DatetimeIndex contains datetime index values for time series datasets."
      ]
    },
    {
      "cell_type": "code",
      "metadata": {
        "id": "vVcxhOtN5_43"
      },
      "source": [
        "#We can create a pandas.Index object by doing the following:\n",
        "ind1 = pd.Index(range(5))\n",
        "ind1"
      ],
      "execution_count": null,
      "outputs": []
    },
    {
      "cell_type": "code",
      "metadata": {
        "id": "UTM7frj95_43"
      },
      "source": [
        "a = range(5)\n",
        "a"
      ],
      "execution_count": null,
      "outputs": []
    },
    {
      "cell_type": "code",
      "metadata": {
        "id": "gwoNxD8c5_44"
      },
      "source": [
        "#We can create a pandas.Index object by doing the following:\n",
        "ind2 = pd.Index(list(range(5)))\n",
        "ind2"
      ],
      "execution_count": null,
      "outputs": []
    },
    {
      "cell_type": "code",
      "metadata": {
        "id": "iYMxKerM5_44"
      },
      "source": [
        "#Index objects are immutable and thus cannot be modified in place.\n",
        "#Let's see what happens if we try to modify an element in an Index \n",
        "#object:\n",
        "\n",
        "ind2[0] = -1"
      ],
      "execution_count": null,
      "outputs": []
    },
    {
      "cell_type": "code",
      "metadata": {
        "id": "buGZJduL5_45"
      },
      "source": [
        "ind2[1:4]"
      ],
      "execution_count": null,
      "outputs": []
    },
    {
      "cell_type": "markdown",
      "metadata": {
        "id": "GLsg9SUX5_45"
      },
      "source": [
        "# Essential pandas.DataFrame Operations"
      ]
    },
    {
      "cell_type": "markdown",
      "metadata": {
        "id": "Ng-GRLWH5_45"
      },
      "source": [
        "### Indexing, Selection and Filtering of DataFrames"
      ]
    },
    {
      "cell_type": "code",
      "metadata": {
        "id": "NGi-PK745_46"
      },
      "source": [
        "#Let's inspect the contents of the df2 DataFrame created earlier.\n",
        "df2"
      ],
      "execution_count": null,
      "outputs": []
    },
    {
      "cell_type": "code",
      "metadata": {
        "colab": {
          "base_uri": "https://localhost:8080/"
        },
        "id": "Egks09z15_46",
        "outputId": "6e51a896-cb2b-4ae7-f536-a49059725ff4"
      },
      "source": [
        "df2.shape"
      ],
      "execution_count": null,
      "outputs": [
        {
          "output_type": "execute_result",
          "data": {
            "text/plain": [
              "(4, 4)"
            ]
          },
          "metadata": {},
          "execution_count": 36
        }
      ]
    },
    {
      "cell_type": "code",
      "metadata": {
        "id": "RWllKEOm5_46"
      },
      "source": [
        "#We can select the Series of values in column B by performing \n",
        "#the following operation:\n",
        "df2['B']"
      ],
      "execution_count": null,
      "outputs": []
    },
    {
      "cell_type": "code",
      "metadata": {
        "colab": {
          "base_uri": "https://localhost:8080/",
          "height": 204
        },
        "id": "D_ZeHKlw5_46",
        "outputId": "42c192ab-a078-44a3-fc26-9371a04608ec"
      },
      "source": [
        "#We can select multiple columns by passing a list of column \n",
        "#names (somewhat similar to what we saw with numpy.ndarrays).\n",
        "df2[['A', 'C']]"
      ],
      "execution_count": null,
      "outputs": [
        {
          "output_type": "execute_result",
          "data": {
            "text/html": [
              "<div>\n",
              "<style scoped>\n",
              "    .dataframe tbody tr th:only-of-type {\n",
              "        vertical-align: middle;\n",
              "    }\n",
              "\n",
              "    .dataframe tbody tr th {\n",
              "        vertical-align: top;\n",
              "    }\n",
              "\n",
              "    .dataframe thead th {\n",
              "        text-align: right;\n",
              "    }\n",
              "</style>\n",
              "<table border=\"1\" class=\"dataframe\">\n",
              "  <thead>\n",
              "    <tr style=\"text-align: right;\">\n",
              "      <th>uppercase</th>\n",
              "      <th>A</th>\n",
              "      <th>C</th>\n",
              "    </tr>\n",
              "    <tr>\n",
              "      <th>lowercase</th>\n",
              "      <th></th>\n",
              "      <th></th>\n",
              "    </tr>\n",
              "  </thead>\n",
              "  <tbody>\n",
              "    <tr>\n",
              "      <th>a</th>\n",
              "      <td>1</td>\n",
              "      <td>100</td>\n",
              "    </tr>\n",
              "    <tr>\n",
              "      <th>b</th>\n",
              "      <td>2</td>\n",
              "      <td>200</td>\n",
              "    </tr>\n",
              "    <tr>\n",
              "      <th>c</th>\n",
              "      <td>3</td>\n",
              "      <td>300</td>\n",
              "    </tr>\n",
              "    <tr>\n",
              "      <th>d</th>\n",
              "      <td>4</td>\n",
              "      <td>400</td>\n",
              "    </tr>\n",
              "  </tbody>\n",
              "</table>\n",
              "</div>"
            ],
            "text/plain": [
              "uppercase  A    C\n",
              "lowercase        \n",
              "a          1  100\n",
              "b          2  200\n",
              "c          3  300\n",
              "d          4  400"
            ]
          },
          "metadata": {},
          "execution_count": 37
        }
      ]
    },
    {
      "cell_type": "code",
      "metadata": {
        "id": "WzRjJasF5_47"
      },
      "source": [
        "df2"
      ],
      "execution_count": null,
      "outputs": []
    },
    {
      "cell_type": "code",
      "metadata": {
        "colab": {
          "base_uri": "https://localhost:8080/",
          "height": 142
        },
        "id": "37mlYALK5_47",
        "outputId": "daf6777d-0d0b-4f27-8627-ddd737dcad6f"
      },
      "source": [
        "#We can use Boolean selection with DataFrames by doing the \n",
        "#following. This selects the following rows, which satisfy \n",
        "#the provided condition:\n",
        "\n",
        "\n",
        "df2[(df2['D'] > 1000) & (df2['D'] <= 3000)]"
      ],
      "execution_count": null,
      "outputs": [
        {
          "output_type": "execute_result",
          "data": {
            "text/html": [
              "<div>\n",
              "<style scoped>\n",
              "    .dataframe tbody tr th:only-of-type {\n",
              "        vertical-align: middle;\n",
              "    }\n",
              "\n",
              "    .dataframe tbody tr th {\n",
              "        vertical-align: top;\n",
              "    }\n",
              "\n",
              "    .dataframe thead th {\n",
              "        text-align: right;\n",
              "    }\n",
              "</style>\n",
              "<table border=\"1\" class=\"dataframe\">\n",
              "  <thead>\n",
              "    <tr style=\"text-align: right;\">\n",
              "      <th>uppercase</th>\n",
              "      <th>A</th>\n",
              "      <th>B</th>\n",
              "      <th>C</th>\n",
              "      <th>D</th>\n",
              "    </tr>\n",
              "    <tr>\n",
              "      <th>lowercase</th>\n",
              "      <th></th>\n",
              "      <th></th>\n",
              "      <th></th>\n",
              "      <th></th>\n",
              "    </tr>\n",
              "  </thead>\n",
              "  <tbody>\n",
              "    <tr>\n",
              "      <th>b</th>\n",
              "      <td>2</td>\n",
              "      <td>20</td>\n",
              "      <td>200</td>\n",
              "      <td>2000</td>\n",
              "    </tr>\n",
              "    <tr>\n",
              "      <th>c</th>\n",
              "      <td>3</td>\n",
              "      <td>30</td>\n",
              "      <td>300</td>\n",
              "      <td>3000</td>\n",
              "    </tr>\n",
              "  </tbody>\n",
              "</table>\n",
              "</div>"
            ],
            "text/plain": [
              "uppercase  A   B    C     D\n",
              "lowercase                  \n",
              "b          2  20  200  2000\n",
              "c          3  30  300  3000"
            ]
          },
          "metadata": {},
          "execution_count": 38
        }
      ]
    },
    {
      "cell_type": "code",
      "metadata": {
        "colab": {
          "base_uri": "https://localhost:8080/",
          "height": 582
        },
        "id": "vpVycnkL5_47",
        "outputId": "6efd441a-517b-4b03-a9a2-40cd92bc001c"
      },
      "source": [
        "#The pandas.DataFrame.loc[...] attribute lets us index \n",
        "#rows instead of columns. \n",
        "#The following selects the two rows c and d:\n",
        "\n",
        "df2.loc[['c', 'd']]"
      ],
      "execution_count": null,
      "outputs": [
        {
          "output_type": "error",
          "ename": "KeyError",
          "evalue": "ignored",
          "traceback": [
            "\u001b[0;31m---------------------------------------------------------------------------\u001b[0m",
            "\u001b[0;31mKeyError\u001b[0m                                  Traceback (most recent call last)",
            "\u001b[0;32m/usr/local/lib/python3.7/dist-packages/pandas/core/indexes/base.py\u001b[0m in \u001b[0;36mget_loc\u001b[0;34m(self, key, method, tolerance)\u001b[0m\n\u001b[1;32m   2897\u001b[0m             \u001b[0;32mtry\u001b[0m\u001b[0;34m:\u001b[0m\u001b[0;34m\u001b[0m\u001b[0;34m\u001b[0m\u001b[0m\n\u001b[0;32m-> 2898\u001b[0;31m                 \u001b[0;32mreturn\u001b[0m \u001b[0mself\u001b[0m\u001b[0;34m.\u001b[0m\u001b[0m_engine\u001b[0m\u001b[0;34m.\u001b[0m\u001b[0mget_loc\u001b[0m\u001b[0;34m(\u001b[0m\u001b[0mcasted_key\u001b[0m\u001b[0;34m)\u001b[0m\u001b[0;34m\u001b[0m\u001b[0;34m\u001b[0m\u001b[0m\n\u001b[0m\u001b[1;32m   2899\u001b[0m             \u001b[0;32mexcept\u001b[0m \u001b[0mKeyError\u001b[0m \u001b[0;32mas\u001b[0m \u001b[0merr\u001b[0m\u001b[0;34m:\u001b[0m\u001b[0;34m\u001b[0m\u001b[0;34m\u001b[0m\u001b[0m\n",
            "\u001b[0;32mpandas/_libs/index.pyx\u001b[0m in \u001b[0;36mpandas._libs.index.IndexEngine.get_loc\u001b[0;34m()\u001b[0m\n",
            "\u001b[0;32mpandas/_libs/index.pyx\u001b[0m in \u001b[0;36mpandas._libs.index.IndexEngine.get_loc\u001b[0;34m()\u001b[0m\n",
            "\u001b[0;32mpandas/_libs/hashtable_class_helper.pxi\u001b[0m in \u001b[0;36mpandas._libs.hashtable.PyObjectHashTable.get_item\u001b[0;34m()\u001b[0m\n",
            "\u001b[0;32mpandas/_libs/hashtable_class_helper.pxi\u001b[0m in \u001b[0;36mpandas._libs.hashtable.PyObjectHashTable.get_item\u001b[0;34m()\u001b[0m\n",
            "\u001b[0;31mKeyError\u001b[0m: 0",
            "\nThe above exception was the direct cause of the following exception:\n",
            "\u001b[0;31mKeyError\u001b[0m                                  Traceback (most recent call last)",
            "\u001b[0;32m<ipython-input-42-b5ece4977acb>\u001b[0m in \u001b[0;36m<module>\u001b[0;34m()\u001b[0m\n\u001b[1;32m      3\u001b[0m \u001b[0;31m#The following selects the two rows c and d:\u001b[0m\u001b[0;34m\u001b[0m\u001b[0;34m\u001b[0m\u001b[0;34m\u001b[0m\u001b[0m\n\u001b[1;32m      4\u001b[0m \u001b[0;34m\u001b[0m\u001b[0m\n\u001b[0;32m----> 5\u001b[0;31m \u001b[0mdf2\u001b[0m\u001b[0;34m.\u001b[0m\u001b[0mloc\u001b[0m\u001b[0;34m[\u001b[0m\u001b[0;36m0\u001b[0m\u001b[0;34m,\u001b[0m\u001b[0;36m1\u001b[0m\u001b[0;34m]\u001b[0m\u001b[0;34m\u001b[0m\u001b[0;34m\u001b[0m\u001b[0m\n\u001b[0m",
            "\u001b[0;32m/usr/local/lib/python3.7/dist-packages/pandas/core/indexing.py\u001b[0m in \u001b[0;36m__getitem__\u001b[0;34m(self, key)\u001b[0m\n\u001b[1;32m    871\u001b[0m                     \u001b[0;31m# AttributeError for IntervalTree get_value\u001b[0m\u001b[0;34m\u001b[0m\u001b[0;34m\u001b[0m\u001b[0;34m\u001b[0m\u001b[0m\n\u001b[1;32m    872\u001b[0m                     \u001b[0;32mpass\u001b[0m\u001b[0;34m\u001b[0m\u001b[0;34m\u001b[0m\u001b[0m\n\u001b[0;32m--> 873\u001b[0;31m             \u001b[0;32mreturn\u001b[0m \u001b[0mself\u001b[0m\u001b[0;34m.\u001b[0m\u001b[0m_getitem_tuple\u001b[0m\u001b[0;34m(\u001b[0m\u001b[0mkey\u001b[0m\u001b[0;34m)\u001b[0m\u001b[0;34m\u001b[0m\u001b[0;34m\u001b[0m\u001b[0m\n\u001b[0m\u001b[1;32m    874\u001b[0m         \u001b[0;32melse\u001b[0m\u001b[0;34m:\u001b[0m\u001b[0;34m\u001b[0m\u001b[0;34m\u001b[0m\u001b[0m\n\u001b[1;32m    875\u001b[0m             \u001b[0;31m# we by definition only have the 0th axis\u001b[0m\u001b[0;34m\u001b[0m\u001b[0;34m\u001b[0m\u001b[0;34m\u001b[0m\u001b[0m\n",
            "\u001b[0;32m/usr/local/lib/python3.7/dist-packages/pandas/core/indexing.py\u001b[0m in \u001b[0;36m_getitem_tuple\u001b[0;34m(self, tup)\u001b[0m\n\u001b[1;32m   1042\u001b[0m     \u001b[0;32mdef\u001b[0m \u001b[0m_getitem_tuple\u001b[0m\u001b[0;34m(\u001b[0m\u001b[0mself\u001b[0m\u001b[0;34m,\u001b[0m \u001b[0mtup\u001b[0m\u001b[0;34m:\u001b[0m \u001b[0mTuple\u001b[0m\u001b[0;34m)\u001b[0m\u001b[0;34m:\u001b[0m\u001b[0;34m\u001b[0m\u001b[0;34m\u001b[0m\u001b[0m\n\u001b[1;32m   1043\u001b[0m         \u001b[0;32mtry\u001b[0m\u001b[0;34m:\u001b[0m\u001b[0;34m\u001b[0m\u001b[0;34m\u001b[0m\u001b[0m\n\u001b[0;32m-> 1044\u001b[0;31m             \u001b[0;32mreturn\u001b[0m \u001b[0mself\u001b[0m\u001b[0;34m.\u001b[0m\u001b[0m_getitem_lowerdim\u001b[0m\u001b[0;34m(\u001b[0m\u001b[0mtup\u001b[0m\u001b[0;34m)\u001b[0m\u001b[0;34m\u001b[0m\u001b[0;34m\u001b[0m\u001b[0m\n\u001b[0m\u001b[1;32m   1045\u001b[0m         \u001b[0;32mexcept\u001b[0m \u001b[0mIndexingError\u001b[0m\u001b[0;34m:\u001b[0m\u001b[0;34m\u001b[0m\u001b[0;34m\u001b[0m\u001b[0m\n\u001b[1;32m   1046\u001b[0m             \u001b[0;32mpass\u001b[0m\u001b[0;34m\u001b[0m\u001b[0;34m\u001b[0m\u001b[0m\n",
            "\u001b[0;32m/usr/local/lib/python3.7/dist-packages/pandas/core/indexing.py\u001b[0m in \u001b[0;36m_getitem_lowerdim\u001b[0;34m(self, tup)\u001b[0m\n\u001b[1;32m    784\u001b[0m                 \u001b[0;31m# We don't need to check for tuples here because those are\u001b[0m\u001b[0;34m\u001b[0m\u001b[0;34m\u001b[0m\u001b[0;34m\u001b[0m\u001b[0m\n\u001b[1;32m    785\u001b[0m                 \u001b[0;31m#  caught by the _is_nested_tuple_indexer check above.\u001b[0m\u001b[0;34m\u001b[0m\u001b[0;34m\u001b[0m\u001b[0;34m\u001b[0m\u001b[0m\n\u001b[0;32m--> 786\u001b[0;31m                 \u001b[0msection\u001b[0m \u001b[0;34m=\u001b[0m \u001b[0mself\u001b[0m\u001b[0;34m.\u001b[0m\u001b[0m_getitem_axis\u001b[0m\u001b[0;34m(\u001b[0m\u001b[0mkey\u001b[0m\u001b[0;34m,\u001b[0m \u001b[0maxis\u001b[0m\u001b[0;34m=\u001b[0m\u001b[0mi\u001b[0m\u001b[0;34m)\u001b[0m\u001b[0;34m\u001b[0m\u001b[0;34m\u001b[0m\u001b[0m\n\u001b[0m\u001b[1;32m    787\u001b[0m \u001b[0;34m\u001b[0m\u001b[0m\n\u001b[1;32m    788\u001b[0m                 \u001b[0;31m# We should never have a scalar section here, because\u001b[0m\u001b[0;34m\u001b[0m\u001b[0;34m\u001b[0m\u001b[0;34m\u001b[0m\u001b[0m\n",
            "\u001b[0;32m/usr/local/lib/python3.7/dist-packages/pandas/core/indexing.py\u001b[0m in \u001b[0;36m_getitem_axis\u001b[0;34m(self, key, axis)\u001b[0m\n\u001b[1;32m   1108\u001b[0m         \u001b[0;31m# fall thru to straight lookup\u001b[0m\u001b[0;34m\u001b[0m\u001b[0;34m\u001b[0m\u001b[0;34m\u001b[0m\u001b[0m\n\u001b[1;32m   1109\u001b[0m         \u001b[0mself\u001b[0m\u001b[0;34m.\u001b[0m\u001b[0m_validate_key\u001b[0m\u001b[0;34m(\u001b[0m\u001b[0mkey\u001b[0m\u001b[0;34m,\u001b[0m \u001b[0maxis\u001b[0m\u001b[0;34m)\u001b[0m\u001b[0;34m\u001b[0m\u001b[0;34m\u001b[0m\u001b[0m\n\u001b[0;32m-> 1110\u001b[0;31m         \u001b[0;32mreturn\u001b[0m \u001b[0mself\u001b[0m\u001b[0;34m.\u001b[0m\u001b[0m_get_label\u001b[0m\u001b[0;34m(\u001b[0m\u001b[0mkey\u001b[0m\u001b[0;34m,\u001b[0m \u001b[0maxis\u001b[0m\u001b[0;34m=\u001b[0m\u001b[0maxis\u001b[0m\u001b[0;34m)\u001b[0m\u001b[0;34m\u001b[0m\u001b[0;34m\u001b[0m\u001b[0m\n\u001b[0m\u001b[1;32m   1111\u001b[0m \u001b[0;34m\u001b[0m\u001b[0m\n\u001b[1;32m   1112\u001b[0m     \u001b[0;32mdef\u001b[0m \u001b[0m_get_slice_axis\u001b[0m\u001b[0;34m(\u001b[0m\u001b[0mself\u001b[0m\u001b[0;34m,\u001b[0m \u001b[0mslice_obj\u001b[0m\u001b[0;34m:\u001b[0m \u001b[0mslice\u001b[0m\u001b[0;34m,\u001b[0m \u001b[0maxis\u001b[0m\u001b[0;34m:\u001b[0m \u001b[0mint\u001b[0m\u001b[0;34m)\u001b[0m\u001b[0;34m:\u001b[0m\u001b[0;34m\u001b[0m\u001b[0;34m\u001b[0m\u001b[0m\n",
            "\u001b[0;32m/usr/local/lib/python3.7/dist-packages/pandas/core/indexing.py\u001b[0m in \u001b[0;36m_get_label\u001b[0;34m(self, label, axis)\u001b[0m\n\u001b[1;32m   1057\u001b[0m     \u001b[0;32mdef\u001b[0m \u001b[0m_get_label\u001b[0m\u001b[0;34m(\u001b[0m\u001b[0mself\u001b[0m\u001b[0;34m,\u001b[0m \u001b[0mlabel\u001b[0m\u001b[0;34m,\u001b[0m \u001b[0maxis\u001b[0m\u001b[0;34m:\u001b[0m \u001b[0mint\u001b[0m\u001b[0;34m)\u001b[0m\u001b[0;34m:\u001b[0m\u001b[0;34m\u001b[0m\u001b[0;34m\u001b[0m\u001b[0m\n\u001b[1;32m   1058\u001b[0m         \u001b[0;31m# GH#5667 this will fail if the label is not present in the axis.\u001b[0m\u001b[0;34m\u001b[0m\u001b[0;34m\u001b[0m\u001b[0;34m\u001b[0m\u001b[0m\n\u001b[0;32m-> 1059\u001b[0;31m         \u001b[0;32mreturn\u001b[0m \u001b[0mself\u001b[0m\u001b[0;34m.\u001b[0m\u001b[0mobj\u001b[0m\u001b[0;34m.\u001b[0m\u001b[0mxs\u001b[0m\u001b[0;34m(\u001b[0m\u001b[0mlabel\u001b[0m\u001b[0;34m,\u001b[0m \u001b[0maxis\u001b[0m\u001b[0;34m=\u001b[0m\u001b[0maxis\u001b[0m\u001b[0;34m)\u001b[0m\u001b[0;34m\u001b[0m\u001b[0;34m\u001b[0m\u001b[0m\n\u001b[0m\u001b[1;32m   1060\u001b[0m \u001b[0;34m\u001b[0m\u001b[0m\n\u001b[1;32m   1061\u001b[0m     \u001b[0;32mdef\u001b[0m \u001b[0m_handle_lowerdim_multi_index_axis0\u001b[0m\u001b[0;34m(\u001b[0m\u001b[0mself\u001b[0m\u001b[0;34m,\u001b[0m \u001b[0mtup\u001b[0m\u001b[0;34m:\u001b[0m \u001b[0mTuple\u001b[0m\u001b[0;34m)\u001b[0m\u001b[0;34m:\u001b[0m\u001b[0;34m\u001b[0m\u001b[0;34m\u001b[0m\u001b[0m\n",
            "\u001b[0;32m/usr/local/lib/python3.7/dist-packages/pandas/core/generic.py\u001b[0m in \u001b[0;36mxs\u001b[0;34m(self, key, axis, level, drop_level)\u001b[0m\n\u001b[1;32m   3491\u001b[0m             \u001b[0mloc\u001b[0m\u001b[0;34m,\u001b[0m \u001b[0mnew_index\u001b[0m \u001b[0;34m=\u001b[0m \u001b[0mself\u001b[0m\u001b[0;34m.\u001b[0m\u001b[0mindex\u001b[0m\u001b[0;34m.\u001b[0m\u001b[0mget_loc_level\u001b[0m\u001b[0;34m(\u001b[0m\u001b[0mkey\u001b[0m\u001b[0;34m,\u001b[0m \u001b[0mdrop_level\u001b[0m\u001b[0;34m=\u001b[0m\u001b[0mdrop_level\u001b[0m\u001b[0;34m)\u001b[0m\u001b[0;34m\u001b[0m\u001b[0;34m\u001b[0m\u001b[0m\n\u001b[1;32m   3492\u001b[0m         \u001b[0;32melse\u001b[0m\u001b[0;34m:\u001b[0m\u001b[0;34m\u001b[0m\u001b[0;34m\u001b[0m\u001b[0m\n\u001b[0;32m-> 3493\u001b[0;31m             \u001b[0mloc\u001b[0m \u001b[0;34m=\u001b[0m \u001b[0mself\u001b[0m\u001b[0;34m.\u001b[0m\u001b[0mindex\u001b[0m\u001b[0;34m.\u001b[0m\u001b[0mget_loc\u001b[0m\u001b[0;34m(\u001b[0m\u001b[0mkey\u001b[0m\u001b[0;34m)\u001b[0m\u001b[0;34m\u001b[0m\u001b[0;34m\u001b[0m\u001b[0m\n\u001b[0m\u001b[1;32m   3494\u001b[0m \u001b[0;34m\u001b[0m\u001b[0m\n\u001b[1;32m   3495\u001b[0m             \u001b[0;32mif\u001b[0m \u001b[0misinstance\u001b[0m\u001b[0;34m(\u001b[0m\u001b[0mloc\u001b[0m\u001b[0;34m,\u001b[0m \u001b[0mnp\u001b[0m\u001b[0;34m.\u001b[0m\u001b[0mndarray\u001b[0m\u001b[0;34m)\u001b[0m\u001b[0;34m:\u001b[0m\u001b[0;34m\u001b[0m\u001b[0;34m\u001b[0m\u001b[0m\n",
            "\u001b[0;32m/usr/local/lib/python3.7/dist-packages/pandas/core/indexes/base.py\u001b[0m in \u001b[0;36mget_loc\u001b[0;34m(self, key, method, tolerance)\u001b[0m\n\u001b[1;32m   2898\u001b[0m                 \u001b[0;32mreturn\u001b[0m \u001b[0mself\u001b[0m\u001b[0;34m.\u001b[0m\u001b[0m_engine\u001b[0m\u001b[0;34m.\u001b[0m\u001b[0mget_loc\u001b[0m\u001b[0;34m(\u001b[0m\u001b[0mcasted_key\u001b[0m\u001b[0;34m)\u001b[0m\u001b[0;34m\u001b[0m\u001b[0;34m\u001b[0m\u001b[0m\n\u001b[1;32m   2899\u001b[0m             \u001b[0;32mexcept\u001b[0m \u001b[0mKeyError\u001b[0m \u001b[0;32mas\u001b[0m \u001b[0merr\u001b[0m\u001b[0;34m:\u001b[0m\u001b[0;34m\u001b[0m\u001b[0;34m\u001b[0m\u001b[0m\n\u001b[0;32m-> 2900\u001b[0;31m                 \u001b[0;32mraise\u001b[0m \u001b[0mKeyError\u001b[0m\u001b[0;34m(\u001b[0m\u001b[0mkey\u001b[0m\u001b[0;34m)\u001b[0m \u001b[0;32mfrom\u001b[0m \u001b[0merr\u001b[0m\u001b[0;34m\u001b[0m\u001b[0;34m\u001b[0m\u001b[0m\n\u001b[0m\u001b[1;32m   2901\u001b[0m \u001b[0;34m\u001b[0m\u001b[0m\n\u001b[1;32m   2902\u001b[0m         \u001b[0;32mif\u001b[0m \u001b[0mtolerance\u001b[0m \u001b[0;32mis\u001b[0m \u001b[0;32mnot\u001b[0m \u001b[0;32mNone\u001b[0m\u001b[0;34m:\u001b[0m\u001b[0;34m\u001b[0m\u001b[0;34m\u001b[0m\u001b[0m\n",
            "\u001b[0;31mKeyError\u001b[0m: 0"
          ]
        }
      ]
    },
    {
      "cell_type": "code",
      "metadata": {
        "colab": {
          "base_uri": "https://localhost:8080/",
          "height": 111
        },
        "id": "sEFHUh9n5_48",
        "outputId": "3318a882-2c92-44ec-afde-e788eefcafab"
      },
      "source": [
        "#pandas DataFrames still support standard integer indexing through \n",
        "#the pandas.DataFrame.iloc[...] attribute. We can select the first\n",
        "#row by doing this:\n",
        "\n",
        "df2.iloc[[0]] \n",
        "#This selects the following single-row DataFrame:"
      ],
      "execution_count": null,
      "outputs": [
        {
          "output_type": "execute_result",
          "data": {
            "text/html": [
              "<div>\n",
              "<style scoped>\n",
              "    .dataframe tbody tr th:only-of-type {\n",
              "        vertical-align: middle;\n",
              "    }\n",
              "\n",
              "    .dataframe tbody tr th {\n",
              "        vertical-align: top;\n",
              "    }\n",
              "\n",
              "    .dataframe thead th {\n",
              "        text-align: right;\n",
              "    }\n",
              "</style>\n",
              "<table border=\"1\" class=\"dataframe\">\n",
              "  <thead>\n",
              "    <tr style=\"text-align: right;\">\n",
              "      <th>uppercase</th>\n",
              "      <th>A</th>\n",
              "      <th>B</th>\n",
              "      <th>C</th>\n",
              "      <th>D</th>\n",
              "    </tr>\n",
              "    <tr>\n",
              "      <th>lowercase</th>\n",
              "      <th></th>\n",
              "      <th></th>\n",
              "      <th></th>\n",
              "      <th></th>\n",
              "    </tr>\n",
              "  </thead>\n",
              "  <tbody>\n",
              "    <tr>\n",
              "      <th>a</th>\n",
              "      <td>1</td>\n",
              "      <td>10</td>\n",
              "      <td>100</td>\n",
              "      <td>1000</td>\n",
              "    </tr>\n",
              "  </tbody>\n",
              "</table>\n",
              "</div>"
            ],
            "text/plain": [
              "uppercase  A   B    C     D\n",
              "lowercase                  \n",
              "a          1  10  100  1000"
            ]
          },
          "metadata": {},
          "execution_count": 43
        }
      ]
    },
    {
      "cell_type": "code",
      "metadata": {
        "id": "xjmcwZAB5_48"
      },
      "source": [
        "df2"
      ],
      "execution_count": null,
      "outputs": []
    },
    {
      "cell_type": "code",
      "metadata": {
        "id": "RvMpXPS-5_48"
      },
      "source": [
        "#We can modify the DataFrame with an operation like this:\n",
        "df2[df2['D'] == 2000] = 0\n",
        "df2"
      ],
      "execution_count": null,
      "outputs": []
    },
    {
      "cell_type": "code",
      "metadata": {
        "id": "Ss62Lo4l5_49"
      },
      "source": [
        "df2"
      ],
      "execution_count": null,
      "outputs": []
    },
    {
      "cell_type": "code",
      "metadata": {
        "id": "9tG0joWS5_49"
      },
      "source": [
        "df2[(df2['D'] == 3000)] = 0\n",
        "df2"
      ],
      "execution_count": null,
      "outputs": []
    },
    {
      "cell_type": "markdown",
      "metadata": {
        "id": "tYNf9pEk5_49"
      },
      "source": [
        "## Dropping Rows and Columns from a DataFrame"
      ]
    },
    {
      "cell_type": "markdown",
      "metadata": {
        "id": "fvacVnEZ5_49"
      },
      "source": [
        "Dropping rows and columns from a DataFrame is a critical operation – it not only helps save the computer's memory but also ensures that the DataFrame contains only logically needed information. The steps are as follows:"
      ]
    },
    {
      "cell_type": "code",
      "metadata": {
        "id": "Olp6fKw_5_4-"
      },
      "source": [
        "#Let's display our current DataFrame.\n",
        "df2"
      ],
      "execution_count": null,
      "outputs": []
    },
    {
      "cell_type": "code",
      "metadata": {
        "id": "3TWDnZWR5_4-"
      },
      "source": [
        "#To drop the row at index b, we use the pandas.DataFrame.drop(...) \n",
        "#method.This yields a new DataFrame without the row at index b:\n",
        "df2.drop('b')"
      ],
      "execution_count": null,
      "outputs": []
    },
    {
      "cell_type": "code",
      "metadata": {
        "id": "pGP4LVib5_4_"
      },
      "source": [
        "df2"
      ],
      "execution_count": null,
      "outputs": []
    },
    {
      "cell_type": "code",
      "metadata": {
        "id": "QAzDe0l95_4_"
      },
      "source": [
        "#Let's check whether the original DataFrame was changed:\n",
        "# It hasn't change, that means by default drop does not \n",
        "# affect the original dataframe.\n",
        "df2"
      ],
      "execution_count": null,
      "outputs": []
    },
    {
      "cell_type": "code",
      "metadata": {
        "id": "1fFpMtJj5_4_"
      },
      "source": [
        "# So,to modify the original DataFrame, we use the \n",
        "#inplace= parameter:\n",
        "df2.drop('b', inplace=True)\n",
        "df2"
      ],
      "execution_count": null,
      "outputs": []
    },
    {
      "cell_type": "code",
      "metadata": {
        "id": "I-sf48105_4_"
      },
      "source": [
        "#We can drop multiple rows as well:\n",
        "df2.drop(['a', 'd'])"
      ],
      "execution_count": null,
      "outputs": []
    },
    {
      "cell_type": "code",
      "metadata": {
        "id": "YcCDG0Hn5_5A"
      },
      "source": [
        "#To drop columns instead of rows, we specify the additional \n",
        "#axis= parameter:\n",
        "df2.drop(['A', 'B'], axis=1)"
      ],
      "execution_count": null,
      "outputs": []
    },
    {
      "cell_type": "code",
      "metadata": {
        "id": "Br-jUz245_5A"
      },
      "source": [
        "df2"
      ],
      "execution_count": null,
      "outputs": []
    },
    {
      "cell_type": "markdown",
      "metadata": {
        "id": "eQjGneAr5_5A"
      },
      "source": [
        "## Sorting Values and Ranking the Values Order within a DataFrame"
      ]
    },
    {
      "cell_type": "code",
      "metadata": {
        "id": "57OvmQPt5_5A"
      },
      "source": [
        "import numpy as np\n",
        "import pandas as pd\n",
        "np.random.seed(0)"
      ],
      "execution_count": null,
      "outputs": []
    },
    {
      "cell_type": "markdown",
      "metadata": {
        "id": "Q3XVrGzC5_5B"
      },
      "source": [
        "First, let's create a DataFrame with integer row indices, integer column names, and random values:"
      ]
    },
    {
      "cell_type": "code",
      "metadata": {
        "id": "fB-EC5Wh5_5B",
        "outputId": "2fc5422c-2b6e-4a84-9912-49f6d117390f"
      },
      "source": [
        "np.random.seed(0)\n",
        "df = pd.DataFrame(np.random.randn(5,5), \n",
        "                  index=np.random.randint(0, 100, size=5), \n",
        "                  columns=np.random.randint(0, 100, size=5))\n",
        "df"
      ],
      "execution_count": null,
      "outputs": [
        {
          "data": {
            "text/html": [
              "<div>\n",
              "<style scoped>\n",
              "    .dataframe tbody tr th:only-of-type {\n",
              "        vertical-align: middle;\n",
              "    }\n",
              "\n",
              "    .dataframe tbody tr th {\n",
              "        vertical-align: top;\n",
              "    }\n",
              "\n",
              "    .dataframe thead th {\n",
              "        text-align: right;\n",
              "    }\n",
              "</style>\n",
              "<table border=\"1\" class=\"dataframe\">\n",
              "  <thead>\n",
              "    <tr style=\"text-align: right;\">\n",
              "      <th></th>\n",
              "      <th>17</th>\n",
              "      <th>79</th>\n",
              "      <th>4</th>\n",
              "      <th>42</th>\n",
              "      <th>58</th>\n",
              "    </tr>\n",
              "  </thead>\n",
              "  <tbody>\n",
              "    <tr>\n",
              "      <th>0</th>\n",
              "      <td>1.764052</td>\n",
              "      <td>0.400157</td>\n",
              "      <td>0.978738</td>\n",
              "      <td>2.240893</td>\n",
              "      <td>1.867558</td>\n",
              "    </tr>\n",
              "    <tr>\n",
              "      <th>36</th>\n",
              "      <td>-0.977278</td>\n",
              "      <td>0.950088</td>\n",
              "      <td>-0.151357</td>\n",
              "      <td>-0.103219</td>\n",
              "      <td>0.410599</td>\n",
              "    </tr>\n",
              "    <tr>\n",
              "      <th>53</th>\n",
              "      <td>0.144044</td>\n",
              "      <td>1.454274</td>\n",
              "      <td>0.761038</td>\n",
              "      <td>0.121675</td>\n",
              "      <td>0.443863</td>\n",
              "    </tr>\n",
              "    <tr>\n",
              "      <th>5</th>\n",
              "      <td>0.333674</td>\n",
              "      <td>1.494079</td>\n",
              "      <td>-0.205158</td>\n",
              "      <td>0.313068</td>\n",
              "      <td>-0.854096</td>\n",
              "    </tr>\n",
              "    <tr>\n",
              "      <th>38</th>\n",
              "      <td>-2.552990</td>\n",
              "      <td>0.653619</td>\n",
              "      <td>0.864436</td>\n",
              "      <td>-0.742165</td>\n",
              "      <td>2.269755</td>\n",
              "    </tr>\n",
              "  </tbody>\n",
              "</table>\n",
              "</div>"
            ],
            "text/plain": [
              "          17        79        4         42        58\n",
              "0   1.764052  0.400157  0.978738  2.240893  1.867558\n",
              "36 -0.977278  0.950088 -0.151357 -0.103219  0.410599\n",
              "53  0.144044  1.454274  0.761038  0.121675  0.443863\n",
              "5   0.333674  1.494079 -0.205158  0.313068 -0.854096\n",
              "38 -2.552990  0.653619  0.864436 -0.742165  2.269755"
            ]
          },
          "execution_count": 23,
          "metadata": {},
          "output_type": "execute_result"
        }
      ]
    },
    {
      "cell_type": "code",
      "metadata": {
        "id": "0ioPSH3e5_5B",
        "outputId": "947dc771-568a-4676-add9-f8bc96e282df"
      },
      "source": [
        "#pandas.DataFrame.sort_index(...) sorts the DataFrame by \n",
        "#index values: \n",
        "df.sort_index(inplace = True)\n",
        "df"
      ],
      "execution_count": null,
      "outputs": [
        {
          "data": {
            "text/html": [
              "<div>\n",
              "<style scoped>\n",
              "    .dataframe tbody tr th:only-of-type {\n",
              "        vertical-align: middle;\n",
              "    }\n",
              "\n",
              "    .dataframe tbody tr th {\n",
              "        vertical-align: top;\n",
              "    }\n",
              "\n",
              "    .dataframe thead th {\n",
              "        text-align: right;\n",
              "    }\n",
              "</style>\n",
              "<table border=\"1\" class=\"dataframe\">\n",
              "  <thead>\n",
              "    <tr style=\"text-align: right;\">\n",
              "      <th></th>\n",
              "      <th>17</th>\n",
              "      <th>79</th>\n",
              "      <th>4</th>\n",
              "      <th>42</th>\n",
              "      <th>58</th>\n",
              "    </tr>\n",
              "  </thead>\n",
              "  <tbody>\n",
              "    <tr>\n",
              "      <th>0</th>\n",
              "      <td>1.764052</td>\n",
              "      <td>0.400157</td>\n",
              "      <td>0.978738</td>\n",
              "      <td>2.240893</td>\n",
              "      <td>1.867558</td>\n",
              "    </tr>\n",
              "    <tr>\n",
              "      <th>5</th>\n",
              "      <td>0.333674</td>\n",
              "      <td>1.494079</td>\n",
              "      <td>-0.205158</td>\n",
              "      <td>0.313068</td>\n",
              "      <td>-0.854096</td>\n",
              "    </tr>\n",
              "    <tr>\n",
              "      <th>36</th>\n",
              "      <td>-0.977278</td>\n",
              "      <td>0.950088</td>\n",
              "      <td>-0.151357</td>\n",
              "      <td>-0.103219</td>\n",
              "      <td>0.410599</td>\n",
              "    </tr>\n",
              "    <tr>\n",
              "      <th>38</th>\n",
              "      <td>-2.552990</td>\n",
              "      <td>0.653619</td>\n",
              "      <td>0.864436</td>\n",
              "      <td>-0.742165</td>\n",
              "      <td>2.269755</td>\n",
              "    </tr>\n",
              "    <tr>\n",
              "      <th>53</th>\n",
              "      <td>0.144044</td>\n",
              "      <td>1.454274</td>\n",
              "      <td>0.761038</td>\n",
              "      <td>0.121675</td>\n",
              "      <td>0.443863</td>\n",
              "    </tr>\n",
              "  </tbody>\n",
              "</table>\n",
              "</div>"
            ],
            "text/plain": [
              "          17        79        4         42        58\n",
              "0   1.764052  0.400157  0.978738  2.240893  1.867558\n",
              "5   0.333674  1.494079 -0.205158  0.313068 -0.854096\n",
              "36 -0.977278  0.950088 -0.151357 -0.103219  0.410599\n",
              "38 -2.552990  0.653619  0.864436 -0.742165  2.269755\n",
              "53  0.144044  1.454274  0.761038  0.121675  0.443863"
            ]
          },
          "execution_count": 24,
          "metadata": {},
          "output_type": "execute_result"
        }
      ]
    },
    {
      "cell_type": "code",
      "metadata": {
        "id": "3ujJlgMV5_5B",
        "outputId": "d79f6171-1e87-408b-c159-f88c72f91969"
      },
      "source": [
        "#We can also sort by column name values by specifying the\n",
        "#axis parameter:\n",
        "df.sort_index(axis=1, inplace = True) \n",
        "df"
      ],
      "execution_count": null,
      "outputs": [
        {
          "data": {
            "text/html": [
              "<div>\n",
              "<style scoped>\n",
              "    .dataframe tbody tr th:only-of-type {\n",
              "        vertical-align: middle;\n",
              "    }\n",
              "\n",
              "    .dataframe tbody tr th {\n",
              "        vertical-align: top;\n",
              "    }\n",
              "\n",
              "    .dataframe thead th {\n",
              "        text-align: right;\n",
              "    }\n",
              "</style>\n",
              "<table border=\"1\" class=\"dataframe\">\n",
              "  <thead>\n",
              "    <tr style=\"text-align: right;\">\n",
              "      <th></th>\n",
              "      <th>4</th>\n",
              "      <th>17</th>\n",
              "      <th>42</th>\n",
              "      <th>58</th>\n",
              "      <th>79</th>\n",
              "    </tr>\n",
              "  </thead>\n",
              "  <tbody>\n",
              "    <tr>\n",
              "      <th>0</th>\n",
              "      <td>0.978738</td>\n",
              "      <td>1.764052</td>\n",
              "      <td>2.240893</td>\n",
              "      <td>1.867558</td>\n",
              "      <td>0.400157</td>\n",
              "    </tr>\n",
              "    <tr>\n",
              "      <th>5</th>\n",
              "      <td>-0.205158</td>\n",
              "      <td>0.333674</td>\n",
              "      <td>0.313068</td>\n",
              "      <td>-0.854096</td>\n",
              "      <td>1.494079</td>\n",
              "    </tr>\n",
              "    <tr>\n",
              "      <th>36</th>\n",
              "      <td>-0.151357</td>\n",
              "      <td>-0.977278</td>\n",
              "      <td>-0.103219</td>\n",
              "      <td>0.410599</td>\n",
              "      <td>0.950088</td>\n",
              "    </tr>\n",
              "    <tr>\n",
              "      <th>38</th>\n",
              "      <td>0.864436</td>\n",
              "      <td>-2.552990</td>\n",
              "      <td>-0.742165</td>\n",
              "      <td>2.269755</td>\n",
              "      <td>0.653619</td>\n",
              "    </tr>\n",
              "    <tr>\n",
              "      <th>53</th>\n",
              "      <td>0.761038</td>\n",
              "      <td>0.144044</td>\n",
              "      <td>0.121675</td>\n",
              "      <td>0.443863</td>\n",
              "      <td>1.454274</td>\n",
              "    </tr>\n",
              "  </tbody>\n",
              "</table>\n",
              "</div>"
            ],
            "text/plain": [
              "          4         17        42        58        79\n",
              "0   0.978738  1.764052  2.240893  1.867558  0.400157\n",
              "5  -0.205158  0.333674  0.313068 -0.854096  1.494079\n",
              "36 -0.151357 -0.977278 -0.103219  0.410599  0.950088\n",
              "38  0.864436 -2.552990 -0.742165  2.269755  0.653619\n",
              "53  0.761038  0.144044  0.121675  0.443863  1.454274"
            ]
          },
          "execution_count": 25,
          "metadata": {},
          "output_type": "execute_result"
        }
      ]
    },
    {
      "cell_type": "code",
      "metadata": {
        "id": "USaLjV-W5_5C",
        "outputId": "f012a567-72ea-444d-a032-613837efac8e"
      },
      "source": [
        "df"
      ],
      "execution_count": null,
      "outputs": [
        {
          "data": {
            "text/html": [
              "<div>\n",
              "<style scoped>\n",
              "    .dataframe tbody tr th:only-of-type {\n",
              "        vertical-align: middle;\n",
              "    }\n",
              "\n",
              "    .dataframe tbody tr th {\n",
              "        vertical-align: top;\n",
              "    }\n",
              "\n",
              "    .dataframe thead th {\n",
              "        text-align: right;\n",
              "    }\n",
              "</style>\n",
              "<table border=\"1\" class=\"dataframe\">\n",
              "  <thead>\n",
              "    <tr style=\"text-align: right;\">\n",
              "      <th></th>\n",
              "      <th>4</th>\n",
              "      <th>17</th>\n",
              "      <th>42</th>\n",
              "      <th>58</th>\n",
              "      <th>79</th>\n",
              "    </tr>\n",
              "  </thead>\n",
              "  <tbody>\n",
              "    <tr>\n",
              "      <th>0</th>\n",
              "      <td>0.978738</td>\n",
              "      <td>1.764052</td>\n",
              "      <td>2.240893</td>\n",
              "      <td>1.867558</td>\n",
              "      <td>0.400157</td>\n",
              "    </tr>\n",
              "    <tr>\n",
              "      <th>5</th>\n",
              "      <td>-0.205158</td>\n",
              "      <td>0.333674</td>\n",
              "      <td>0.313068</td>\n",
              "      <td>-0.854096</td>\n",
              "      <td>1.494079</td>\n",
              "    </tr>\n",
              "    <tr>\n",
              "      <th>36</th>\n",
              "      <td>-0.151357</td>\n",
              "      <td>-0.977278</td>\n",
              "      <td>-0.103219</td>\n",
              "      <td>0.410599</td>\n",
              "      <td>0.950088</td>\n",
              "    </tr>\n",
              "    <tr>\n",
              "      <th>38</th>\n",
              "      <td>0.864436</td>\n",
              "      <td>-2.552990</td>\n",
              "      <td>-0.742165</td>\n",
              "      <td>2.269755</td>\n",
              "      <td>0.653619</td>\n",
              "    </tr>\n",
              "    <tr>\n",
              "      <th>53</th>\n",
              "      <td>0.761038</td>\n",
              "      <td>0.144044</td>\n",
              "      <td>0.121675</td>\n",
              "      <td>0.443863</td>\n",
              "      <td>1.454274</td>\n",
              "    </tr>\n",
              "  </tbody>\n",
              "</table>\n",
              "</div>"
            ],
            "text/plain": [
              "          4         17        42        58        79\n",
              "0   0.978738  1.764052  2.240893  1.867558  0.400157\n",
              "5  -0.205158  0.333674  0.313068 -0.854096  1.494079\n",
              "36 -0.151357 -0.977278 -0.103219  0.410599  0.950088\n",
              "38  0.864436 -2.552990 -0.742165  2.269755  0.653619\n",
              "53  0.761038  0.144044  0.121675  0.443863  1.454274"
            ]
          },
          "execution_count": 26,
          "metadata": {},
          "output_type": "execute_result"
        }
      ]
    },
    {
      "cell_type": "code",
      "metadata": {
        "id": "VCk9f55q5_5C",
        "outputId": "80816db9-97b4-4965-84eb-59c3a01bfd33"
      },
      "source": [
        "df.columns"
      ],
      "execution_count": null,
      "outputs": [
        {
          "data": {
            "text/plain": [
              "Int64Index([4, 17, 42, 58, 79], dtype='int64')"
            ]
          },
          "execution_count": 27,
          "metadata": {},
          "output_type": "execute_result"
        }
      ]
    },
    {
      "cell_type": "code",
      "metadata": {
        "id": "cjyNdA1n5_5C",
        "outputId": "b9055be6-54b9-456d-af7a-5d057fd94c01"
      },
      "source": [
        "df.columns[2]"
      ],
      "execution_count": null,
      "outputs": [
        {
          "data": {
            "text/plain": [
              "42"
            ]
          },
          "execution_count": 28,
          "metadata": {},
          "output_type": "execute_result"
        }
      ]
    },
    {
      "cell_type": "code",
      "metadata": {
        "id": "bgyVC4A35_5C"
      },
      "source": [
        "#To sort the values in the DataFrame, we use the \n",
        "#pandas.DataFrame.sort_values(...) method, \n",
        "#which takes a by= parameter specifying which column(s) \n",
        "#to sort by.This yields the following DataFrame sorted by \n",
        "#the values in the first column:\n",
        "\n",
        "df.sort_values(by=df.columns[0], inplace = True)"
      ],
      "execution_count": null,
      "outputs": []
    },
    {
      "cell_type": "code",
      "metadata": {
        "id": "haifWwqA5_5C",
        "outputId": "3ee0e682-a1c5-45e4-cfcc-8e607e6a2a46"
      },
      "source": [
        "df"
      ],
      "execution_count": null,
      "outputs": [
        {
          "data": {
            "text/html": [
              "<div>\n",
              "<style scoped>\n",
              "    .dataframe tbody tr th:only-of-type {\n",
              "        vertical-align: middle;\n",
              "    }\n",
              "\n",
              "    .dataframe tbody tr th {\n",
              "        vertical-align: top;\n",
              "    }\n",
              "\n",
              "    .dataframe thead th {\n",
              "        text-align: right;\n",
              "    }\n",
              "</style>\n",
              "<table border=\"1\" class=\"dataframe\">\n",
              "  <thead>\n",
              "    <tr style=\"text-align: right;\">\n",
              "      <th></th>\n",
              "      <th>4</th>\n",
              "      <th>17</th>\n",
              "      <th>42</th>\n",
              "      <th>58</th>\n",
              "      <th>79</th>\n",
              "    </tr>\n",
              "  </thead>\n",
              "  <tbody>\n",
              "    <tr>\n",
              "      <th>5</th>\n",
              "      <td>-0.205158</td>\n",
              "      <td>0.333674</td>\n",
              "      <td>0.313068</td>\n",
              "      <td>-0.854096</td>\n",
              "      <td>1.494079</td>\n",
              "    </tr>\n",
              "    <tr>\n",
              "      <th>36</th>\n",
              "      <td>-0.151357</td>\n",
              "      <td>-0.977278</td>\n",
              "      <td>-0.103219</td>\n",
              "      <td>0.410599</td>\n",
              "      <td>0.950088</td>\n",
              "    </tr>\n",
              "    <tr>\n",
              "      <th>53</th>\n",
              "      <td>0.761038</td>\n",
              "      <td>0.144044</td>\n",
              "      <td>0.121675</td>\n",
              "      <td>0.443863</td>\n",
              "      <td>1.454274</td>\n",
              "    </tr>\n",
              "    <tr>\n",
              "      <th>38</th>\n",
              "      <td>0.864436</td>\n",
              "      <td>-2.552990</td>\n",
              "      <td>-0.742165</td>\n",
              "      <td>2.269755</td>\n",
              "      <td>0.653619</td>\n",
              "    </tr>\n",
              "    <tr>\n",
              "      <th>0</th>\n",
              "      <td>0.978738</td>\n",
              "      <td>1.764052</td>\n",
              "      <td>2.240893</td>\n",
              "      <td>1.867558</td>\n",
              "      <td>0.400157</td>\n",
              "    </tr>\n",
              "  </tbody>\n",
              "</table>\n",
              "</div>"
            ],
            "text/plain": [
              "          4         17        42        58        79\n",
              "5  -0.205158  0.333674  0.313068 -0.854096  1.494079\n",
              "36 -0.151357 -0.977278 -0.103219  0.410599  0.950088\n",
              "53  0.761038  0.144044  0.121675  0.443863  1.454274\n",
              "38  0.864436 -2.552990 -0.742165  2.269755  0.653619\n",
              "0   0.978738  1.764052  2.240893  1.867558  0.400157"
            ]
          },
          "execution_count": 30,
          "metadata": {},
          "output_type": "execute_result"
        }
      ]
    },
    {
      "cell_type": "code",
      "metadata": {
        "id": "sirp8FAJ5_5D",
        "outputId": "9dc710b2-1bab-4d13-b081-fa548355363e"
      },
      "source": [
        "#The pandas.DataFrame.rank(...) method yields a DataFrame \n",
        "#containing the rank/order of values in each column.\n",
        "#The output contains the rank (in ascending order) of values.\n",
        "df.rank()"
      ],
      "execution_count": null,
      "outputs": [
        {
          "data": {
            "text/html": [
              "<div>\n",
              "<style scoped>\n",
              "    .dataframe tbody tr th:only-of-type {\n",
              "        vertical-align: middle;\n",
              "    }\n",
              "\n",
              "    .dataframe tbody tr th {\n",
              "        vertical-align: top;\n",
              "    }\n",
              "\n",
              "    .dataframe thead th {\n",
              "        text-align: right;\n",
              "    }\n",
              "</style>\n",
              "<table border=\"1\" class=\"dataframe\">\n",
              "  <thead>\n",
              "    <tr style=\"text-align: right;\">\n",
              "      <th></th>\n",
              "      <th>4</th>\n",
              "      <th>17</th>\n",
              "      <th>42</th>\n",
              "      <th>58</th>\n",
              "      <th>79</th>\n",
              "    </tr>\n",
              "  </thead>\n",
              "  <tbody>\n",
              "    <tr>\n",
              "      <th>5</th>\n",
              "      <td>1.0</td>\n",
              "      <td>4.0</td>\n",
              "      <td>4.0</td>\n",
              "      <td>1.0</td>\n",
              "      <td>5.0</td>\n",
              "    </tr>\n",
              "    <tr>\n",
              "      <th>36</th>\n",
              "      <td>2.0</td>\n",
              "      <td>2.0</td>\n",
              "      <td>2.0</td>\n",
              "      <td>2.0</td>\n",
              "      <td>3.0</td>\n",
              "    </tr>\n",
              "    <tr>\n",
              "      <th>53</th>\n",
              "      <td>3.0</td>\n",
              "      <td>3.0</td>\n",
              "      <td>3.0</td>\n",
              "      <td>3.0</td>\n",
              "      <td>4.0</td>\n",
              "    </tr>\n",
              "    <tr>\n",
              "      <th>38</th>\n",
              "      <td>4.0</td>\n",
              "      <td>1.0</td>\n",
              "      <td>1.0</td>\n",
              "      <td>5.0</td>\n",
              "      <td>2.0</td>\n",
              "    </tr>\n",
              "    <tr>\n",
              "      <th>0</th>\n",
              "      <td>5.0</td>\n",
              "      <td>5.0</td>\n",
              "      <td>5.0</td>\n",
              "      <td>4.0</td>\n",
              "      <td>1.0</td>\n",
              "    </tr>\n",
              "  </tbody>\n",
              "</table>\n",
              "</div>"
            ],
            "text/plain": [
              "     4    17   42   58   79\n",
              "5   1.0  4.0  4.0  1.0  5.0\n",
              "36  2.0  2.0  2.0  2.0  3.0\n",
              "53  3.0  3.0  3.0  3.0  4.0\n",
              "38  4.0  1.0  1.0  5.0  2.0\n",
              "0   5.0  5.0  5.0  4.0  1.0"
            ]
          },
          "execution_count": 31,
          "metadata": {},
          "output_type": "execute_result"
        }
      ]
    },
    {
      "cell_type": "markdown",
      "metadata": {
        "id": "l2VFZfU15_5D"
      },
      "source": [
        "## Arithmetic Operations on DataFrames"
      ]
    },
    {
      "cell_type": "markdown",
      "metadata": {
        "id": "ObPnJtyl5_5D"
      },
      "source": [
        "First, let's create two DataFrames for our examples:"
      ]
    },
    {
      "cell_type": "code",
      "metadata": {
        "id": "X6EiuV7B5_5D",
        "outputId": "8c971b62-dfc8-4a9b-fb4c-94a5230214d6"
      },
      "source": [
        "df1 = pd.DataFrame(np.random.randn(3,2), \n",
        "                   index=['A', 'C', 'E'], \n",
        "                   columns=['colA', 'colB'])\n",
        "df1"
      ],
      "execution_count": null,
      "outputs": [
        {
          "data": {
            "text/html": [
              "<div>\n",
              "<style scoped>\n",
              "    .dataframe tbody tr th:only-of-type {\n",
              "        vertical-align: middle;\n",
              "    }\n",
              "\n",
              "    .dataframe tbody tr th {\n",
              "        vertical-align: top;\n",
              "    }\n",
              "\n",
              "    .dataframe thead th {\n",
              "        text-align: right;\n",
              "    }\n",
              "</style>\n",
              "<table border=\"1\" class=\"dataframe\">\n",
              "  <thead>\n",
              "    <tr style=\"text-align: right;\">\n",
              "      <th></th>\n",
              "      <th>colA</th>\n",
              "      <th>colB</th>\n",
              "    </tr>\n",
              "  </thead>\n",
              "  <tbody>\n",
              "    <tr>\n",
              "      <th>A</th>\n",
              "      <td>-1.454366</td>\n",
              "      <td>0.815270</td>\n",
              "    </tr>\n",
              "    <tr>\n",
              "      <th>C</th>\n",
              "      <td>0.229098</td>\n",
              "      <td>-1.026179</td>\n",
              "    </tr>\n",
              "    <tr>\n",
              "      <th>E</th>\n",
              "      <td>0.477525</td>\n",
              "      <td>1.292698</td>\n",
              "    </tr>\n",
              "  </tbody>\n",
              "</table>\n",
              "</div>"
            ],
            "text/plain": [
              "       colA      colB\n",
              "A -1.454366  0.815270\n",
              "C  0.229098 -1.026179\n",
              "E  0.477525  1.292698"
            ]
          },
          "execution_count": 32,
          "metadata": {},
          "output_type": "execute_result"
        }
      ]
    },
    {
      "cell_type": "code",
      "metadata": {
        "id": "yypHqfws5_5D",
        "outputId": "4f2131fc-496b-4259-9128-e9fa08c2c544"
      },
      "source": [
        "df2 = pd.DataFrame(np.random.randn(4,3), \n",
        "                   index=['A', 'B', 'C', 'D'], \n",
        "                   columns=['colA', 'colB', 'colC'])\n",
        "df2"
      ],
      "execution_count": null,
      "outputs": [
        {
          "data": {
            "text/html": [
              "<div>\n",
              "<style scoped>\n",
              "    .dataframe tbody tr th:only-of-type {\n",
              "        vertical-align: middle;\n",
              "    }\n",
              "\n",
              "    .dataframe tbody tr th {\n",
              "        vertical-align: top;\n",
              "    }\n",
              "\n",
              "    .dataframe thead th {\n",
              "        text-align: right;\n",
              "    }\n",
              "</style>\n",
              "<table border=\"1\" class=\"dataframe\">\n",
              "  <thead>\n",
              "    <tr style=\"text-align: right;\">\n",
              "      <th></th>\n",
              "      <th>colA</th>\n",
              "      <th>colB</th>\n",
              "      <th>colC</th>\n",
              "    </tr>\n",
              "  </thead>\n",
              "  <tbody>\n",
              "    <tr>\n",
              "      <th>A</th>\n",
              "      <td>-0.731458</td>\n",
              "      <td>-1.605402</td>\n",
              "      <td>0.989476</td>\n",
              "    </tr>\n",
              "    <tr>\n",
              "      <th>B</th>\n",
              "      <td>0.110815</td>\n",
              "      <td>-0.380931</td>\n",
              "      <td>0.114959</td>\n",
              "    </tr>\n",
              "    <tr>\n",
              "      <th>C</th>\n",
              "      <td>0.345313</td>\n",
              "      <td>-1.734959</td>\n",
              "      <td>1.658351</td>\n",
              "    </tr>\n",
              "    <tr>\n",
              "      <th>D</th>\n",
              "      <td>2.299772</td>\n",
              "      <td>-0.471135</td>\n",
              "      <td>1.262715</td>\n",
              "    </tr>\n",
              "  </tbody>\n",
              "</table>\n",
              "</div>"
            ],
            "text/plain": [
              "       colA      colB      colC\n",
              "A -0.731458 -1.605402  0.989476\n",
              "B  0.110815 -0.380931  0.114959\n",
              "C  0.345313 -1.734959  1.658351\n",
              "D  2.299772 -0.471135  1.262715"
            ]
          },
          "execution_count": 33,
          "metadata": {},
          "output_type": "execute_result"
        }
      ]
    },
    {
      "cell_type": "code",
      "metadata": {
        "id": "uddX18nr5_5E",
        "outputId": "44e74f2e-a0fd-4871-80b7-13829ff91526"
      },
      "source": [
        "#We can add the two DataFrames together. Note that they have \n",
        "#different index values as well as different columns.\n",
        "# The output is a summation of elements if the index and \n",
        "#column exists in both DataFrames, otherwise it is NaN.\n",
        "df1 + df2"
      ],
      "execution_count": null,
      "outputs": [
        {
          "data": {
            "text/html": [
              "<div>\n",
              "<style scoped>\n",
              "    .dataframe tbody tr th:only-of-type {\n",
              "        vertical-align: middle;\n",
              "    }\n",
              "\n",
              "    .dataframe tbody tr th {\n",
              "        vertical-align: top;\n",
              "    }\n",
              "\n",
              "    .dataframe thead th {\n",
              "        text-align: right;\n",
              "    }\n",
              "</style>\n",
              "<table border=\"1\" class=\"dataframe\">\n",
              "  <thead>\n",
              "    <tr style=\"text-align: right;\">\n",
              "      <th></th>\n",
              "      <th>colA</th>\n",
              "      <th>colB</th>\n",
              "      <th>colC</th>\n",
              "    </tr>\n",
              "  </thead>\n",
              "  <tbody>\n",
              "    <tr>\n",
              "      <th>A</th>\n",
              "      <td>-2.185824</td>\n",
              "      <td>-0.790132</td>\n",
              "      <td>NaN</td>\n",
              "    </tr>\n",
              "    <tr>\n",
              "      <th>B</th>\n",
              "      <td>NaN</td>\n",
              "      <td>NaN</td>\n",
              "      <td>NaN</td>\n",
              "    </tr>\n",
              "    <tr>\n",
              "      <th>C</th>\n",
              "      <td>0.574411</td>\n",
              "      <td>-2.761138</td>\n",
              "      <td>NaN</td>\n",
              "    </tr>\n",
              "    <tr>\n",
              "      <th>D</th>\n",
              "      <td>NaN</td>\n",
              "      <td>NaN</td>\n",
              "      <td>NaN</td>\n",
              "    </tr>\n",
              "    <tr>\n",
              "      <th>E</th>\n",
              "      <td>NaN</td>\n",
              "      <td>NaN</td>\n",
              "      <td>NaN</td>\n",
              "    </tr>\n",
              "  </tbody>\n",
              "</table>\n",
              "</div>"
            ],
            "text/plain": [
              "       colA      colB  colC\n",
              "A -2.185824 -0.790132   NaN\n",
              "B       NaN       NaN   NaN\n",
              "C  0.574411 -2.761138   NaN\n",
              "D       NaN       NaN   NaN\n",
              "E       NaN       NaN   NaN"
            ]
          },
          "execution_count": 34,
          "metadata": {},
          "output_type": "execute_result"
        }
      ]
    },
    {
      "cell_type": "code",
      "metadata": {
        "id": "K995QN6w5_5E",
        "outputId": "bc8de40d-4274-4830-ff5a-a6fd8ec4dbb4"
      },
      "source": [
        "2 + np.nan"
      ],
      "execution_count": null,
      "outputs": [
        {
          "data": {
            "text/plain": [
              "nan"
            ]
          },
          "execution_count": 35,
          "metadata": {},
          "output_type": "execute_result"
        }
      ]
    },
    {
      "cell_type": "code",
      "metadata": {
        "id": "ol2s3GoG5_5F",
        "outputId": "3bf747fe-1dea-4176-8400-e8e72ae74a34"
      },
      "source": [
        "#We can use the pandas.DataFrame.add(...) method with fill_value= \n",
        "#to a value to be used instead of NaN (in this case 0):\n",
        "df1.add(df2, fill_value=0)"
      ],
      "execution_count": null,
      "outputs": [
        {
          "data": {
            "text/html": [
              "<div>\n",
              "<style scoped>\n",
              "    .dataframe tbody tr th:only-of-type {\n",
              "        vertical-align: middle;\n",
              "    }\n",
              "\n",
              "    .dataframe tbody tr th {\n",
              "        vertical-align: top;\n",
              "    }\n",
              "\n",
              "    .dataframe thead th {\n",
              "        text-align: right;\n",
              "    }\n",
              "</style>\n",
              "<table border=\"1\" class=\"dataframe\">\n",
              "  <thead>\n",
              "    <tr style=\"text-align: right;\">\n",
              "      <th></th>\n",
              "      <th>colA</th>\n",
              "      <th>colB</th>\n",
              "      <th>colC</th>\n",
              "    </tr>\n",
              "  </thead>\n",
              "  <tbody>\n",
              "    <tr>\n",
              "      <th>A</th>\n",
              "      <td>-2.185824</td>\n",
              "      <td>-0.790132</td>\n",
              "      <td>0.989476</td>\n",
              "    </tr>\n",
              "    <tr>\n",
              "      <th>B</th>\n",
              "      <td>0.110815</td>\n",
              "      <td>-0.380931</td>\n",
              "      <td>0.114959</td>\n",
              "    </tr>\n",
              "    <tr>\n",
              "      <th>C</th>\n",
              "      <td>0.574411</td>\n",
              "      <td>-2.761138</td>\n",
              "      <td>1.658351</td>\n",
              "    </tr>\n",
              "    <tr>\n",
              "      <th>D</th>\n",
              "      <td>2.299772</td>\n",
              "      <td>-0.471135</td>\n",
              "      <td>1.262715</td>\n",
              "    </tr>\n",
              "    <tr>\n",
              "      <th>E</th>\n",
              "      <td>0.477525</td>\n",
              "      <td>1.292698</td>\n",
              "      <td>NaN</td>\n",
              "    </tr>\n",
              "  </tbody>\n",
              "</table>\n",
              "</div>"
            ],
            "text/plain": [
              "       colA      colB      colC\n",
              "A -2.185824 -0.790132  0.989476\n",
              "B  0.110815 -0.380931  0.114959\n",
              "C  0.574411 -2.761138  1.658351\n",
              "D  2.299772 -0.471135  1.262715\n",
              "E  0.477525  1.292698       NaN"
            ]
          },
          "execution_count": 36,
          "metadata": {},
          "output_type": "execute_result"
        }
      ]
    },
    {
      "cell_type": "code",
      "metadata": {
        "id": "6iCKfm8Z5_5F"
      },
      "source": [
        "#We can perform arithmetic operations between DataFrames and \n",
        "#Series as well:"
      ],
      "execution_count": null,
      "outputs": []
    },
    {
      "cell_type": "code",
      "metadata": {
        "id": "M7FHdgOC5_5F",
        "outputId": "9b4d89ac-286e-4670-f03a-548e7a1e08cf"
      },
      "source": [
        "df1"
      ],
      "execution_count": null,
      "outputs": [
        {
          "data": {
            "text/html": [
              "<div>\n",
              "<style scoped>\n",
              "    .dataframe tbody tr th:only-of-type {\n",
              "        vertical-align: middle;\n",
              "    }\n",
              "\n",
              "    .dataframe tbody tr th {\n",
              "        vertical-align: top;\n",
              "    }\n",
              "\n",
              "    .dataframe thead th {\n",
              "        text-align: right;\n",
              "    }\n",
              "</style>\n",
              "<table border=\"1\" class=\"dataframe\">\n",
              "  <thead>\n",
              "    <tr style=\"text-align: right;\">\n",
              "      <th></th>\n",
              "      <th>colA</th>\n",
              "      <th>colB</th>\n",
              "    </tr>\n",
              "  </thead>\n",
              "  <tbody>\n",
              "    <tr>\n",
              "      <th>A</th>\n",
              "      <td>-1.454366</td>\n",
              "      <td>0.815270</td>\n",
              "    </tr>\n",
              "    <tr>\n",
              "      <th>C</th>\n",
              "      <td>0.229098</td>\n",
              "      <td>-1.026179</td>\n",
              "    </tr>\n",
              "    <tr>\n",
              "      <th>E</th>\n",
              "      <td>0.477525</td>\n",
              "      <td>1.292698</td>\n",
              "    </tr>\n",
              "  </tbody>\n",
              "</table>\n",
              "</div>"
            ],
            "text/plain": [
              "       colA      colB\n",
              "A -1.454366  0.815270\n",
              "C  0.229098 -1.026179\n",
              "E  0.477525  1.292698"
            ]
          },
          "execution_count": 38,
          "metadata": {},
          "output_type": "execute_result"
        }
      ]
    },
    {
      "cell_type": "code",
      "metadata": {
        "id": "uR-jwjMn5_5F",
        "outputId": "91b91b19-d309-413a-9c77-a78d722009d4"
      },
      "source": [
        "df2"
      ],
      "execution_count": null,
      "outputs": [
        {
          "data": {
            "text/html": [
              "<div>\n",
              "<style scoped>\n",
              "    .dataframe tbody tr th:only-of-type {\n",
              "        vertical-align: middle;\n",
              "    }\n",
              "\n",
              "    .dataframe tbody tr th {\n",
              "        vertical-align: top;\n",
              "    }\n",
              "\n",
              "    .dataframe thead th {\n",
              "        text-align: right;\n",
              "    }\n",
              "</style>\n",
              "<table border=\"1\" class=\"dataframe\">\n",
              "  <thead>\n",
              "    <tr style=\"text-align: right;\">\n",
              "      <th></th>\n",
              "      <th>colA</th>\n",
              "      <th>colB</th>\n",
              "      <th>colC</th>\n",
              "    </tr>\n",
              "  </thead>\n",
              "  <tbody>\n",
              "    <tr>\n",
              "      <th>A</th>\n",
              "      <td>-0.731458</td>\n",
              "      <td>-1.605402</td>\n",
              "      <td>0.989476</td>\n",
              "    </tr>\n",
              "    <tr>\n",
              "      <th>B</th>\n",
              "      <td>0.110815</td>\n",
              "      <td>-0.380931</td>\n",
              "      <td>0.114959</td>\n",
              "    </tr>\n",
              "    <tr>\n",
              "      <th>C</th>\n",
              "      <td>0.345313</td>\n",
              "      <td>-1.734959</td>\n",
              "      <td>1.658351</td>\n",
              "    </tr>\n",
              "    <tr>\n",
              "      <th>D</th>\n",
              "      <td>2.299772</td>\n",
              "      <td>-0.471135</td>\n",
              "      <td>1.262715</td>\n",
              "    </tr>\n",
              "  </tbody>\n",
              "</table>\n",
              "</div>"
            ],
            "text/plain": [
              "       colA      colB      colC\n",
              "A -0.731458 -1.605402  0.989476\n",
              "B  0.110815 -0.380931  0.114959\n",
              "C  0.345313 -1.734959  1.658351\n",
              "D  2.299772 -0.471135  1.262715"
            ]
          },
          "execution_count": 39,
          "metadata": {},
          "output_type": "execute_result"
        }
      ]
    },
    {
      "cell_type": "code",
      "metadata": {
        "id": "bIFbdOmD5_5G",
        "outputId": "64bc4708-1321-4f71-abb5-3a27c31f78ea"
      },
      "source": [
        "df2['colA']"
      ],
      "execution_count": null,
      "outputs": [
        {
          "data": {
            "text/plain": [
              "A   -0.731458\n",
              "B    0.110815\n",
              "C    0.345313\n",
              "D    2.299772\n",
              "Name: colA, dtype: float64"
            ]
          },
          "execution_count": 40,
          "metadata": {},
          "output_type": "execute_result"
        }
      ]
    },
    {
      "cell_type": "code",
      "metadata": {
        "id": "Oa_7B46c5_5G",
        "outputId": "afa75776-bcaa-4e80-f662-a49ab0911bc9"
      },
      "source": [
        "df2[['colA']]"
      ],
      "execution_count": null,
      "outputs": [
        {
          "data": {
            "text/html": [
              "<div>\n",
              "<style scoped>\n",
              "    .dataframe tbody tr th:only-of-type {\n",
              "        vertical-align: middle;\n",
              "    }\n",
              "\n",
              "    .dataframe tbody tr th {\n",
              "        vertical-align: top;\n",
              "    }\n",
              "\n",
              "    .dataframe thead th {\n",
              "        text-align: right;\n",
              "    }\n",
              "</style>\n",
              "<table border=\"1\" class=\"dataframe\">\n",
              "  <thead>\n",
              "    <tr style=\"text-align: right;\">\n",
              "      <th></th>\n",
              "      <th>colA</th>\n",
              "    </tr>\n",
              "  </thead>\n",
              "  <tbody>\n",
              "    <tr>\n",
              "      <th>A</th>\n",
              "      <td>-0.731458</td>\n",
              "    </tr>\n",
              "    <tr>\n",
              "      <th>B</th>\n",
              "      <td>0.110815</td>\n",
              "    </tr>\n",
              "    <tr>\n",
              "      <th>C</th>\n",
              "      <td>0.345313</td>\n",
              "    </tr>\n",
              "    <tr>\n",
              "      <th>D</th>\n",
              "      <td>2.299772</td>\n",
              "    </tr>\n",
              "  </tbody>\n",
              "</table>\n",
              "</div>"
            ],
            "text/plain": [
              "       colA\n",
              "A -0.731458\n",
              "B  0.110815\n",
              "C  0.345313\n",
              "D  2.299772"
            ]
          },
          "execution_count": 41,
          "metadata": {},
          "output_type": "execute_result"
        }
      ]
    },
    {
      "cell_type": "code",
      "metadata": {
        "id": "MEvAMswj5_5G",
        "outputId": "b9fbcf69-8217-44a0-fc35-1a29e8df0031"
      },
      "source": [
        "df2[['colB']]"
      ],
      "execution_count": null,
      "outputs": [
        {
          "data": {
            "text/html": [
              "<div>\n",
              "<style scoped>\n",
              "    .dataframe tbody tr th:only-of-type {\n",
              "        vertical-align: middle;\n",
              "    }\n",
              "\n",
              "    .dataframe tbody tr th {\n",
              "        vertical-align: top;\n",
              "    }\n",
              "\n",
              "    .dataframe thead th {\n",
              "        text-align: right;\n",
              "    }\n",
              "</style>\n",
              "<table border=\"1\" class=\"dataframe\">\n",
              "  <thead>\n",
              "    <tr style=\"text-align: right;\">\n",
              "      <th></th>\n",
              "      <th>colB</th>\n",
              "    </tr>\n",
              "  </thead>\n",
              "  <tbody>\n",
              "    <tr>\n",
              "      <th>A</th>\n",
              "      <td>-1.605402</td>\n",
              "    </tr>\n",
              "    <tr>\n",
              "      <th>B</th>\n",
              "      <td>-0.380931</td>\n",
              "    </tr>\n",
              "    <tr>\n",
              "      <th>C</th>\n",
              "      <td>-1.734959</td>\n",
              "    </tr>\n",
              "    <tr>\n",
              "      <th>D</th>\n",
              "      <td>-0.471135</td>\n",
              "    </tr>\n",
              "  </tbody>\n",
              "</table>\n",
              "</div>"
            ],
            "text/plain": [
              "       colB\n",
              "A -1.605402\n",
              "B -0.380931\n",
              "C -1.734959\n",
              "D -0.471135"
            ]
          },
          "execution_count": 42,
          "metadata": {},
          "output_type": "execute_result"
        }
      ]
    },
    {
      "cell_type": "code",
      "metadata": {
        "id": "CGXff4fX5_5G",
        "outputId": "d7d69a3a-f3b3-4079-e4fe-12175730de71"
      },
      "source": [
        "df1"
      ],
      "execution_count": null,
      "outputs": [
        {
          "data": {
            "text/html": [
              "<div>\n",
              "<style scoped>\n",
              "    .dataframe tbody tr th:only-of-type {\n",
              "        vertical-align: middle;\n",
              "    }\n",
              "\n",
              "    .dataframe tbody tr th {\n",
              "        vertical-align: top;\n",
              "    }\n",
              "\n",
              "    .dataframe thead th {\n",
              "        text-align: right;\n",
              "    }\n",
              "</style>\n",
              "<table border=\"1\" class=\"dataframe\">\n",
              "  <thead>\n",
              "    <tr style=\"text-align: right;\">\n",
              "      <th></th>\n",
              "      <th>colA</th>\n",
              "      <th>colB</th>\n",
              "    </tr>\n",
              "  </thead>\n",
              "  <tbody>\n",
              "    <tr>\n",
              "      <th>A</th>\n",
              "      <td>-1.454366</td>\n",
              "      <td>0.815270</td>\n",
              "    </tr>\n",
              "    <tr>\n",
              "      <th>C</th>\n",
              "      <td>0.229098</td>\n",
              "      <td>-1.026179</td>\n",
              "    </tr>\n",
              "    <tr>\n",
              "      <th>E</th>\n",
              "      <td>0.477525</td>\n",
              "      <td>1.292698</td>\n",
              "    </tr>\n",
              "  </tbody>\n",
              "</table>\n",
              "</div>"
            ],
            "text/plain": [
              "       colA      colB\n",
              "A -1.454366  0.815270\n",
              "C  0.229098 -1.026179\n",
              "E  0.477525  1.292698"
            ]
          },
          "execution_count": 43,
          "metadata": {},
          "output_type": "execute_result"
        }
      ]
    },
    {
      "cell_type": "code",
      "metadata": {
        "id": "8GDMIV_u5_5G",
        "outputId": "e82f17c4-0e91-45bb-f29a-3ba867a27b42"
      },
      "source": [
        "#The output of this operation is the following \n",
        "#(since the right-hand-side only had colB):\n",
        "df1 - df2[['colB']]"
      ],
      "execution_count": null,
      "outputs": [
        {
          "data": {
            "text/html": [
              "<div>\n",
              "<style scoped>\n",
              "    .dataframe tbody tr th:only-of-type {\n",
              "        vertical-align: middle;\n",
              "    }\n",
              "\n",
              "    .dataframe tbody tr th {\n",
              "        vertical-align: top;\n",
              "    }\n",
              "\n",
              "    .dataframe thead th {\n",
              "        text-align: right;\n",
              "    }\n",
              "</style>\n",
              "<table border=\"1\" class=\"dataframe\">\n",
              "  <thead>\n",
              "    <tr style=\"text-align: right;\">\n",
              "      <th></th>\n",
              "      <th>colA</th>\n",
              "      <th>colB</th>\n",
              "    </tr>\n",
              "  </thead>\n",
              "  <tbody>\n",
              "    <tr>\n",
              "      <th>A</th>\n",
              "      <td>NaN</td>\n",
              "      <td>2.420672</td>\n",
              "    </tr>\n",
              "    <tr>\n",
              "      <th>B</th>\n",
              "      <td>NaN</td>\n",
              "      <td>NaN</td>\n",
              "    </tr>\n",
              "    <tr>\n",
              "      <th>C</th>\n",
              "      <td>NaN</td>\n",
              "      <td>0.708780</td>\n",
              "    </tr>\n",
              "    <tr>\n",
              "      <th>D</th>\n",
              "      <td>NaN</td>\n",
              "      <td>NaN</td>\n",
              "    </tr>\n",
              "    <tr>\n",
              "      <th>E</th>\n",
              "      <td>NaN</td>\n",
              "      <td>NaN</td>\n",
              "    </tr>\n",
              "  </tbody>\n",
              "</table>\n",
              "</div>"
            ],
            "text/plain": [
              "   colA      colB\n",
              "A   NaN  2.420672\n",
              "B   NaN       NaN\n",
              "C   NaN  0.708780\n",
              "D   NaN       NaN\n",
              "E   NaN       NaN"
            ]
          },
          "execution_count": 44,
          "metadata": {},
          "output_type": "execute_result"
        }
      ]
    },
    {
      "cell_type": "markdown",
      "metadata": {
        "id": "KT3IqWmM5_5H"
      },
      "source": [
        "## Merging and Combining Multiple DataFrames into a single DataFrame"
      ]
    },
    {
      "cell_type": "code",
      "metadata": {
        "id": "y0-FE-mI5_5H"
      },
      "source": [
        "#Let's now learn how to merge and combine multiple DataFrames \n",
        "#into a single Dataframe."
      ],
      "execution_count": null,
      "outputs": []
    },
    {
      "cell_type": "code",
      "metadata": {
        "id": "9SLspvHG5_5H"
      },
      "source": [
        "#Let's start by creating two DataFrames, df1 and df2:"
      ],
      "execution_count": null,
      "outputs": []
    },
    {
      "cell_type": "code",
      "metadata": {
        "id": "I-juInxS5_5I",
        "outputId": "9b909253-05ea-4876-c920-0474afcb4f92"
      },
      "source": [
        "df1"
      ],
      "execution_count": null,
      "outputs": [
        {
          "data": {
            "text/html": [
              "<div>\n",
              "<style scoped>\n",
              "    .dataframe tbody tr th:only-of-type {\n",
              "        vertical-align: middle;\n",
              "    }\n",
              "\n",
              "    .dataframe tbody tr th {\n",
              "        vertical-align: top;\n",
              "    }\n",
              "\n",
              "    .dataframe thead th {\n",
              "        text-align: right;\n",
              "    }\n",
              "</style>\n",
              "<table border=\"1\" class=\"dataframe\">\n",
              "  <thead>\n",
              "    <tr style=\"text-align: right;\">\n",
              "      <th></th>\n",
              "      <th>colA</th>\n",
              "      <th>colB</th>\n",
              "    </tr>\n",
              "  </thead>\n",
              "  <tbody>\n",
              "    <tr>\n",
              "      <th>A</th>\n",
              "      <td>-1.454366</td>\n",
              "      <td>0.815270</td>\n",
              "    </tr>\n",
              "    <tr>\n",
              "      <th>C</th>\n",
              "      <td>0.229098</td>\n",
              "      <td>-1.026179</td>\n",
              "    </tr>\n",
              "    <tr>\n",
              "      <th>E</th>\n",
              "      <td>0.477525</td>\n",
              "      <td>1.292698</td>\n",
              "    </tr>\n",
              "  </tbody>\n",
              "</table>\n",
              "</div>"
            ],
            "text/plain": [
              "       colA      colB\n",
              "A -1.454366  0.815270\n",
              "C  0.229098 -1.026179\n",
              "E  0.477525  1.292698"
            ]
          },
          "execution_count": 47,
          "metadata": {},
          "output_type": "execute_result"
        }
      ]
    },
    {
      "cell_type": "code",
      "metadata": {
        "id": "a7uBr7BU5_5I"
      },
      "source": [
        "df1.index.name"
      ],
      "execution_count": null,
      "outputs": []
    },
    {
      "cell_type": "code",
      "metadata": {
        "id": "Y5kyiTDP5_5I"
      },
      "source": [
        "df1.columns.name"
      ],
      "execution_count": null,
      "outputs": []
    },
    {
      "cell_type": "code",
      "metadata": {
        "id": "Bh8mkign5_5J",
        "outputId": "ed0a9593-d331-4268-9939-a4cc51ee8685"
      },
      "source": [
        "df1.index.name = 'Index'\n",
        "df1.columns.name = 'Columns'\n",
        "df1"
      ],
      "execution_count": null,
      "outputs": [
        {
          "data": {
            "text/html": [
              "<div>\n",
              "<style scoped>\n",
              "    .dataframe tbody tr th:only-of-type {\n",
              "        vertical-align: middle;\n",
              "    }\n",
              "\n",
              "    .dataframe tbody tr th {\n",
              "        vertical-align: top;\n",
              "    }\n",
              "\n",
              "    .dataframe thead th {\n",
              "        text-align: right;\n",
              "    }\n",
              "</style>\n",
              "<table border=\"1\" class=\"dataframe\">\n",
              "  <thead>\n",
              "    <tr style=\"text-align: right;\">\n",
              "      <th>Columns</th>\n",
              "      <th>colA</th>\n",
              "      <th>colB</th>\n",
              "    </tr>\n",
              "    <tr>\n",
              "      <th>Index</th>\n",
              "      <th></th>\n",
              "      <th></th>\n",
              "    </tr>\n",
              "  </thead>\n",
              "  <tbody>\n",
              "    <tr>\n",
              "      <th>A</th>\n",
              "      <td>-1.454366</td>\n",
              "      <td>0.815270</td>\n",
              "    </tr>\n",
              "    <tr>\n",
              "      <th>C</th>\n",
              "      <td>0.229098</td>\n",
              "      <td>-1.026179</td>\n",
              "    </tr>\n",
              "    <tr>\n",
              "      <th>E</th>\n",
              "      <td>0.477525</td>\n",
              "      <td>1.292698</td>\n",
              "    </tr>\n",
              "  </tbody>\n",
              "</table>\n",
              "</div>"
            ],
            "text/plain": [
              "Columns      colA      colB\n",
              "Index                      \n",
              "A       -1.454366  0.815270\n",
              "C        0.229098 -1.026179\n",
              "E        0.477525  1.292698"
            ]
          },
          "execution_count": 50,
          "metadata": {},
          "output_type": "execute_result"
        }
      ]
    },
    {
      "cell_type": "code",
      "metadata": {
        "id": "jzL4jS3L5_5L",
        "outputId": "240468da-9b7d-44d5-9a00-836812768604"
      },
      "source": [
        "df1.index.name"
      ],
      "execution_count": null,
      "outputs": [
        {
          "data": {
            "text/plain": [
              "'Index'"
            ]
          },
          "execution_count": 51,
          "metadata": {},
          "output_type": "execute_result"
        }
      ]
    },
    {
      "cell_type": "code",
      "metadata": {
        "id": "WDvhI4YA5_5L",
        "outputId": "cfe824d5-fd60-4378-b008-7c8940d66577"
      },
      "source": [
        "df2"
      ],
      "execution_count": null,
      "outputs": [
        {
          "data": {
            "text/html": [
              "<div>\n",
              "<style scoped>\n",
              "    .dataframe tbody tr th:only-of-type {\n",
              "        vertical-align: middle;\n",
              "    }\n",
              "\n",
              "    .dataframe tbody tr th {\n",
              "        vertical-align: top;\n",
              "    }\n",
              "\n",
              "    .dataframe thead th {\n",
              "        text-align: right;\n",
              "    }\n",
              "</style>\n",
              "<table border=\"1\" class=\"dataframe\">\n",
              "  <thead>\n",
              "    <tr style=\"text-align: right;\">\n",
              "      <th></th>\n",
              "      <th>colA</th>\n",
              "      <th>colB</th>\n",
              "      <th>colC</th>\n",
              "    </tr>\n",
              "  </thead>\n",
              "  <tbody>\n",
              "    <tr>\n",
              "      <th>A</th>\n",
              "      <td>-0.731458</td>\n",
              "      <td>-1.605402</td>\n",
              "      <td>0.989476</td>\n",
              "    </tr>\n",
              "    <tr>\n",
              "      <th>B</th>\n",
              "      <td>0.110815</td>\n",
              "      <td>-0.380931</td>\n",
              "      <td>0.114959</td>\n",
              "    </tr>\n",
              "    <tr>\n",
              "      <th>C</th>\n",
              "      <td>0.345313</td>\n",
              "      <td>-1.734959</td>\n",
              "      <td>1.658351</td>\n",
              "    </tr>\n",
              "    <tr>\n",
              "      <th>D</th>\n",
              "      <td>2.299772</td>\n",
              "      <td>-0.471135</td>\n",
              "      <td>1.262715</td>\n",
              "    </tr>\n",
              "  </tbody>\n",
              "</table>\n",
              "</div>"
            ],
            "text/plain": [
              "       colA      colB      colC\n",
              "A -0.731458 -1.605402  0.989476\n",
              "B  0.110815 -0.380931  0.114959\n",
              "C  0.345313 -1.734959  1.658351\n",
              "D  2.299772 -0.471135  1.262715"
            ]
          },
          "execution_count": 52,
          "metadata": {},
          "output_type": "execute_result"
        }
      ]
    },
    {
      "cell_type": "code",
      "metadata": {
        "id": "Ygi5v0Av5_5L",
        "outputId": "e11a2118-c355-4d2e-b23a-eec994b445e1"
      },
      "source": [
        "df2.index.name = 'Index'\n",
        "df2.columns.name = 'Columns'\n",
        "df2"
      ],
      "execution_count": null,
      "outputs": [
        {
          "data": {
            "text/html": [
              "<div>\n",
              "<style scoped>\n",
              "    .dataframe tbody tr th:only-of-type {\n",
              "        vertical-align: middle;\n",
              "    }\n",
              "\n",
              "    .dataframe tbody tr th {\n",
              "        vertical-align: top;\n",
              "    }\n",
              "\n",
              "    .dataframe thead th {\n",
              "        text-align: right;\n",
              "    }\n",
              "</style>\n",
              "<table border=\"1\" class=\"dataframe\">\n",
              "  <thead>\n",
              "    <tr style=\"text-align: right;\">\n",
              "      <th>Columns</th>\n",
              "      <th>colA</th>\n",
              "      <th>colB</th>\n",
              "      <th>colC</th>\n",
              "    </tr>\n",
              "    <tr>\n",
              "      <th>Index</th>\n",
              "      <th></th>\n",
              "      <th></th>\n",
              "      <th></th>\n",
              "    </tr>\n",
              "  </thead>\n",
              "  <tbody>\n",
              "    <tr>\n",
              "      <th>A</th>\n",
              "      <td>-0.731458</td>\n",
              "      <td>-1.605402</td>\n",
              "      <td>0.989476</td>\n",
              "    </tr>\n",
              "    <tr>\n",
              "      <th>B</th>\n",
              "      <td>0.110815</td>\n",
              "      <td>-0.380931</td>\n",
              "      <td>0.114959</td>\n",
              "    </tr>\n",
              "    <tr>\n",
              "      <th>C</th>\n",
              "      <td>0.345313</td>\n",
              "      <td>-1.734959</td>\n",
              "      <td>1.658351</td>\n",
              "    </tr>\n",
              "    <tr>\n",
              "      <th>D</th>\n",
              "      <td>2.299772</td>\n",
              "      <td>-0.471135</td>\n",
              "      <td>1.262715</td>\n",
              "    </tr>\n",
              "  </tbody>\n",
              "</table>\n",
              "</div>"
            ],
            "text/plain": [
              "Columns      colA      colB      colC\n",
              "Index                                \n",
              "A       -0.731458 -1.605402  0.989476\n",
              "B        0.110815 -0.380931  0.114959\n",
              "C        0.345313 -1.734959  1.658351\n",
              "D        2.299772 -0.471135  1.262715"
            ]
          },
          "execution_count": 53,
          "metadata": {},
          "output_type": "execute_result"
        }
      ]
    },
    {
      "cell_type": "markdown",
      "metadata": {
        "id": "PESQ76Wp5_5M"
      },
      "source": [
        "The pandas.merge(...) method joins/merges two DataFrames. The left_index= and right_index= parameters indicate that the merge should be performed on Index values in both DataFrames:"
      ]
    },
    {
      "cell_type": "code",
      "metadata": {
        "id": "aIA0_X0H5_5M",
        "outputId": "1fbaf630-d66c-4dc3-d7c9-d0d76b9e37f6"
      },
      "source": [
        "pd.merge(df1, df2, left_index=True, right_index=True)\n",
        "#That yields the following merged DataFrame. The _x and _y \n",
        "#suffixes are added to differentiate between left and right \n",
        "#DataFrame columns with the same name."
      ],
      "execution_count": null,
      "outputs": [
        {
          "data": {
            "text/html": [
              "<div>\n",
              "<style scoped>\n",
              "    .dataframe tbody tr th:only-of-type {\n",
              "        vertical-align: middle;\n",
              "    }\n",
              "\n",
              "    .dataframe tbody tr th {\n",
              "        vertical-align: top;\n",
              "    }\n",
              "\n",
              "    .dataframe thead th {\n",
              "        text-align: right;\n",
              "    }\n",
              "</style>\n",
              "<table border=\"1\" class=\"dataframe\">\n",
              "  <thead>\n",
              "    <tr style=\"text-align: right;\">\n",
              "      <th>Columns</th>\n",
              "      <th>colA_x</th>\n",
              "      <th>colB_x</th>\n",
              "      <th>colA_y</th>\n",
              "      <th>colB_y</th>\n",
              "      <th>colC</th>\n",
              "    </tr>\n",
              "    <tr>\n",
              "      <th>Index</th>\n",
              "      <th></th>\n",
              "      <th></th>\n",
              "      <th></th>\n",
              "      <th></th>\n",
              "      <th></th>\n",
              "    </tr>\n",
              "  </thead>\n",
              "  <tbody>\n",
              "    <tr>\n",
              "      <th>A</th>\n",
              "      <td>-1.454366</td>\n",
              "      <td>0.815270</td>\n",
              "      <td>-0.731458</td>\n",
              "      <td>-1.605402</td>\n",
              "      <td>0.989476</td>\n",
              "    </tr>\n",
              "    <tr>\n",
              "      <th>C</th>\n",
              "      <td>0.229098</td>\n",
              "      <td>-1.026179</td>\n",
              "      <td>0.345313</td>\n",
              "      <td>-1.734959</td>\n",
              "      <td>1.658351</td>\n",
              "    </tr>\n",
              "  </tbody>\n",
              "</table>\n",
              "</div>"
            ],
            "text/plain": [
              "Columns    colA_x    colB_x    colA_y    colB_y      colC\n",
              "Index                                                    \n",
              "A       -1.454366  0.815270 -0.731458 -1.605402  0.989476\n",
              "C        0.229098 -1.026179  0.345313 -1.734959  1.658351"
            ]
          },
          "execution_count": 54,
          "metadata": {},
          "output_type": "execute_result"
        }
      ]
    },
    {
      "cell_type": "code",
      "metadata": {
        "id": "56vWJRwi5_5M",
        "outputId": "71d550d0-2415-4226-ab43-ddaf88e7bf93"
      },
      "source": [
        "#We can specify custom suffixes with the suffixes= parameter.\n",
        "#The result is the following DataFrame with the suffixes we \n",
        "#provided.\n",
        "pd.merge(df1, df2, left_index=True, right_index=True, \n",
        "         suffixes=('_1', '_2'))"
      ],
      "execution_count": null,
      "outputs": [
        {
          "data": {
            "text/html": [
              "<div>\n",
              "<style scoped>\n",
              "    .dataframe tbody tr th:only-of-type {\n",
              "        vertical-align: middle;\n",
              "    }\n",
              "\n",
              "    .dataframe tbody tr th {\n",
              "        vertical-align: top;\n",
              "    }\n",
              "\n",
              "    .dataframe thead th {\n",
              "        text-align: right;\n",
              "    }\n",
              "</style>\n",
              "<table border=\"1\" class=\"dataframe\">\n",
              "  <thead>\n",
              "    <tr style=\"text-align: right;\">\n",
              "      <th>Columns</th>\n",
              "      <th>colA_1</th>\n",
              "      <th>colB_1</th>\n",
              "      <th>colA_2</th>\n",
              "      <th>colB_2</th>\n",
              "      <th>colC</th>\n",
              "    </tr>\n",
              "    <tr>\n",
              "      <th>Index</th>\n",
              "      <th></th>\n",
              "      <th></th>\n",
              "      <th></th>\n",
              "      <th></th>\n",
              "      <th></th>\n",
              "    </tr>\n",
              "  </thead>\n",
              "  <tbody>\n",
              "    <tr>\n",
              "      <th>A</th>\n",
              "      <td>-1.454366</td>\n",
              "      <td>0.815270</td>\n",
              "      <td>-0.731458</td>\n",
              "      <td>-1.605402</td>\n",
              "      <td>0.989476</td>\n",
              "    </tr>\n",
              "    <tr>\n",
              "      <th>C</th>\n",
              "      <td>0.229098</td>\n",
              "      <td>-1.026179</td>\n",
              "      <td>0.345313</td>\n",
              "      <td>-1.734959</td>\n",
              "      <td>1.658351</td>\n",
              "    </tr>\n",
              "  </tbody>\n",
              "</table>\n",
              "</div>"
            ],
            "text/plain": [
              "Columns    colA_1    colB_1    colA_2    colB_2      colC\n",
              "Index                                                    \n",
              "A       -1.454366  0.815270 -0.731458 -1.605402  0.989476\n",
              "C        0.229098 -1.026179  0.345313 -1.734959  1.658351"
            ]
          },
          "execution_count": 55,
          "metadata": {},
          "output_type": "execute_result"
        }
      ]
    },
    {
      "cell_type": "markdown",
      "metadata": {
        "id": "0s3CBakI5_5N"
      },
      "source": [
        "We can specify the behavior of the join (outer, inner, left, or right join) using the how= parameter:"
      ]
    },
    {
      "cell_type": "code",
      "metadata": {
        "id": "vhRdRFu05_5N",
        "outputId": "f412eb74-5fa7-4447-ede6-a180c4a23590"
      },
      "source": [
        "display(df1, df2)"
      ],
      "execution_count": null,
      "outputs": [
        {
          "data": {
            "text/html": [
              "<div>\n",
              "<style scoped>\n",
              "    .dataframe tbody tr th:only-of-type {\n",
              "        vertical-align: middle;\n",
              "    }\n",
              "\n",
              "    .dataframe tbody tr th {\n",
              "        vertical-align: top;\n",
              "    }\n",
              "\n",
              "    .dataframe thead th {\n",
              "        text-align: right;\n",
              "    }\n",
              "</style>\n",
              "<table border=\"1\" class=\"dataframe\">\n",
              "  <thead>\n",
              "    <tr style=\"text-align: right;\">\n",
              "      <th>Columns</th>\n",
              "      <th>colA</th>\n",
              "      <th>colB</th>\n",
              "    </tr>\n",
              "    <tr>\n",
              "      <th>Index</th>\n",
              "      <th></th>\n",
              "      <th></th>\n",
              "    </tr>\n",
              "  </thead>\n",
              "  <tbody>\n",
              "    <tr>\n",
              "      <th>A</th>\n",
              "      <td>-1.454366</td>\n",
              "      <td>0.815270</td>\n",
              "    </tr>\n",
              "    <tr>\n",
              "      <th>C</th>\n",
              "      <td>0.229098</td>\n",
              "      <td>-1.026179</td>\n",
              "    </tr>\n",
              "    <tr>\n",
              "      <th>E</th>\n",
              "      <td>0.477525</td>\n",
              "      <td>1.292698</td>\n",
              "    </tr>\n",
              "  </tbody>\n",
              "</table>\n",
              "</div>"
            ],
            "text/plain": [
              "Columns      colA      colB\n",
              "Index                      \n",
              "A       -1.454366  0.815270\n",
              "C        0.229098 -1.026179\n",
              "E        0.477525  1.292698"
            ]
          },
          "metadata": {},
          "output_type": "display_data"
        },
        {
          "data": {
            "text/html": [
              "<div>\n",
              "<style scoped>\n",
              "    .dataframe tbody tr th:only-of-type {\n",
              "        vertical-align: middle;\n",
              "    }\n",
              "\n",
              "    .dataframe tbody tr th {\n",
              "        vertical-align: top;\n",
              "    }\n",
              "\n",
              "    .dataframe thead th {\n",
              "        text-align: right;\n",
              "    }\n",
              "</style>\n",
              "<table border=\"1\" class=\"dataframe\">\n",
              "  <thead>\n",
              "    <tr style=\"text-align: right;\">\n",
              "      <th>Columns</th>\n",
              "      <th>colA</th>\n",
              "      <th>colB</th>\n",
              "      <th>colC</th>\n",
              "    </tr>\n",
              "    <tr>\n",
              "      <th>Index</th>\n",
              "      <th></th>\n",
              "      <th></th>\n",
              "      <th></th>\n",
              "    </tr>\n",
              "  </thead>\n",
              "  <tbody>\n",
              "    <tr>\n",
              "      <th>A</th>\n",
              "      <td>-0.731458</td>\n",
              "      <td>-1.605402</td>\n",
              "      <td>0.989476</td>\n",
              "    </tr>\n",
              "    <tr>\n",
              "      <th>B</th>\n",
              "      <td>0.110815</td>\n",
              "      <td>-0.380931</td>\n",
              "      <td>0.114959</td>\n",
              "    </tr>\n",
              "    <tr>\n",
              "      <th>C</th>\n",
              "      <td>0.345313</td>\n",
              "      <td>-1.734959</td>\n",
              "      <td>1.658351</td>\n",
              "    </tr>\n",
              "    <tr>\n",
              "      <th>D</th>\n",
              "      <td>2.299772</td>\n",
              "      <td>-0.471135</td>\n",
              "      <td>1.262715</td>\n",
              "    </tr>\n",
              "  </tbody>\n",
              "</table>\n",
              "</div>"
            ],
            "text/plain": [
              "Columns      colA      colB      colC\n",
              "Index                                \n",
              "A       -0.731458 -1.605402  0.989476\n",
              "B        0.110815 -0.380931  0.114959\n",
              "C        0.345313 -1.734959  1.658351\n",
              "D        2.299772 -0.471135  1.262715"
            ]
          },
          "metadata": {},
          "output_type": "display_data"
        }
      ]
    },
    {
      "cell_type": "code",
      "metadata": {
        "id": "Dh5w64R85_5O",
        "outputId": "13950e03-f110-4f10-806c-19ab71bcbcac"
      },
      "source": [
        "#how=\"outer\" performs join using all indexes whether they exist in\n",
        "#both dataframe or not, so you may see some NaNs as a result.\n",
        "pd.merge(df1, df2, left_index=True, right_index=True, \n",
        "         suffixes=('_1', '_2'), how='outer')"
      ],
      "execution_count": null,
      "outputs": [
        {
          "data": {
            "text/html": [
              "<div>\n",
              "<style scoped>\n",
              "    .dataframe tbody tr th:only-of-type {\n",
              "        vertical-align: middle;\n",
              "    }\n",
              "\n",
              "    .dataframe tbody tr th {\n",
              "        vertical-align: top;\n",
              "    }\n",
              "\n",
              "    .dataframe thead th {\n",
              "        text-align: right;\n",
              "    }\n",
              "</style>\n",
              "<table border=\"1\" class=\"dataframe\">\n",
              "  <thead>\n",
              "    <tr style=\"text-align: right;\">\n",
              "      <th>Columns</th>\n",
              "      <th>colA_1</th>\n",
              "      <th>colB_1</th>\n",
              "      <th>colA_2</th>\n",
              "      <th>colB_2</th>\n",
              "      <th>colC</th>\n",
              "    </tr>\n",
              "    <tr>\n",
              "      <th>Index</th>\n",
              "      <th></th>\n",
              "      <th></th>\n",
              "      <th></th>\n",
              "      <th></th>\n",
              "      <th></th>\n",
              "    </tr>\n",
              "  </thead>\n",
              "  <tbody>\n",
              "    <tr>\n",
              "      <th>A</th>\n",
              "      <td>-1.454366</td>\n",
              "      <td>0.815270</td>\n",
              "      <td>-0.731458</td>\n",
              "      <td>-1.605402</td>\n",
              "      <td>0.989476</td>\n",
              "    </tr>\n",
              "    <tr>\n",
              "      <th>B</th>\n",
              "      <td>NaN</td>\n",
              "      <td>NaN</td>\n",
              "      <td>0.110815</td>\n",
              "      <td>-0.380931</td>\n",
              "      <td>0.114959</td>\n",
              "    </tr>\n",
              "    <tr>\n",
              "      <th>C</th>\n",
              "      <td>0.229098</td>\n",
              "      <td>-1.026179</td>\n",
              "      <td>0.345313</td>\n",
              "      <td>-1.734959</td>\n",
              "      <td>1.658351</td>\n",
              "    </tr>\n",
              "    <tr>\n",
              "      <th>D</th>\n",
              "      <td>NaN</td>\n",
              "      <td>NaN</td>\n",
              "      <td>2.299772</td>\n",
              "      <td>-0.471135</td>\n",
              "      <td>1.262715</td>\n",
              "    </tr>\n",
              "    <tr>\n",
              "      <th>E</th>\n",
              "      <td>0.477525</td>\n",
              "      <td>1.292698</td>\n",
              "      <td>NaN</td>\n",
              "      <td>NaN</td>\n",
              "      <td>NaN</td>\n",
              "    </tr>\n",
              "  </tbody>\n",
              "</table>\n",
              "</div>"
            ],
            "text/plain": [
              "Columns    colA_1    colB_1    colA_2    colB_2      colC\n",
              "Index                                                    \n",
              "A       -1.454366  0.815270 -0.731458 -1.605402  0.989476\n",
              "B             NaN       NaN  0.110815 -0.380931  0.114959\n",
              "C        0.229098 -1.026179  0.345313 -1.734959  1.658351\n",
              "D             NaN       NaN  2.299772 -0.471135  1.262715\n",
              "E        0.477525  1.292698       NaN       NaN       NaN"
            ]
          },
          "execution_count": 57,
          "metadata": {},
          "output_type": "execute_result"
        }
      ]
    },
    {
      "cell_type": "code",
      "metadata": {
        "id": "eqKgfweY5_5O",
        "outputId": "c7bf6ce7-797e-4a2d-b2b2-4095dc94af42"
      },
      "source": [
        "#pandas DataFrames themselves have a pandas.DataFrame.merge(...) \n",
        "#method that behaves the same way.\n",
        "#This yields the following DataFrame with NaNs for missing values.\n",
        "\n",
        "df1.merge(df2, left_index=True, right_index=True, \n",
        "          suffixes=('_1', '_2'), how='outer')"
      ],
      "execution_count": null,
      "outputs": [
        {
          "data": {
            "text/html": [
              "<div>\n",
              "<style scoped>\n",
              "    .dataframe tbody tr th:only-of-type {\n",
              "        vertical-align: middle;\n",
              "    }\n",
              "\n",
              "    .dataframe tbody tr th {\n",
              "        vertical-align: top;\n",
              "    }\n",
              "\n",
              "    .dataframe thead th {\n",
              "        text-align: right;\n",
              "    }\n",
              "</style>\n",
              "<table border=\"1\" class=\"dataframe\">\n",
              "  <thead>\n",
              "    <tr style=\"text-align: right;\">\n",
              "      <th>Columns</th>\n",
              "      <th>colA_1</th>\n",
              "      <th>colB_1</th>\n",
              "      <th>colA_2</th>\n",
              "      <th>colB_2</th>\n",
              "      <th>colC</th>\n",
              "    </tr>\n",
              "    <tr>\n",
              "      <th>Index</th>\n",
              "      <th></th>\n",
              "      <th></th>\n",
              "      <th></th>\n",
              "      <th></th>\n",
              "      <th></th>\n",
              "    </tr>\n",
              "  </thead>\n",
              "  <tbody>\n",
              "    <tr>\n",
              "      <th>A</th>\n",
              "      <td>-1.454366</td>\n",
              "      <td>0.815270</td>\n",
              "      <td>-0.731458</td>\n",
              "      <td>-1.605402</td>\n",
              "      <td>0.989476</td>\n",
              "    </tr>\n",
              "    <tr>\n",
              "      <th>B</th>\n",
              "      <td>NaN</td>\n",
              "      <td>NaN</td>\n",
              "      <td>0.110815</td>\n",
              "      <td>-0.380931</td>\n",
              "      <td>0.114959</td>\n",
              "    </tr>\n",
              "    <tr>\n",
              "      <th>C</th>\n",
              "      <td>0.229098</td>\n",
              "      <td>-1.026179</td>\n",
              "      <td>0.345313</td>\n",
              "      <td>-1.734959</td>\n",
              "      <td>1.658351</td>\n",
              "    </tr>\n",
              "    <tr>\n",
              "      <th>D</th>\n",
              "      <td>NaN</td>\n",
              "      <td>NaN</td>\n",
              "      <td>2.299772</td>\n",
              "      <td>-0.471135</td>\n",
              "      <td>1.262715</td>\n",
              "    </tr>\n",
              "    <tr>\n",
              "      <th>E</th>\n",
              "      <td>0.477525</td>\n",
              "      <td>1.292698</td>\n",
              "      <td>NaN</td>\n",
              "      <td>NaN</td>\n",
              "      <td>NaN</td>\n",
              "    </tr>\n",
              "  </tbody>\n",
              "</table>\n",
              "</div>"
            ],
            "text/plain": [
              "Columns    colA_1    colB_1    colA_2    colB_2      colC\n",
              "Index                                                    \n",
              "A       -1.454366  0.815270 -0.731458 -1.605402  0.989476\n",
              "B             NaN       NaN  0.110815 -0.380931  0.114959\n",
              "C        0.229098 -1.026179  0.345313 -1.734959  1.658351\n",
              "D             NaN       NaN  2.299772 -0.471135  1.262715\n",
              "E        0.477525  1.292698       NaN       NaN       NaN"
            ]
          },
          "execution_count": 58,
          "metadata": {},
          "output_type": "execute_result"
        }
      ]
    },
    {
      "cell_type": "code",
      "metadata": {
        "id": "dsMEZ4OL5_5P",
        "outputId": "7a3a5fec-d4a6-4f9c-ccd6-efb63c8ea3da"
      },
      "source": [
        "df1"
      ],
      "execution_count": null,
      "outputs": [
        {
          "data": {
            "text/html": [
              "<div>\n",
              "<style scoped>\n",
              "    .dataframe tbody tr th:only-of-type {\n",
              "        vertical-align: middle;\n",
              "    }\n",
              "\n",
              "    .dataframe tbody tr th {\n",
              "        vertical-align: top;\n",
              "    }\n",
              "\n",
              "    .dataframe thead th {\n",
              "        text-align: right;\n",
              "    }\n",
              "</style>\n",
              "<table border=\"1\" class=\"dataframe\">\n",
              "  <thead>\n",
              "    <tr style=\"text-align: right;\">\n",
              "      <th>Columns</th>\n",
              "      <th>colA</th>\n",
              "      <th>colB</th>\n",
              "    </tr>\n",
              "    <tr>\n",
              "      <th>Index</th>\n",
              "      <th></th>\n",
              "      <th></th>\n",
              "    </tr>\n",
              "  </thead>\n",
              "  <tbody>\n",
              "    <tr>\n",
              "      <th>A</th>\n",
              "      <td>-1.454366</td>\n",
              "      <td>0.815270</td>\n",
              "    </tr>\n",
              "    <tr>\n",
              "      <th>C</th>\n",
              "      <td>0.229098</td>\n",
              "      <td>-1.026179</td>\n",
              "    </tr>\n",
              "    <tr>\n",
              "      <th>E</th>\n",
              "      <td>0.477525</td>\n",
              "      <td>1.292698</td>\n",
              "    </tr>\n",
              "  </tbody>\n",
              "</table>\n",
              "</div>"
            ],
            "text/plain": [
              "Columns      colA      colB\n",
              "Index                      \n",
              "A       -1.454366  0.815270\n",
              "C        0.229098 -1.026179\n",
              "E        0.477525  1.292698"
            ]
          },
          "execution_count": 59,
          "metadata": {},
          "output_type": "execute_result"
        }
      ]
    },
    {
      "cell_type": "code",
      "metadata": {
        "id": "r5M3HiLI5_5P",
        "outputId": "95f00783-46f5-4509-f42d-dec2dcc9b5b0"
      },
      "source": [
        "df2"
      ],
      "execution_count": null,
      "outputs": [
        {
          "data": {
            "text/html": [
              "<div>\n",
              "<style scoped>\n",
              "    .dataframe tbody tr th:only-of-type {\n",
              "        vertical-align: middle;\n",
              "    }\n",
              "\n",
              "    .dataframe tbody tr th {\n",
              "        vertical-align: top;\n",
              "    }\n",
              "\n",
              "    .dataframe thead th {\n",
              "        text-align: right;\n",
              "    }\n",
              "</style>\n",
              "<table border=\"1\" class=\"dataframe\">\n",
              "  <thead>\n",
              "    <tr style=\"text-align: right;\">\n",
              "      <th>Columns</th>\n",
              "      <th>colA</th>\n",
              "      <th>colB</th>\n",
              "      <th>colC</th>\n",
              "    </tr>\n",
              "    <tr>\n",
              "      <th>Index</th>\n",
              "      <th></th>\n",
              "      <th></th>\n",
              "      <th></th>\n",
              "    </tr>\n",
              "  </thead>\n",
              "  <tbody>\n",
              "    <tr>\n",
              "      <th>A</th>\n",
              "      <td>-0.731458</td>\n",
              "      <td>-1.605402</td>\n",
              "      <td>0.989476</td>\n",
              "    </tr>\n",
              "    <tr>\n",
              "      <th>B</th>\n",
              "      <td>0.110815</td>\n",
              "      <td>-0.380931</td>\n",
              "      <td>0.114959</td>\n",
              "    </tr>\n",
              "    <tr>\n",
              "      <th>C</th>\n",
              "      <td>0.345313</td>\n",
              "      <td>-1.734959</td>\n",
              "      <td>1.658351</td>\n",
              "    </tr>\n",
              "    <tr>\n",
              "      <th>D</th>\n",
              "      <td>2.299772</td>\n",
              "      <td>-0.471135</td>\n",
              "      <td>1.262715</td>\n",
              "    </tr>\n",
              "  </tbody>\n",
              "</table>\n",
              "</div>"
            ],
            "text/plain": [
              "Columns      colA      colB      colC\n",
              "Index                                \n",
              "A       -0.731458 -1.605402  0.989476\n",
              "B        0.110815 -0.380931  0.114959\n",
              "C        0.345313 -1.734959  1.658351\n",
              "D        2.299772 -0.471135  1.262715"
            ]
          },
          "execution_count": 60,
          "metadata": {},
          "output_type": "execute_result"
        }
      ]
    },
    {
      "cell_type": "code",
      "metadata": {
        "id": "3TWrvtEj5_5P",
        "outputId": "2461d1ec-e621-4b21-91d0-460740e7dd9a"
      },
      "source": [
        "#The pandas.concat(...) method combines DataFrames by \n",
        "#concatenating rows together.This yields the following \n",
        "#concatenated DataFrame with NaNs for missing values.\n",
        "pd.concat([df1, df2])"
      ],
      "execution_count": null,
      "outputs": [
        {
          "data": {
            "text/html": [
              "<div>\n",
              "<style scoped>\n",
              "    .dataframe tbody tr th:only-of-type {\n",
              "        vertical-align: middle;\n",
              "    }\n",
              "\n",
              "    .dataframe tbody tr th {\n",
              "        vertical-align: top;\n",
              "    }\n",
              "\n",
              "    .dataframe thead th {\n",
              "        text-align: right;\n",
              "    }\n",
              "</style>\n",
              "<table border=\"1\" class=\"dataframe\">\n",
              "  <thead>\n",
              "    <tr style=\"text-align: right;\">\n",
              "      <th>Columns</th>\n",
              "      <th>colA</th>\n",
              "      <th>colB</th>\n",
              "      <th>colC</th>\n",
              "    </tr>\n",
              "    <tr>\n",
              "      <th>Index</th>\n",
              "      <th></th>\n",
              "      <th></th>\n",
              "      <th></th>\n",
              "    </tr>\n",
              "  </thead>\n",
              "  <tbody>\n",
              "    <tr>\n",
              "      <th>A</th>\n",
              "      <td>-1.454366</td>\n",
              "      <td>0.815270</td>\n",
              "      <td>NaN</td>\n",
              "    </tr>\n",
              "    <tr>\n",
              "      <th>C</th>\n",
              "      <td>0.229098</td>\n",
              "      <td>-1.026179</td>\n",
              "      <td>NaN</td>\n",
              "    </tr>\n",
              "    <tr>\n",
              "      <th>E</th>\n",
              "      <td>0.477525</td>\n",
              "      <td>1.292698</td>\n",
              "      <td>NaN</td>\n",
              "    </tr>\n",
              "    <tr>\n",
              "      <th>A</th>\n",
              "      <td>-0.731458</td>\n",
              "      <td>-1.605402</td>\n",
              "      <td>0.989476</td>\n",
              "    </tr>\n",
              "    <tr>\n",
              "      <th>B</th>\n",
              "      <td>0.110815</td>\n",
              "      <td>-0.380931</td>\n",
              "      <td>0.114959</td>\n",
              "    </tr>\n",
              "    <tr>\n",
              "      <th>C</th>\n",
              "      <td>0.345313</td>\n",
              "      <td>-1.734959</td>\n",
              "      <td>1.658351</td>\n",
              "    </tr>\n",
              "    <tr>\n",
              "      <th>D</th>\n",
              "      <td>2.299772</td>\n",
              "      <td>-0.471135</td>\n",
              "      <td>1.262715</td>\n",
              "    </tr>\n",
              "  </tbody>\n",
              "</table>\n",
              "</div>"
            ],
            "text/plain": [
              "Columns      colA      colB      colC\n",
              "Index                                \n",
              "A       -1.454366  0.815270       NaN\n",
              "C        0.229098 -1.026179       NaN\n",
              "E        0.477525  1.292698       NaN\n",
              "A       -0.731458 -1.605402  0.989476\n",
              "B        0.110815 -0.380931  0.114959\n",
              "C        0.345313 -1.734959  1.658351\n",
              "D        2.299772 -0.471135  1.262715"
            ]
          },
          "execution_count": 61,
          "metadata": {},
          "output_type": "execute_result"
        }
      ]
    },
    {
      "cell_type": "code",
      "metadata": {
        "id": "RhiJrsr85_5Q",
        "outputId": "9394082a-1f63-487d-ed79-f0a36e359254"
      },
      "source": [
        "#We can concatenate across columns by specifying the \n",
        "#axis= parameter. This yields the following DataFrame \n",
        "#with additional columns from df2.\n",
        "pd.concat([df1, df2], axis=1)"
      ],
      "execution_count": null,
      "outputs": [
        {
          "data": {
            "text/html": [
              "<div>\n",
              "<style scoped>\n",
              "    .dataframe tbody tr th:only-of-type {\n",
              "        vertical-align: middle;\n",
              "    }\n",
              "\n",
              "    .dataframe tbody tr th {\n",
              "        vertical-align: top;\n",
              "    }\n",
              "\n",
              "    .dataframe thead th {\n",
              "        text-align: right;\n",
              "    }\n",
              "</style>\n",
              "<table border=\"1\" class=\"dataframe\">\n",
              "  <thead>\n",
              "    <tr style=\"text-align: right;\">\n",
              "      <th>Columns</th>\n",
              "      <th>colA</th>\n",
              "      <th>colB</th>\n",
              "      <th>colA</th>\n",
              "      <th>colB</th>\n",
              "      <th>colC</th>\n",
              "    </tr>\n",
              "    <tr>\n",
              "      <th>Index</th>\n",
              "      <th></th>\n",
              "      <th></th>\n",
              "      <th></th>\n",
              "      <th></th>\n",
              "      <th></th>\n",
              "    </tr>\n",
              "  </thead>\n",
              "  <tbody>\n",
              "    <tr>\n",
              "      <th>A</th>\n",
              "      <td>-1.454366</td>\n",
              "      <td>0.815270</td>\n",
              "      <td>-0.731458</td>\n",
              "      <td>-1.605402</td>\n",
              "      <td>0.989476</td>\n",
              "    </tr>\n",
              "    <tr>\n",
              "      <th>C</th>\n",
              "      <td>0.229098</td>\n",
              "      <td>-1.026179</td>\n",
              "      <td>0.345313</td>\n",
              "      <td>-1.734959</td>\n",
              "      <td>1.658351</td>\n",
              "    </tr>\n",
              "    <tr>\n",
              "      <th>E</th>\n",
              "      <td>0.477525</td>\n",
              "      <td>1.292698</td>\n",
              "      <td>NaN</td>\n",
              "      <td>NaN</td>\n",
              "      <td>NaN</td>\n",
              "    </tr>\n",
              "    <tr>\n",
              "      <th>B</th>\n",
              "      <td>NaN</td>\n",
              "      <td>NaN</td>\n",
              "      <td>0.110815</td>\n",
              "      <td>-0.380931</td>\n",
              "      <td>0.114959</td>\n",
              "    </tr>\n",
              "    <tr>\n",
              "      <th>D</th>\n",
              "      <td>NaN</td>\n",
              "      <td>NaN</td>\n",
              "      <td>2.299772</td>\n",
              "      <td>-0.471135</td>\n",
              "      <td>1.262715</td>\n",
              "    </tr>\n",
              "  </tbody>\n",
              "</table>\n",
              "</div>"
            ],
            "text/plain": [
              "Columns      colA      colB      colA      colB      colC\n",
              "Index                                                    \n",
              "A       -1.454366  0.815270 -0.731458 -1.605402  0.989476\n",
              "C        0.229098 -1.026179  0.345313 -1.734959  1.658351\n",
              "E        0.477525  1.292698       NaN       NaN       NaN\n",
              "B             NaN       NaN  0.110815 -0.380931  0.114959\n",
              "D             NaN       NaN  2.299772 -0.471135  1.262715"
            ]
          },
          "execution_count": 62,
          "metadata": {},
          "output_type": "execute_result"
        }
      ]
    },
    {
      "cell_type": "code",
      "metadata": {
        "id": "Zd9cXBap5_5Q",
        "outputId": "222b4d00-f26c-4a5d-aa2b-9978b167ca71"
      },
      "source": [
        "#You can also ignore the default index.\n",
        "pd.concat([df1, df2], ignore_index=True)"
      ],
      "execution_count": null,
      "outputs": [
        {
          "data": {
            "text/html": [
              "<div>\n",
              "<style scoped>\n",
              "    .dataframe tbody tr th:only-of-type {\n",
              "        vertical-align: middle;\n",
              "    }\n",
              "\n",
              "    .dataframe tbody tr th {\n",
              "        vertical-align: top;\n",
              "    }\n",
              "\n",
              "    .dataframe thead th {\n",
              "        text-align: right;\n",
              "    }\n",
              "</style>\n",
              "<table border=\"1\" class=\"dataframe\">\n",
              "  <thead>\n",
              "    <tr style=\"text-align: right;\">\n",
              "      <th>Columns</th>\n",
              "      <th>colA</th>\n",
              "      <th>colB</th>\n",
              "      <th>colC</th>\n",
              "    </tr>\n",
              "  </thead>\n",
              "  <tbody>\n",
              "    <tr>\n",
              "      <th>0</th>\n",
              "      <td>-1.454366</td>\n",
              "      <td>0.815270</td>\n",
              "      <td>NaN</td>\n",
              "    </tr>\n",
              "    <tr>\n",
              "      <th>1</th>\n",
              "      <td>0.229098</td>\n",
              "      <td>-1.026179</td>\n",
              "      <td>NaN</td>\n",
              "    </tr>\n",
              "    <tr>\n",
              "      <th>2</th>\n",
              "      <td>0.477525</td>\n",
              "      <td>1.292698</td>\n",
              "      <td>NaN</td>\n",
              "    </tr>\n",
              "    <tr>\n",
              "      <th>3</th>\n",
              "      <td>-0.731458</td>\n",
              "      <td>-1.605402</td>\n",
              "      <td>0.989476</td>\n",
              "    </tr>\n",
              "    <tr>\n",
              "      <th>4</th>\n",
              "      <td>0.110815</td>\n",
              "      <td>-0.380931</td>\n",
              "      <td>0.114959</td>\n",
              "    </tr>\n",
              "    <tr>\n",
              "      <th>5</th>\n",
              "      <td>0.345313</td>\n",
              "      <td>-1.734959</td>\n",
              "      <td>1.658351</td>\n",
              "    </tr>\n",
              "    <tr>\n",
              "      <th>6</th>\n",
              "      <td>2.299772</td>\n",
              "      <td>-0.471135</td>\n",
              "      <td>1.262715</td>\n",
              "    </tr>\n",
              "  </tbody>\n",
              "</table>\n",
              "</div>"
            ],
            "text/plain": [
              "Columns      colA      colB      colC\n",
              "0       -1.454366  0.815270       NaN\n",
              "1        0.229098 -1.026179       NaN\n",
              "2        0.477525  1.292698       NaN\n",
              "3       -0.731458 -1.605402  0.989476\n",
              "4        0.110815 -0.380931  0.114959\n",
              "5        0.345313 -1.734959  1.658351\n",
              "6        2.299772 -0.471135  1.262715"
            ]
          },
          "execution_count": 63,
          "metadata": {},
          "output_type": "execute_result"
        }
      ]
    },
    {
      "cell_type": "markdown",
      "metadata": {
        "id": "0p4fqeR85_5Q"
      },
      "source": [
        "## Transforming Values in DataFrames' axis indices"
      ]
    },
    {
      "cell_type": "code",
      "metadata": {
        "id": "SS7TtfBC5_5R",
        "outputId": "54b9bd64-c48a-4d7d-b72b-369756b5c030"
      },
      "source": [
        "#Let's first reinspect the df2 DataFrame that we will \n",
        "#be using in these examples:\n",
        "df2"
      ],
      "execution_count": null,
      "outputs": [
        {
          "data": {
            "text/html": [
              "<div>\n",
              "<style scoped>\n",
              "    .dataframe tbody tr th:only-of-type {\n",
              "        vertical-align: middle;\n",
              "    }\n",
              "\n",
              "    .dataframe tbody tr th {\n",
              "        vertical-align: top;\n",
              "    }\n",
              "\n",
              "    .dataframe thead th {\n",
              "        text-align: right;\n",
              "    }\n",
              "</style>\n",
              "<table border=\"1\" class=\"dataframe\">\n",
              "  <thead>\n",
              "    <tr style=\"text-align: right;\">\n",
              "      <th>Columns</th>\n",
              "      <th>colA</th>\n",
              "      <th>colB</th>\n",
              "      <th>colC</th>\n",
              "    </tr>\n",
              "    <tr>\n",
              "      <th>Index</th>\n",
              "      <th></th>\n",
              "      <th></th>\n",
              "      <th></th>\n",
              "    </tr>\n",
              "  </thead>\n",
              "  <tbody>\n",
              "    <tr>\n",
              "      <th>A</th>\n",
              "      <td>-0.731458</td>\n",
              "      <td>-1.605402</td>\n",
              "      <td>0.989476</td>\n",
              "    </tr>\n",
              "    <tr>\n",
              "      <th>B</th>\n",
              "      <td>0.110815</td>\n",
              "      <td>-0.380931</td>\n",
              "      <td>0.114959</td>\n",
              "    </tr>\n",
              "    <tr>\n",
              "      <th>C</th>\n",
              "      <td>0.345313</td>\n",
              "      <td>-1.734959</td>\n",
              "      <td>1.658351</td>\n",
              "    </tr>\n",
              "    <tr>\n",
              "      <th>D</th>\n",
              "      <td>2.299772</td>\n",
              "      <td>-0.471135</td>\n",
              "      <td>1.262715</td>\n",
              "    </tr>\n",
              "  </tbody>\n",
              "</table>\n",
              "</div>"
            ],
            "text/plain": [
              "Columns      colA      colB      colC\n",
              "Index                                \n",
              "A       -0.731458 -1.605402  0.989476\n",
              "B        0.110815 -0.380931  0.114959\n",
              "C        0.345313 -1.734959  1.658351\n",
              "D        2.299772 -0.471135  1.262715"
            ]
          },
          "execution_count": 64,
          "metadata": {},
          "output_type": "execute_result"
        }
      ]
    },
    {
      "cell_type": "code",
      "metadata": {
        "id": "bCVOUYXf5_5R",
        "outputId": "522830cd-4ad7-4366-fea8-56c2d41b05d9"
      },
      "source": [
        "#We can rename the Index labels using the pandas.DataFrame.index \n",
        "#attribute as we saw before:\n",
        "df2.index = ['Alpha', 'Beta', 'Gamma', 'Delta']\n",
        "df2"
      ],
      "execution_count": null,
      "outputs": [
        {
          "data": {
            "text/html": [
              "<div>\n",
              "<style scoped>\n",
              "    .dataframe tbody tr th:only-of-type {\n",
              "        vertical-align: middle;\n",
              "    }\n",
              "\n",
              "    .dataframe tbody tr th {\n",
              "        vertical-align: top;\n",
              "    }\n",
              "\n",
              "    .dataframe thead th {\n",
              "        text-align: right;\n",
              "    }\n",
              "</style>\n",
              "<table border=\"1\" class=\"dataframe\">\n",
              "  <thead>\n",
              "    <tr style=\"text-align: right;\">\n",
              "      <th>Columns</th>\n",
              "      <th>colA</th>\n",
              "      <th>colB</th>\n",
              "      <th>colC</th>\n",
              "    </tr>\n",
              "  </thead>\n",
              "  <tbody>\n",
              "    <tr>\n",
              "      <th>Alpha</th>\n",
              "      <td>-0.731458</td>\n",
              "      <td>-1.605402</td>\n",
              "      <td>0.989476</td>\n",
              "    </tr>\n",
              "    <tr>\n",
              "      <th>Beta</th>\n",
              "      <td>0.110815</td>\n",
              "      <td>-0.380931</td>\n",
              "      <td>0.114959</td>\n",
              "    </tr>\n",
              "    <tr>\n",
              "      <th>Gamma</th>\n",
              "      <td>0.345313</td>\n",
              "      <td>-1.734959</td>\n",
              "      <td>1.658351</td>\n",
              "    </tr>\n",
              "    <tr>\n",
              "      <th>Delta</th>\n",
              "      <td>2.299772</td>\n",
              "      <td>-0.471135</td>\n",
              "      <td>1.262715</td>\n",
              "    </tr>\n",
              "  </tbody>\n",
              "</table>\n",
              "</div>"
            ],
            "text/plain": [
              "Columns      colA      colB      colC\n",
              "Alpha   -0.731458 -1.605402  0.989476\n",
              "Beta     0.110815 -0.380931  0.114959\n",
              "Gamma    0.345313 -1.734959  1.658351\n",
              "Delta    2.299772 -0.471135  1.262715"
            ]
          },
          "execution_count": 65,
          "metadata": {},
          "output_type": "execute_result"
        }
      ]
    },
    {
      "cell_type": "code",
      "metadata": {
        "id": "MsZSOVdm5_5R"
      },
      "source": [
        "x = 'John'"
      ],
      "execution_count": null,
      "outputs": []
    },
    {
      "cell_type": "code",
      "metadata": {
        "id": "EH-1UoGx5_5R",
        "outputId": "7ea9a7ae-7104-4e8c-9c66-4867fc432a5d"
      },
      "source": [
        "x[:3]"
      ],
      "execution_count": null,
      "outputs": [
        {
          "data": {
            "text/plain": [
              "'Joh'"
            ]
          },
          "execution_count": 67,
          "metadata": {},
          "output_type": "execute_result"
        }
      ]
    },
    {
      "cell_type": "code",
      "metadata": {
        "id": "Wzi_nbpX5_5R",
        "outputId": "392a5c36-0a70-46ae-82fc-dd91b555585a"
      },
      "source": [
        "df2.index"
      ],
      "execution_count": null,
      "outputs": [
        {
          "data": {
            "text/plain": [
              "Index(['Alpha', 'Beta', 'Gamma', 'Delta'], dtype='object')"
            ]
          },
          "execution_count": 68,
          "metadata": {},
          "output_type": "execute_result"
        }
      ]
    },
    {
      "cell_type": "code",
      "metadata": {
        "id": "00zXj-o_5_5S"
      },
      "source": [
        "x = 'Michael'"
      ],
      "execution_count": null,
      "outputs": []
    },
    {
      "cell_type": "code",
      "metadata": {
        "id": "2MjpyHHQ5_5S",
        "outputId": "175f3585-3aac-4be1-9812-a78104ce2519"
      },
      "source": [
        "x[:3]"
      ],
      "execution_count": null,
      "outputs": [
        {
          "data": {
            "text/plain": [
              "'Mic'"
            ]
          },
          "execution_count": 70,
          "metadata": {},
          "output_type": "execute_result"
        }
      ]
    },
    {
      "cell_type": "code",
      "metadata": {
        "id": "jBhd7EcU5_5S",
        "outputId": "536b4be1-f1ec-4c7f-c1ed-e4c857640577"
      },
      "source": [
        "#The pandas.Index.map(...) method applies functions to transform \n",
        "#the Index. In the following example, the map function takes the \n",
        "#first three characters of the name and sets that as the new name:\n",
        "\n",
        "df2.index = df2.index.map(lambda x : x[:3])\n",
        "df2"
      ],
      "execution_count": null,
      "outputs": [
        {
          "data": {
            "text/html": [
              "<div>\n",
              "<style scoped>\n",
              "    .dataframe tbody tr th:only-of-type {\n",
              "        vertical-align: middle;\n",
              "    }\n",
              "\n",
              "    .dataframe tbody tr th {\n",
              "        vertical-align: top;\n",
              "    }\n",
              "\n",
              "    .dataframe thead th {\n",
              "        text-align: right;\n",
              "    }\n",
              "</style>\n",
              "<table border=\"1\" class=\"dataframe\">\n",
              "  <thead>\n",
              "    <tr style=\"text-align: right;\">\n",
              "      <th>Columns</th>\n",
              "      <th>colA</th>\n",
              "      <th>colB</th>\n",
              "      <th>colC</th>\n",
              "    </tr>\n",
              "  </thead>\n",
              "  <tbody>\n",
              "    <tr>\n",
              "      <th>Alp</th>\n",
              "      <td>-0.731458</td>\n",
              "      <td>-1.605402</td>\n",
              "      <td>0.989476</td>\n",
              "    </tr>\n",
              "    <tr>\n",
              "      <th>Bet</th>\n",
              "      <td>0.110815</td>\n",
              "      <td>-0.380931</td>\n",
              "      <td>0.114959</td>\n",
              "    </tr>\n",
              "    <tr>\n",
              "      <th>Gam</th>\n",
              "      <td>0.345313</td>\n",
              "      <td>-1.734959</td>\n",
              "      <td>1.658351</td>\n",
              "    </tr>\n",
              "    <tr>\n",
              "      <th>Del</th>\n",
              "      <td>2.299772</td>\n",
              "      <td>-0.471135</td>\n",
              "      <td>1.262715</td>\n",
              "    </tr>\n",
              "  </tbody>\n",
              "</table>\n",
              "</div>"
            ],
            "text/plain": [
              "Columns      colA      colB      colC\n",
              "Alp     -0.731458 -1.605402  0.989476\n",
              "Bet      0.110815 -0.380931  0.114959\n",
              "Gam      0.345313 -1.734959  1.658351\n",
              "Del      2.299772 -0.471135  1.262715"
            ]
          },
          "execution_count": 71,
          "metadata": {},
          "output_type": "execute_result"
        }
      ]
    },
    {
      "cell_type": "code",
      "metadata": {
        "id": "7-_4PbQ55_5T",
        "outputId": "6076ef6e-33f8-45f3-c30a-7ff18e00442b"
      },
      "source": [
        "#The pandas.DataFrame.rename(...) method lets us transform \n",
        "#both Index names and column names and accepts a dictionary \n",
        "#mapping from the old name to the new name:\n",
        "\n",
        "df2.rename(index={'Alp': 0, 'Bet': 1, 'Gam': 2, 'Del': 3}, \n",
        "           columns={'colA': 'A', 'colB': 'B', 'colC': 'C'})"
      ],
      "execution_count": null,
      "outputs": [
        {
          "data": {
            "text/html": [
              "<div>\n",
              "<style scoped>\n",
              "    .dataframe tbody tr th:only-of-type {\n",
              "        vertical-align: middle;\n",
              "    }\n",
              "\n",
              "    .dataframe tbody tr th {\n",
              "        vertical-align: top;\n",
              "    }\n",
              "\n",
              "    .dataframe thead th {\n",
              "        text-align: right;\n",
              "    }\n",
              "</style>\n",
              "<table border=\"1\" class=\"dataframe\">\n",
              "  <thead>\n",
              "    <tr style=\"text-align: right;\">\n",
              "      <th>Columns</th>\n",
              "      <th>A</th>\n",
              "      <th>B</th>\n",
              "      <th>C</th>\n",
              "    </tr>\n",
              "  </thead>\n",
              "  <tbody>\n",
              "    <tr>\n",
              "      <th>0</th>\n",
              "      <td>-0.731458</td>\n",
              "      <td>-1.605402</td>\n",
              "      <td>0.989476</td>\n",
              "    </tr>\n",
              "    <tr>\n",
              "      <th>1</th>\n",
              "      <td>0.110815</td>\n",
              "      <td>-0.380931</td>\n",
              "      <td>0.114959</td>\n",
              "    </tr>\n",
              "    <tr>\n",
              "      <th>2</th>\n",
              "      <td>0.345313</td>\n",
              "      <td>-1.734959</td>\n",
              "      <td>1.658351</td>\n",
              "    </tr>\n",
              "    <tr>\n",
              "      <th>3</th>\n",
              "      <td>2.299772</td>\n",
              "      <td>-0.471135</td>\n",
              "      <td>1.262715</td>\n",
              "    </tr>\n",
              "  </tbody>\n",
              "</table>\n",
              "</div>"
            ],
            "text/plain": [
              "Columns         A         B         C\n",
              "0       -0.731458 -1.605402  0.989476\n",
              "1        0.110815 -0.380931  0.114959\n",
              "2        0.345313 -1.734959  1.658351\n",
              "3        2.299772 -0.471135  1.262715"
            ]
          },
          "execution_count": 72,
          "metadata": {},
          "output_type": "execute_result"
        }
      ]
    },
    {
      "cell_type": "markdown",
      "metadata": {
        "id": "y4bQvyVo5_5T"
      },
      "source": [
        "## Handling missing data in DataFrames"
      ]
    },
    {
      "cell_type": "markdown",
      "metadata": {
        "id": "BSSCkxG55_5T"
      },
      "source": [
        "With all these lessons learned, we will learn how to handle missing data in DataFrames."
      ]
    },
    {
      "cell_type": "markdown",
      "metadata": {
        "id": "7sJtH_EN5_5T"
      },
      "source": [
        "Missing data is a common phenomenon in data science and can happen for multiple reasons – for example, database error, other technical error, human error, holiday."
      ]
    },
    {
      "cell_type": "markdown",
      "metadata": {
        "id": "8dfV62g15_5T"
      },
      "source": [
        "### Filtering out missing data"
      ]
    },
    {
      "cell_type": "markdown",
      "metadata": {
        "id": "rxDpqpgW5_5U"
      },
      "source": [
        "When dealing with missing data, a quick option is to remove all observations with any missing data. Though there are several better options to use that preserves your data rather than outright deletion. We would later learn these other options as we go along in this course and even in subsequent courses,since we would most times find ourselves doing data cleaning before any other thing. And mind this, data cleaning consume up to 70% of a data scientist time on a project!!"
      ]
    },
    {
      "cell_type": "code",
      "metadata": {
        "id": "mwyh26sz5_5U"
      },
      "source": [
        "import numpy as np\n",
        "import pandas as pd"
      ],
      "execution_count": null,
      "outputs": []
    },
    {
      "cell_type": "code",
      "metadata": {
        "id": "2zMqbeiU5_5U"
      },
      "source": [
        ""
      ],
      "execution_count": null,
      "outputs": []
    },
    {
      "cell_type": "code",
      "metadata": {
        "id": "YbeD3chF5_5V"
      },
      "source": [
        "df2"
      ],
      "execution_count": null,
      "outputs": []
    },
    {
      "cell_type": "code",
      "metadata": {
        "id": "dVhL1ndo5_5V"
      },
      "source": [
        "#This code block modifies the df2 DataFrame using the\n",
        "#pandas.DataFrame.at[...] attribute and sets some values to NaN:\n",
        "for row, col in [('Bet', 'colA'), ('Bet', 'colB'), ('Bet', 'colC'), ('Del', 'colB'), ('Gam', 'colC')]:\n",
        "    df2.at[row, col] = np.NaN\n",
        "\n",
        "df2"
      ],
      "execution_count": null,
      "outputs": []
    },
    {
      "cell_type": "code",
      "metadata": {
        "id": "kGZs7ijL5_5V"
      },
      "source": [
        "#The pandas.DataFrame.isnull(...) method finds missing values in a DataFrame.\n",
        "#The result is a DataFrame with True where values are missing and False otherwise.\n",
        "df2.isnull()"
      ],
      "execution_count": null,
      "outputs": []
    },
    {
      "cell_type": "code",
      "metadata": {
        "id": "5NN3AwJ25_5V"
      },
      "source": [
        "#The pandas.DataFrame.notnull(...) method does the opposite (detects non-missing values):\n",
        "df2.notnull()"
      ],
      "execution_count": null,
      "outputs": []
    },
    {
      "cell_type": "code",
      "metadata": {
        "id": "y154Hk815_5W"
      },
      "source": [
        "df2"
      ],
      "execution_count": null,
      "outputs": []
    },
    {
      "cell_type": "code",
      "metadata": {
        "id": "zZN4yd0q5_5W"
      },
      "source": [
        "df2.isna().sum() #returns aggregate of missing values in each column"
      ],
      "execution_count": null,
      "outputs": []
    },
    {
      "cell_type": "code",
      "metadata": {
        "id": "uexcEFJ85_5W"
      },
      "source": [
        "df2.isnull().sum().sum()"
      ],
      "execution_count": null,
      "outputs": []
    },
    {
      "cell_type": "code",
      "metadata": {
        "id": "0KT4zT0Y5_5X"
      },
      "source": [
        "#The pandas.DataFrame.dropna(...) method allows us to drop \n",
        "#rows with missing values. The additional how= parameter controls\n",
        "#which rows get dropped. To drop rows that have NaN for all fields, we do the following.\n",
        "#The result is the following modified DataFrame with the Bet row removed since that was the only one with all NaN.\n",
        "df2.dropna(how='all')"
      ],
      "execution_count": null,
      "outputs": []
    },
    {
      "cell_type": "code",
      "metadata": {
        "id": "X7-U6C7x5_5X"
      },
      "source": [
        "#Setting how= to any removes rows with any NaN values.\n",
        "#This gives us the following DataFrame with all non-NaN values:\n",
        "df2.dropna(how='any')"
      ],
      "execution_count": null,
      "outputs": []
    },
    {
      "cell_type": "code",
      "metadata": {
        "id": "n9iU97_x5_5X"
      },
      "source": [
        "df2.isnull().sum().sum()"
      ],
      "execution_count": null,
      "outputs": []
    },
    {
      "cell_type": "markdown",
      "metadata": {
        "id": "ABc4qKBs5_5Y"
      },
      "source": [
        "### Filling in missing data"
      ]
    },
    {
      "cell_type": "markdown",
      "metadata": {
        "id": "Dw29WmVC5_5Y"
      },
      "source": [
        "We will now look at how to fill in missing data."
      ]
    },
    {
      "cell_type": "markdown",
      "metadata": {
        "id": "42Sk2YEl5_5Y"
      },
      "source": [
        "The second option when dealing with missing data is to fill in the missing values either with a value of our choice or using other valid values in the same column to duplicate/extrapolate the missing values."
      ]
    },
    {
      "cell_type": "code",
      "metadata": {
        "id": "Im651nBZ5_5Y"
      },
      "source": [
        "#Let's start by re-inspecting the df2 DataFrame.\n",
        "#This yields the following DataFrame with some missing values:\n",
        "df2"
      ],
      "execution_count": null,
      "outputs": []
    },
    {
      "cell_type": "code",
      "metadata": {
        "id": "QoE4lBOO5_5Z"
      },
      "source": [
        "#Now, let's use the pandas.DataFrame.fillna(...) method with the method='backfill' \n",
        "#and inplace=True arguments to use the backfill method to backward fill the missing values from the other values and change the DataFrame in place:\n",
        "\n",
        "df2.fillna(method='bfill', inplace=True)\n",
        "df2"
      ],
      "execution_count": null,
      "outputs": []
    },
    {
      "cell_type": "code",
      "metadata": {
        "id": "X5xG-Lvz5_5Z"
      },
      "source": [
        "#NOTE: From the result above, The NaN value at (Del,colB) is because there were no observations after that row, so backfill could not be performed. \n",
        "# But, that can be fixed instead with forward fill."
      ],
      "execution_count": null,
      "outputs": []
    },
    {
      "cell_type": "code",
      "metadata": {
        "id": "GHzWinNP5_5Z"
      },
      "source": [
        "df2.fillna(method = 'ffill', inplace = True)"
      ],
      "execution_count": null,
      "outputs": []
    },
    {
      "cell_type": "code",
      "metadata": {
        "id": "nIy88o2J5_5a"
      },
      "source": [
        "df2"
      ],
      "execution_count": null,
      "outputs": []
    },
    {
      "cell_type": "markdown",
      "metadata": {
        "id": "5IlCmuxu5_5a"
      },
      "source": [
        "## Transformation of DataFrames with Functions and Mappings"
      ]
    },
    {
      "cell_type": "markdown",
      "metadata": {
        "id": "U1Ebobw_5_5a"
      },
      "source": [
        "pandas DataFrame values can also be modified by passing functions and dictionary mappings that operate on one or more data values and generate new transformed values.\n",
        "\n",
        "Let's modify the df2 DataFrame by adding a new column, Category, containing discrete text data:"
      ]
    },
    {
      "cell_type": "code",
      "metadata": {
        "scrolled": true,
        "id": "eCZKkZgD5_5a"
      },
      "source": [
        "df2['Category']"
      ],
      "execution_count": null,
      "outputs": []
    },
    {
      "cell_type": "code",
      "metadata": {
        "id": "tZOyNcon5_5b"
      },
      "source": [
        "df2['Category'] = ['HIGH', 'LOW', 'LOW', 'HIGH']\n",
        "df2"
      ],
      "execution_count": null,
      "outputs": []
    },
    {
      "cell_type": "code",
      "metadata": {
        "id": "HBJQCvde5_5b"
      },
      "source": [
        "#The pandas.Series.map(...) method accepts a dictionary \n",
        "#containing a mapping from the old value to the new value and \n",
        "#transforms the values. The following snippet changes the text \n",
        "#values in Category to single characters:\n",
        "df2['Category'] = df2['Category'].map({'HIGH': 'H', 'LOW': 'L'})\n",
        "df2"
      ],
      "execution_count": null,
      "outputs": []
    },
    {
      "cell_type": "markdown",
      "metadata": {
        "id": "uTRIH0pS5_5b"
      },
      "source": [
        "## Discretization / Bucketing of DataFrame's values"
      ]
    },
    {
      "cell_type": "markdown",
      "metadata": {
        "id": "zazHnzYg5_5c"
      },
      "source": [
        "The simplest way to achieve discretization is to create ranges of values and assign a single discrete label to all values that fall within a certain bucket.\n",
        "\n",
        "First, let's generate a random valued ndarray for our use:"
      ]
    },
    {
      "cell_type": "code",
      "metadata": {
        "id": "6VISSwxc5_5c"
      },
      "source": [
        "arr = np.random.randn(10)\n",
        "arr"
      ],
      "execution_count": null,
      "outputs": []
    },
    {
      "cell_type": "code",
      "metadata": {
        "id": "gtee4APy5_5c"
      },
      "source": [
        "#The pandas.cut(...) method can be used to discretize these values. \n",
        "#The following code uses the bins= and labels=[...] arguments to \n",
        "#bin the values into five discrete values with the labels provided:\n",
        "cat = pd.cut(arr, bins=5, \n",
        "             labels=['Very Low', 'Low', 'Med', 'High', 'Very High'])\n",
        "cat"
      ],
      "execution_count": null,
      "outputs": []
    },
    {
      "cell_type": "code",
      "metadata": {
        "id": "w7KERvWe5_5d"
      },
      "source": [
        "pd.DataFrame({'Value': arr, 'Category': cat})"
      ],
      "execution_count": null,
      "outputs": []
    },
    {
      "cell_type": "code",
      "metadata": {
        "id": "PKoluXRg5_5d"
      },
      "source": [
        "#The pandas.qcut(...) method is similar but uses quartiles to \n",
        "#bin the continuous values to discrete values so that each \n",
        "#category has the same amount of observations.\n",
        "#The following builds five discrete bins using the q= parameter:\n",
        "\n",
        "qcat = pd.qcut(arr, q=5, \n",
        "               labels=['Very Low', 'Low', 'Med', 'High', 'Very High'])\n",
        "qcat"
      ],
      "execution_count": null,
      "outputs": []
    },
    {
      "cell_type": "code",
      "metadata": {
        "id": "l6lezh1_5_5e"
      },
      "source": [
        "#The following code block builds a pandas DataFrame \n",
        "#consisting of the original continuous values as well as the \n",
        "#categories generated from cut and qcut:\n",
        "pd.DataFrame({'Value': arr, 'Category': cat, \n",
        "              'Quartile Category': qcat})"
      ],
      "execution_count": null,
      "outputs": []
    },
    {
      "cell_type": "code",
      "metadata": {
        "id": "PCkdWpp95_5e"
      },
      "source": [
        "#The pandas.Categorical.categories attribute provides us \n",
        "#with the bucket ranges:\n",
        "pd.cut(arr, bins=5).categories"
      ],
      "execution_count": null,
      "outputs": []
    },
    {
      "cell_type": "code",
      "metadata": {
        "id": "zpvWlT4I5_5f"
      },
      "source": [
        "#We can inspect the buckets for qcut as well. \n",
        "#They are quite different from the one above.\n",
        "pd.qcut(arr, q=5).categories"
      ],
      "execution_count": null,
      "outputs": []
    },
    {
      "cell_type": "markdown",
      "metadata": {
        "id": "KOYuLnhv5_5f"
      },
      "source": [
        "## Permuting and Sampling of DataFrames Values to Generate new DataFrames"
      ]
    },
    {
      "cell_type": "markdown",
      "metadata": {
        "id": "J-H6meLC5_5g"
      },
      "source": [
        "Permuting available datasets to generate new datasets and sampling datasets to either sub-sample (reduce the number of observations) or super-sample (increase the number of observations) are common operations in statistical analysis."
      ]
    },
    {
      "cell_type": "code",
      "metadata": {
        "id": "XBKIz-QB5_5g"
      },
      "source": [
        "import pandas as pd\n",
        "import numpy as np"
      ],
      "execution_count": null,
      "outputs": []
    },
    {
      "cell_type": "code",
      "metadata": {
        "id": "LNZAodaV5_5h",
        "outputId": "5d891c62-388b-4edc-af3c-fba1c71b8e68"
      },
      "source": [
        "#First, let's generate a DataFrame of random values to work with:\n",
        "df = pd.DataFrame(np.random.randn(10,5), \n",
        "                  index=np.sort(np.random.randint(0, 100, size=10)),\n",
        "                  columns=list('ABCDE'))\n",
        "df"
      ],
      "execution_count": null,
      "outputs": [
        {
          "data": {
            "text/html": [
              "<div>\n",
              "<style scoped>\n",
              "    .dataframe tbody tr th:only-of-type {\n",
              "        vertical-align: middle;\n",
              "    }\n",
              "\n",
              "    .dataframe tbody tr th {\n",
              "        vertical-align: top;\n",
              "    }\n",
              "\n",
              "    .dataframe thead th {\n",
              "        text-align: right;\n",
              "    }\n",
              "</style>\n",
              "<table border=\"1\" class=\"dataframe\">\n",
              "  <thead>\n",
              "    <tr style=\"text-align: right;\">\n",
              "      <th></th>\n",
              "      <th>A</th>\n",
              "      <th>B</th>\n",
              "      <th>C</th>\n",
              "      <th>D</th>\n",
              "      <th>E</th>\n",
              "    </tr>\n",
              "  </thead>\n",
              "  <tbody>\n",
              "    <tr>\n",
              "      <th>6</th>\n",
              "      <td>-0.408990</td>\n",
              "      <td>1.236709</td>\n",
              "      <td>-0.532281</td>\n",
              "      <td>-0.249674</td>\n",
              "      <td>1.250225</td>\n",
              "    </tr>\n",
              "    <tr>\n",
              "      <th>17</th>\n",
              "      <td>-0.241973</td>\n",
              "      <td>0.146086</td>\n",
              "      <td>-1.106059</td>\n",
              "      <td>1.334223</td>\n",
              "      <td>-1.368187</td>\n",
              "    </tr>\n",
              "    <tr>\n",
              "      <th>48</th>\n",
              "      <td>-0.108104</td>\n",
              "      <td>-1.337010</td>\n",
              "      <td>0.761675</td>\n",
              "      <td>0.315462</td>\n",
              "      <td>-1.240366</td>\n",
              "    </tr>\n",
              "    <tr>\n",
              "      <th>53</th>\n",
              "      <td>-0.305116</td>\n",
              "      <td>0.561282</td>\n",
              "      <td>-0.903246</td>\n",
              "      <td>1.203187</td>\n",
              "      <td>-1.361112</td>\n",
              "    </tr>\n",
              "    <tr>\n",
              "      <th>64</th>\n",
              "      <td>0.757960</td>\n",
              "      <td>-2.410400</td>\n",
              "      <td>-0.813214</td>\n",
              "      <td>0.984979</td>\n",
              "      <td>-0.363891</td>\n",
              "    </tr>\n",
              "    <tr>\n",
              "      <th>64</th>\n",
              "      <td>1.605815</td>\n",
              "      <td>-0.342392</td>\n",
              "      <td>-0.768160</td>\n",
              "      <td>0.024118</td>\n",
              "      <td>0.498116</td>\n",
              "    </tr>\n",
              "    <tr>\n",
              "      <th>72</th>\n",
              "      <td>0.937465</td>\n",
              "      <td>-0.116423</td>\n",
              "      <td>-0.400136</td>\n",
              "      <td>-1.673957</td>\n",
              "      <td>0.491555</td>\n",
              "    </tr>\n",
              "    <tr>\n",
              "      <th>72</th>\n",
              "      <td>-0.715211</td>\n",
              "      <td>0.556665</td>\n",
              "      <td>1.073624</td>\n",
              "      <td>0.685361</td>\n",
              "      <td>-0.956679</td>\n",
              "    </tr>\n",
              "    <tr>\n",
              "      <th>73</th>\n",
              "      <td>1.348712</td>\n",
              "      <td>-0.894434</td>\n",
              "      <td>0.973483</td>\n",
              "      <td>1.090710</td>\n",
              "      <td>1.058841</td>\n",
              "    </tr>\n",
              "    <tr>\n",
              "      <th>89</th>\n",
              "      <td>0.709441</td>\n",
              "      <td>1.475943</td>\n",
              "      <td>0.699074</td>\n",
              "      <td>-0.808601</td>\n",
              "      <td>0.733136</td>\n",
              "    </tr>\n",
              "  </tbody>\n",
              "</table>\n",
              "</div>"
            ],
            "text/plain": [
              "           A         B         C         D         E\n",
              "6  -0.408990  1.236709 -0.532281 -0.249674  1.250225\n",
              "17 -0.241973  0.146086 -1.106059  1.334223 -1.368187\n",
              "48 -0.108104 -1.337010  0.761675  0.315462 -1.240366\n",
              "53 -0.305116  0.561282 -0.903246  1.203187 -1.361112\n",
              "64  0.757960 -2.410400 -0.813214  0.984979 -0.363891\n",
              "64  1.605815 -0.342392 -0.768160  0.024118  0.498116\n",
              "72  0.937465 -0.116423 -0.400136 -1.673957  0.491555\n",
              "72 -0.715211  0.556665  1.073624  0.685361 -0.956679\n",
              "73  1.348712 -0.894434  0.973483  1.090710  1.058841\n",
              "89  0.709441  1.475943  0.699074 -0.808601  0.733136"
            ]
          },
          "execution_count": 23,
          "metadata": {},
          "output_type": "execute_result"
        }
      ]
    },
    {
      "cell_type": "code",
      "metadata": {
        "id": "CH3PtlvZ5_5h",
        "outputId": "38492fcb-342a-4f84-cce5-4ad32e323cd5"
      },
      "source": [
        "df.index\n"
      ],
      "execution_count": null,
      "outputs": [
        {
          "data": {
            "text/plain": [
              "Int64Index([6, 17, 48, 53, 64, 64, 72, 72, 73, 89], dtype='int64')"
            ]
          },
          "execution_count": 24,
          "metadata": {},
          "output_type": "execute_result"
        }
      ]
    },
    {
      "cell_type": "code",
      "metadata": {
        "id": "pkQ5mADH5_5i",
        "outputId": "45952c58-bf0f-4dc9-b7bc-0f3179704259"
      },
      "source": [
        "np.random.permutation(df.index)"
      ],
      "execution_count": null,
      "outputs": [
        {
          "data": {
            "text/plain": [
              "array([89, 64, 72, 17, 72,  6, 48, 73, 64, 53], dtype=int64)"
            ]
          },
          "execution_count": 25,
          "metadata": {},
          "output_type": "execute_result"
        }
      ]
    },
    {
      "cell_type": "code",
      "metadata": {
        "id": "jdziCyzu5_5i",
        "outputId": "80a3c4fc-1384-4758-c73e-279cb34c5dcf"
      },
      "source": [
        "#The numpy.random.permutation(...) method, when applied to a \n",
        "#DataFrame, randomly shuffles along the Index axis and can be \n",
        "#used to permute the rows in the dataset:\n",
        "\n",
        "df.loc[np.random.permutation(df.index)]"
      ],
      "execution_count": null,
      "outputs": [
        {
          "data": {
            "text/html": [
              "<div>\n",
              "<style scoped>\n",
              "    .dataframe tbody tr th:only-of-type {\n",
              "        vertical-align: middle;\n",
              "    }\n",
              "\n",
              "    .dataframe tbody tr th {\n",
              "        vertical-align: top;\n",
              "    }\n",
              "\n",
              "    .dataframe thead th {\n",
              "        text-align: right;\n",
              "    }\n",
              "</style>\n",
              "<table border=\"1\" class=\"dataframe\">\n",
              "  <thead>\n",
              "    <tr style=\"text-align: right;\">\n",
              "      <th></th>\n",
              "      <th>A</th>\n",
              "      <th>B</th>\n",
              "      <th>C</th>\n",
              "      <th>D</th>\n",
              "      <th>E</th>\n",
              "    </tr>\n",
              "  </thead>\n",
              "  <tbody>\n",
              "    <tr>\n",
              "      <th>89</th>\n",
              "      <td>0.709441</td>\n",
              "      <td>1.475943</td>\n",
              "      <td>0.699074</td>\n",
              "      <td>-0.808601</td>\n",
              "      <td>0.733136</td>\n",
              "    </tr>\n",
              "    <tr>\n",
              "      <th>17</th>\n",
              "      <td>-0.241973</td>\n",
              "      <td>0.146086</td>\n",
              "      <td>-1.106059</td>\n",
              "      <td>1.334223</td>\n",
              "      <td>-1.368187</td>\n",
              "    </tr>\n",
              "    <tr>\n",
              "      <th>6</th>\n",
              "      <td>-0.408990</td>\n",
              "      <td>1.236709</td>\n",
              "      <td>-0.532281</td>\n",
              "      <td>-0.249674</td>\n",
              "      <td>1.250225</td>\n",
              "    </tr>\n",
              "    <tr>\n",
              "      <th>72</th>\n",
              "      <td>0.937465</td>\n",
              "      <td>-0.116423</td>\n",
              "      <td>-0.400136</td>\n",
              "      <td>-1.673957</td>\n",
              "      <td>0.491555</td>\n",
              "    </tr>\n",
              "    <tr>\n",
              "      <th>72</th>\n",
              "      <td>-0.715211</td>\n",
              "      <td>0.556665</td>\n",
              "      <td>1.073624</td>\n",
              "      <td>0.685361</td>\n",
              "      <td>-0.956679</td>\n",
              "    </tr>\n",
              "    <tr>\n",
              "      <th>73</th>\n",
              "      <td>1.348712</td>\n",
              "      <td>-0.894434</td>\n",
              "      <td>0.973483</td>\n",
              "      <td>1.090710</td>\n",
              "      <td>1.058841</td>\n",
              "    </tr>\n",
              "    <tr>\n",
              "      <th>64</th>\n",
              "      <td>0.757960</td>\n",
              "      <td>-2.410400</td>\n",
              "      <td>-0.813214</td>\n",
              "      <td>0.984979</td>\n",
              "      <td>-0.363891</td>\n",
              "    </tr>\n",
              "    <tr>\n",
              "      <th>64</th>\n",
              "      <td>1.605815</td>\n",
              "      <td>-0.342392</td>\n",
              "      <td>-0.768160</td>\n",
              "      <td>0.024118</td>\n",
              "      <td>0.498116</td>\n",
              "    </tr>\n",
              "    <tr>\n",
              "      <th>48</th>\n",
              "      <td>-0.108104</td>\n",
              "      <td>-1.337010</td>\n",
              "      <td>0.761675</td>\n",
              "      <td>0.315462</td>\n",
              "      <td>-1.240366</td>\n",
              "    </tr>\n",
              "    <tr>\n",
              "      <th>53</th>\n",
              "      <td>-0.305116</td>\n",
              "      <td>0.561282</td>\n",
              "      <td>-0.903246</td>\n",
              "      <td>1.203187</td>\n",
              "      <td>-1.361112</td>\n",
              "    </tr>\n",
              "    <tr>\n",
              "      <th>72</th>\n",
              "      <td>0.937465</td>\n",
              "      <td>-0.116423</td>\n",
              "      <td>-0.400136</td>\n",
              "      <td>-1.673957</td>\n",
              "      <td>0.491555</td>\n",
              "    </tr>\n",
              "    <tr>\n",
              "      <th>72</th>\n",
              "      <td>-0.715211</td>\n",
              "      <td>0.556665</td>\n",
              "      <td>1.073624</td>\n",
              "      <td>0.685361</td>\n",
              "      <td>-0.956679</td>\n",
              "    </tr>\n",
              "    <tr>\n",
              "      <th>64</th>\n",
              "      <td>0.757960</td>\n",
              "      <td>-2.410400</td>\n",
              "      <td>-0.813214</td>\n",
              "      <td>0.984979</td>\n",
              "      <td>-0.363891</td>\n",
              "    </tr>\n",
              "    <tr>\n",
              "      <th>64</th>\n",
              "      <td>1.605815</td>\n",
              "      <td>-0.342392</td>\n",
              "      <td>-0.768160</td>\n",
              "      <td>0.024118</td>\n",
              "      <td>0.498116</td>\n",
              "    </tr>\n",
              "  </tbody>\n",
              "</table>\n",
              "</div>"
            ],
            "text/plain": [
              "           A         B         C         D         E\n",
              "89  0.709441  1.475943  0.699074 -0.808601  0.733136\n",
              "17 -0.241973  0.146086 -1.106059  1.334223 -1.368187\n",
              "6  -0.408990  1.236709 -0.532281 -0.249674  1.250225\n",
              "72  0.937465 -0.116423 -0.400136 -1.673957  0.491555\n",
              "72 -0.715211  0.556665  1.073624  0.685361 -0.956679\n",
              "73  1.348712 -0.894434  0.973483  1.090710  1.058841\n",
              "64  0.757960 -2.410400 -0.813214  0.984979 -0.363891\n",
              "64  1.605815 -0.342392 -0.768160  0.024118  0.498116\n",
              "48 -0.108104 -1.337010  0.761675  0.315462 -1.240366\n",
              "53 -0.305116  0.561282 -0.903246  1.203187 -1.361112\n",
              "72  0.937465 -0.116423 -0.400136 -1.673957  0.491555\n",
              "72 -0.715211  0.556665  1.073624  0.685361 -0.956679\n",
              "64  0.757960 -2.410400 -0.813214  0.984979 -0.363891\n",
              "64  1.605815 -0.342392 -0.768160  0.024118  0.498116"
            ]
          },
          "execution_count": 26,
          "metadata": {},
          "output_type": "execute_result"
        }
      ]
    },
    {
      "cell_type": "markdown",
      "metadata": {
        "id": "jN9J6m6t5_5j"
      },
      "source": [
        "We can use the numpy.random.randint(...) method to generate random integers within a certain range and then use the pandas.DataFrame.iloc[...] attribute to randomly sample with replacement (the same observation can be picked more than once) from our DataFrame."
      ]
    },
    {
      "cell_type": "code",
      "metadata": {
        "id": "lbrext_U5_5j",
        "outputId": "95fb498e-1017-4d03-c197-b9e8cd970d12"
      },
      "source": [
        "np.random.randint(0, len(df), size=5)"
      ],
      "execution_count": null,
      "outputs": [
        {
          "data": {
            "text/plain": [
              "array([7, 6, 3, 7, 3])"
            ]
          },
          "execution_count": 27,
          "metadata": {},
          "output_type": "execute_result"
        }
      ]
    },
    {
      "cell_type": "code",
      "metadata": {
        "id": "Pl-lxli45_5k",
        "outputId": "9bf8c7e1-8bd4-4ba6-e20e-640265d19539"
      },
      "source": [
        "#The following code block picks out five rows randomly \n",
        "#sampled with replacement:\n",
        "df.iloc[np.random.randint(0, len(df), size=5)]"
      ],
      "execution_count": null,
      "outputs": [
        {
          "data": {
            "text/html": [
              "<div>\n",
              "<style scoped>\n",
              "    .dataframe tbody tr th:only-of-type {\n",
              "        vertical-align: middle;\n",
              "    }\n",
              "\n",
              "    .dataframe tbody tr th {\n",
              "        vertical-align: top;\n",
              "    }\n",
              "\n",
              "    .dataframe thead th {\n",
              "        text-align: right;\n",
              "    }\n",
              "</style>\n",
              "<table border=\"1\" class=\"dataframe\">\n",
              "  <thead>\n",
              "    <tr style=\"text-align: right;\">\n",
              "      <th></th>\n",
              "      <th>A</th>\n",
              "      <th>B</th>\n",
              "      <th>C</th>\n",
              "      <th>D</th>\n",
              "      <th>E</th>\n",
              "    </tr>\n",
              "  </thead>\n",
              "  <tbody>\n",
              "    <tr>\n",
              "      <th>48</th>\n",
              "      <td>-0.108104</td>\n",
              "      <td>-1.337010</td>\n",
              "      <td>0.761675</td>\n",
              "      <td>0.315462</td>\n",
              "      <td>-1.240366</td>\n",
              "    </tr>\n",
              "    <tr>\n",
              "      <th>72</th>\n",
              "      <td>0.937465</td>\n",
              "      <td>-0.116423</td>\n",
              "      <td>-0.400136</td>\n",
              "      <td>-1.673957</td>\n",
              "      <td>0.491555</td>\n",
              "    </tr>\n",
              "    <tr>\n",
              "      <th>72</th>\n",
              "      <td>-0.715211</td>\n",
              "      <td>0.556665</td>\n",
              "      <td>1.073624</td>\n",
              "      <td>0.685361</td>\n",
              "      <td>-0.956679</td>\n",
              "    </tr>\n",
              "    <tr>\n",
              "      <th>73</th>\n",
              "      <td>1.348712</td>\n",
              "      <td>-0.894434</td>\n",
              "      <td>0.973483</td>\n",
              "      <td>1.090710</td>\n",
              "      <td>1.058841</td>\n",
              "    </tr>\n",
              "    <tr>\n",
              "      <th>73</th>\n",
              "      <td>1.348712</td>\n",
              "      <td>-0.894434</td>\n",
              "      <td>0.973483</td>\n",
              "      <td>1.090710</td>\n",
              "      <td>1.058841</td>\n",
              "    </tr>\n",
              "  </tbody>\n",
              "</table>\n",
              "</div>"
            ],
            "text/plain": [
              "           A         B         C         D         E\n",
              "48 -0.108104 -1.337010  0.761675  0.315462 -1.240366\n",
              "72  0.937465 -0.116423 -0.400136 -1.673957  0.491555\n",
              "72 -0.715211  0.556665  1.073624  0.685361 -0.956679\n",
              "73  1.348712 -0.894434  0.973483  1.090710  1.058841\n",
              "73  1.348712 -0.894434  0.973483  1.090710  1.058841"
            ]
          },
          "execution_count": 28,
          "metadata": {},
          "output_type": "execute_result"
        }
      ]
    },
    {
      "cell_type": "markdown",
      "metadata": {
        "id": "B7-Gi2x75_5k"
      },
      "source": [
        "# File operations with DataFrames"
      ]
    },
    {
      "cell_type": "markdown",
      "metadata": {
        "id": "3692pWy75_5l"
      },
      "source": [
        "pandas supports the persistence of DataFrames in both plain-text and binary formats. The common text formats are CSV and JSON files, the most used binary formats are Excel XLSX, HDF5, and pickle.\n",
        "\n",
        "In this session, we focus on plain-text persistence."
      ]
    },
    {
      "cell_type": "markdown",
      "metadata": {
        "id": "kCc-6Rtv5_5l"
      },
      "source": [
        "## CSV files"
      ]
    },
    {
      "cell_type": "markdown",
      "metadata": {
        "id": "yLUdqt-95_5n"
      },
      "source": [
        "CSV files (comma-separated values files) are data-exchange standard files."
      ]
    },
    {
      "cell_type": "markdown",
      "metadata": {
        "id": "6uwrrPQI5_5n"
      },
      "source": [
        "Writing a pandas DataFrame to a CSV file is easily achievable using the pandas.DataFrame.to_csv(...) method. The header= parameter controls whether a header is written to the top of the file or not and the index= parameter controls whether the Index axis values are written to the file or not."
      ]
    },
    {
      "cell_type": "markdown",
      "metadata": {
        "id": "DTK3Y8Kh5_5n"
      },
      "source": [
        "### Writing csv files"
      ]
    },
    {
      "cell_type": "code",
      "metadata": {
        "id": "CdtjQxoP5_5n",
        "outputId": "c701f9e5-8211-4bb3-fc47-47fac350e5f5"
      },
      "source": [
        "df"
      ],
      "execution_count": null,
      "outputs": [
        {
          "data": {
            "text/html": [
              "<div>\n",
              "<style scoped>\n",
              "    .dataframe tbody tr th:only-of-type {\n",
              "        vertical-align: middle;\n",
              "    }\n",
              "\n",
              "    .dataframe tbody tr th {\n",
              "        vertical-align: top;\n",
              "    }\n",
              "\n",
              "    .dataframe thead th {\n",
              "        text-align: right;\n",
              "    }\n",
              "</style>\n",
              "<table border=\"1\" class=\"dataframe\">\n",
              "  <thead>\n",
              "    <tr style=\"text-align: right;\">\n",
              "      <th></th>\n",
              "      <th>A</th>\n",
              "      <th>B</th>\n",
              "      <th>C</th>\n",
              "      <th>D</th>\n",
              "      <th>E</th>\n",
              "    </tr>\n",
              "  </thead>\n",
              "  <tbody>\n",
              "    <tr>\n",
              "      <th>6</th>\n",
              "      <td>-0.408990</td>\n",
              "      <td>1.236709</td>\n",
              "      <td>-0.532281</td>\n",
              "      <td>-0.249674</td>\n",
              "      <td>1.250225</td>\n",
              "    </tr>\n",
              "    <tr>\n",
              "      <th>17</th>\n",
              "      <td>-0.241973</td>\n",
              "      <td>0.146086</td>\n",
              "      <td>-1.106059</td>\n",
              "      <td>1.334223</td>\n",
              "      <td>-1.368187</td>\n",
              "    </tr>\n",
              "    <tr>\n",
              "      <th>48</th>\n",
              "      <td>-0.108104</td>\n",
              "      <td>-1.337010</td>\n",
              "      <td>0.761675</td>\n",
              "      <td>0.315462</td>\n",
              "      <td>-1.240366</td>\n",
              "    </tr>\n",
              "    <tr>\n",
              "      <th>53</th>\n",
              "      <td>-0.305116</td>\n",
              "      <td>0.561282</td>\n",
              "      <td>-0.903246</td>\n",
              "      <td>1.203187</td>\n",
              "      <td>-1.361112</td>\n",
              "    </tr>\n",
              "    <tr>\n",
              "      <th>64</th>\n",
              "      <td>0.757960</td>\n",
              "      <td>-2.410400</td>\n",
              "      <td>-0.813214</td>\n",
              "      <td>0.984979</td>\n",
              "      <td>-0.363891</td>\n",
              "    </tr>\n",
              "    <tr>\n",
              "      <th>64</th>\n",
              "      <td>1.605815</td>\n",
              "      <td>-0.342392</td>\n",
              "      <td>-0.768160</td>\n",
              "      <td>0.024118</td>\n",
              "      <td>0.498116</td>\n",
              "    </tr>\n",
              "    <tr>\n",
              "      <th>72</th>\n",
              "      <td>0.937465</td>\n",
              "      <td>-0.116423</td>\n",
              "      <td>-0.400136</td>\n",
              "      <td>-1.673957</td>\n",
              "      <td>0.491555</td>\n",
              "    </tr>\n",
              "    <tr>\n",
              "      <th>72</th>\n",
              "      <td>-0.715211</td>\n",
              "      <td>0.556665</td>\n",
              "      <td>1.073624</td>\n",
              "      <td>0.685361</td>\n",
              "      <td>-0.956679</td>\n",
              "    </tr>\n",
              "    <tr>\n",
              "      <th>73</th>\n",
              "      <td>1.348712</td>\n",
              "      <td>-0.894434</td>\n",
              "      <td>0.973483</td>\n",
              "      <td>1.090710</td>\n",
              "      <td>1.058841</td>\n",
              "    </tr>\n",
              "    <tr>\n",
              "      <th>89</th>\n",
              "      <td>0.709441</td>\n",
              "      <td>1.475943</td>\n",
              "      <td>0.699074</td>\n",
              "      <td>-0.808601</td>\n",
              "      <td>0.733136</td>\n",
              "    </tr>\n",
              "  </tbody>\n",
              "</table>\n",
              "</div>"
            ],
            "text/plain": [
              "           A         B         C         D         E\n",
              "6  -0.408990  1.236709 -0.532281 -0.249674  1.250225\n",
              "17 -0.241973  0.146086 -1.106059  1.334223 -1.368187\n",
              "48 -0.108104 -1.337010  0.761675  0.315462 -1.240366\n",
              "53 -0.305116  0.561282 -0.903246  1.203187 -1.361112\n",
              "64  0.757960 -2.410400 -0.813214  0.984979 -0.363891\n",
              "64  1.605815 -0.342392 -0.768160  0.024118  0.498116\n",
              "72  0.937465 -0.116423 -0.400136 -1.673957  0.491555\n",
              "72 -0.715211  0.556665  1.073624  0.685361 -0.956679\n",
              "73  1.348712 -0.894434  0.973483  1.090710  1.058841\n",
              "89  0.709441  1.475943  0.699074 -0.808601  0.733136"
            ]
          },
          "execution_count": 29,
          "metadata": {},
          "output_type": "execute_result"
        }
      ]
    },
    {
      "cell_type": "code",
      "metadata": {
        "id": "vpJZ1mCD5_5o"
      },
      "source": [
        "df.to_csv('df.csv', sep=',', header=True, index=True)"
      ],
      "execution_count": null,
      "outputs": []
    },
    {
      "cell_type": "code",
      "metadata": {
        "id": "lTh7uULv5_5o"
      },
      "source": [
        "%pycat df.csv"
      ],
      "execution_count": null,
      "outputs": []
    },
    {
      "cell_type": "markdown",
      "metadata": {
        "id": "hUJOd4Dt5_5o"
      },
      "source": [
        "### Reading csv files"
      ]
    },
    {
      "cell_type": "markdown",
      "metadata": {
        "id": "-daakS8T5_5p"
      },
      "source": [
        "Reading a CSV file and building a pandas DataFrame from the data in it can be achieved using the pandas.read_csv(...) method. Here we will specify the character (although that is the default for read_csv), the index_col= parameter to specify which column to treat as the Index of the DataFrame, and the nrows= parameter to specify how many rows to read in."
      ]
    },
    {
      "cell_type": "code",
      "metadata": {
        "id": "lxwkh-x65_5p"
      },
      "source": [
        "#This builds the following DataFrame, which is the same \n",
        "#DataFrame that was written to disk:\n",
        "data_1 = pd.read_csv('df.csv', sep=',', index_col=0, nrows=5)"
      ],
      "execution_count": null,
      "outputs": []
    },
    {
      "cell_type": "code",
      "metadata": {
        "id": "GA8kEAyD5_5p",
        "outputId": "74c5e067-938a-4a9a-b768-79b0f89379e3"
      },
      "source": [
        "data_1"
      ],
      "execution_count": null,
      "outputs": [
        {
          "data": {
            "text/html": [
              "<div>\n",
              "<style scoped>\n",
              "    .dataframe tbody tr th:only-of-type {\n",
              "        vertical-align: middle;\n",
              "    }\n",
              "\n",
              "    .dataframe tbody tr th {\n",
              "        vertical-align: top;\n",
              "    }\n",
              "\n",
              "    .dataframe thead th {\n",
              "        text-align: right;\n",
              "    }\n",
              "</style>\n",
              "<table border=\"1\" class=\"dataframe\">\n",
              "  <thead>\n",
              "    <tr style=\"text-align: right;\">\n",
              "      <th></th>\n",
              "      <th>A</th>\n",
              "      <th>B</th>\n",
              "      <th>C</th>\n",
              "      <th>D</th>\n",
              "      <th>E</th>\n",
              "    </tr>\n",
              "  </thead>\n",
              "  <tbody>\n",
              "    <tr>\n",
              "      <th>6</th>\n",
              "      <td>-0.408990</td>\n",
              "      <td>1.236709</td>\n",
              "      <td>-0.532281</td>\n",
              "      <td>-0.249674</td>\n",
              "      <td>1.250225</td>\n",
              "    </tr>\n",
              "    <tr>\n",
              "      <th>17</th>\n",
              "      <td>-0.241973</td>\n",
              "      <td>0.146086</td>\n",
              "      <td>-1.106059</td>\n",
              "      <td>1.334223</td>\n",
              "      <td>-1.368187</td>\n",
              "    </tr>\n",
              "    <tr>\n",
              "      <th>48</th>\n",
              "      <td>-0.108104</td>\n",
              "      <td>-1.337010</td>\n",
              "      <td>0.761675</td>\n",
              "      <td>0.315462</td>\n",
              "      <td>-1.240366</td>\n",
              "    </tr>\n",
              "    <tr>\n",
              "      <th>53</th>\n",
              "      <td>-0.305116</td>\n",
              "      <td>0.561282</td>\n",
              "      <td>-0.903246</td>\n",
              "      <td>1.203187</td>\n",
              "      <td>-1.361112</td>\n",
              "    </tr>\n",
              "    <tr>\n",
              "      <th>64</th>\n",
              "      <td>0.757960</td>\n",
              "      <td>-2.410400</td>\n",
              "      <td>-0.813214</td>\n",
              "      <td>0.984979</td>\n",
              "      <td>-0.363891</td>\n",
              "    </tr>\n",
              "  </tbody>\n",
              "</table>\n",
              "</div>"
            ],
            "text/plain": [
              "           A         B         C         D         E\n",
              "6  -0.408990  1.236709 -0.532281 -0.249674  1.250225\n",
              "17 -0.241973  0.146086 -1.106059  1.334223 -1.368187\n",
              "48 -0.108104 -1.337010  0.761675  0.315462 -1.240366\n",
              "53 -0.305116  0.561282 -0.903246  1.203187 -1.361112\n",
              "64  0.757960 -2.410400 -0.813214  0.984979 -0.363891"
            ]
          },
          "execution_count": 33,
          "metadata": {},
          "output_type": "execute_result"
        }
      ]
    },
    {
      "cell_type": "code",
      "metadata": {
        "id": "eEU8lh855_5q"
      },
      "source": [
        "data_2 = pd.read_csv(\"C:/Users/user/df.csv\", nrows = 6, index_col = 0)"
      ],
      "execution_count": null,
      "outputs": []
    },
    {
      "cell_type": "code",
      "metadata": {
        "id": "EGGCq_eY5_5q",
        "outputId": "66499883-19d4-4ded-8065-6fd2b94b2fd1"
      },
      "source": [
        "data_2"
      ],
      "execution_count": null,
      "outputs": [
        {
          "data": {
            "text/html": [
              "<div>\n",
              "<style scoped>\n",
              "    .dataframe tbody tr th:only-of-type {\n",
              "        vertical-align: middle;\n",
              "    }\n",
              "\n",
              "    .dataframe tbody tr th {\n",
              "        vertical-align: top;\n",
              "    }\n",
              "\n",
              "    .dataframe thead th {\n",
              "        text-align: right;\n",
              "    }\n",
              "</style>\n",
              "<table border=\"1\" class=\"dataframe\">\n",
              "  <thead>\n",
              "    <tr style=\"text-align: right;\">\n",
              "      <th></th>\n",
              "      <th>A</th>\n",
              "      <th>B</th>\n",
              "      <th>C</th>\n",
              "      <th>D</th>\n",
              "      <th>E</th>\n",
              "    </tr>\n",
              "  </thead>\n",
              "  <tbody>\n",
              "    <tr>\n",
              "      <th>6</th>\n",
              "      <td>-0.408990</td>\n",
              "      <td>1.236709</td>\n",
              "      <td>-0.532281</td>\n",
              "      <td>-0.249674</td>\n",
              "      <td>1.250225</td>\n",
              "    </tr>\n",
              "    <tr>\n",
              "      <th>17</th>\n",
              "      <td>-0.241973</td>\n",
              "      <td>0.146086</td>\n",
              "      <td>-1.106059</td>\n",
              "      <td>1.334223</td>\n",
              "      <td>-1.368187</td>\n",
              "    </tr>\n",
              "    <tr>\n",
              "      <th>48</th>\n",
              "      <td>-0.108104</td>\n",
              "      <td>-1.337010</td>\n",
              "      <td>0.761675</td>\n",
              "      <td>0.315462</td>\n",
              "      <td>-1.240366</td>\n",
              "    </tr>\n",
              "    <tr>\n",
              "      <th>53</th>\n",
              "      <td>-0.305116</td>\n",
              "      <td>0.561282</td>\n",
              "      <td>-0.903246</td>\n",
              "      <td>1.203187</td>\n",
              "      <td>-1.361112</td>\n",
              "    </tr>\n",
              "    <tr>\n",
              "      <th>64</th>\n",
              "      <td>0.757960</td>\n",
              "      <td>-2.410400</td>\n",
              "      <td>-0.813214</td>\n",
              "      <td>0.984979</td>\n",
              "      <td>-0.363891</td>\n",
              "    </tr>\n",
              "    <tr>\n",
              "      <th>64</th>\n",
              "      <td>1.605815</td>\n",
              "      <td>-0.342392</td>\n",
              "      <td>-0.768160</td>\n",
              "      <td>0.024118</td>\n",
              "      <td>0.498116</td>\n",
              "    </tr>\n",
              "  </tbody>\n",
              "</table>\n",
              "</div>"
            ],
            "text/plain": [
              "           A         B         C         D         E\n",
              "6  -0.408990  1.236709 -0.532281 -0.249674  1.250225\n",
              "17 -0.241973  0.146086 -1.106059  1.334223 -1.368187\n",
              "48 -0.108104 -1.337010  0.761675  0.315462 -1.240366\n",
              "53 -0.305116  0.561282 -0.903246  1.203187 -1.361112\n",
              "64  0.757960 -2.410400 -0.813214  0.984979 -0.363891\n",
              "64  1.605815 -0.342392 -0.768160  0.024118  0.498116"
            ]
          },
          "execution_count": 38,
          "metadata": {},
          "output_type": "execute_result"
        }
      ]
    },
    {
      "cell_type": "code",
      "metadata": {
        "id": "RHbjSsuQ5_5q"
      },
      "source": [
        "loan_df = pd.read_csv(\"C:/Users/user/Documents/loan.csv\")"
      ],
      "execution_count": null,
      "outputs": []
    },
    {
      "cell_type": "code",
      "metadata": {
        "id": "lg4fej595_5q",
        "outputId": "b85965bb-210d-4ea3-9f6e-e956e30f2fe2"
      },
      "source": [
        "loan_df.head()"
      ],
      "execution_count": null,
      "outputs": [
        {
          "data": {
            "text/html": [
              "<div>\n",
              "<style scoped>\n",
              "    .dataframe tbody tr th:only-of-type {\n",
              "        vertical-align: middle;\n",
              "    }\n",
              "\n",
              "    .dataframe tbody tr th {\n",
              "        vertical-align: top;\n",
              "    }\n",
              "\n",
              "    .dataframe thead th {\n",
              "        text-align: right;\n",
              "    }\n",
              "</style>\n",
              "<table border=\"1\" class=\"dataframe\">\n",
              "  <thead>\n",
              "    <tr style=\"text-align: right;\">\n",
              "      <th></th>\n",
              "      <th>Loan_ID</th>\n",
              "      <th>Gender</th>\n",
              "      <th>Married</th>\n",
              "      <th>Dependents</th>\n",
              "      <th>Education</th>\n",
              "      <th>Self_Employed</th>\n",
              "      <th>ApplicantIncome</th>\n",
              "      <th>CoapplicantIncome</th>\n",
              "      <th>LoanAmount</th>\n",
              "      <th>Loan_Amount_Term</th>\n",
              "      <th>Credit_History</th>\n",
              "      <th>Property_Area</th>\n",
              "      <th>Loan_Status</th>\n",
              "    </tr>\n",
              "  </thead>\n",
              "  <tbody>\n",
              "    <tr>\n",
              "      <th>0</th>\n",
              "      <td>LP001002</td>\n",
              "      <td>Male</td>\n",
              "      <td>No</td>\n",
              "      <td>0</td>\n",
              "      <td>Graduate</td>\n",
              "      <td>No</td>\n",
              "      <td>5849</td>\n",
              "      <td>0.0</td>\n",
              "      <td>NaN</td>\n",
              "      <td>360.0</td>\n",
              "      <td>1.0</td>\n",
              "      <td>Urban</td>\n",
              "      <td>Y</td>\n",
              "    </tr>\n",
              "    <tr>\n",
              "      <th>1</th>\n",
              "      <td>LP001003</td>\n",
              "      <td>Male</td>\n",
              "      <td>Yes</td>\n",
              "      <td>1</td>\n",
              "      <td>Graduate</td>\n",
              "      <td>No</td>\n",
              "      <td>4583</td>\n",
              "      <td>1508.0</td>\n",
              "      <td>128.0</td>\n",
              "      <td>360.0</td>\n",
              "      <td>1.0</td>\n",
              "      <td>Rural</td>\n",
              "      <td>N</td>\n",
              "    </tr>\n",
              "    <tr>\n",
              "      <th>2</th>\n",
              "      <td>LP001005</td>\n",
              "      <td>Male</td>\n",
              "      <td>Yes</td>\n",
              "      <td>0</td>\n",
              "      <td>Graduate</td>\n",
              "      <td>Yes</td>\n",
              "      <td>3000</td>\n",
              "      <td>0.0</td>\n",
              "      <td>66.0</td>\n",
              "      <td>360.0</td>\n",
              "      <td>1.0</td>\n",
              "      <td>Urban</td>\n",
              "      <td>Y</td>\n",
              "    </tr>\n",
              "    <tr>\n",
              "      <th>3</th>\n",
              "      <td>LP001006</td>\n",
              "      <td>Male</td>\n",
              "      <td>Yes</td>\n",
              "      <td>0</td>\n",
              "      <td>Not Graduate</td>\n",
              "      <td>No</td>\n",
              "      <td>2583</td>\n",
              "      <td>2358.0</td>\n",
              "      <td>120.0</td>\n",
              "      <td>360.0</td>\n",
              "      <td>1.0</td>\n",
              "      <td>Urban</td>\n",
              "      <td>Y</td>\n",
              "    </tr>\n",
              "    <tr>\n",
              "      <th>4</th>\n",
              "      <td>LP001008</td>\n",
              "      <td>Male</td>\n",
              "      <td>No</td>\n",
              "      <td>0</td>\n",
              "      <td>Graduate</td>\n",
              "      <td>No</td>\n",
              "      <td>6000</td>\n",
              "      <td>0.0</td>\n",
              "      <td>141.0</td>\n",
              "      <td>360.0</td>\n",
              "      <td>1.0</td>\n",
              "      <td>Urban</td>\n",
              "      <td>Y</td>\n",
              "    </tr>\n",
              "  </tbody>\n",
              "</table>\n",
              "</div>"
            ],
            "text/plain": [
              "    Loan_ID Gender Married Dependents     Education Self_Employed  \\\n",
              "0  LP001002   Male      No          0      Graduate            No   \n",
              "1  LP001003   Male     Yes          1      Graduate            No   \n",
              "2  LP001005   Male     Yes          0      Graduate           Yes   \n",
              "3  LP001006   Male     Yes          0  Not Graduate            No   \n",
              "4  LP001008   Male      No          0      Graduate            No   \n",
              "\n",
              "   ApplicantIncome  CoapplicantIncome  LoanAmount  Loan_Amount_Term  \\\n",
              "0             5849                0.0         NaN             360.0   \n",
              "1             4583             1508.0       128.0             360.0   \n",
              "2             3000                0.0        66.0             360.0   \n",
              "3             2583             2358.0       120.0             360.0   \n",
              "4             6000                0.0       141.0             360.0   \n",
              "\n",
              "   Credit_History Property_Area Loan_Status  \n",
              "0             1.0         Urban           Y  \n",
              "1             1.0         Rural           N  \n",
              "2             1.0         Urban           Y  \n",
              "3             1.0         Urban           Y  \n",
              "4             1.0         Urban           Y  "
            ]
          },
          "execution_count": 43,
          "metadata": {},
          "output_type": "execute_result"
        }
      ]
    },
    {
      "cell_type": "code",
      "metadata": {
        "id": "QM7orKuq5_5r"
      },
      "source": [
        "#We can also specify the chunksize= parameter, which \n",
        "#reads in the specified number of lines at a time, which can \n",
        "#help when exploring very large datasets contained in very large \n",
        "#files:\n",
        "pd.read_csv('df.csv', sep=',', index_col=0, chunksize=2)"
      ],
      "execution_count": null,
      "outputs": []
    },
    {
      "cell_type": "code",
      "metadata": {
        "id": "APesADqa5_5r",
        "outputId": "37755e77-dbfd-47ee-c182-7b900c7978c6"
      },
      "source": [
        "#We can wrap it in a list and observe the entire DataFrame \n",
        "#loaded in chunks of two lines:\n",
        "\n",
        "list(pd.read_csv('df.csv', sep=',', index_col=0, chunksize=2))"
      ],
      "execution_count": null,
      "outputs": [
        {
          "data": {
            "text/plain": [
              "[           A         B         C         D         E\n",
              " 6  -0.408990  1.236709 -0.532281 -0.249674  1.250225\n",
              " 17 -0.241973  0.146086 -1.106059  1.334223 -1.368187,\n",
              "            A         B         C         D         E\n",
              " 48 -0.108104 -1.337010  0.761675  0.315462 -1.240366\n",
              " 53 -0.305116  0.561282 -0.903246  1.203187 -1.361112,\n",
              "            A         B         C         D         E\n",
              " 64  0.757960 -2.410400 -0.813214  0.984979 -0.363891\n",
              " 64  1.605815 -0.342392 -0.768160  0.024118  0.498116,\n",
              "            A         B         C         D         E\n",
              " 72  0.937465 -0.116423 -0.400136 -1.673957  0.491555\n",
              " 72 -0.715211  0.556665  1.073624  0.685361 -0.956679,\n",
              "            A         B         C         D         E\n",
              " 73  1.348712 -0.894434  0.973483  1.090710  1.058841\n",
              " 89  0.709441  1.475943  0.699074 -0.808601  0.733136]"
            ]
          },
          "execution_count": 44,
          "metadata": {},
          "output_type": "execute_result"
        }
      ]
    },
    {
      "cell_type": "markdown",
      "metadata": {
        "id": "_MdifOMb5_5s"
      },
      "source": [
        "## JSON Files"
      ]
    },
    {
      "cell_type": "markdown",
      "metadata": {
        "id": "Gi97qYjc5_5s"
      },
      "source": [
        "JSON files are based upon data structures identical to Python dictionaries. This makes JSON files very convenient for many purposes including representing DataFrames as well as representing configuration files.\n",
        "\n",
        "The pandas.DataFrame.to_json(...) method conveniently writes a DataFrame to a JSON file on disk. "
      ]
    },
    {
      "cell_type": "code",
      "metadata": {
        "id": "w5GqPot05_5s"
      },
      "source": [
        "#Here we write only the first four rows:\n",
        "df.iloc[:4].to_json('df.json')"
      ],
      "execution_count": null,
      "outputs": []
    },
    {
      "cell_type": "code",
      "metadata": {
        "id": "zWUsXT_-5_5s"
      },
      "source": [
        "#Let's check out the JSON file written to disk:\n",
        "%pycat df.json"
      ],
      "execution_count": null,
      "outputs": []
    },
    {
      "cell_type": "code",
      "metadata": {
        "id": "ua6wB3Sn5_5t",
        "outputId": "4be2d66c-b4c9-4937-a19e-05e3fe919fb6"
      },
      "source": [
        "#Reading JSON files back into Pandas DataFrames is \n",
        "#just as easy with the pandas.read_json(...) method:\n",
        "pd.read_json('df.json')"
      ],
      "execution_count": null,
      "outputs": [
        {
          "data": {
            "text/html": [
              "<div>\n",
              "<style scoped>\n",
              "    .dataframe tbody tr th:only-of-type {\n",
              "        vertical-align: middle;\n",
              "    }\n",
              "\n",
              "    .dataframe tbody tr th {\n",
              "        vertical-align: top;\n",
              "    }\n",
              "\n",
              "    .dataframe thead th {\n",
              "        text-align: right;\n",
              "    }\n",
              "</style>\n",
              "<table border=\"1\" class=\"dataframe\">\n",
              "  <thead>\n",
              "    <tr style=\"text-align: right;\">\n",
              "      <th></th>\n",
              "      <th>A</th>\n",
              "      <th>B</th>\n",
              "      <th>C</th>\n",
              "      <th>D</th>\n",
              "      <th>E</th>\n",
              "    </tr>\n",
              "  </thead>\n",
              "  <tbody>\n",
              "    <tr>\n",
              "      <th>6</th>\n",
              "      <td>-0.408990</td>\n",
              "      <td>1.236709</td>\n",
              "      <td>-0.532281</td>\n",
              "      <td>-0.249674</td>\n",
              "      <td>1.250225</td>\n",
              "    </tr>\n",
              "    <tr>\n",
              "      <th>17</th>\n",
              "      <td>-0.241973</td>\n",
              "      <td>0.146086</td>\n",
              "      <td>-1.106059</td>\n",
              "      <td>1.334223</td>\n",
              "      <td>-1.368187</td>\n",
              "    </tr>\n",
              "    <tr>\n",
              "      <th>48</th>\n",
              "      <td>-0.108104</td>\n",
              "      <td>-1.337010</td>\n",
              "      <td>0.761675</td>\n",
              "      <td>0.315462</td>\n",
              "      <td>-1.240366</td>\n",
              "    </tr>\n",
              "    <tr>\n",
              "      <th>53</th>\n",
              "      <td>-0.305116</td>\n",
              "      <td>0.561282</td>\n",
              "      <td>-0.903246</td>\n",
              "      <td>1.203187</td>\n",
              "      <td>-1.361112</td>\n",
              "    </tr>\n",
              "  </tbody>\n",
              "</table>\n",
              "</div>"
            ],
            "text/plain": [
              "           A         B         C         D         E\n",
              "6  -0.408990  1.236709 -0.532281 -0.249674  1.250225\n",
              "17 -0.241973  0.146086 -1.106059  1.334223 -1.368187\n",
              "48 -0.108104 -1.337010  0.761675  0.315462 -1.240366\n",
              "53 -0.305116  0.561282 -0.903246  1.203187 -1.361112"
            ]
          },
          "execution_count": 48,
          "metadata": {},
          "output_type": "execute_result"
        }
      ]
    },
    {
      "cell_type": "code",
      "metadata": {
        "id": "SkhBBWon5_5t"
      },
      "source": [
        "#This gives us back the original JSON four-row DataFrame that was written to disk"
      ],
      "execution_count": null,
      "outputs": []
    },
    {
      "cell_type": "code",
      "metadata": {
        "id": "KlWptFbX5_5t"
      },
      "source": [
        ""
      ],
      "execution_count": null,
      "outputs": []
    },
    {
      "cell_type": "markdown",
      "metadata": {
        "id": "1_F07Vum5_5t"
      },
      "source": [
        "# Summary"
      ]
    },
    {
      "cell_type": "markdown",
      "metadata": {
        "id": "bW0GPHma5_5u"
      },
      "source": [
        "This course has equpiped you with knowledge of pandas library, upon which the majority, if not all, data manipulation operations in Python are done. We have learned how to create a DataFrame, how to alter it, and how to persist it.\n",
        "\n",
        "Pandas DataFrames are principally for high-performance bulk data manipulation, selecting and reshaping data. They are the Python version of Excel worksheets.\n",
        "\n",
        "In the next course, we will investigate visualization in Python using Matplotlib.\n",
        "\n",
        "Congratulations!!, see you next time."
      ]
    }
  ]
}