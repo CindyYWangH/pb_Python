{
  "nbformat": 4,
  "nbformat_minor": 5,
  "metadata": {
    "kernelspec": {
      "display_name": "Python 3",
      "language": "python",
      "name": "python3"
    },
    "language_info": {
      "codemirror_mode": {
        "name": "ipython",
        "version": 3
      },
      "file_extension": ".py",
      "mimetype": "text/x-python",
      "name": "python",
      "nbconvert_exporter": "python",
      "pygments_lexer": "ipython3",
      "version": "3.7.6"
    },
    "colab": {
      "name": "Introduction to Basic Python Programming.ipynb",
      "provenance": [],
      "include_colab_link": true
    }
  },
  "cells": [
    {
      "cell_type": "markdown",
      "metadata": {
        "id": "view-in-github",
        "colab_type": "text"
      },
      "source": [
        "<a href=\"https://colab.research.google.com/github/CindyYWangH/pb_Python/blob/main/Introduction_to_Basic_Python_Programming.ipynb\" target=\"_parent\"><img src=\"https://colab.research.google.com/assets/colab-badge.svg\" alt=\"Open In Colab\"/></a>"
      ]
    },
    {
      "cell_type": "markdown",
      "metadata": {
        "id": "PEOy6yn3xFie"
      },
      "source": [
        "## Your first program . . ."
      ],
      "id": "PEOy6yn3xFie"
    },
    {
      "cell_type": "code",
      "metadata": {
        "id": "o9FHE-BtxFih",
        "colab": {
          "base_uri": "https://localhost:8080/"
        },
        "outputId": "656a0a27-9272-4868-a7a0-dd15347f5a67"
      },
      "source": [
        "# This program says hello and asks for your name \n",
        "\n",
        "print('What is your name?') # print() function displays the string value inside the parenthesis\n",
        "myname = input()            # input () waits for the user to type some text on the keyboard and\n",
        "print('Nice to meet you, ' + myname)\n",
        "print('The length of your name is:')\n",
        "print(len(myname)) #len() returns the number of letters in a string"
      ],
      "id": "o9FHE-BtxFih",
      "execution_count": null,
      "outputs": [
        {
          "output_type": "stream",
          "name": "stdout",
          "text": [
            "What is your name?\n",
            "Maryleen\n",
            "Nice to meet you, Maryleen\n",
            "The length of your name is:\n",
            "8\n"
          ]
        }
      ]
    },
    {
      "cell_type": "code",
      "metadata": {
        "id": "niVhl6LxxFik"
      },
      "source": [
        "print(\"What's your age?\")\n",
        "myAge = input()\n",
        "print('You will be ' + str(int(myAge)+ 1) + ' in a year.')"
      ],
      "id": "niVhl6LxxFik",
      "execution_count": null,
      "outputs": []
    },
    {
      "cell_type": "markdown",
      "metadata": {
        "id": "u1Q5uzmtxFik"
      },
      "source": [
        "## Dissecting Your Program"
      ],
      "id": "u1Q5uzmtxFik"
    },
    {
      "cell_type": "markdown",
      "metadata": {
        "id": "vIBjtGQrxFil"
      },
      "source": [
        "##### Comments\n",
        "\n",
        "The following line is called a comment."
      ],
      "id": "vIBjtGQrxFil"
    },
    {
      "cell_type": "code",
      "metadata": {
        "id": "eCAaYEQGxFil"
      },
      "source": [
        "# This program says hello and asks for your name"
      ],
      "id": "eCAaYEQGxFil",
      "execution_count": null,
      "outputs": []
    },
    {
      "cell_type": "markdown",
      "metadata": {
        "id": "3HOWs28XxFim"
      },
      "source": [
        "Python ignores comments, and you can use them to write notes or remind yourself what the code is trying to do. Any text for the rest of the line following a hash mark (#) is part of a comment. Sometimes, programmers will put a # in front of a line of code to temporarily remove it while testing a program. This is called commenting out code, and it can be useful when you’re trying to figure out why a program doesn’t work. You can remove the # later when you are ready to put the line back in."
      ],
      "id": "3HOWs28XxFim"
    },
    {
      "cell_type": "markdown",
      "metadata": {
        "id": "n2otrnK-xFin"
      },
      "source": [
        "##### The print() function\n",
        "\n",
        "The print() function displays the string value inside the parentheses on the screen."
      ],
      "id": "n2otrnK-xFin"
    },
    {
      "cell_type": "code",
      "metadata": {
        "id": "8RLx8_f6xFio"
      },
      "source": [
        "print('What is your name?') "
      ],
      "id": "8RLx8_f6xFio",
      "execution_count": null,
      "outputs": []
    },
    {
      "cell_type": "markdown",
      "metadata": {
        "id": "MgrnUH4JxFip"
      },
      "source": [
        "The line print('What is your name?') means “Print out the text in the string 'What is your name?'” When Python executes this line, you say that Python is calling the print() function and the string value is being passed to the function. A value that is passed to a function call is an argument. Notice that the quotes are not printed to the screen. They just mark where the string\n",
        "begins and ends; they are not part of the string value. \n",
        "\n",
        "* Note that you can also use this function to put a blank line on the screen; just call print() with nothing in between the parentheses."
      ],
      "id": "MgrnUH4JxFip"
    },
    {
      "cell_type": "code",
      "metadata": {
        "id": "a5MKzJ2txFiq"
      },
      "source": [
        "print()\n",
        "2+3"
      ],
      "id": "a5MKzJ2txFiq",
      "execution_count": null,
      "outputs": []
    },
    {
      "cell_type": "markdown",
      "metadata": {
        "id": "Ic6YcWw3xFiq"
      },
      "source": [
        "##### The input() function\n",
        "The input() function waits for the user to type some text on the keyboard and press **enter**."
      ],
      "id": "Ic6YcWw3xFiq"
    },
    {
      "cell_type": "code",
      "metadata": {
        "id": "yb6S9cwAxFir"
      },
      "source": [
        "myname = input()"
      ],
      "id": "yb6S9cwAxFir",
      "execution_count": null,
      "outputs": []
    },
    {
      "cell_type": "markdown",
      "metadata": {
        "id": "SKzgE-PpxFir"
      },
      "source": [
        "This function call evaluates to a string equal to the user’s text, and the previous line of code assigns the myName variable to this string value."
      ],
      "id": "SKzgE-PpxFir"
    },
    {
      "cell_type": "markdown",
      "metadata": {
        "id": "Ol33o9ktxFis"
      },
      "source": [
        "##### Printing the User's Name\n",
        "The following call to print() actually contains the expression 'It is good to meet you, ' + myName between the parentheses. "
      ],
      "id": "Ol33o9ktxFis"
    },
    {
      "cell_type": "code",
      "metadata": {
        "id": "p5gQoBVJxFis"
      },
      "source": [
        "print('Nice to meet you, ' + myname)"
      ],
      "id": "p5gQoBVJxFis",
      "execution_count": null,
      "outputs": []
    },
    {
      "cell_type": "markdown",
      "metadata": {
        "id": "gOdYJCX4xFit"
      },
      "source": [
        "Remember that expressions can always evaluate to a single value. If 'Chinwe' is the value stored in myname on the previous line, then this expression evaluates to 'It is good to meet you, Chinwe'. This single string value is then passed to print(), which prints it on the screen."
      ],
      "id": "gOdYJCX4xFit"
    },
    {
      "cell_type": "markdown",
      "metadata": {
        "id": "Ol-NFZdzxFit"
      },
      "source": [
        "##### The len() function\n",
        "You can pass the len() function, a string value (or a variable containing a string), and the function evaluates to the integer value of the number of characters in that string."
      ],
      "id": "Ol-NFZdzxFit"
    },
    {
      "cell_type": "code",
      "metadata": {
        "id": "Ocmgr34rxFiu"
      },
      "source": [
        "print('The length of your name is:')\n",
        "print(len(myname))"
      ],
      "id": "Ocmgr34rxFiu",
      "execution_count": null,
      "outputs": []
    },
    {
      "cell_type": "markdown",
      "metadata": {
        "id": "V61kDX-vxFiu"
      },
      "source": [
        "##### Let's do these . . ."
      ],
      "id": "V61kDX-vxFiu"
    },
    {
      "cell_type": "code",
      "metadata": {
        "id": "hredcIbxxFiu"
      },
      "source": [
        "len('Hello!')"
      ],
      "id": "hredcIbxxFiu",
      "execution_count": null,
      "outputs": []
    },
    {
      "cell_type": "code",
      "metadata": {
        "id": "yHS9-4A7xFiv"
      },
      "source": [
        "len('This Python class keeps being interesting!')"
      ],
      "id": "yHS9-4A7xFiv",
      "execution_count": null,
      "outputs": []
    },
    {
      "cell_type": "code",
      "metadata": {
        "id": "FUCUgV17xFiv"
      },
      "source": [
        "len('')"
      ],
      "id": "FUCUgV17xFiv",
      "execution_count": null,
      "outputs": []
    },
    {
      "cell_type": "markdown",
      "metadata": {
        "id": "ykIkFGBpxFiv"
      },
      "source": [
        "Just like those examples, len(myname) evaluates to an integer. It is then passed to print() to be displayed on the screen. Notice that print() allows you to pass it, either integer values or string values. But notice the error that shows up when you type the following into the cell below:"
      ],
      "id": "ykIkFGBpxFiv"
    },
    {
      "cell_type": "code",
      "metadata": {
        "id": "QBd2o5fJxFiw"
      },
      "source": [
        "print('I am ' + 29 + ' years old.')"
      ],
      "id": "QBd2o5fJxFiw",
      "execution_count": null,
      "outputs": []
    },
    {
      "cell_type": "markdown",
      "metadata": {
        "id": "i14eK0-nxFiw"
      },
      "source": [
        "The print() function isn’t causing that error, but rather it’s the expression you tried to pass to print(). You get the same error message if you type the expression into a cell on its own"
      ],
      "id": "i14eK0-nxFiw"
    },
    {
      "cell_type": "code",
      "metadata": {
        "id": "CG-0hLOwxFiw"
      },
      "source": [
        "'I am ' + 29 + ' years old.'"
      ],
      "id": "CG-0hLOwxFiw",
      "execution_count": null,
      "outputs": []
    },
    {
      "cell_type": "markdown",
      "metadata": {
        "id": "mkA5ewz7xFiw"
      },
      "source": [
        "Python gives an error because you can use the + operator only to add two integers together or concatenate two strings. You can’t add an integer to a string because this is ungrammatical in Python. You can fix this by using a string version of the integer instead, as explained in the next section."
      ],
      "id": "mkA5ewz7xFiw"
    },
    {
      "cell_type": "markdown",
      "metadata": {
        "id": "d57hU0XvxFiw"
      },
      "source": [
        "### The str(), int(), and float() Functions\n",
        "\n",
        "If you want to concatenate an integer such as 29 with a string to pass to print(), you’ll need to get the value '29', which is the string form of 29. The str() function can be passed an integer value and will evaluate to a string value version of it, as follows:"
      ],
      "id": "d57hU0XvxFiw"
    },
    {
      "cell_type": "markdown",
      "metadata": {
        "id": "aAurINwYxFix"
      },
      "source": [
        "##### The str() function"
      ],
      "id": "aAurINwYxFix"
    },
    {
      "cell_type": "code",
      "metadata": {
        "id": "LBIHYkKnxFix",
        "outputId": "b9e18015-aafa-439c-f543-5930cce230c6"
      },
      "source": [
        "str(29)"
      ],
      "id": "LBIHYkKnxFix",
      "execution_count": null,
      "outputs": [
        {
          "data": {
            "text/plain": [
              "'29'"
            ]
          },
          "execution_count": 1,
          "metadata": {},
          "output_type": "execute_result"
        }
      ]
    },
    {
      "cell_type": "code",
      "metadata": {
        "id": "9HcdsWd_xFiy",
        "outputId": "200098d9-9a70-44b3-e7d2-a37345b67339"
      },
      "source": [
        "print('I am ' + str(29) + ' years old.')"
      ],
      "id": "9HcdsWd_xFiy",
      "execution_count": null,
      "outputs": [
        {
          "name": "stdout",
          "output_type": "stream",
          "text": [
            "I am 29 years old.\n"
          ]
        }
      ]
    },
    {
      "cell_type": "markdown",
      "metadata": {
        "id": "8S8aIJG1xFiy"
      },
      "source": [
        "The str(), int(), and float() functions will evaluate to the string, integer, and floating-point forms of the value you pass, respectively."
      ],
      "id": "8S8aIJG1xFiy"
    },
    {
      "cell_type": "code",
      "metadata": {
        "id": "58xZRa4wxFiy",
        "outputId": "9dfb1e0f-d715-4a31-ed06-d119de08214f"
      },
      "source": [
        "str(0)"
      ],
      "id": "58xZRa4wxFiy",
      "execution_count": null,
      "outputs": [
        {
          "data": {
            "text/plain": [
              "'0'"
            ]
          },
          "execution_count": 6,
          "metadata": {},
          "output_type": "execute_result"
        }
      ]
    },
    {
      "cell_type": "code",
      "metadata": {
        "id": "qOuzpQAaxFiy",
        "outputId": "7427b4c9-4c72-4a08-bc62-86dfca44b504"
      },
      "source": [
        "str(-3.14)"
      ],
      "id": "qOuzpQAaxFiy",
      "execution_count": null,
      "outputs": [
        {
          "data": {
            "text/plain": [
              "'-3.14'"
            ]
          },
          "execution_count": 7,
          "metadata": {},
          "output_type": "execute_result"
        }
      ]
    },
    {
      "cell_type": "markdown",
      "metadata": {
        "id": "2MM3pynJxFiz"
      },
      "source": [
        "##### The int() function"
      ],
      "id": "2MM3pynJxFiz"
    },
    {
      "cell_type": "code",
      "metadata": {
        "id": "iaEHfEO2xFiz",
        "outputId": "a1fa4262-3111-41ad-9bd3-741130139179"
      },
      "source": [
        "int('42')"
      ],
      "id": "iaEHfEO2xFiz",
      "execution_count": null,
      "outputs": [
        {
          "data": {
            "text/plain": [
              "42"
            ]
          },
          "execution_count": 8,
          "metadata": {},
          "output_type": "execute_result"
        }
      ]
    },
    {
      "cell_type": "code",
      "metadata": {
        "id": "vx5-63VaxFiz",
        "outputId": "ceb67454-f2db-4ff2-914b-7ddea0abbef2"
      },
      "source": [
        "int('-99')"
      ],
      "id": "vx5-63VaxFiz",
      "execution_count": null,
      "outputs": [
        {
          "data": {
            "text/plain": [
              "-99"
            ]
          },
          "execution_count": 9,
          "metadata": {},
          "output_type": "execute_result"
        }
      ]
    },
    {
      "cell_type": "code",
      "metadata": {
        "id": "cfuQ7AhOxFi0",
        "outputId": "20b4f46b-6012-4733-ad9c-c63426dd185f"
      },
      "source": [
        "int(1.25)"
      ],
      "id": "cfuQ7AhOxFi0",
      "execution_count": null,
      "outputs": [
        {
          "data": {
            "text/plain": [
              "1"
            ]
          },
          "execution_count": 10,
          "metadata": {},
          "output_type": "execute_result"
        }
      ]
    },
    {
      "cell_type": "code",
      "metadata": {
        "id": "YY43Nd5mxFi0",
        "outputId": "a26e514f-4f23-4ba3-c9ed-3861be7351bc"
      },
      "source": [
        "int(1.99)"
      ],
      "id": "YY43Nd5mxFi0",
      "execution_count": null,
      "outputs": [
        {
          "data": {
            "text/plain": [
              "1"
            ]
          },
          "execution_count": 11,
          "metadata": {},
          "output_type": "execute_result"
        }
      ]
    },
    {
      "cell_type": "code",
      "metadata": {
        "id": "VsEmQ-RexFi0",
        "outputId": "62f7a10f-c67f-4a0a-b250-728dea9e127e"
      },
      "source": [
        "int(7.7) + 1"
      ],
      "id": "VsEmQ-RexFi0",
      "execution_count": null,
      "outputs": [
        {
          "data": {
            "text/plain": [
              "8"
            ]
          },
          "execution_count": 12,
          "metadata": {},
          "output_type": "execute_result"
        }
      ]
    },
    {
      "cell_type": "markdown",
      "metadata": {
        "id": "YLpV49MnxFi1"
      },
      "source": [
        "The int() function is also helpful if you have a number as a string value that you want to use in some mathematics. For example, the input() function always returns a string, even if the user enters a number. Enter apple = input() into the cell and enter 101 when it waits for your text."
      ],
      "id": "YLpV49MnxFi1"
    },
    {
      "cell_type": "code",
      "metadata": {
        "id": "RSQWLL-vxFi1",
        "outputId": "abb5bc3a-86db-42a6-e1b0-fe69dbf453b0"
      },
      "source": [
        "apple = input()"
      ],
      "id": "RSQWLL-vxFi1",
      "execution_count": null,
      "outputs": [
        {
          "name": "stdout",
          "output_type": "stream",
          "text": [
            "101\n"
          ]
        }
      ]
    },
    {
      "cell_type": "code",
      "metadata": {
        "id": "JHTvgarQxFi1",
        "outputId": "e4556c93-e1bc-4b42-fccf-b9da82579dfb"
      },
      "source": [
        "apple"
      ],
      "id": "JHTvgarQxFi1",
      "execution_count": null,
      "outputs": [
        {
          "data": {
            "text/plain": [
              "'101'"
            ]
          },
          "execution_count": 14,
          "metadata": {},
          "output_type": "execute_result"
        }
      ]
    },
    {
      "cell_type": "markdown",
      "metadata": {
        "id": "L_v5bmpZxFi1"
      },
      "source": [
        "The value stored inside apple isn’t the integer 101 but the string '101'. If you want to do math using the value in apple, use the int() function to get the integer form of apple and then store this as the new value in apple.\n",
        "\n",
        "* The int() function is also useful if you need to round a floating-point number down."
      ],
      "id": "L_v5bmpZxFi1"
    },
    {
      "cell_type": "code",
      "metadata": {
        "id": "4Ws_mgYUxFi2",
        "outputId": "ff639229-a475-4bcd-837c-193d1ddd514d"
      },
      "source": [
        "apple = int(apple) #overwrites the string\n",
        "apple"
      ],
      "id": "4Ws_mgYUxFi2",
      "execution_count": null,
      "outputs": [
        {
          "data": {
            "text/plain": [
              "101"
            ]
          },
          "execution_count": 15,
          "metadata": {},
          "output_type": "execute_result"
        }
      ]
    },
    {
      "cell_type": "code",
      "metadata": {
        "id": "0jNVV3-SxFi2",
        "outputId": "733ee1ba-3bc3-42d6-c3cd-b9273f0c146a"
      },
      "source": [
        "age = int(input())\n",
        "age"
      ],
      "id": "0jNVV3-SxFi2",
      "execution_count": null,
      "outputs": [
        {
          "name": "stdout",
          "output_type": "stream",
          "text": [
            "30\n"
          ]
        },
        {
          "data": {
            "text/plain": [
              "30"
            ]
          },
          "execution_count": 16,
          "metadata": {},
          "output_type": "execute_result"
        }
      ]
    },
    {
      "cell_type": "markdown",
      "metadata": {
        "id": "zecCRd6XxFi2"
      },
      "source": [
        "##### The float() function"
      ],
      "id": "zecCRd6XxFi2"
    },
    {
      "cell_type": "code",
      "metadata": {
        "id": "ppAoMg0uxFi2",
        "outputId": "60ba92f4-9619-45a6-b634-6f4a886ad938"
      },
      "source": [
        "float('3.14')"
      ],
      "id": "ppAoMg0uxFi2",
      "execution_count": null,
      "outputs": [
        {
          "data": {
            "text/plain": [
              "3.14"
            ]
          },
          "execution_count": 17,
          "metadata": {},
          "output_type": "execute_result"
        }
      ]
    },
    {
      "cell_type": "code",
      "metadata": {
        "id": "JbRE8XkkxFi3",
        "outputId": "34736d58-7c02-4d00-a1c1-39d3a4a468d1"
      },
      "source": [
        "float(10)"
      ],
      "id": "JbRE8XkkxFi3",
      "execution_count": null,
      "outputs": [
        {
          "data": {
            "text/plain": [
              "10.0"
            ]
          },
          "execution_count": 18,
          "metadata": {},
          "output_type": "execute_result"
        }
      ]
    },
    {
      "cell_type": "markdown",
      "metadata": {
        "id": "Of5WiRRYxFi3"
      },
      "source": [
        "# Flow Control Statements\n",
        "Flow control statements can decide which python instruction to execute under which conditions. But before we explore FCS, let's have an understanding of Boolean values, comparison operators and boolean operators."
      ],
      "id": "Of5WiRRYxFi3"
    },
    {
      "cell_type": "markdown",
      "metadata": {
        "id": "8wslo3tTxFi3"
      },
      "source": [
        "### Boolean Values"
      ],
      "id": "8wslo3tTxFi3"
    },
    {
      "cell_type": "markdown",
      "metadata": {
        "id": "MRq0W2LuxFi3"
      },
      "source": [
        "While the integer, floating point and string data types have an unlimited numbers of possible values,the Boolean values has only two values: True and False."
      ],
      "id": "MRq0W2LuxFi3"
    },
    {
      "cell_type": "code",
      "metadata": {
        "id": "Wgr6hjwwxFi3",
        "outputId": "7c9fc975-8346-461b-84e4-69d2e694aa46"
      },
      "source": [
        "apple = True\n",
        "apple"
      ],
      "id": "Wgr6hjwwxFi3",
      "execution_count": null,
      "outputs": [
        {
          "data": {
            "text/plain": [
              "True"
            ]
          },
          "execution_count": 19,
          "metadata": {},
          "output_type": "execute_result"
        }
      ]
    },
    {
      "cell_type": "code",
      "metadata": {
        "id": "buJjHrPyxFi4",
        "outputId": "65a30af6-45f9-42cb-b867-ba07e5f21bfb"
      },
      "source": [
        "boolean = False\n",
        "boolean"
      ],
      "id": "buJjHrPyxFi4",
      "execution_count": null,
      "outputs": [
        {
          "data": {
            "text/plain": [
              "False"
            ]
          },
          "execution_count": 20,
          "metadata": {},
          "output_type": "execute_result"
        }
      ]
    },
    {
      "cell_type": "code",
      "metadata": {
        "id": "XY5PUoThxFi4",
        "outputId": "b28b91c6-49ab-4d12-a2cb-63e7d28c5d5c"
      },
      "source": [
        "True"
      ],
      "id": "XY5PUoThxFi4",
      "execution_count": null,
      "outputs": [
        {
          "data": {
            "text/plain": [
              "True"
            ]
          },
          "execution_count": 21,
          "metadata": {},
          "output_type": "execute_result"
        }
      ]
    },
    {
      "cell_type": "code",
      "metadata": {
        "id": "_F7wsdr9xFi4",
        "outputId": "315624b9-fd3a-4028-bcb0-b6bbb560993e"
      },
      "source": [
        "False"
      ],
      "id": "_F7wsdr9xFi4",
      "execution_count": null,
      "outputs": [
        {
          "data": {
            "text/plain": [
              "False"
            ]
          },
          "execution_count": 22,
          "metadata": {},
          "output_type": "execute_result"
        }
      ]
    },
    {
      "cell_type": "code",
      "metadata": {
        "id": "zIDiCsA5xFi4",
        "colab": {
          "base_uri": "https://localhost:8080/",
          "height": 167
        },
        "outputId": "81d5cebf-1207-43e9-a7f0-1c085303704d"
      },
      "source": [
        "true #if you don't use the proper case, Python will give you an error"
      ],
      "id": "zIDiCsA5xFi4",
      "execution_count": null,
      "outputs": [
        {
          "output_type": "error",
          "ename": "NameError",
          "evalue": "ignored",
          "traceback": [
            "\u001b[0;31m---------------------------------------------------------------------------\u001b[0m",
            "\u001b[0;31mNameError\u001b[0m                                 Traceback (most recent call last)",
            "\u001b[0;32m<ipython-input-2-de733b7cd0b4>\u001b[0m in \u001b[0;36m<module>\u001b[0;34m()\u001b[0m\n\u001b[0;32m----> 1\u001b[0;31m \u001b[0mtrue\u001b[0m \u001b[0;31m#if you don't use the proper case, Python will give you an error\u001b[0m\u001b[0;34m\u001b[0m\u001b[0;34m\u001b[0m\u001b[0m\n\u001b[0m",
            "\u001b[0;31mNameError\u001b[0m: name 'true' is not defined"
          ]
        }
      ]
    },
    {
      "cell_type": "code",
      "metadata": {
        "id": "MHSR6YDbxFi5",
        "colab": {
          "base_uri": "https://localhost:8080/",
          "height": 132
        },
        "outputId": "eaa1164f-6cd5-4e0d-ba1e-28e3f7a1fb67"
      },
      "source": [
        "True = 2 + 2 #if you try to use True or False \n",
        "#as variable name, Python will give you an error\n",
        "#message too."
      ],
      "id": "MHSR6YDbxFi5",
      "execution_count": null,
      "outputs": [
        {
          "output_type": "error",
          "ename": "SyntaxError",
          "evalue": "ignored",
          "traceback": [
            "\u001b[0;36m  File \u001b[0;32m\"<ipython-input-3-f4118313b392>\"\u001b[0;36m, line \u001b[0;32m1\u001b[0m\n\u001b[0;31m    True = 2 + 2 #if you try to use True or False\u001b[0m\n\u001b[0m                                                  ^\u001b[0m\n\u001b[0;31mSyntaxError\u001b[0m\u001b[0;31m:\u001b[0m can't assign to keyword\n"
          ]
        }
      ]
    },
    {
      "cell_type": "markdown",
      "metadata": {
        "id": "dCnXUC7hxFi5"
      },
      "source": [
        "#### Comparison Operators\n",
        "These compare two values and evaluate down to a single Boolean value. They include:\n",
        "* Equal to == \n",
        "* Not equal to != \n",
        "* Less than < \n",
        "* Greater than >\n",
        "* Less than or equal to <= \n",
        "* Greater than or equal to >= "
      ],
      "id": "dCnXUC7hxFi5"
    },
    {
      "cell_type": "code",
      "metadata": {
        "id": "GuvziehIxFi5",
        "colab": {
          "base_uri": "https://localhost:8080/"
        },
        "outputId": "544c7334-a4b2-45bd-c5ca-38b7c1162571"
      },
      "source": [
        "# Let's try some operators now, starting from \"==\" and \"!=\"\n",
        "x = 42\n",
        "\n",
        "x == 42"
      ],
      "id": "GuvziehIxFi5",
      "execution_count": null,
      "outputs": [
        {
          "output_type": "execute_result",
          "data": {
            "text/plain": [
              "False"
            ]
          },
          "metadata": {},
          "execution_count": 8
        }
      ]
    },
    {
      "cell_type": "code",
      "metadata": {
        "id": "uZscLZ-rxFi6",
        "colab": {
          "base_uri": "https://localhost:8080/"
        },
        "outputId": "414182d4-6cb1-42d8-c0a8-10d694a73570"
      },
      "source": [
        "42 == 99"
      ],
      "id": "uZscLZ-rxFi6",
      "execution_count": null,
      "outputs": [
        {
          "output_type": "execute_result",
          "data": {
            "text/plain": [
              "False"
            ]
          },
          "metadata": {},
          "execution_count": 9
        }
      ]
    },
    {
      "cell_type": "code",
      "metadata": {
        "id": "YuIqW8N8xFi6",
        "colab": {
          "base_uri": "https://localhost:8080/"
        },
        "outputId": "29a680d9-407b-451c-92ca-e2dd8b629421"
      },
      "source": [
        "2 != 3"
      ],
      "id": "YuIqW8N8xFi6",
      "execution_count": null,
      "outputs": [
        {
          "output_type": "execute_result",
          "data": {
            "text/plain": [
              "True"
            ]
          },
          "metadata": {},
          "execution_count": 10
        }
      ]
    },
    {
      "cell_type": "code",
      "metadata": {
        "id": "5PsGksg8xFi6",
        "colab": {
          "base_uri": "https://localhost:8080/"
        },
        "outputId": "5a9ca7a3-9fa4-4f69-c9a7-cd2a30a939f2"
      },
      "source": [
        "2 != 2\n"
      ],
      "id": "5PsGksg8xFi6",
      "execution_count": null,
      "outputs": [
        {
          "output_type": "execute_result",
          "data": {
            "text/plain": [
              "False"
            ]
          },
          "metadata": {},
          "execution_count": 11
        }
      ]
    },
    {
      "cell_type": "code",
      "metadata": {
        "id": "Fmazt9ZFxFi7",
        "colab": {
          "base_uri": "https://localhost:8080/"
        },
        "outputId": "ffefd3a3-a66b-438f-8b2f-b001fa881c66"
      },
      "source": [
        "42 == \"42\"\n",
        "# this returned False because python considers \n",
        "#the integer 42 to be different fron string 42\n"
      ],
      "id": "Fmazt9ZFxFi7",
      "execution_count": null,
      "outputs": [
        {
          "output_type": "execute_result",
          "data": {
            "text/plain": [
              "False"
            ]
          },
          "metadata": {},
          "execution_count": 12
        }
      ]
    },
    {
      "cell_type": "code",
      "metadata": {
        "id": "24O7SGh2xFi7",
        "colab": {
          "base_uri": "https://localhost:8080/"
        },
        "outputId": "5ba52aa2-6359-43b5-df62-137be5ebd4a7"
      },
      "source": [
        "# The <,>, <=, >= operators, on the other hand work\n",
        "# properly with only integers and floating-point values\n",
        "\n",
        "42 < 100"
      ],
      "id": "24O7SGh2xFi7",
      "execution_count": null,
      "outputs": [
        {
          "output_type": "execute_result",
          "data": {
            "text/plain": [
              "True"
            ]
          },
          "metadata": {},
          "execution_count": 13
        }
      ]
    },
    {
      "cell_type": "code",
      "metadata": {
        "id": "KJ4_ZFJHxFi7",
        "outputId": "9ad5661a-62ad-4155-b14f-a3680a7bf0f0"
      },
      "source": [
        "42 > 100"
      ],
      "id": "KJ4_ZFJHxFi7",
      "execution_count": null,
      "outputs": [
        {
          "data": {
            "text/plain": [
              "False"
            ]
          },
          "execution_count": 31,
          "metadata": {},
          "output_type": "execute_result"
        }
      ]
    },
    {
      "cell_type": "code",
      "metadata": {
        "id": "5LaQ8haYxFi8",
        "outputId": "9882d0af-6671-4e93-f6be-0ff4fb2a7fe9"
      },
      "source": [
        "42 > 42"
      ],
      "id": "5LaQ8haYxFi8",
      "execution_count": null,
      "outputs": [
        {
          "data": {
            "text/plain": [
              "False"
            ]
          },
          "execution_count": 32,
          "metadata": {},
          "output_type": "execute_result"
        }
      ]
    },
    {
      "cell_type": "code",
      "metadata": {
        "id": "9GZwYxO1xFi8",
        "outputId": "3464824d-ec08-444a-cc94-8e1185782a4a"
      },
      "source": [
        "egg_count = 42\n",
        "egg_count <= 42"
      ],
      "id": "9GZwYxO1xFi8",
      "execution_count": null,
      "outputs": [
        {
          "data": {
            "text/plain": [
              "True"
            ]
          },
          "execution_count": 33,
          "metadata": {},
          "output_type": "execute_result"
        }
      ]
    },
    {
      "cell_type": "code",
      "metadata": {
        "id": "mYpnzJxrxFi8",
        "outputId": "2fed3732-adfb-49a3-9c2a-c2aafa70500e"
      },
      "source": [
        "my_age = 23\n",
        "my_age >= 10"
      ],
      "id": "mYpnzJxrxFi8",
      "execution_count": null,
      "outputs": [
        {
          "data": {
            "text/plain": [
              "True"
            ]
          },
          "execution_count": 34,
          "metadata": {},
          "output_type": "execute_result"
        }
      ]
    },
    {
      "cell_type": "markdown",
      "metadata": {
        "id": "Dn5eKHIcxFi9"
      },
      "source": [
        "#### Difference between the = operator and == operator\n",
        "You might have noticed that the == operator has two equal signs. It's easy to confuse these two operators with each other. Just remember this point: == compares while = assigns."
      ],
      "id": "Dn5eKHIcxFi9"
    },
    {
      "cell_type": "markdown",
      "metadata": {
        "id": "DLXr8lMixFi9"
      },
      "source": [
        "#### Boolean Operators"
      ],
      "id": "DLXr8lMixFi9"
    },
    {
      "cell_type": "markdown",
      "metadata": {
        "id": "rzjj7OqVxFi9"
      },
      "source": [
        "##### The and operator\n",
        "The and operator evaluates an expression to True if both booleans are True. Otherwise, it return false."
      ],
      "id": "rzjj7OqVxFi9"
    },
    {
      "cell_type": "code",
      "metadata": {
        "id": "IJmYrmm-xFi-",
        "outputId": "37301095-60cb-4e72-cf8d-9cd06d33d743"
      },
      "source": [
        "True and True"
      ],
      "id": "IJmYrmm-xFi-",
      "execution_count": null,
      "outputs": [
        {
          "data": {
            "text/plain": [
              "True"
            ]
          },
          "execution_count": 35,
          "metadata": {},
          "output_type": "execute_result"
        }
      ]
    },
    {
      "cell_type": "code",
      "metadata": {
        "id": "cbPdlc7SxFi-",
        "outputId": "86705d1d-43fc-4300-a89e-a1ac4b4767b1"
      },
      "source": [
        "True and False"
      ],
      "id": "cbPdlc7SxFi-",
      "execution_count": null,
      "outputs": [
        {
          "data": {
            "text/plain": [
              "False"
            ]
          },
          "execution_count": 36,
          "metadata": {},
          "output_type": "execute_result"
        }
      ]
    },
    {
      "cell_type": "code",
      "metadata": {
        "id": "vvj8VGAPxFi-",
        "outputId": "f5696888-ed2b-44a9-c4c2-a178eacb6d85"
      },
      "source": [
        "False and True"
      ],
      "id": "vvj8VGAPxFi-",
      "execution_count": null,
      "outputs": [
        {
          "data": {
            "text/plain": [
              "False"
            ]
          },
          "execution_count": 37,
          "metadata": {},
          "output_type": "execute_result"
        }
      ]
    },
    {
      "cell_type": "code",
      "metadata": {
        "id": "sckJIqbzxFi_",
        "outputId": "75b12bfb-4aa6-4b86-9fbe-11bf860a5aec"
      },
      "source": [
        "False and False"
      ],
      "id": "sckJIqbzxFi_",
      "execution_count": null,
      "outputs": [
        {
          "data": {
            "text/plain": [
              "False"
            ]
          },
          "execution_count": 38,
          "metadata": {},
          "output_type": "execute_result"
        }
      ]
    },
    {
      "cell_type": "markdown",
      "metadata": {
        "id": "y09dm5ZRxFi_"
      },
      "source": [
        ""
      ],
      "id": "y09dm5ZRxFi_"
    },
    {
      "cell_type": "markdown",
      "metadata": {
        "id": "FB3to-QKxFi_"
      },
      "source": [
        "##### The or operator\n",
        "On the other hand, the \"or\" operator evaluates an expression  to True if either of the boolean value is True."
      ],
      "id": "FB3to-QKxFi_"
    },
    {
      "cell_type": "code",
      "metadata": {
        "id": "qkJfjTDZxFjA",
        "colab": {
          "base_uri": "https://localhost:8080/"
        },
        "outputId": "158ba9b2-78b6-4f61-8f4a-ace9dd504bbd"
      },
      "source": [
        "True or False or False"
      ],
      "id": "qkJfjTDZxFjA",
      "execution_count": null,
      "outputs": [
        {
          "output_type": "execute_result",
          "data": {
            "text/plain": [
              "True"
            ]
          },
          "metadata": {},
          "execution_count": 15
        }
      ]
    },
    {
      "cell_type": "code",
      "metadata": {
        "id": "L5rWaMR-xFjA",
        "outputId": "d88e40f7-ea66-4884-ac93-527da515bbdd"
      },
      "source": [
        "True or False"
      ],
      "id": "L5rWaMR-xFjA",
      "execution_count": null,
      "outputs": [
        {
          "data": {
            "text/plain": [
              "True"
            ]
          },
          "execution_count": 40,
          "metadata": {},
          "output_type": "execute_result"
        }
      ]
    },
    {
      "cell_type": "code",
      "metadata": {
        "id": "zOXp6e67xFjA",
        "outputId": "c0d17356-6964-42bc-b1ee-a7c8b5606880"
      },
      "source": [
        "False or True"
      ],
      "id": "zOXp6e67xFjA",
      "execution_count": null,
      "outputs": [
        {
          "data": {
            "text/plain": [
              "True"
            ]
          },
          "execution_count": 41,
          "metadata": {},
          "output_type": "execute_result"
        }
      ]
    },
    {
      "cell_type": "code",
      "metadata": {
        "id": "-lzWSGjBxFjB",
        "outputId": "79c9673c-42bd-4d2b-f622-7f1ee8595495"
      },
      "source": [
        "False or False"
      ],
      "id": "-lzWSGjBxFjB",
      "execution_count": null,
      "outputs": [
        {
          "data": {
            "text/plain": [
              "False"
            ]
          },
          "execution_count": 42,
          "metadata": {},
          "output_type": "execute_result"
        }
      ]
    },
    {
      "cell_type": "markdown",
      "metadata": {
        "id": "FRcPl12UxFjB"
      },
      "source": [
        ""
      ],
      "id": "FRcPl12UxFjB"
    },
    {
      "cell_type": "markdown",
      "metadata": {
        "id": "DnteSdq2xFjB"
      },
      "source": [
        "##### The not operator\n",
        "Unlike \"and\" and \"or\", the \"not\" operator operates only on one boolean value or (expression). The not operator simply evaluates to the opposite boolean value."
      ],
      "id": "DnteSdq2xFjB"
    },
    {
      "cell_type": "code",
      "metadata": {
        "id": "xUe3jABQxFjC",
        "outputId": "87c99d32-e888-418c-abbe-838d00b26f02"
      },
      "source": [
        "not True"
      ],
      "id": "xUe3jABQxFjC",
      "execution_count": null,
      "outputs": [
        {
          "data": {
            "text/plain": [
              "False"
            ]
          },
          "execution_count": 43,
          "metadata": {},
          "output_type": "execute_result"
        }
      ]
    },
    {
      "cell_type": "code",
      "metadata": {
        "id": "bRaRMOH-xFjC",
        "outputId": "7e20d40d-6404-4849-c031-1d6d22d5bdb9"
      },
      "source": [
        "not False"
      ],
      "id": "bRaRMOH-xFjC",
      "execution_count": null,
      "outputs": [
        {
          "data": {
            "text/plain": [
              "True"
            ]
          },
          "execution_count": 44,
          "metadata": {},
          "output_type": "execute_result"
        }
      ]
    },
    {
      "cell_type": "code",
      "metadata": {
        "id": "PVreAfs1xFjC",
        "outputId": "dc052453-939c-44de-bc75-d4d9fe227e3c"
      },
      "source": [
        "not not True"
      ],
      "id": "PVreAfs1xFjC",
      "execution_count": null,
      "outputs": [
        {
          "data": {
            "text/plain": [
              "True"
            ]
          },
          "execution_count": 45,
          "metadata": {},
          "output_type": "execute_result"
        }
      ]
    },
    {
      "cell_type": "code",
      "metadata": {
        "id": "5JJM15QKxFjD",
        "outputId": "30f1a0ce-4d1b-4591-a768-aa470ca2ee59"
      },
      "source": [
        "not not not not False"
      ],
      "id": "5JJM15QKxFjD",
      "execution_count": null,
      "outputs": [
        {
          "data": {
            "text/plain": [
              "False"
            ]
          },
          "execution_count": 46,
          "metadata": {},
          "output_type": "execute_result"
        }
      ]
    },
    {
      "cell_type": "markdown",
      "metadata": {
        "id": "QlaI5d3fxFjD"
      },
      "source": [
        ""
      ],
      "id": "QlaI5d3fxFjD"
    },
    {
      "cell_type": "markdown",
      "metadata": {
        "id": "xACFtjElxFjD"
      },
      "source": [
        "#### Mixing Boolean Operators and Comparison Operators"
      ],
      "id": "xACFtjElxFjD"
    },
    {
      "cell_type": "code",
      "metadata": {
        "id": "1guR6zm6xFjD",
        "colab": {
          "base_uri": "https://localhost:8080/"
        },
        "outputId": "40513bae-828e-4824-8623-707d83d58b12"
      },
      "source": [
        "(4 < 5) or (7 < 6)"
      ],
      "id": "1guR6zm6xFjD",
      "execution_count": null,
      "outputs": [
        {
          "output_type": "execute_result",
          "data": {
            "text/plain": [
              "True"
            ]
          },
          "metadata": {},
          "execution_count": 17
        }
      ]
    },
    {
      "cell_type": "code",
      "metadata": {
        "id": "9YfORN18xFjE",
        "outputId": "4b980adb-10ff-44c0-f630-b2cc46cf41f6"
      },
      "source": [
        "(4 < 5) or (5 < 6)"
      ],
      "id": "9YfORN18xFjE",
      "execution_count": null,
      "outputs": [
        {
          "data": {
            "text/plain": [
              "True"
            ]
          },
          "execution_count": 48,
          "metadata": {},
          "output_type": "execute_result"
        }
      ]
    },
    {
      "cell_type": "code",
      "metadata": {
        "id": "WBLw8kxTxFjE",
        "outputId": "3781e5ce-9c2e-435b-882b-a1c1717ae80c"
      },
      "source": [
        "(1 == 2) or (2==2)"
      ],
      "id": "WBLw8kxTxFjE",
      "execution_count": null,
      "outputs": [
        {
          "data": {
            "text/plain": [
              "True"
            ]
          },
          "execution_count": 49,
          "metadata": {},
          "output_type": "execute_result"
        }
      ]
    },
    {
      "cell_type": "code",
      "metadata": {
        "id": "UZRTOtwXxFjE",
        "outputId": "82f5c550-8282-4f28-ae34-80768265a010"
      },
      "source": [
        "(4 < 5) and (5 < 6) or not (1 == 2) or (2!=2) or (4 <= 5) and (9 >= 6)"
      ],
      "id": "UZRTOtwXxFjE",
      "execution_count": null,
      "outputs": [
        {
          "data": {
            "text/plain": [
              "True"
            ]
          },
          "execution_count": 50,
          "metadata": {},
          "output_type": "execute_result"
        }
      ]
    },
    {
      "cell_type": "markdown",
      "metadata": {
        "id": "y7dhRxEQxFjF"
      },
      "source": [
        ""
      ],
      "id": "y7dhRxEQxFjF"
    },
    {
      "cell_type": "markdown",
      "metadata": {
        "id": "hn2oMI7gxFjF"
      },
      "source": [
        "#### Elements of Flow Control Statements\n",
        "\n",
        "Flow control statements often start with a part called the condition, and all are followed by a block of code called the clause. Before you learn Python's specific flow control statements, I will want to state what a condition and a block is.\n",
        "\n",
        "#### Conditions\n",
        "\n",
        "The boolean expressions you've seen so far could all be considered conditions which are the same thing as expressions; condition is just a more specific name in the context of flow control statements. Conditions always evaluate down to a boolean  value, True or False. A flow statement decides what to do based on whether its condition is True or False, and  almost every flow control statements uses a condition.\n",
        "\n",
        "#### Blocks of code\n",
        "\n",
        "Lines of Python code can be grouped together in blocks. You can tell when a block begins and ends from the indentation of the lines of code. There are three rules for blocks. \n",
        "\n",
        "1. Blocks begin when the indentation increases. \n",
        "2. Block can contain other blocks. \n",
        "3. Blocks end when the indentation increases to  zero or to a containing block indentation.\n",
        "\n",
        "Take a look at the following:"
      ],
      "id": "hn2oMI7gxFjF"
    },
    {
      "cell_type": "code",
      "metadata": {
        "colab": {
          "base_uri": "https://localhost:8080/",
          "height": 185
        },
        "id": "D8u-qiCGJkHn",
        "outputId": "1dc372b2-f66d-4285-d97a-317bbf51d283"
      },
      "source": [
        "if name == 'Mary':\n",
        "  print ('Mary')"
      ],
      "id": "D8u-qiCGJkHn",
      "execution_count": null,
      "outputs": [
        {
          "output_type": "error",
          "ename": "NameError",
          "evalue": "ignored",
          "traceback": [
            "\u001b[0;31m---------------------------------------------------------------------------\u001b[0m",
            "\u001b[0;31mNameError\u001b[0m                                 Traceback (most recent call last)",
            "\u001b[0;32m<ipython-input-19-cd821b6ba32f>\u001b[0m in \u001b[0;36m<module>\u001b[0;34m()\u001b[0m\n\u001b[0;32m----> 1\u001b[0;31m \u001b[0;32mif\u001b[0m \u001b[0mname\u001b[0m \u001b[0;34m==\u001b[0m \u001b[0;34m'Mary'\u001b[0m\u001b[0;34m:\u001b[0m\u001b[0;34m\u001b[0m\u001b[0;34m\u001b[0m\u001b[0m\n\u001b[0m\u001b[1;32m      2\u001b[0m   \u001b[0mprint\u001b[0m \u001b[0;34m(\u001b[0m\u001b[0;34m'Mary'\u001b[0m\u001b[0;34m)\u001b[0m\u001b[0;34m\u001b[0m\u001b[0;34m\u001b[0m\u001b[0m\n",
            "\u001b[0;31mNameError\u001b[0m: name 'name' is not defined"
          ]
        }
      ]
    },
    {
      "cell_type": "code",
      "metadata": {
        "id": "EkbDSmAhxFjF"
      },
      "source": [
        "if name == 'Mary':\n",
        "    print (\"Hello Mary\")\n",
        "if password == 'swordfish':\n",
        "    print ('Access granted')\n",
        "else:\n",
        "    print ('Wrong password')"
      ],
      "id": "EkbDSmAhxFjF",
      "execution_count": null,
      "outputs": []
    },
    {
      "cell_type": "markdown",
      "metadata": {
        "id": "--c20-t-xFjF"
      },
      "source": [
        "The first block of code starts at the line print (\"Hello Mary\") and contains all the lines after it. Inside this block is another block, which has only a single line in it- print (\"Access granted\"). The third block is also one line long: print (\"wrong password\"). \n"
      ],
      "id": "--c20-t-xFjF"
    },
    {
      "cell_type": "markdown",
      "metadata": {
        "id": "SG_QGEVExFjF"
      },
      "source": [
        "## Flow Control Statements\n",
        "Now, let’s explore the most important piece of flow control: the statements\n",
        "themselves."
      ],
      "id": "SG_QGEVExFjF"
    },
    {
      "cell_type": "markdown",
      "metadata": {
        "id": "vCEKPwvBxFjF"
      },
      "source": [
        "#### If Statements"
      ],
      "id": "vCEKPwvBxFjF"
    },
    {
      "cell_type": "markdown",
      "metadata": {
        "id": "Kpe6Td2bxFjG"
      },
      "source": [
        "The most common type of flow control statement is the if statement.\n",
        "An if statement's clause (the block of code following the if statement) will execute if the statement's condition is true. The clause is skipped (or terminated) if the condition is false.\n",
        "\n",
        "In Python, an if statement consist of the following: \n",
        "1. The if keyword \n",
        "2. A condition (an expression that evaluates to True or False) \n",
        "3. Colon \n",
        "4. Starting on the next line, an indented block of codes (called the if clause)\n"
      ],
      "id": "Kpe6Td2bxFjG"
    },
    {
      "cell_type": "code",
      "metadata": {
        "id": "HtFCVpNAxFjG",
        "colab": {
          "base_uri": "https://localhost:8080/"
        },
        "outputId": "d904afe2-5b1c-44f7-fe7d-e5878c055feb"
      },
      "source": [
        "name = 'Victor'\n",
        "if name == 'Victor':\n",
        "    print ('Hi Victor')"
      ],
      "id": "HtFCVpNAxFjG",
      "execution_count": null,
      "outputs": [
        {
          "output_type": "stream",
          "name": "stdout",
          "text": [
            "Hi Victor\n"
          ]
        }
      ]
    },
    {
      "cell_type": "code",
      "metadata": {
        "id": "T62IRKkMxFjG",
        "colab": {
          "base_uri": "https://localhost:8080/"
        },
        "outputId": "54d0f626-e342-4fd7-be3b-a5fc6bbcb8e3"
      },
      "source": [
        "name = input()\n",
        "if name == 'Mary':\n",
        "    print (\"Hello Mary\")"
      ],
      "id": "T62IRKkMxFjG",
      "execution_count": null,
      "outputs": [
        {
          "name": "stdout",
          "output_type": "stream",
          "text": [
            "Mars\n"
          ]
        }
      ]
    },
    {
      "cell_type": "code",
      "metadata": {
        "id": "O60e66wNxFjG",
        "colab": {
          "base_uri": "https://localhost:8080/"
        },
        "outputId": "951a3499-5a8b-4d6a-cc9d-90051440a673"
      },
      "source": [
        "password = input()\n",
        "if password == 'swordfish':\n",
        "    print ('Access granted!')"
      ],
      "id": "O60e66wNxFjG",
      "execution_count": null,
      "outputs": [
        {
          "name": "stdout",
          "output_type": "stream",
          "text": [
            "sword\n"
          ]
        }
      ]
    },
    {
      "cell_type": "code",
      "metadata": {
        "id": "0a2fJeSjxFjJ",
        "colab": {
          "base_uri": "https://localhost:8080/"
        },
        "outputId": "874a2d23-47db-4159-d185-b1486620d31e"
      },
      "source": [
        "intern_name = 'Clara'\n",
        "if intern_name == 'Clara':\n",
        "    print (intern_name + ' is a Research Assistant at DataLab')\n",
        "\n"
      ],
      "id": "0a2fJeSjxFjJ",
      "execution_count": null,
      "outputs": [
        {
          "output_type": "stream",
          "name": "stdout",
          "text": [
            "Clara is a Research Assistant at DataLab\n"
          ]
        }
      ]
    },
    {
      "cell_type": "markdown",
      "metadata": {
        "id": "Lb4IXuXexFjJ"
      },
      "source": [
        ""
      ],
      "id": "Lb4IXuXexFjJ"
    },
    {
      "cell_type": "markdown",
      "metadata": {
        "id": "CmPM-VvpxFjJ"
      },
      "source": [
        "#### Else Statements"
      ],
      "id": "CmPM-VvpxFjJ"
    },
    {
      "cell_type": "markdown",
      "metadata": {
        "id": "ZFKY3k7txFjJ"
      },
      "source": [
        "An if clause can optionally be followed by an else statement. The else clause\n",
        "is executed only when the if statement’s condition is False. In plain English,\n",
        "an else statement could be read as, “If this condition is true, execute this\n",
        "code. Or else, execute that code.” An else statement doesn’t have a condition,\n",
        "and in code, an else statement always consists of the following:\n",
        "\n",
        "* The else keyword\n",
        "* A colon\n",
        "* Starting on the next line, an indented block of code (called the else clause)\n",
        "\n",
        "Returning to the Victor example, let’s look at some code that uses an\n",
        "else statement to offer a different greeting if the person’s name isn’t Victor."
      ],
      "id": "ZFKY3k7txFjJ"
    },
    {
      "cell_type": "code",
      "metadata": {
        "id": "h5aXeE9fxFjK",
        "colab": {
          "base_uri": "https://localhost:8080/"
        },
        "outputId": "025b221c-f347-41ca-b7a7-0550bae1e811"
      },
      "source": [
        "name = 'Victor'\n",
        "if name == 'Victor':\n",
        "    print('Hi Victor')\n",
        "else:\n",
        "    print('Hello Stranger.')\n",
        "    print('Please provide your identity.')"
      ],
      "id": "h5aXeE9fxFjK",
      "execution_count": null,
      "outputs": [
        {
          "output_type": "stream",
          "name": "stdout",
          "text": [
            "Hi Victor\n"
          ]
        }
      ]
    },
    {
      "cell_type": "code",
      "metadata": {
        "id": "SxIA_At-xFjK",
        "colab": {
          "base_uri": "https://localhost:8080/"
        },
        "outputId": "5db058c1-e3cc-4c45-d65a-f8695eaa61ac"
      },
      "source": [
        "password = input()\n",
        "if password == 'swordfish':\n",
        "    print ('Access granted!')\n",
        "else:\n",
        "    print('Wrong password')\n",
        "    print('You have two more trials')"
      ],
      "id": "SxIA_At-xFjK",
      "execution_count": null,
      "outputs": [
        {
          "output_type": "stream",
          "name": "stdout",
          "text": [
            "sword\n",
            "Wrong password\n",
            "You have two more trials\n"
          ]
        }
      ]
    },
    {
      "cell_type": "code",
      "metadata": {
        "id": "lay1XqQ8xFjK",
        "colab": {
          "base_uri": "https://localhost:8080/"
        },
        "outputId": "ab35e1ac-a7e9-47b4-95cc-02966d2c605e"
      },
      "source": [
        "name = input ()\n",
        "\n",
        "Datalab_staff = ['Gideon', 'Feyi', 'Esther', 'Solomon', 'Clara']\n",
        "print ('Checking your name in DataLab NG database...')\n",
        "if name in Datalab_staff:\n",
        "    print ('Welcome ' +  name +'. What would you like to do?')\n",
        "else:\n",
        "    print ('You are not part of the team')"
      ],
      "id": "lay1XqQ8xFjK",
      "execution_count": null,
      "outputs": [
        {
          "output_type": "stream",
          "name": "stdout",
          "text": [
            "Mary\n",
            "Checking your name in DataLab NG database...\n",
            "You are not part of the team\n"
          ]
        }
      ]
    },
    {
      "cell_type": "markdown",
      "metadata": {
        "id": "fEiIatSQxFjK"
      },
      "source": [
        ""
      ],
      "id": "fEiIatSQxFjK"
    },
    {
      "cell_type": "markdown",
      "metadata": {
        "id": "AoDwoWoFxFjK"
      },
      "source": [
        "#### Elif Statements"
      ],
      "id": "AoDwoWoFxFjK"
    },
    {
      "cell_type": "markdown",
      "metadata": {
        "id": "lsrAiLqAxFjL"
      },
      "source": [
        "While only one of the if or else clauses will execute, you may have a case\n",
        "where you want one of many possible clauses to execute. The elif statement is an “else if” statement that always follows an if or another elif statement.\n",
        "It provides another condition that is checked only if any of the previous conditions were False. In code, an elif statement always consists of the following:\n",
        "\n",
        "* The elif keyword\n",
        "* A condition (that is, an expression that evaluates to True or False)\n",
        "* A colon\n",
        "* Starting on the next line, an indented block of code (called the elif clause)\n",
        "\n",
        "Let’s add an elif to the name checker to see this statement in action."
      ],
      "id": "lsrAiLqAxFjL"
    },
    {
      "cell_type": "code",
      "metadata": {
        "id": "n-LRyJ2MxFjL",
        "outputId": "88589e19-f167-4850-9ff1-202647a56bba"
      },
      "source": [
        "# This time, you check the person’s age, and the \n",
        "# program will tell them\n",
        "# something different if they’re younger than 12.\n",
        "name = 'Victor'\n",
        "age = 30\n",
        "if name == 'Victor':\n",
        "    print('Hi, Victor.')\n",
        "elif age < 12:\n",
        "    print('You are not Victor, kiddo.')"
      ],
      "id": "n-LRyJ2MxFjL",
      "execution_count": null,
      "outputs": [
        {
          "name": "stdout",
          "output_type": "stream",
          "text": [
            "Hi, Victor.\n"
          ]
        }
      ]
    },
    {
      "cell_type": "markdown",
      "metadata": {
        "id": "vYQ08tzkxFjL"
      },
      "source": [
        "The elif clause executes if age < 12 is True and name == 'Victor' is False. However, if both of the conditions are False, then both of the clauses are skipped. It is not guaranteed that at least one of the clauses will be executed.\n",
        "When there is a chain of elif statements, only one or none of the clauses will be executed. Once one of the statements’ conditions is found to be True, the rest of the elif clauses are automatically skipped."
      ],
      "id": "vYQ08tzkxFjL"
    },
    {
      "cell_type": "code",
      "metadata": {
        "id": "-jVkuxMfxFjL",
        "outputId": "3a24d7e1-e0b1-4275-b984-3cfaf6415ae1"
      },
      "source": [
        "#Here I’ve added two more elif statements to make the \n",
        "#name checker\n",
        "#greet a person with different answers based on age.\n",
        "\n",
        "name = input()\n",
        "age = int(input())\n",
        "if name == 'Victor':\n",
        "    print('Hi, Victor.')\n",
        "elif age < 12:\n",
        "    print('You are not Victor, kiddo.')\n",
        "elif age > 2000:\n",
        "    print('Unlike you, Victor is not an undead, ancient of days.')\n",
        "elif age > 100:\n",
        "    print('You are not Victor, grannie.')"
      ],
      "id": "-jVkuxMfxFjL",
      "execution_count": null,
      "outputs": [
        {
          "name": "stdout",
          "output_type": "stream",
          "text": [
            "Victor\n",
            "23\n",
            "Hi, Victor.\n"
          ]
        }
      ]
    },
    {
      "cell_type": "markdown",
      "metadata": {
        "id": "7dI2e2KdxFjM"
      },
      "source": [
        "Optionally, you can have an else statement after the last elif statement.\n",
        "In that case, it is guaranteed that at least one (and only one) of the clauses\n",
        "will be executed. If the conditions in every if and elif statement are False,\n",
        "then the else clause is executed. For example, let’s re-create the Victor program to use if, elif, and else clauses."
      ],
      "id": "7dI2e2KdxFjM"
    },
    {
      "cell_type": "code",
      "metadata": {
        "id": "2_aWsQAxxFjM",
        "outputId": "e1e17b5c-0c81-474f-e164-5567f38debbf"
      },
      "source": [
        "name = input()\n",
        "age = int(input())\n",
        "if name == 'Victor':\n",
        "    print('Hi, Victor.')\n",
        "elif age < 12:\n",
        "    print('You are not Victor, kiddo.')\n",
        "else:\n",
        "    print('You are neither Victor nor a little kid.')"
      ],
      "id": "2_aWsQAxxFjM",
      "execution_count": null,
      "outputs": [
        {
          "name": "stdout",
          "output_type": "stream",
          "text": [
            "Esther\n",
            "11\n",
            "You are not Victor, kiddo.\n"
          ]
        }
      ]
    },
    {
      "cell_type": "code",
      "metadata": {
        "id": "2lCiKnnzxFjM"
      },
      "source": [
        ""
      ],
      "id": "2lCiKnnzxFjM",
      "execution_count": null,
      "outputs": []
    },
    {
      "cell_type": "markdown",
      "metadata": {
        "id": "GV_zP4LWxFjN"
      },
      "source": [
        "#### while Loop Statements"
      ],
      "id": "GV_zP4LWxFjN"
    },
    {
      "cell_type": "markdown",
      "metadata": {
        "id": "TdNQ07Z1xFjN"
      },
      "source": [
        "You can make a block of code execute over and over again with a while statement. The code in a while clause will be executed as long as the while statement’s condition is True. In code, a while statement always consists of the following:\n",
        "* The while keyword\n",
        "* A condition (that is, an expression that evaluates to True or False)\n",
        "* A colon\n",
        "* Starting on the next line, an indented block of code (called the while clause)\n",
        "\n",
        "You may see that a while statement looks similar to an if statement. The\n",
        "difference is in how they behave. At the end of an if clause, the program\n",
        "execution continues after the if statement. But at the end of a while clause, the program execution jumps back to the start of the while statement"
      ],
      "id": "TdNQ07Z1xFjN"
    },
    {
      "cell_type": "code",
      "metadata": {
        "id": "bbQgcVidxFjO",
        "colab": {
          "base_uri": "https://localhost:8080/"
        },
        "outputId": "a42afcc7-7dda-45fb-a604-4b346d3e781d"
      },
      "source": [
        "apple = 0\n",
        "if apple < 5:\n",
        "    print('Hello, world.')\n",
        "    apple = apple + 1"
      ],
      "id": "bbQgcVidxFjO",
      "execution_count": null,
      "outputs": [
        {
          "output_type": "stream",
          "name": "stdout",
          "text": [
            "Hello, world.\n"
          ]
        }
      ]
    },
    {
      "cell_type": "code",
      "metadata": {
        "id": "1G5UQLs_xFjO",
        "colab": {
          "base_uri": "https://localhost:8080/"
        },
        "outputId": "c0878a65-256e-4918-f907-6806e7ffc9be"
      },
      "source": [
        "apple = 0\n",
        "while apple < 5:\n",
        "    print('Hello, world.')\n",
        "    apple += 1\n",
        "    print ('Apple is', apple)"
      ],
      "id": "1G5UQLs_xFjO",
      "execution_count": null,
      "outputs": [
        {
          "output_type": "stream",
          "name": "stdout",
          "text": [
            "Hello, world.\n",
            "Apple is 1\n",
            "Hello, world.\n",
            "Apple is 2\n",
            "Hello, world.\n",
            "Apple is 3\n",
            "Hello, world.\n",
            "Apple is 4\n",
            "Hello, world.\n",
            "Apple is 5\n"
          ]
        }
      ]
    },
    {
      "cell_type": "markdown",
      "metadata": {
        "id": "AIVbkYQtxFjP"
      },
      "source": [
        "#### An Annoying while Loop"
      ],
      "id": "AIVbkYQtxFjP"
    },
    {
      "cell_type": "markdown",
      "metadata": {
        "id": "H1PyRbVSxFjP"
      },
      "source": [
        "Here’s a small example program that will keep asking you to type, literally, `your name`."
      ],
      "id": "H1PyRbVSxFjP"
    },
    {
      "cell_type": "code",
      "metadata": {
        "id": "fgCazUVXxFjQ",
        "colab": {
          "base_uri": "https://localhost:8080/"
        },
        "outputId": "bca3ee8e-a1cb-43f8-a666-a7a9d203bb90"
      },
      "source": [
        "name = ''\n",
        "while name != 'your name':\n",
        "    print('Please type your name.')\n",
        "    name = input()\n",
        "    print('Thank you!')"
      ],
      "id": "fgCazUVXxFjQ",
      "execution_count": null,
      "outputs": [
        {
          "output_type": "stream",
          "name": "stdout",
          "text": [
            "Please type your name.\n",
            "Mary\n",
            "Thank you!\n",
            "Please type your name.\n",
            "Gideon\n",
            "Thank you!\n",
            "Please type your name.\n",
            "Angela\n",
            "Thank you!\n",
            "Please type your name.\n",
            "your name\n",
            "Thank you!\n"
          ]
        }
      ]
    },
    {
      "cell_type": "markdown",
      "metadata": {
        "id": "HmhkzfsDxFjQ"
      },
      "source": [
        ""
      ],
      "id": "HmhkzfsDxFjQ"
    },
    {
      "cell_type": "markdown",
      "metadata": {
        "id": "aMYYpBJXxFjQ"
      },
      "source": [
        "#### break Statements\n",
        "There is a shortcut to getting the program execution to break out of a while\n",
        "loop’s clause early. If the execution reaches a `break` statement, it immediately exits the `while` loop’s clause. In code, a `break` statement simply contains the break keyword."
      ],
      "id": "aMYYpBJXxFjQ"
    },
    {
      "cell_type": "code",
      "metadata": {
        "id": "Jm1xA5zGxFjR",
        "colab": {
          "base_uri": "https://localhost:8080/"
        },
        "outputId": "bc71635b-5512-4606-bda0-0749bdfba117"
      },
      "source": [
        "while True:\n",
        "    print('Please type your name.')\n",
        "    name = input()\n",
        "    if name == 'your name':\n",
        "        print('Thank you!')\n",
        "        break"
      ],
      "id": "Jm1xA5zGxFjR",
      "execution_count": null,
      "outputs": [
        {
          "output_type": "stream",
          "name": "stdout",
          "text": [
            "Please type your name.\n",
            "your name\n",
            "Thank you!\n"
          ]
        }
      ]
    },
    {
      "cell_type": "markdown",
      "metadata": {
        "id": "eyix3l2fxFjR"
      },
      "source": [
        ""
      ],
      "id": "eyix3l2fxFjR"
    },
    {
      "cell_type": "markdown",
      "metadata": {
        "id": "WofQn7esxFjR"
      },
      "source": [
        "#### continue Statements\n",
        "Like `break` statements, `continue` statements are used inside loops. When the\n",
        "program execution reaches a `continue` statement, the program execution\n",
        "immediately jumps back to the start of the loop and reevaluates the loop’s\n",
        "condition. (This is also what happens when the execution reaches the end\n",
        "of the loop.)"
      ],
      "id": "WofQn7esxFjR"
    },
    {
      "cell_type": "code",
      "metadata": {
        "id": "B0DvomIZxFjR",
        "colab": {
          "base_uri": "https://localhost:8080/"
        },
        "outputId": "9610e10d-be0e-4aed-e6b0-a77e96dd21ed"
      },
      "source": [
        "# Let’s use continue to write a program that asks\n",
        "# for a name and password.\n",
        "\n",
        "while True:\n",
        "    print('Who are you?')\n",
        "    name = input()\n",
        "    if name != 'Alex':\n",
        "        continue\n",
        "    print('Hello, Alex. What is the password? (It is a nickname.)')\n",
        "    password = input()\n",
        "    if password == 'UncleHoro':\n",
        "        break\n",
        "print('Access granted.')"
      ],
      "id": "B0DvomIZxFjR",
      "execution_count": null,
      "outputs": [
        {
          "output_type": "stream",
          "name": "stdout",
          "text": [
            "Who are you?\n",
            "Mary\n",
            "Who are you?\n",
            "Gideon\n",
            "Who are you?\n",
            "Alex\n",
            "Hello, Alex. What is the password? (It is a nickname.)\n",
            "Ucle\n",
            "Who are you?\n",
            "Alex\n",
            "Hello, Alex. What is the password? (It is a nickname.)\n",
            "UncleHoro\n",
            "Access granted.\n"
          ]
        }
      ]
    },
    {
      "cell_type": "markdown",
      "metadata": {
        "id": "sx_734eOxFjS"
      },
      "source": [
        "If the user enters any name besides Alex, the `continue` statement causes the program execution to jump back to the start of the loop. When it reevaluates the condition, the execution will always enter the loop, since the condition is simply the value `True`. Once they make it past that if statement, the user is asked for a password. If the password entered is `UncleHoro`, then the `break statement` is run, and the execution jumps out of the while loop to print `Access granted`. Otherwise, the execution continues to the end of the while loop, where it then jumps back to the start of the loop."
      ],
      "id": "sx_734eOxFjS"
    },
    {
      "cell_type": "markdown",
      "metadata": {
        "id": "p4mtDwpyxFjS"
      },
      "source": [
        ""
      ],
      "id": "p4mtDwpyxFjS"
    },
    {
      "cell_type": "markdown",
      "metadata": {
        "id": "AB9fAjfFxFjS"
      },
      "source": [
        "#### for Loops and the range() Function\n",
        "The `while` loop keeps looping while its condition is `True` (which is the reason for its name), but what if you want to execute a block of code only a certain number of times? You can do this with a `for` loop statement and the `range()` function."
      ],
      "id": "AB9fAjfFxFjS"
    },
    {
      "cell_type": "code",
      "metadata": {
        "id": "1aLrMrE3xFjT",
        "outputId": "6b3820ec-0129-48ac-a43c-28f6b8791483"
      },
      "source": [
        "print('My name is')\n",
        "for i in range(5):\n",
        "    print('Jimmy Five Times (' + str(i) + ')')"
      ],
      "id": "1aLrMrE3xFjT",
      "execution_count": null,
      "outputs": [
        {
          "name": "stdout",
          "output_type": "stream",
          "text": [
            "My name is\n",
            "Jimmy Five Times (0)\n",
            "Jimmy Five Times (1)\n",
            "Jimmy Five Times (2)\n",
            "Jimmy Five Times (3)\n",
            "Jimmy Five Times (4)\n"
          ]
        }
      ]
    },
    {
      "cell_type": "code",
      "metadata": {
        "id": "m__lmE0QxFjT",
        "colab": {
          "base_uri": "https://localhost:8080/"
        },
        "outputId": "b79c1d7e-dcc4-4d24-8ee9-c30cbb063576"
      },
      "source": [
        "# An equivalent while Loop\n",
        "# You can actually use a while loop to do the same thing as a for \n",
        "# loop; for loops are just more concise.\n",
        "print('My name is')\n",
        "i = 0\n",
        "while i < 5:\n",
        "    print('Jimmy Five Times (' + str(i) + ')')\n",
        "    i = i + 1"
      ],
      "id": "m__lmE0QxFjT",
      "execution_count": null,
      "outputs": [
        {
          "output_type": "stream",
          "name": "stdout",
          "text": [
            "My name is\n",
            "Jimmy Five Times (0)\n",
            "Jimmy Five Times (1)\n",
            "Jimmy Five Times (2)\n",
            "Jimmy Five Times (3)\n",
            "Jimmy Five Times (4)\n"
          ]
        }
      ]
    },
    {
      "cell_type": "code",
      "metadata": {
        "id": "SkBbaAiGxFjT",
        "outputId": "cacc06b8-3787-46d6-ad6a-335b642bef58"
      },
      "source": [
        "# add up all the numbers from 0 to 100.\n",
        "total = 0\n",
        "for i in range(101):\n",
        "    total = total + i\n",
        "print(total)"
      ],
      "id": "SkBbaAiGxFjT",
      "execution_count": null,
      "outputs": [
        {
          "name": "stdout",
          "output_type": "stream",
          "text": [
            "5050\n"
          ]
        }
      ]
    },
    {
      "cell_type": "code",
      "metadata": {
        "id": "EsA3YfdPxFjU"
      },
      "source": [
        ""
      ],
      "id": "EsA3YfdPxFjU",
      "execution_count": null,
      "outputs": []
    },
    {
      "cell_type": "markdown",
      "metadata": {
        "id": "J-tOuJYUxFjU"
      },
      "source": [
        "#### The Starting, Stopping, and Stepping Arguments to range()\n",
        "range() Function: (Start,end,step)"
      ],
      "id": "J-tOuJYUxFjU"
    },
    {
      "cell_type": "code",
      "metadata": {
        "id": "MSqjiirRxFjU",
        "outputId": "32f84547-d4d8-44d3-93ac-a8bb567691b4"
      },
      "source": [
        "for i in range(12, 16):\n",
        "    print(i)"
      ],
      "id": "MSqjiirRxFjU",
      "execution_count": null,
      "outputs": [
        {
          "name": "stdout",
          "output_type": "stream",
          "text": [
            "12\n",
            "13\n",
            "14\n",
            "15\n"
          ]
        }
      ]
    },
    {
      "cell_type": "code",
      "metadata": {
        "id": "CLVET-NJxFjV",
        "outputId": "62525dc8-ff99-4c4c-bdbc-9f261e12b8ac"
      },
      "source": [
        "for i in range(0, 10, 2):\n",
        "    print(i)"
      ],
      "id": "CLVET-NJxFjV",
      "execution_count": null,
      "outputs": [
        {
          "name": "stdout",
          "output_type": "stream",
          "text": [
            "0\n",
            "2\n",
            "4\n",
            "6\n",
            "8\n"
          ]
        }
      ]
    },
    {
      "cell_type": "code",
      "metadata": {
        "id": "tt4yY-ZoxFjV",
        "outputId": "7dcc07e3-de87-4682-f473-af81a66c0d0e"
      },
      "source": [
        "for i in range(5, -1, -1):\n",
        "    print(i)"
      ],
      "id": "tt4yY-ZoxFjV",
      "execution_count": null,
      "outputs": [
        {
          "name": "stdout",
          "output_type": "stream",
          "text": [
            "5\n",
            "4\n",
            "3\n",
            "2\n",
            "1\n",
            "0\n"
          ]
        }
      ]
    },
    {
      "cell_type": "markdown",
      "metadata": {
        "id": "3edRPCuFxFjV"
      },
      "source": [
        ""
      ],
      "id": "3edRPCuFxFjV"
    },
    {
      "cell_type": "markdown",
      "metadata": {
        "id": "6i23yEPs0zmV"
      },
      "source": [
        "### Exercise\n",
        "\n",
        "1. Print First 10 natural numbers using while loop. Then try using the range function and the for loop to get the same answer.\n",
        "\n",
        "2. Accept number from user and calculate the sum of all numbers between 1 and given number."
      ],
      "id": "6i23yEPs0zmV"
    },
    {
      "cell_type": "code",
      "metadata": {
        "colab": {
          "base_uri": "https://localhost:8080/"
        },
        "id": "NxCCtlOfzFD5",
        "outputId": "0f22169e-b444-4ed4-cc4e-21c58ad1e5d2"
      },
      "source": [
        "#Print First 10 natural numbers using while loop. \n",
        "#Then try using the range function and the for loop to get the same answer.\n",
        "\n",
        "i = 0\n",
        "while i < 10:\n",
        "  i += 1\n",
        "  print (i)"
      ],
      "id": "NxCCtlOfzFD5",
      "execution_count": null,
      "outputs": [
        {
          "output_type": "stream",
          "name": "stdout",
          "text": [
            "1\n",
            "2\n",
            "3\n",
            "4\n",
            "5\n",
            "6\n",
            "7\n",
            "8\n",
            "9\n",
            "10\n"
          ]
        }
      ]
    },
    {
      "cell_type": "code",
      "metadata": {
        "colab": {
          "base_uri": "https://localhost:8080/"
        },
        "id": "92mUElsK0CrH",
        "outputId": "fcfebbdd-018e-4d29-a6be-61c7638fc426"
      },
      "source": [
        "for i in range (1, 11):\n",
        "  print (i)"
      ],
      "id": "92mUElsK0CrH",
      "execution_count": null,
      "outputs": [
        {
          "output_type": "stream",
          "name": "stdout",
          "text": [
            "1\n",
            "2\n",
            "3\n",
            "4\n",
            "5\n",
            "6\n",
            "7\n",
            "8\n",
            "9\n",
            "10\n"
          ]
        }
      ]
    },
    {
      "cell_type": "code",
      "metadata": {
        "colab": {
          "base_uri": "https://localhost:8080/"
        },
        "id": "UD9QGtEI06Pa",
        "outputId": "e07ef08e-3ab8-4779-bac9-a5dc2057b3bd"
      },
      "source": [
        "#user_input = 4\n",
        "#1, 2, 3, 4 = 10\n",
        "#Accept number from user and calculate the sum of all numbers between 1 and given number.\n",
        "\n",
        "user_input = int(input('Enter a number'))\n",
        "sumN = 0\n",
        "#range(start, end, step)\n",
        "for i in range (1, user_input+1): \n",
        "  sumN +=i\n",
        "  print ('Sum is ', sumN)\n",
        "\n",
        "\n",
        "\n"
      ],
      "id": "UD9QGtEI06Pa",
      "execution_count": null,
      "outputs": [
        {
          "output_type": "stream",
          "name": "stdout",
          "text": [
            "Enter a number10\n",
            "Sum is  1\n",
            "Sum is  3\n",
            "Sum is  6\n",
            "Sum is  10\n",
            "Sum is  15\n",
            "Sum is  21\n",
            "Sum is  28\n",
            "Sum is  36\n",
            "Sum is  45\n",
            "Sum is  55\n"
          ]
        }
      ]
    },
    {
      "cell_type": "markdown",
      "metadata": {
        "id": "IAF4YhL3xFjV"
      },
      "source": [
        "### Importing Modules\n"
      ],
      "id": "IAF4YhL3xFjV"
    },
    {
      "cell_type": "code",
      "metadata": {
        "id": "zCArTO7exFjW",
        "colab": {
          "base_uri": "https://localhost:8080/"
        },
        "outputId": "982dc681-1ace-49d9-a06a-7febce58136d"
      },
      "source": [
        "import random\n",
        "for i in range(5):\n",
        "    print(random.randint(1, 10))"
      ],
      "id": "zCArTO7exFjW",
      "execution_count": null,
      "outputs": [
        {
          "output_type": "stream",
          "name": "stdout",
          "text": [
            "5\n",
            "10\n",
            "7\n",
            "6\n",
            "1\n"
          ]
        }
      ]
    },
    {
      "cell_type": "markdown",
      "metadata": {
        "id": "WnUxbIYFxFjW"
      },
      "source": [
        "# Functions\n",
        "You’re already familiar with the `print()`, `input()`, and `len()` functions from the previous chapters. Python provides several builtin functions like these, but you can also write your own functions. A function is like a mini-program within a program."
      ],
      "id": "WnUxbIYFxFjW"
    },
    {
      "cell_type": "code",
      "metadata": {
        "id": "HGRss2DqxFjW"
      },
      "source": [
        "def hello():\n",
        "    print('Howdy!')\n",
        "    print('Howdy!!!')\n",
        "    print('Hello there.')"
      ],
      "id": "HGRss2DqxFjW",
      "execution_count": null,
      "outputs": []
    },
    {
      "cell_type": "code",
      "metadata": {
        "id": "dfqeKZALxFjX",
        "colab": {
          "base_uri": "https://localhost:8080/"
        },
        "outputId": "d9f410fb-707c-4abf-bc72-e86bbae6a2f8"
      },
      "source": [
        "hello()"
      ],
      "id": "dfqeKZALxFjX",
      "execution_count": null,
      "outputs": [
        {
          "output_type": "stream",
          "name": "stdout",
          "text": [
            "Howdy!\n",
            "Howdy!!!\n",
            "Hello there.\n"
          ]
        }
      ]
    },
    {
      "cell_type": "markdown",
      "metadata": {
        "id": "uKCbjv02xFjX"
      },
      "source": [
        "The first line is a `def` statement, which defines a function named `hello()`. The code in the block that follows the `def` statement is the body of the function. This code is executed when the function is called, not when the function is first defined."
      ],
      "id": "uKCbjv02xFjX"
    },
    {
      "cell_type": "markdown",
      "metadata": {
        "id": "PSA4tgQFxFjX"
      },
      "source": [
        "#### `def` Statements with Parameters\n",
        "When you call the `print()` or`len()` function, you pass in values, called arguments in this context, by typing them between the parentheses. You can also\n",
        "define your own functions that accept arguments."
      ],
      "id": "PSA4tgQFxFjX"
    },
    {
      "cell_type": "code",
      "metadata": {
        "id": "895pQDy6xFjY"
      },
      "source": [
        "def hello(name):\n",
        "    print('Hello ' + name)"
      ],
      "id": "895pQDy6xFjY",
      "execution_count": null,
      "outputs": []
    },
    {
      "cell_type": "code",
      "metadata": {
        "id": "UsCZxlDWxFjY",
        "colab": {
          "base_uri": "https://localhost:8080/"
        },
        "outputId": "64486485-fedb-4ad5-df2f-59a8777b2727"
      },
      "source": [
        "hello('Mary')"
      ],
      "id": "UsCZxlDWxFjY",
      "execution_count": null,
      "outputs": [
        {
          "output_type": "stream",
          "name": "stdout",
          "text": [
            "Hello Mary\n"
          ]
        }
      ]
    },
    {
      "cell_type": "code",
      "metadata": {
        "id": "f3gqFqyrxFjY"
      },
      "source": [
        "def hi(name):\n",
        "    print('Hello ' + name + ',')\n",
        "    print('What would you want that we do for you?')"
      ],
      "id": "f3gqFqyrxFjY",
      "execution_count": null,
      "outputs": []
    },
    {
      "cell_type": "code",
      "metadata": {
        "id": "oOp__FvqxFjY",
        "colab": {
          "base_uri": "https://localhost:8080/"
        },
        "outputId": "a3454dd8-1bc9-4cc3-e0d8-eb498b24c659"
      },
      "source": [
        "hi('Dooshima')"
      ],
      "id": "oOp__FvqxFjY",
      "execution_count": null,
      "outputs": [
        {
          "output_type": "stream",
          "name": "stdout",
          "text": [
            "Hello Dooshima,\n",
            "What would you want that we do for you?\n"
          ]
        }
      ]
    },
    {
      "cell_type": "markdown",
      "metadata": {
        "id": "NobpjyzFxFjZ"
      },
      "source": [
        "#### The Guess Game"
      ],
      "id": "NobpjyzFxFjZ"
    },
    {
      "cell_type": "code",
      "metadata": {
        "id": "uZvTJ6vRxFjZ",
        "colab": {
          "base_uri": "https://localhost:8080/"
        },
        "outputId": "84543cb8-60fb-4377-e206-c9fe94134ef1"
      },
      "source": [
        "#This is a guess the number game.\n",
        "import random\n",
        "secretNumber = random.randint(1, 20)\n",
        "print('I am thinking of a number between 1 and 20.')\n",
        "\n",
        "# Ask the player to guess 2 times.\n",
        "for guessesTaken in range(1, 3):\n",
        "    print('Take a guess.')\n",
        "    guess = int(input())\n",
        "    \n",
        "    if guess < secretNumber:\n",
        "        print('Your guess is too low.')\n",
        "    elif guess > secretNumber:\n",
        "        print('Your guess is too high.')\n",
        "    else:\n",
        "        break # This condition is the correct guess!\n",
        "    \n",
        "if guess == secretNumber:\n",
        "    print('Good job! You guessed my number in ' + str(guessesTaken) + ' guesses!')\n",
        "else:\n",
        "    print('Nope. The number I was thinking of was ' + str(secretNumber))"
      ],
      "id": "uZvTJ6vRxFjZ",
      "execution_count": null,
      "outputs": [
        {
          "output_type": "stream",
          "name": "stdout",
          "text": [
            "I am thinking of a number between 1 and 20.\n",
            "Take a guess.\n",
            "10\n",
            "Your guess is too high.\n",
            "Take a guess.\n",
            "5\n",
            "Your guess is too high.\n",
            "Nope. The number I was thinking of was 4\n"
          ]
        }
      ]
    },
    {
      "cell_type": "code",
      "metadata": {
        "id": "SeBCuxUxxFjZ"
      },
      "source": [
        ""
      ],
      "id": "SeBCuxUxxFjZ",
      "execution_count": null,
      "outputs": []
    },
    {
      "cell_type": "markdown",
      "metadata": {
        "id": "gA0mw0xaxFjZ"
      },
      "source": [
        "# Lists and Tuples"
      ],
      "id": "gA0mw0xaxFjZ"
    },
    {
      "cell_type": "markdown",
      "metadata": {
        "id": "QL2yz9ZVxFja"
      },
      "source": [
        "One more topic you’ll need to understand before you can begin writing programs in earnest is the list data type and its cousin, the tuple. Lists and tuples can contain multiple values, which makes it easier to write programs that handle large amounts of data. And since lists themselves can contain other lists, you can use them to arrange data into hierarchical structures."
      ],
      "id": "QL2yz9ZVxFja"
    },
    {
      "cell_type": "markdown",
      "metadata": {
        "id": "9NepejgDxFja"
      },
      "source": [
        "#### The List Data Type"
      ],
      "id": "9NepejgDxFja"
    },
    {
      "cell_type": "markdown",
      "metadata": {
        "id": "0G9-O82IxFja"
      },
      "source": [
        "A list is a value that contains multiple values in an ordered sequence."
      ],
      "id": "0G9-O82IxFja"
    },
    {
      "cell_type": "code",
      "metadata": {
        "id": "ljpkF2QfxFja"
      },
      "source": [
        "list_1 = [1, 2, 3]\n",
        "list_2 = ['cat', 'bat', 'rat', 'elephant']\n",
        "list_3 = ['hello', 3.1415, True, None, 42]\n",
        "list_4 = [ ]"
      ],
      "id": "ljpkF2QfxFja",
      "execution_count": null,
      "outputs": []
    },
    {
      "cell_type": "code",
      "metadata": {
        "id": "Fkm4DBVQxFjb",
        "colab": {
          "base_uri": "https://localhost:8080/"
        },
        "outputId": "b536e0e8-c177-4f07-8322-21a019eb6aa5"
      },
      "source": [
        "list_1"
      ],
      "id": "Fkm4DBVQxFjb",
      "execution_count": null,
      "outputs": [
        {
          "output_type": "execute_result",
          "data": {
            "text/plain": [
              "[1, 2, 3]"
            ]
          },
          "metadata": {},
          "execution_count": 2
        }
      ]
    },
    {
      "cell_type": "code",
      "metadata": {
        "id": "-G_e0V_nxFjb",
        "colab": {
          "base_uri": "https://localhost:8080/"
        },
        "outputId": "3d41ad4a-95ee-46c7-c5c3-b0e1e37ae53f"
      },
      "source": [
        "print (list_3)"
      ],
      "id": "-G_e0V_nxFjb",
      "execution_count": null,
      "outputs": [
        {
          "output_type": "stream",
          "name": "stdout",
          "text": [
            "['hello', 3.1415, True, None, 42]\n"
          ]
        }
      ]
    },
    {
      "cell_type": "markdown",
      "metadata": {
        "id": "yxjYMdiyxFjb"
      },
      "source": [
        "#### Getting Individual Values in a List with Indexes"
      ],
      "id": "yxjYMdiyxFjb"
    },
    {
      "cell_type": "code",
      "metadata": {
        "id": "jXzvJhfFxFjb",
        "colab": {
          "base_uri": "https://localhost:8080/"
        },
        "outputId": "ce00ea7c-f059-45fe-9f33-00d6e29f0366"
      },
      "source": [
        "list_2"
      ],
      "id": "jXzvJhfFxFjb",
      "execution_count": null,
      "outputs": [
        {
          "output_type": "execute_result",
          "data": {
            "text/plain": [
              "['cat', 'bat', 'rat', 'elephant']"
            ]
          },
          "metadata": {},
          "execution_count": 6
        }
      ]
    },
    {
      "cell_type": "code",
      "metadata": {
        "id": "nDRfLrGWxFjc",
        "colab": {
          "base_uri": "https://localhost:8080/",
          "height": 35
        },
        "outputId": "3123d754-856b-4b73-832b-1bfcf741573c"
      },
      "source": [
        "list_2[0]"
      ],
      "id": "nDRfLrGWxFjc",
      "execution_count": null,
      "outputs": [
        {
          "output_type": "execute_result",
          "data": {
            "application/vnd.google.colaboratory.intrinsic+json": {
              "type": "string"
            },
            "text/plain": [
              "'cat'"
            ]
          },
          "metadata": {},
          "execution_count": 7
        }
      ]
    },
    {
      "cell_type": "code",
      "metadata": {
        "id": "9FE8BIUNxFjc",
        "colab": {
          "base_uri": "https://localhost:8080/",
          "height": 35
        },
        "outputId": "fb6768ed-7974-4bbe-ff27-4b580ae1a011"
      },
      "source": [
        "list_2[1]"
      ],
      "id": "9FE8BIUNxFjc",
      "execution_count": null,
      "outputs": [
        {
          "output_type": "execute_result",
          "data": {
            "application/vnd.google.colaboratory.intrinsic+json": {
              "type": "string"
            },
            "text/plain": [
              "'bat'"
            ]
          },
          "metadata": {},
          "execution_count": 8
        }
      ]
    },
    {
      "cell_type": "code",
      "metadata": {
        "id": "3bo0kkTrxFjc",
        "colab": {
          "base_uri": "https://localhost:8080/",
          "height": 166
        },
        "outputId": "2e5ea8e3-2a8d-4657-c5d4-2441efec0599"
      },
      "source": [
        "list_2[1.0] #index can only be integers"
      ],
      "id": "3bo0kkTrxFjc",
      "execution_count": null,
      "outputs": [
        {
          "output_type": "error",
          "ename": "TypeError",
          "evalue": "ignored",
          "traceback": [
            "\u001b[0;31m---------------------------------------------------------------------------\u001b[0m",
            "\u001b[0;31mTypeError\u001b[0m                                 Traceback (most recent call last)",
            "\u001b[0;32m<ipython-input-9-dd4773f89ea1>\u001b[0m in \u001b[0;36m<module>\u001b[0;34m()\u001b[0m\n\u001b[0;32m----> 1\u001b[0;31m \u001b[0mlist_2\u001b[0m\u001b[0;34m[\u001b[0m\u001b[0;36m1.0\u001b[0m\u001b[0;34m]\u001b[0m \u001b[0;31m#index can only be integers\u001b[0m\u001b[0;34m\u001b[0m\u001b[0;34m\u001b[0m\u001b[0m\n\u001b[0m",
            "\u001b[0;31mTypeError\u001b[0m: list indices must be integers or slices, not float"
          ]
        }
      ]
    },
    {
      "cell_type": "code",
      "metadata": {
        "id": "JlBVfgKMxFjc",
        "colab": {
          "base_uri": "https://localhost:8080/",
          "height": 35
        },
        "outputId": "33c24f37-ced0-497a-98e6-4236f26ef8c2"
      },
      "source": [
        "list_2[(int(1.0))]"
      ],
      "id": "JlBVfgKMxFjc",
      "execution_count": null,
      "outputs": [
        {
          "output_type": "execute_result",
          "data": {
            "application/vnd.google.colaboratory.intrinsic+json": {
              "type": "string"
            },
            "text/plain": [
              "'bat'"
            ]
          },
          "metadata": {},
          "execution_count": 10
        }
      ]
    },
    {
      "cell_type": "code",
      "metadata": {
        "id": "v2F2GhMIxFjd",
        "colab": {
          "base_uri": "https://localhost:8080/",
          "height": 35
        },
        "outputId": "9dc9e485-3b28-402e-d4bc-abe384622e58"
      },
      "source": [
        "list_2[3]"
      ],
      "id": "v2F2GhMIxFjd",
      "execution_count": null,
      "outputs": [
        {
          "output_type": "execute_result",
          "data": {
            "application/vnd.google.colaboratory.intrinsic+json": {
              "type": "string"
            },
            "text/plain": [
              "'elephant'"
            ]
          },
          "metadata": {},
          "execution_count": 12
        }
      ]
    },
    {
      "cell_type": "code",
      "metadata": {
        "id": "ncyvVSRPxFjd",
        "colab": {
          "base_uri": "https://localhost:8080/"
        },
        "outputId": "c9e17579-96ed-485e-9c2f-60ac928e1979"
      },
      "source": [
        "type (list_2[3])"
      ],
      "id": "ncyvVSRPxFjd",
      "execution_count": null,
      "outputs": [
        {
          "output_type": "execute_result",
          "data": {
            "text/plain": [
              "str"
            ]
          },
          "metadata": {},
          "execution_count": 14
        }
      ]
    },
    {
      "cell_type": "code",
      "metadata": {
        "id": "jh6Ct3k_xFje",
        "colab": {
          "base_uri": "https://localhost:8080/",
          "height": 35
        },
        "outputId": "dc0ee46b-0034-4b18-e244-f0098fb3a46f"
      },
      "source": [
        "'Hello ' + list_2[2]"
      ],
      "id": "jh6Ct3k_xFje",
      "execution_count": null,
      "outputs": [
        {
          "output_type": "execute_result",
          "data": {
            "application/vnd.google.colaboratory.intrinsic+json": {
              "type": "string"
            },
            "text/plain": [
              "'Hello rat'"
            ]
          },
          "metadata": {},
          "execution_count": 15
        }
      ]
    },
    {
      "cell_type": "code",
      "metadata": {
        "id": "gOw6FYVoxFje",
        "colab": {
          "base_uri": "https://localhost:8080/",
          "height": 35
        },
        "outputId": "ea76d241-5c56-485a-d427-edf1cc8fd4b6"
      },
      "source": [
        "'The ' + list_2[1] + ' ate the ' + list_2[0] + '.'"
      ],
      "id": "gOw6FYVoxFje",
      "execution_count": null,
      "outputs": [
        {
          "output_type": "execute_result",
          "data": {
            "application/vnd.google.colaboratory.intrinsic+json": {
              "type": "string"
            },
            "text/plain": [
              "'The bat ate the cat.'"
            ]
          },
          "metadata": {},
          "execution_count": 16
        }
      ]
    },
    {
      "cell_type": "markdown",
      "metadata": {
        "id": "aoWXd4QyxFje"
      },
      "source": [
        "Lists can also contain other list values. The values in these lists of lists\n",
        "can be accessed using multiple indexes, like so:"
      ],
      "id": "aoWXd4QyxFje"
    },
    {
      "cell_type": "code",
      "metadata": {
        "id": "jGRct3PvxFje"
      },
      "source": [
        "apple = [['cat', 'bat'], [10, 20, 30, 40, 50]]"
      ],
      "id": "jGRct3PvxFje",
      "execution_count": null,
      "outputs": []
    },
    {
      "cell_type": "code",
      "metadata": {
        "id": "w2Curi44xFje",
        "colab": {
          "base_uri": "https://localhost:8080/"
        },
        "outputId": "7b83f655-b847-4ca0-89bf-ae740d0582d8"
      },
      "source": [
        "apple[1]"
      ],
      "id": "w2Curi44xFje",
      "execution_count": null,
      "outputs": [
        {
          "output_type": "execute_result",
          "data": {
            "text/plain": [
              "[10, 20, 30, 40, 50]"
            ]
          },
          "metadata": {},
          "execution_count": 22
        }
      ]
    },
    {
      "cell_type": "code",
      "metadata": {
        "colab": {
          "base_uri": "https://localhost:8080/"
        },
        "id": "P4FlPVYiGLPM",
        "outputId": "5ad35bf9-dd14-44f4-e6e0-5373ac3a6d21"
      },
      "source": [
        "len (apple[1])"
      ],
      "id": "P4FlPVYiGLPM",
      "execution_count": null,
      "outputs": [
        {
          "output_type": "execute_result",
          "data": {
            "text/plain": [
              "5"
            ]
          },
          "metadata": {},
          "execution_count": 35
        }
      ]
    },
    {
      "cell_type": "markdown",
      "metadata": {
        "id": "DcR5BlL_xFjg"
      },
      "source": [
        "The first index dictates which list value to use, and the second indicates the value within the list value."
      ],
      "id": "DcR5BlL_xFjg"
    },
    {
      "cell_type": "code",
      "metadata": {
        "id": "NGhvJkAaxFjg",
        "outputId": "4e233c6f-8133-4dda-9c32-1822b90f21c8"
      },
      "source": [
        "apple[0][1]"
      ],
      "id": "NGhvJkAaxFjg",
      "execution_count": null,
      "outputs": [
        {
          "data": {
            "text/plain": [
              "'bat'"
            ]
          },
          "execution_count": 3,
          "metadata": {},
          "output_type": "execute_result"
        }
      ]
    },
    {
      "cell_type": "code",
      "metadata": {
        "id": "CcPGzMYDxFjg",
        "outputId": "ac2d1329-3317-45f3-d7d5-9906f31c7313"
      },
      "source": [
        "apple[1][4]"
      ],
      "id": "CcPGzMYDxFjg",
      "execution_count": null,
      "outputs": [
        {
          "data": {
            "text/plain": [
              "50"
            ]
          },
          "execution_count": 4,
          "metadata": {},
          "output_type": "execute_result"
        }
      ]
    },
    {
      "cell_type": "code",
      "metadata": {
        "id": "eeYA1RkLxFjg",
        "colab": {
          "base_uri": "https://localhost:8080/"
        },
        "outputId": "eef7f752-fcfa-4f98-9969-09727f72aeea"
      },
      "source": [
        "#print 30\n",
        "apple [1][2]"
      ],
      "id": "eeYA1RkLxFjg",
      "execution_count": null,
      "outputs": [
        {
          "output_type": "execute_result",
          "data": {
            "text/plain": [
              "30"
            ]
          },
          "metadata": {},
          "execution_count": 23
        }
      ]
    },
    {
      "cell_type": "markdown",
      "metadata": {
        "id": "H3GLwz-kxFjg"
      },
      "source": [
        "#### Negative Indices"
      ],
      "id": "H3GLwz-kxFjg"
    },
    {
      "cell_type": "markdown",
      "metadata": {
        "id": "YqT86RJexFjg"
      },
      "source": [
        "While indexes start at 0 and go up, you can also use negative integers for the index. The integer value -1 refers to the last index in a list, the value -2 refers to the second-to-last index in a list, and so on."
      ],
      "id": "YqT86RJexFjg"
    },
    {
      "cell_type": "code",
      "metadata": {
        "id": "3b9uw6LexFjh"
      },
      "source": [
        "apple = ['cat', 'bat', 'rat', 'elephant']"
      ],
      "id": "3b9uw6LexFjh",
      "execution_count": null,
      "outputs": []
    },
    {
      "cell_type": "code",
      "metadata": {
        "id": "0t-g8V6AxFjh",
        "colab": {
          "base_uri": "https://localhost:8080/",
          "height": 35
        },
        "outputId": "d0ebbb3e-e9bb-4587-e731-0cea83961c19"
      },
      "source": [
        "apple[-1]"
      ],
      "id": "0t-g8V6AxFjh",
      "execution_count": null,
      "outputs": [
        {
          "output_type": "execute_result",
          "data": {
            "application/vnd.google.colaboratory.intrinsic+json": {
              "type": "string"
            },
            "text/plain": [
              "'rat'"
            ]
          },
          "metadata": {},
          "execution_count": 27
        }
      ]
    },
    {
      "cell_type": "code",
      "metadata": {
        "id": "Hx226zQXxFjh",
        "outputId": "f7c7dfcb-d766-4226-b789-40318cfb53ae"
      },
      "source": [
        "apple[3]"
      ],
      "id": "Hx226zQXxFjh",
      "execution_count": null,
      "outputs": [
        {
          "data": {
            "text/plain": [
              "'elephant'"
            ]
          },
          "execution_count": 7,
          "metadata": {},
          "output_type": "execute_result"
        }
      ]
    },
    {
      "cell_type": "code",
      "metadata": {
        "id": "AH_WVIArxFjh",
        "outputId": "a56f97a6-16b9-46f8-ac43-98f09f0b685b"
      },
      "source": [
        "apple[-2]"
      ],
      "id": "AH_WVIArxFjh",
      "execution_count": null,
      "outputs": [
        {
          "data": {
            "text/plain": [
              "'rat'"
            ]
          },
          "execution_count": 8,
          "metadata": {},
          "output_type": "execute_result"
        }
      ]
    },
    {
      "cell_type": "code",
      "metadata": {
        "id": "fmJeMzVDxFjh",
        "outputId": "b5b8312a-c805-4270-dc39-2cb107432b76"
      },
      "source": [
        "apple[-3]"
      ],
      "id": "fmJeMzVDxFjh",
      "execution_count": null,
      "outputs": [
        {
          "data": {
            "text/plain": [
              "'bat'"
            ]
          },
          "execution_count": 9,
          "metadata": {},
          "output_type": "execute_result"
        }
      ]
    },
    {
      "cell_type": "code",
      "metadata": {
        "id": "y9UCQx1AxFji"
      },
      "source": [
        "'The ' + apple[-1] + ' is afraid of the ' + apple[2]"
      ],
      "id": "y9UCQx1AxFji",
      "execution_count": null,
      "outputs": []
    },
    {
      "cell_type": "code",
      "metadata": {
        "id": "7OBtwvXGxFji"
      },
      "source": [
        ""
      ],
      "id": "7OBtwvXGxFji",
      "execution_count": null,
      "outputs": []
    },
    {
      "cell_type": "markdown",
      "metadata": {
        "id": "4bGO1WDnxFji"
      },
      "source": [
        "#### Getting Sublists with Slices"
      ],
      "id": "4bGO1WDnxFji"
    },
    {
      "cell_type": "markdown",
      "metadata": {
        "id": "laW7hyqVxFji"
      },
      "source": [
        "Just as an index can get a single value from a list, a slice can get several values from a list, in the form of a new list. A slice is typed between square brackets, like an index, but it has two integers separated by a colon. Notice the difference between indexes and slices.\n",
        "\n",
        "* apple[2] is a list with an index (one integer).\n",
        "* apple[1:4] is a list with a slice (two integers).\n",
        "\n",
        "In a slice, the first integer is the index where the slice starts. The second integer is the index where the slice ends. A slice goes up to, but will not include, the value at the second index. A slice evaluates to a new list value. See below:"
      ],
      "id": "laW7hyqVxFji"
    },
    {
      "cell_type": "code",
      "metadata": {
        "id": "_2OeLSPzxFji",
        "outputId": "b09b2fa4-b85d-4546-ab65-aa5dc4c1b8fb"
      },
      "source": [
        "apple"
      ],
      "id": "_2OeLSPzxFji",
      "execution_count": null,
      "outputs": [
        {
          "data": {
            "text/plain": [
              "['cat', 'bat', 'rat', 'elephant']"
            ]
          },
          "execution_count": 10,
          "metadata": {},
          "output_type": "execute_result"
        }
      ]
    },
    {
      "cell_type": "code",
      "metadata": {
        "id": "DqaUvHQYxFjj",
        "outputId": "16679634-adaa-493a-c0d0-9feeb45b22fd"
      },
      "source": [
        "apple[0:4]"
      ],
      "id": "DqaUvHQYxFjj",
      "execution_count": null,
      "outputs": [
        {
          "data": {
            "text/plain": [
              "['cat', 'bat', 'rat', 'elephant']"
            ]
          },
          "execution_count": 11,
          "metadata": {},
          "output_type": "execute_result"
        }
      ]
    },
    {
      "cell_type": "code",
      "metadata": {
        "id": "d-zAxCgtxFjj",
        "outputId": "11ddb87c-e5e7-4652-8503-8718c637fd95"
      },
      "source": [
        "apple[0:3]"
      ],
      "id": "d-zAxCgtxFjj",
      "execution_count": null,
      "outputs": [
        {
          "data": {
            "text/plain": [
              "['cat', 'bat', 'rat']"
            ]
          },
          "execution_count": 12,
          "metadata": {},
          "output_type": "execute_result"
        }
      ]
    },
    {
      "cell_type": "code",
      "metadata": {
        "id": "KC-udCGVxFjk",
        "outputId": "c040061b-a669-4d33-9c9e-2decc31d4ebc"
      },
      "source": [
        "apple[1:3]"
      ],
      "id": "KC-udCGVxFjk",
      "execution_count": null,
      "outputs": [
        {
          "data": {
            "text/plain": [
              "['bat', 'rat']"
            ]
          },
          "execution_count": 13,
          "metadata": {},
          "output_type": "execute_result"
        }
      ]
    },
    {
      "cell_type": "code",
      "metadata": {
        "id": "B0RW9-BbxFjk",
        "colab": {
          "base_uri": "https://localhost:8080/"
        },
        "outputId": "6dadca07-709e-4e33-8aa2-8f03624f78a6"
      },
      "source": [
        "apple[0:-2]"
      ],
      "id": "B0RW9-BbxFjk",
      "execution_count": null,
      "outputs": [
        {
          "output_type": "execute_result",
          "data": {
            "text/plain": [
              "['cat', 'bat']"
            ]
          },
          "metadata": {},
          "execution_count": 29
        }
      ]
    },
    {
      "cell_type": "code",
      "metadata": {
        "id": "0qbL0fVRxFjk",
        "outputId": "90390dad-d03e-4d10-d901-3cc7cf19ba71"
      },
      "source": [
        "apple[-1]"
      ],
      "id": "0qbL0fVRxFjk",
      "execution_count": null,
      "outputs": [
        {
          "data": {
            "text/plain": [
              "'elephant'"
            ]
          },
          "execution_count": 15,
          "metadata": {},
          "output_type": "execute_result"
        }
      ]
    },
    {
      "cell_type": "markdown",
      "metadata": {
        "id": "3epTjecAxFjk"
      },
      "source": [
        "As a shortcut, you can leave out one or both of the indexes on either side of the colon in the slice. Leaving out the first index is the same as using 0, or the beginning of the list. Leaving out the second index is the same as using the length of the list, which will slice to the end of the list. "
      ],
      "id": "3epTjecAxFjk"
    },
    {
      "cell_type": "code",
      "metadata": {
        "id": "p_D0PBX7xFjk",
        "outputId": "95e0a3bc-c4e3-418d-e458-a82ef804c84d"
      },
      "source": [
        "apple[:2]"
      ],
      "id": "p_D0PBX7xFjk",
      "execution_count": null,
      "outputs": [
        {
          "data": {
            "text/plain": [
              "['cat', 'bat']"
            ]
          },
          "execution_count": 16,
          "metadata": {},
          "output_type": "execute_result"
        }
      ]
    },
    {
      "cell_type": "code",
      "metadata": {
        "id": "_Fe5vJYHxFjl",
        "outputId": "0005ead8-2a93-41f7-d5a0-b7c802e278bb"
      },
      "source": [
        "apple[1:]"
      ],
      "id": "_Fe5vJYHxFjl",
      "execution_count": null,
      "outputs": [
        {
          "data": {
            "text/plain": [
              "['bat', 'rat', 'elephant']"
            ]
          },
          "execution_count": 17,
          "metadata": {},
          "output_type": "execute_result"
        }
      ]
    },
    {
      "cell_type": "code",
      "metadata": {
        "id": "Ynf8-eNIxFjl",
        "outputId": "d17a6bea-9135-43e3-964c-90ca1b4c4506"
      },
      "source": [
        "apple[:]"
      ],
      "id": "Ynf8-eNIxFjl",
      "execution_count": null,
      "outputs": [
        {
          "data": {
            "text/plain": [
              "['cat', 'bat', 'rat', 'elephant']"
            ]
          },
          "execution_count": 18,
          "metadata": {},
          "output_type": "execute_result"
        }
      ]
    },
    {
      "cell_type": "code",
      "metadata": {
        "id": "7okpm8YXxFjl"
      },
      "source": [
        ""
      ],
      "id": "7okpm8YXxFjl",
      "execution_count": null,
      "outputs": []
    },
    {
      "cell_type": "markdown",
      "metadata": {
        "id": "rRaU-MuexFjl"
      },
      "source": [
        "#### Getting a List’s Length with len()"
      ],
      "id": "rRaU-MuexFjl"
    },
    {
      "cell_type": "code",
      "metadata": {
        "id": "8u1Q6TewxFjl",
        "colab": {
          "base_uri": "https://localhost:8080/"
        },
        "outputId": "d0639b3e-15d1-468e-fc3a-96113441034b"
      },
      "source": [
        "apple"
      ],
      "id": "8u1Q6TewxFjl",
      "execution_count": null,
      "outputs": [
        {
          "output_type": "execute_result",
          "data": {
            "text/plain": [
              "['cat', 'bat', 'rat', 'elephant']"
            ]
          },
          "metadata": {},
          "execution_count": 30
        }
      ]
    },
    {
      "cell_type": "code",
      "metadata": {
        "id": "MXBhIeDsxFjm",
        "colab": {
          "base_uri": "https://localhost:8080/"
        },
        "outputId": "d206f9e7-a2c3-4a35-af5e-485b89bba794"
      },
      "source": [
        "len(apple)"
      ],
      "id": "MXBhIeDsxFjm",
      "execution_count": null,
      "outputs": [
        {
          "output_type": "execute_result",
          "data": {
            "text/plain": [
              "4"
            ]
          },
          "metadata": {},
          "execution_count": 31
        }
      ]
    },
    {
      "cell_type": "markdown",
      "metadata": {
        "id": "b3RSVIDWxFjm"
      },
      "source": [
        ""
      ],
      "id": "b3RSVIDWxFjm"
    },
    {
      "cell_type": "markdown",
      "metadata": {
        "id": "9QcXTNpBxFjm"
      },
      "source": [
        "#### Changing Values in a List with Indexes"
      ],
      "id": "9QcXTNpBxFjm"
    },
    {
      "cell_type": "code",
      "metadata": {
        "id": "Xsx7zo4ixFjm",
        "colab": {
          "base_uri": "https://localhost:8080/"
        },
        "outputId": "390bc2e8-33d0-44cd-f556-1321ae594ca5"
      },
      "source": [
        "apple = ['cat', 'bat', 'rat', 'elephant']\n",
        "apple"
      ],
      "id": "Xsx7zo4ixFjm",
      "execution_count": null,
      "outputs": [
        {
          "output_type": "execute_result",
          "data": {
            "text/plain": [
              "['cat', 'bat', 'rat', 'elephant']"
            ]
          },
          "metadata": {},
          "execution_count": 45
        }
      ]
    },
    {
      "cell_type": "code",
      "metadata": {
        "colab": {
          "base_uri": "https://localhost:8080/",
          "height": 35
        },
        "id": "VCs5KCeYHMsF",
        "outputId": "8acdc7e6-ee9b-4e7a-e130-fe24554a9833"
      },
      "source": [
        "apple[1]"
      ],
      "id": "VCs5KCeYHMsF",
      "execution_count": null,
      "outputs": [
        {
          "output_type": "execute_result",
          "data": {
            "application/vnd.google.colaboratory.intrinsic+json": {
              "type": "string"
            },
            "text/plain": [
              "'bat'"
            ]
          },
          "metadata": {},
          "execution_count": 39
        }
      ]
    },
    {
      "cell_type": "code",
      "metadata": {
        "id": "CASHhYHcxFjn"
      },
      "source": [
        "apple[1] = 'dog'"
      ],
      "id": "CASHhYHcxFjn",
      "execution_count": null,
      "outputs": []
    },
    {
      "cell_type": "code",
      "metadata": {
        "id": "J92N5LPNxFjn",
        "colab": {
          "base_uri": "https://localhost:8080/"
        },
        "outputId": "7b377d70-1104-407a-8aae-0b3436cb8ddf"
      },
      "source": [
        "apple"
      ],
      "id": "J92N5LPNxFjn",
      "execution_count": null,
      "outputs": [
        {
          "output_type": "execute_result",
          "data": {
            "text/plain": [
              "['cat', 'dog', 'rat', 'elephant']"
            ]
          },
          "metadata": {},
          "execution_count": 41
        }
      ]
    },
    {
      "cell_type": "code",
      "metadata": {
        "colab": {
          "base_uri": "https://localhost:8080/",
          "height": 35
        },
        "id": "dH1JJhidHgK_",
        "outputId": "9b874d87-1e94-4458-a27b-c1c63d6d1db6"
      },
      "source": [
        "apple[-1]"
      ],
      "id": "dH1JJhidHgK_",
      "execution_count": null,
      "outputs": [
        {
          "output_type": "execute_result",
          "data": {
            "application/vnd.google.colaboratory.intrinsic+json": {
              "type": "string"
            },
            "text/plain": [
              "'cat'"
            ]
          },
          "metadata": {},
          "execution_count": 48
        }
      ]
    },
    {
      "cell_type": "code",
      "metadata": {
        "id": "xXMv1mKVxFjn"
      },
      "source": [
        "apple[-1] = 'lion'"
      ],
      "id": "xXMv1mKVxFjn",
      "execution_count": null,
      "outputs": []
    },
    {
      "cell_type": "code",
      "metadata": {
        "id": "HgcP3Ta7xFjn",
        "colab": {
          "base_uri": "https://localhost:8080/"
        },
        "outputId": "95968b61-c2ce-46f0-d811-304280da51f9"
      },
      "source": [
        "apple"
      ],
      "id": "HgcP3Ta7xFjn",
      "execution_count": null,
      "outputs": [
        {
          "output_type": "execute_result",
          "data": {
            "text/plain": [
              "['cat', 'bat', 'rat', 'lion']"
            ]
          },
          "metadata": {},
          "execution_count": 50
        }
      ]
    },
    {
      "cell_type": "markdown",
      "metadata": {
        "id": "Nsjr91IwxFjn"
      },
      "source": [
        ""
      ],
      "id": "Nsjr91IwxFjn"
    },
    {
      "cell_type": "markdown",
      "metadata": {
        "id": "0WSYTH6FxFjn"
      },
      "source": [
        "#### Lists Concatenation and Replication\n",
        "\n",
        "The + operator can combine two lists to create a new list value in the same way it combines two strings into a new string value. The * operator can also be used with a list and an integer value to replicate the list."
      ],
      "id": "0WSYTH6FxFjn"
    },
    {
      "cell_type": "code",
      "metadata": {
        "id": "ncBAsdfDxFjo",
        "colab": {
          "base_uri": "https://localhost:8080/"
        },
        "outputId": "c2d8f852-c261-40ff-dc27-746405dcf7b9"
      },
      "source": [
        "apple_1 = [1,2,3,4]\n",
        "apple_1"
      ],
      "id": "ncBAsdfDxFjo",
      "execution_count": null,
      "outputs": [
        {
          "output_type": "execute_result",
          "data": {
            "text/plain": [
              "[1, 2, 3, 4]"
            ]
          },
          "metadata": {},
          "execution_count": 51
        }
      ]
    },
    {
      "cell_type": "code",
      "metadata": {
        "id": "C8L1MoxExFjo",
        "colab": {
          "base_uri": "https://localhost:8080/"
        },
        "outputId": "c134dc32-e05c-47bb-8633-55c8e78896ab"
      },
      "source": [
        "apple_2 = ['PreciousSam', 'UncleHoro', 'Thecla']\n",
        "apple_2"
      ],
      "id": "C8L1MoxExFjo",
      "execution_count": null,
      "outputs": [
        {
          "output_type": "execute_result",
          "data": {
            "text/plain": [
              "['PreciousSam', 'UncleHoro', 'Thecla']"
            ]
          },
          "metadata": {},
          "execution_count": 52
        }
      ]
    },
    {
      "cell_type": "code",
      "metadata": {
        "id": "K2FUghAvxFjo",
        "colab": {
          "base_uri": "https://localhost:8080/"
        },
        "outputId": "a6cd5e93-9038-47c5-f569-a2eca13c2172"
      },
      "source": [
        "apple_1 + apple_2"
      ],
      "id": "K2FUghAvxFjo",
      "execution_count": null,
      "outputs": [
        {
          "output_type": "execute_result",
          "data": {
            "text/plain": [
              "[1, 2, 3, 4, 'PreciousSam', 'UncleHoro', 'Thecla']"
            ]
          },
          "metadata": {},
          "execution_count": 53
        }
      ]
    },
    {
      "cell_type": "code",
      "metadata": {
        "id": "muxpYurOxFjo",
        "colab": {
          "base_uri": "https://localhost:8080/"
        },
        "outputId": "7f3b73af-7859-493a-f845-c5f9d089c866"
      },
      "source": [
        "apple_2 * 3"
      ],
      "id": "muxpYurOxFjo",
      "execution_count": null,
      "outputs": [
        {
          "output_type": "execute_result",
          "data": {
            "text/plain": [
              "['PreciousSam',\n",
              " 'UncleHoro',\n",
              " 'Thecla',\n",
              " 'PreciousSam',\n",
              " 'UncleHoro',\n",
              " 'Thecla',\n",
              " 'PreciousSam',\n",
              " 'UncleHoro',\n",
              " 'Thecla']"
            ]
          },
          "metadata": {},
          "execution_count": 55
        }
      ]
    },
    {
      "cell_type": "code",
      "metadata": {
        "id": "c6LTAnF9xFjo",
        "outputId": "93d56944-704b-4ef3-a0bd-31014c3eca3b"
      },
      "source": [
        "apple_2[0] * 2"
      ],
      "id": "c6LTAnF9xFjo",
      "execution_count": null,
      "outputs": [
        {
          "data": {
            "text/plain": [
              "'PreciousSamPreciousSam'"
            ]
          },
          "execution_count": 30,
          "metadata": {},
          "output_type": "execute_result"
        }
      ]
    },
    {
      "cell_type": "code",
      "metadata": {
        "id": "h8-JPsC5xFjp",
        "outputId": "412e7472-13ed-4c00-af8a-7e851848b8a8"
      },
      "source": [
        "['x', 'Y', 'Z'] * 3"
      ],
      "id": "h8-JPsC5xFjp",
      "execution_count": null,
      "outputs": [
        {
          "data": {
            "text/plain": [
              "['x', 'Y', 'Z', 'x', 'Y', 'Z', 'x', 'Y', 'Z']"
            ]
          },
          "execution_count": 31,
          "metadata": {},
          "output_type": "execute_result"
        }
      ]
    },
    {
      "cell_type": "code",
      "metadata": {
        "id": "TPigHhBRxFjp",
        "outputId": "1c31d9e9-2518-4ff1-d05b-8ea0e86b0f47"
      },
      "source": [
        "[1,2,3] + ['X', 'Y', 'Z']"
      ],
      "id": "TPigHhBRxFjp",
      "execution_count": null,
      "outputs": [
        {
          "data": {
            "text/plain": [
              "[1, 2, 3, 'X', 'Y', 'Z']"
            ]
          },
          "execution_count": 32,
          "metadata": {},
          "output_type": "execute_result"
        }
      ]
    },
    {
      "cell_type": "markdown",
      "metadata": {
        "id": "qLey6lBTxFjp"
      },
      "source": [
        ""
      ],
      "id": "qLey6lBTxFjp"
    },
    {
      "cell_type": "markdown",
      "metadata": {
        "id": "5KMYYwn1xFjp"
      },
      "source": [
        "#### The in and not in Operators"
      ],
      "id": "5KMYYwn1xFjp"
    },
    {
      "cell_type": "code",
      "metadata": {
        "id": "vfhLGHXMxFjp",
        "outputId": "e162871e-281f-4d0d-cc18-67bb8db17c7a"
      },
      "source": [
        "'howdy' in ['hello', 'hi', 'howdy', 'heyas'] #does the element (subset) exist in the list (set)"
      ],
      "id": "vfhLGHXMxFjp",
      "execution_count": null,
      "outputs": [
        {
          "data": {
            "text/plain": [
              "True"
            ]
          },
          "execution_count": 35,
          "metadata": {},
          "output_type": "execute_result"
        }
      ]
    },
    {
      "cell_type": "code",
      "metadata": {
        "id": "jiaBUG4TxFjp"
      },
      "source": [
        "apple = ['hello', 'hi', 'howdy', 'heyas']"
      ],
      "id": "jiaBUG4TxFjp",
      "execution_count": null,
      "outputs": []
    },
    {
      "cell_type": "code",
      "metadata": {
        "id": "S5_SqEanxFjp",
        "colab": {
          "base_uri": "https://localhost:8080/"
        },
        "outputId": "b3b5a12a-bffd-4b08-9e5c-64730e9e2282"
      },
      "source": [
        "'cat' in apple"
      ],
      "id": "S5_SqEanxFjp",
      "execution_count": null,
      "outputs": [
        {
          "output_type": "execute_result",
          "data": {
            "text/plain": [
              "False"
            ]
          },
          "metadata": {},
          "execution_count": 57
        }
      ]
    },
    {
      "cell_type": "code",
      "metadata": {
        "id": "QSiEXem7xFjq",
        "outputId": "1adb4598-3d09-445c-86f2-b135a2488db7"
      },
      "source": [
        "'howdy' not in apple"
      ],
      "id": "QSiEXem7xFjq",
      "execution_count": null,
      "outputs": [
        {
          "data": {
            "text/plain": [
              "False"
            ]
          },
          "execution_count": 38,
          "metadata": {},
          "output_type": "execute_result"
        }
      ]
    },
    {
      "cell_type": "markdown",
      "metadata": {
        "id": "pEQjupokxFjq"
      },
      "source": [
        ""
      ],
      "id": "pEQjupokxFjq"
    },
    {
      "cell_type": "markdown",
      "metadata": {
        "id": "iSXqLnsFxFjq"
      },
      "source": [
        "#### The Multiple Assignment Trick"
      ],
      "id": "iSXqLnsFxFjq"
    },
    {
      "cell_type": "markdown",
      "metadata": {
        "id": "8ERGko3hxFjq"
      },
      "source": [
        "The multiple assignment trick is a shortcut that lets you assign multiple variables with the values in a list in one line of code. So instead of doing this:"
      ],
      "id": "8ERGko3hxFjq"
    },
    {
      "cell_type": "code",
      "metadata": {
        "id": "M5Zp-O8yxFjq",
        "colab": {
          "base_uri": "https://localhost:8080/"
        },
        "outputId": "450728d1-16d1-4f00-ebde-a0d5ce278c86"
      },
      "source": [
        "apple = ['fat', 'black', 'loud']\n",
        "apple"
      ],
      "id": "M5Zp-O8yxFjq",
      "execution_count": null,
      "outputs": [
        {
          "output_type": "execute_result",
          "data": {
            "text/plain": [
              "['fat', 'black', 'loud']"
            ]
          },
          "metadata": {},
          "execution_count": 58
        }
      ]
    },
    {
      "cell_type": "code",
      "metadata": {
        "id": "IuU2Kv_1xFjr"
      },
      "source": [
        "size = apple[0]\n",
        "color = apple[1]\n",
        "disposition = apple[2]"
      ],
      "id": "IuU2Kv_1xFjr",
      "execution_count": null,
      "outputs": []
    },
    {
      "cell_type": "code",
      "metadata": {
        "id": "e7HjCUp9xFjr",
        "colab": {
          "base_uri": "https://localhost:8080/",
          "height": 35
        },
        "outputId": "978917ea-59cf-4af0-95ed-23ca94785c83"
      },
      "source": [
        "size"
      ],
      "id": "e7HjCUp9xFjr",
      "execution_count": null,
      "outputs": [
        {
          "output_type": "execute_result",
          "data": {
            "application/vnd.google.colaboratory.intrinsic+json": {
              "type": "string"
            },
            "text/plain": [
              "'fat'"
            ]
          },
          "metadata": {},
          "execution_count": 60
        }
      ]
    },
    {
      "cell_type": "code",
      "metadata": {
        "id": "tiXdER40xFjr",
        "outputId": "9e3456e0-a09f-48d0-e8b3-029780e55028"
      },
      "source": [
        "disposition"
      ],
      "id": "tiXdER40xFjr",
      "execution_count": null,
      "outputs": [
        {
          "data": {
            "text/plain": [
              "'loud'"
            ]
          },
          "execution_count": 42,
          "metadata": {},
          "output_type": "execute_result"
        }
      ]
    },
    {
      "cell_type": "code",
      "metadata": {
        "id": "UYRpoo6RxFjr",
        "outputId": "542978dd-1d23-44a0-fa39-1a8f7b6fe3d2"
      },
      "source": [
        "color"
      ],
      "id": "UYRpoo6RxFjr",
      "execution_count": null,
      "outputs": [
        {
          "data": {
            "text/plain": [
              "'black'"
            ]
          },
          "execution_count": 43,
          "metadata": {},
          "output_type": "execute_result"
        }
      ]
    },
    {
      "cell_type": "code",
      "metadata": {
        "id": "UejArHwtxFjs"
      },
      "source": [
        "apple = ['slim', 'red', 'low']\n",
        "size, color, disposition = apple"
      ],
      "id": "UejArHwtxFjs",
      "execution_count": null,
      "outputs": []
    },
    {
      "cell_type": "code",
      "metadata": {
        "id": "l2KlF4YdxFjs",
        "outputId": "661fe323-30d6-4b18-fb1d-d7dca0b2d9bc"
      },
      "source": [
        "size"
      ],
      "id": "l2KlF4YdxFjs",
      "execution_count": null,
      "outputs": [
        {
          "data": {
            "text/plain": [
              "'slim'"
            ]
          },
          "execution_count": 45,
          "metadata": {},
          "output_type": "execute_result"
        }
      ]
    },
    {
      "cell_type": "markdown",
      "metadata": {
        "id": "5F9SZyjnxFjs"
      },
      "source": [
        "The number of variables and the length of the list must be exactly equal, or Python will give you a ValueError:"
      ],
      "id": "5F9SZyjnxFjs"
    },
    {
      "cell_type": "code",
      "metadata": {
        "id": "7bBUi7fyxFjs",
        "colab": {
          "base_uri": "https://localhost:8080/",
          "height": 183
        },
        "outputId": "170c7555-33a0-4638-dbd6-109d4b1f2f8c"
      },
      "source": [
        "apple = ['slim', 'red', 'low', 'Mary']\n",
        "size, color, disposition = apple"
      ],
      "id": "7bBUi7fyxFjs",
      "execution_count": null,
      "outputs": [
        {
          "output_type": "error",
          "ename": "ValueError",
          "evalue": "ignored",
          "traceback": [
            "\u001b[0;31m---------------------------------------------------------------------------\u001b[0m",
            "\u001b[0;31mValueError\u001b[0m                                Traceback (most recent call last)",
            "\u001b[0;32m<ipython-input-63-64beab4bc0b2>\u001b[0m in \u001b[0;36m<module>\u001b[0;34m()\u001b[0m\n\u001b[1;32m      1\u001b[0m \u001b[0mapple\u001b[0m \u001b[0;34m=\u001b[0m \u001b[0;34m[\u001b[0m\u001b[0;34m'slim'\u001b[0m\u001b[0;34m,\u001b[0m \u001b[0;34m'red'\u001b[0m\u001b[0;34m,\u001b[0m \u001b[0;34m'low'\u001b[0m\u001b[0;34m,\u001b[0m \u001b[0;34m'Mary'\u001b[0m\u001b[0;34m]\u001b[0m\u001b[0;34m\u001b[0m\u001b[0;34m\u001b[0m\u001b[0m\n\u001b[0;32m----> 2\u001b[0;31m \u001b[0msize\u001b[0m\u001b[0;34m,\u001b[0m \u001b[0mcolor\u001b[0m\u001b[0;34m,\u001b[0m \u001b[0mdisposition\u001b[0m \u001b[0;34m=\u001b[0m \u001b[0mapple\u001b[0m\u001b[0;34m\u001b[0m\u001b[0;34m\u001b[0m\u001b[0m\n\u001b[0m",
            "\u001b[0;31mValueError\u001b[0m: too many values to unpack (expected 3)"
          ]
        }
      ]
    },
    {
      "cell_type": "code",
      "metadata": {
        "colab": {
          "base_uri": "https://localhost:8080/"
        },
        "id": "qgIsps8AKEE1",
        "outputId": "7fab14c1-9fd0-459c-8826-fbb87dd29bbc"
      },
      "source": [
        "apple = [['cat', 'bat'], [10, 20, 30, 40, 50]]\n",
        "#Replace 30 with 60\n",
        "apple[1][2] = 60\n",
        "apple\n"
      ],
      "id": "qgIsps8AKEE1",
      "execution_count": null,
      "outputs": [
        {
          "output_type": "execute_result",
          "data": {
            "text/plain": [
              "[['cat', 'bat'], [10, 20, 60, 40, 50]]"
            ]
          },
          "metadata": {},
          "execution_count": 64
        }
      ]
    },
    {
      "cell_type": "markdown",
      "metadata": {
        "id": "MAUgQwjFxFjs"
      },
      "source": [
        ""
      ],
      "id": "MAUgQwjFxFjs"
    },
    {
      "cell_type": "markdown",
      "metadata": {
        "id": "a1dfQ2n2xFjs"
      },
      "source": [
        "#### Augmented Assignment Operators"
      ],
      "id": "a1dfQ2n2xFjs"
    },
    {
      "cell_type": "markdown",
      "metadata": {
        "id": "rIztngE4xFjt"
      },
      "source": [
        "When assigning a value to a variable, you will frequently use the variabl itself. For example, after assigning `42` to the variable apple, you would increase the value in `apple` by 1 with the following code:"
      ],
      "id": "rIztngE4xFjt"
    },
    {
      "cell_type": "code",
      "metadata": {
        "id": "CnFQpcVGxFjt",
        "colab": {
          "base_uri": "https://localhost:8080/"
        },
        "outputId": "28ffb7b9-fbed-4d99-ebe4-d9b78c53da86"
      },
      "source": [
        "apple = 42\n",
        "apple = apple + 1\n",
        "apple"
      ],
      "id": "CnFQpcVGxFjt",
      "execution_count": null,
      "outputs": [
        {
          "output_type": "execute_result",
          "data": {
            "text/plain": [
              "43"
            ]
          },
          "metadata": {},
          "execution_count": 65
        }
      ]
    },
    {
      "cell_type": "markdown",
      "metadata": {
        "id": "WwBUL8M0xFjt"
      },
      "source": [
        "As a shortcut, you can use the augmented assignment operator += to do the same thing:"
      ],
      "id": "WwBUL8M0xFjt"
    },
    {
      "cell_type": "code",
      "metadata": {
        "id": "fRbAN_YLxFjt",
        "colab": {
          "base_uri": "https://localhost:8080/"
        },
        "outputId": "90e3223a-d9b3-473d-fc14-2d4ef1ed4289"
      },
      "source": [
        "apple = 42\n",
        "apple += 1\n",
        "apple"
      ],
      "id": "fRbAN_YLxFjt",
      "execution_count": null,
      "outputs": [
        {
          "output_type": "execute_result",
          "data": {
            "text/plain": [
              "43"
            ]
          },
          "metadata": {},
          "execution_count": 67
        }
      ]
    },
    {
      "cell_type": "code",
      "metadata": {
        "id": "vXNRjyN4xFjt"
      },
      "source": [
        ""
      ],
      "id": "vXNRjyN4xFjt",
      "execution_count": null,
      "outputs": []
    },
    {
      "cell_type": "markdown",
      "metadata": {
        "id": "VsPbTzx8xFjt"
      },
      "source": [
        "#### Removing Values from Lists with del Statements"
      ],
      "id": "VsPbTzx8xFjt"
    },
    {
      "cell_type": "code",
      "metadata": {
        "id": "wG2CNzgwxFju",
        "colab": {
          "base_uri": "https://localhost:8080/"
        },
        "outputId": "a68cba31-6dcd-4d09-a9a6-8ea30af5a274"
      },
      "source": [
        "apple = ['fat', 'black', 'loud']\n",
        "apple"
      ],
      "id": "wG2CNzgwxFju",
      "execution_count": null,
      "outputs": [
        {
          "output_type": "execute_result",
          "data": {
            "text/plain": [
              "['fat', 'black', 'loud']"
            ]
          },
          "metadata": {},
          "execution_count": 68
        }
      ]
    },
    {
      "cell_type": "code",
      "metadata": {
        "id": "a8LFPzE3xFju"
      },
      "source": [
        "del apple[2]"
      ],
      "id": "a8LFPzE3xFju",
      "execution_count": null,
      "outputs": []
    },
    {
      "cell_type": "code",
      "metadata": {
        "id": "P4Ch8fPwxFju",
        "colab": {
          "base_uri": "https://localhost:8080/"
        },
        "outputId": "04f615a1-ccac-4f8b-923d-b9689850089b"
      },
      "source": [
        "apple"
      ],
      "id": "P4Ch8fPwxFju",
      "execution_count": null,
      "outputs": [
        {
          "output_type": "execute_result",
          "data": {
            "text/plain": [
              "['fat', 'black']"
            ]
          },
          "metadata": {},
          "execution_count": 70
        }
      ]
    },
    {
      "cell_type": "code",
      "metadata": {
        "id": "d_iymrFOxFju",
        "colab": {
          "base_uri": "https://localhost:8080/"
        },
        "outputId": "a6c3ee87-315c-40ad-bd2c-17090ca7bc4f"
      },
      "source": [
        "apple_1"
      ],
      "id": "d_iymrFOxFju",
      "execution_count": null,
      "outputs": [
        {
          "output_type": "execute_result",
          "data": {
            "text/plain": [
              "[1, 2, 3, 4]"
            ]
          },
          "metadata": {},
          "execution_count": 72
        }
      ]
    },
    {
      "cell_type": "code",
      "metadata": {
        "id": "uL-7Ums-xFju"
      },
      "source": [
        "# You can also delete a variable\n",
        "# It returns error when you try to call the variable later\n",
        "del apple_1"
      ],
      "id": "uL-7Ums-xFju",
      "execution_count": null,
      "outputs": []
    },
    {
      "cell_type": "code",
      "metadata": {
        "id": "NW1L_LKGxFju",
        "colab": {
          "base_uri": "https://localhost:8080/",
          "height": 166
        },
        "outputId": "dbb8378e-45ce-4c92-97d3-a24e47b24315"
      },
      "source": [
        "apple_1"
      ],
      "id": "NW1L_LKGxFju",
      "execution_count": null,
      "outputs": [
        {
          "output_type": "error",
          "ename": "NameError",
          "evalue": "ignored",
          "traceback": [
            "\u001b[0;31m---------------------------------------------------------------------------\u001b[0m",
            "\u001b[0;31mNameError\u001b[0m                                 Traceback (most recent call last)",
            "\u001b[0;32m<ipython-input-74-0c86df9c2df6>\u001b[0m in \u001b[0;36m<module>\u001b[0;34m()\u001b[0m\n\u001b[0;32m----> 1\u001b[0;31m \u001b[0mapple_1\u001b[0m\u001b[0;34m\u001b[0m\u001b[0;34m\u001b[0m\u001b[0m\n\u001b[0m",
            "\u001b[0;31mNameError\u001b[0m: name 'apple_1' is not defined"
          ]
        }
      ]
    },
    {
      "cell_type": "markdown",
      "metadata": {
        "id": "m63rqlBnxFjv"
      },
      "source": [
        ""
      ],
      "id": "m63rqlBnxFjv"
    },
    {
      "cell_type": "markdown",
      "metadata": {
        "id": "X6NTtjJ9xFjv"
      },
      "source": [
        "### Methods\n",
        "A method is the same thing as a function, except it is “called on” a value. For example, if a list value were stored in apple, you would call the index() list method (which I’ll explain next) on that list like so: apple.index('hello').\n",
        "The method part comes after the value, separated by a period. Each data type has its own set of methods. The list data type, for example, has several useful methods for finding, adding, removing, and otherwise manipulating values in a list."
      ],
      "id": "X6NTtjJ9xFjv"
    },
    {
      "cell_type": "markdown",
      "metadata": {
        "id": "5HUBEC2zxFjv"
      },
      "source": [
        "#### Finding a Value in a List with the index() Method\n",
        "List values have an `index()` method that can be passed a value, and if that value exists in the list, the index of the value is returned. If the value isn’t in the list, then Python produces a `ValueError error`."
      ],
      "id": "5HUBEC2zxFjv"
    },
    {
      "cell_type": "code",
      "metadata": {
        "id": "XC8vu65uxFjv",
        "colab": {
          "base_uri": "https://localhost:8080/"
        },
        "outputId": "13e8ff15-b959-4a8a-92f1-968b460d6eed"
      },
      "source": [
        "my_guys = ['PreciousSam', 'UncleHoro', 'Pat', 'Stephen', 'Dooshima']\n",
        "my_guys"
      ],
      "id": "XC8vu65uxFjv",
      "execution_count": null,
      "outputs": [
        {
          "output_type": "execute_result",
          "data": {
            "text/plain": [
              "['PreciousSam', 'UncleHoro', 'Pat', 'Stephen', 'Dooshima']"
            ]
          },
          "metadata": {},
          "execution_count": 75
        }
      ]
    },
    {
      "cell_type": "code",
      "metadata": {
        "id": "9I3B2S4BxFjv",
        "colab": {
          "base_uri": "https://localhost:8080/"
        },
        "outputId": "47e513f0-e6d7-4cd7-c400-5e3ac8103f02"
      },
      "source": [
        "my_guys.index('Stephen')"
      ],
      "id": "9I3B2S4BxFjv",
      "execution_count": null,
      "outputs": [
        {
          "output_type": "execute_result",
          "data": {
            "text/plain": [
              "3"
            ]
          },
          "metadata": {},
          "execution_count": 76
        }
      ]
    },
    {
      "cell_type": "code",
      "metadata": {
        "id": "fI066K4rxFjv",
        "outputId": "9efe24c7-0991-4137-f1a4-fcf6cccf7eda"
      },
      "source": [
        "my_guys.index('Victor')"
      ],
      "id": "fI066K4rxFjv",
      "execution_count": null,
      "outputs": [
        {
          "ename": "ValueError",
          "evalue": "'Victor' is not in list",
          "output_type": "error",
          "traceback": [
            "\u001b[1;31m---------------------------------------------------------------------------\u001b[0m",
            "\u001b[1;31mValueError\u001b[0m                                Traceback (most recent call last)",
            "\u001b[1;32m<ipython-input-58-f5748d8a5c3b>\u001b[0m in \u001b[0;36m<module>\u001b[1;34m\u001b[0m\n\u001b[1;32m----> 1\u001b[1;33m \u001b[0mmy_guys\u001b[0m\u001b[1;33m.\u001b[0m\u001b[0mindex\u001b[0m\u001b[1;33m(\u001b[0m\u001b[1;34m'Victor'\u001b[0m\u001b[1;33m)\u001b[0m\u001b[1;33m\u001b[0m\u001b[1;33m\u001b[0m\u001b[0m\n\u001b[0m",
            "\u001b[1;31mValueError\u001b[0m: 'Victor' is not in list"
          ]
        }
      ]
    },
    {
      "cell_type": "markdown",
      "metadata": {
        "id": "6xllp8hnxFjw"
      },
      "source": [
        "When there are duplicates of the value in the list, the index of its first appearance is returned."
      ],
      "id": "6xllp8hnxFjw"
    },
    {
      "cell_type": "code",
      "metadata": {
        "id": "DsFv4wcaxFjw",
        "colab": {
          "base_uri": "https://localhost:8080/"
        },
        "outputId": "5e25d2f5-ae76-4961-dc32-a833f63ecc8b"
      },
      "source": [
        "my_guys = ['PreciousSam', 'UncleHoro', 'Pat', 'Stephen', 'Dooshima', 'Stephen']\n",
        "my_guys"
      ],
      "id": "DsFv4wcaxFjw",
      "execution_count": null,
      "outputs": [
        {
          "output_type": "execute_result",
          "data": {
            "text/plain": [
              "['PreciousSam', 'UncleHoro', 'Pat', 'Stephen', 'Dooshima', 'Stephen']"
            ]
          },
          "metadata": {},
          "execution_count": 80
        }
      ]
    },
    {
      "cell_type": "code",
      "metadata": {
        "id": "w_NfgPEHxFjw",
        "outputId": "8322b7d1-6a4b-49c3-93d9-77e2d2c66fe5"
      },
      "source": [
        "my_guys.index('Stephen')"
      ],
      "id": "w_NfgPEHxFjw",
      "execution_count": null,
      "outputs": [
        {
          "data": {
            "text/plain": [
              "3"
            ]
          },
          "execution_count": 60,
          "metadata": {},
          "output_type": "execute_result"
        }
      ]
    },
    {
      "cell_type": "code",
      "metadata": {
        "id": "8EkQ0EfXMhHI"
      },
      "source": [
        ""
      ],
      "id": "8EkQ0EfXMhHI",
      "execution_count": null,
      "outputs": []
    },
    {
      "cell_type": "code",
      "metadata": {
        "colab": {
          "base_uri": "https://localhost:8080/"
        },
        "id": "TI8um7isMhLB",
        "outputId": "78c54348-8583-4398-c108-9855413c4584"
      },
      "source": [
        "my_guys.append('Mary')\n",
        "my_guys"
      ],
      "id": "TI8um7isMhLB",
      "execution_count": null,
      "outputs": [
        {
          "output_type": "execute_result",
          "data": {
            "text/plain": [
              "['PreciousSam', 'UncleHoro', 'Pat', 'Stephen', 'Dooshima', 'Stephen', 'Mary']"
            ]
          },
          "metadata": {},
          "execution_count": 81
        }
      ]
    },
    {
      "cell_type": "markdown",
      "metadata": {
        "id": "0KuhxPhmxFjw"
      },
      "source": [
        "#### Adding Values to Lists with the append() and insert() Methods\n",
        "To add new values to a list, use the `append()` and `insert()` methods. Enter the following into the interactive shell to call the `append()` method on a list value stored in the variable my_guys:"
      ],
      "id": "0KuhxPhmxFjw"
    },
    {
      "cell_type": "code",
      "metadata": {
        "id": "dT26hxStxFjw",
        "colab": {
          "base_uri": "https://localhost:8080/"
        },
        "outputId": "2ae17a9b-3e51-4ec8-90ea-f503a75119f4"
      },
      "source": [
        "my_guys"
      ],
      "id": "dT26hxStxFjw",
      "execution_count": null,
      "outputs": [
        {
          "output_type": "execute_result",
          "data": {
            "text/plain": [
              "['PreciousSam', 'UncleHoro', 'Pat', 'Stephen', 'Dooshima']"
            ]
          },
          "metadata": {},
          "execution_count": 77
        }
      ]
    },
    {
      "cell_type": "code",
      "metadata": {
        "id": "MPWhjDDaxFjw"
      },
      "source": [
        "my_guys.extend('John')"
      ],
      "id": "MPWhjDDaxFjw",
      "execution_count": null,
      "outputs": []
    },
    {
      "cell_type": "code",
      "metadata": {
        "id": "kk5Zag6uxFjx",
        "colab": {
          "base_uri": "https://localhost:8080/"
        },
        "outputId": "acc96148-f2e6-40b7-e65c-28779b4d859b"
      },
      "source": [
        "my_guys"
      ],
      "id": "kk5Zag6uxFjx",
      "execution_count": null,
      "outputs": [
        {
          "output_type": "execute_result",
          "data": {
            "text/plain": [
              "['PreciousSam', 'UncleHoro', 'Pat', 'Stephen', 'Dooshima', 'J', 'o', 'h', 'n']"
            ]
          },
          "metadata": {},
          "execution_count": 79
        }
      ]
    },
    {
      "cell_type": "markdown",
      "metadata": {
        "id": "2SwNMMsNxFjx"
      },
      "source": [
        ""
      ],
      "id": "2SwNMMsNxFjx"
    },
    {
      "cell_type": "markdown",
      "metadata": {
        "id": "Fff-aUtXxFjx"
      },
      "source": [
        "The previous `append()` method call adds the argument to the end of the list. The `insert()` method can insert a value at any index in the list. The first argument to `insert()` is the index for the new value, and the second argument is the new value to be inserted."
      ],
      "id": "Fff-aUtXxFjx"
    },
    {
      "cell_type": "code",
      "metadata": {
        "colab": {
          "base_uri": "https://localhost:8080/"
        },
        "id": "OcWON7FzPPFu",
        "outputId": "52d62ba2-1933-4ba5-83f0-52cd5155e3c8"
      },
      "source": [
        "my_guys"
      ],
      "id": "OcWON7FzPPFu",
      "execution_count": null,
      "outputs": [
        {
          "output_type": "execute_result",
          "data": {
            "text/plain": [
              "['PreciousSam', 'UncleHoro', 'Pat', 'Stephen', 'Dooshima', 'Stephen', 'Mary']"
            ]
          },
          "metadata": {},
          "execution_count": 82
        }
      ]
    },
    {
      "cell_type": "code",
      "metadata": {
        "id": "RSl240jAxFjx"
      },
      "source": [
        "my_guys.insert(2, 'Thecla')"
      ],
      "id": "RSl240jAxFjx",
      "execution_count": null,
      "outputs": []
    },
    {
      "cell_type": "code",
      "metadata": {
        "id": "3Rre3p82xFjx",
        "colab": {
          "base_uri": "https://localhost:8080/"
        },
        "outputId": "6cb5b552-6b5d-48a7-af0e-5582292a7df1"
      },
      "source": [
        "my_guys"
      ],
      "id": "3Rre3p82xFjx",
      "execution_count": null,
      "outputs": [
        {
          "output_type": "execute_result",
          "data": {
            "text/plain": [
              "['PreciousSam',\n",
              " 'UncleHoro',\n",
              " 'Thecla',\n",
              " 'Pat',\n",
              " 'Stephen',\n",
              " 'Dooshima',\n",
              " 'Stephen',\n",
              " 'Mary']"
            ]
          },
          "metadata": {},
          "execution_count": 84
        }
      ]
    },
    {
      "cell_type": "markdown",
      "metadata": {
        "id": "-wnJO2-FxFjx"
      },
      "source": [
        "Methods belong to a single data type. The `append()` and `insert()` methods are list methods and can be called only on list values, not on other values such as strings or integers."
      ],
      "id": "-wnJO2-FxFjx"
    },
    {
      "cell_type": "code",
      "metadata": {
        "id": "otnZYmc1xFjy",
        "colab": {
          "base_uri": "https://localhost:8080/"
        },
        "outputId": "f7300a5c-51f7-4846-d4b4-a89fcea0a20e"
      },
      "source": [
        "eggs = 'hello'\n",
        "type(eggs)"
      ],
      "id": "otnZYmc1xFjy",
      "execution_count": null,
      "outputs": [
        {
          "output_type": "execute_result",
          "data": {
            "text/plain": [
              "str"
            ]
          },
          "metadata": {},
          "execution_count": 86
        }
      ]
    },
    {
      "cell_type": "code",
      "metadata": {
        "colab": {
          "base_uri": "https://localhost:8080/",
          "height": 166
        },
        "id": "vt64QgQAPjiN",
        "outputId": "9a6cc10e-bba8-4bfa-f3dc-192e6c055289"
      },
      "source": [
        "eggs.append('world')"
      ],
      "id": "vt64QgQAPjiN",
      "execution_count": null,
      "outputs": [
        {
          "output_type": "error",
          "ename": "AttributeError",
          "evalue": "ignored",
          "traceback": [
            "\u001b[0;31m---------------------------------------------------------------------------\u001b[0m",
            "\u001b[0;31mAttributeError\u001b[0m                            Traceback (most recent call last)",
            "\u001b[0;32m<ipython-input-87-a21e47a7597b>\u001b[0m in \u001b[0;36m<module>\u001b[0;34m()\u001b[0m\n\u001b[0;32m----> 1\u001b[0;31m \u001b[0meggs\u001b[0m\u001b[0;34m.\u001b[0m\u001b[0mappend\u001b[0m\u001b[0;34m(\u001b[0m\u001b[0;34m'world'\u001b[0m\u001b[0;34m)\u001b[0m\u001b[0;34m\u001b[0m\u001b[0;34m\u001b[0m\u001b[0m\n\u001b[0m",
            "\u001b[0;31mAttributeError\u001b[0m: 'str' object has no attribute 'append'"
          ]
        }
      ]
    },
    {
      "cell_type": "code",
      "metadata": {
        "id": "a_2M76vmxFjy",
        "colab": {
          "base_uri": "https://localhost:8080/",
          "height": 183
        },
        "outputId": "92eef945-e765-422b-aa38-5eedc5f76de7"
      },
      "source": [
        "bacon = 42\n",
        "bacon.insert(1, 'world')"
      ],
      "id": "a_2M76vmxFjy",
      "execution_count": null,
      "outputs": [
        {
          "output_type": "error",
          "ename": "AttributeError",
          "evalue": "ignored",
          "traceback": [
            "\u001b[0;31m---------------------------------------------------------------------------\u001b[0m",
            "\u001b[0;31mAttributeError\u001b[0m                            Traceback (most recent call last)",
            "\u001b[0;32m<ipython-input-88-d48d36e80f90>\u001b[0m in \u001b[0;36m<module>\u001b[0;34m()\u001b[0m\n\u001b[1;32m      1\u001b[0m \u001b[0mbacon\u001b[0m \u001b[0;34m=\u001b[0m \u001b[0;36m42\u001b[0m\u001b[0;34m\u001b[0m\u001b[0;34m\u001b[0m\u001b[0m\n\u001b[0;32m----> 2\u001b[0;31m \u001b[0mbacon\u001b[0m\u001b[0;34m.\u001b[0m\u001b[0minsert\u001b[0m\u001b[0;34m(\u001b[0m\u001b[0;36m1\u001b[0m\u001b[0;34m,\u001b[0m \u001b[0;34m'world'\u001b[0m\u001b[0;34m)\u001b[0m\u001b[0;34m\u001b[0m\u001b[0;34m\u001b[0m\u001b[0m\n\u001b[0m",
            "\u001b[0;31mAttributeError\u001b[0m: 'int' object has no attribute 'insert'"
          ]
        }
      ]
    },
    {
      "cell_type": "markdown",
      "metadata": {
        "id": "tqp3dOVaxFjy"
      },
      "source": [
        "#### Removing Values from Lists with remove()\n",
        "The `remove()` method is passed the value to be removed from the list it is called on."
      ],
      "id": "tqp3dOVaxFjy"
    },
    {
      "cell_type": "code",
      "metadata": {
        "id": "FHlXxOwuxFjy"
      },
      "source": [
        "apple = ['cat', 'bat', 'rat', 'elephant']"
      ],
      "id": "FHlXxOwuxFjy",
      "execution_count": null,
      "outputs": []
    },
    {
      "cell_type": "code",
      "metadata": {
        "id": "ZtCXS6cjxFjy",
        "colab": {
          "base_uri": "https://localhost:8080/"
        },
        "outputId": "97955253-1d92-4f2a-c6f5-84067ab5c941"
      },
      "source": [
        "apple.remove('bat')\n",
        "apple"
      ],
      "id": "ZtCXS6cjxFjy",
      "execution_count": null,
      "outputs": [
        {
          "output_type": "execute_result",
          "data": {
            "text/plain": [
              "['cat', 'rat', 'elephant']"
            ]
          },
          "metadata": {},
          "execution_count": 90
        }
      ]
    },
    {
      "cell_type": "markdown",
      "metadata": {
        "id": "YVndD90hxFjz"
      },
      "source": [
        "The `del statement` is good to use when you know the index of the value you want to remove from the list. The `remove()` method is good when you know the value you want to remove from the list."
      ],
      "id": "YVndD90hxFjz"
    },
    {
      "cell_type": "code",
      "metadata": {
        "id": "wLNmYQTJxFjz",
        "colab": {
          "base_uri": "https://localhost:8080/"
        },
        "outputId": "3534cb44-7daf-443d-9ac8-6cba7d5c065c"
      },
      "source": [
        "apple = [2, 5, 3.14, 1, -7]\n",
        "apple.sort()\n",
        "apple"
      ],
      "id": "wLNmYQTJxFjz",
      "execution_count": null,
      "outputs": [
        {
          "output_type": "execute_result",
          "data": {
            "text/plain": [
              "[-7, 1, 2, 3.14, 5]"
            ]
          },
          "metadata": {},
          "execution_count": 91
        }
      ]
    },
    {
      "cell_type": "code",
      "metadata": {
        "id": "SI4TCAunxFjz",
        "colab": {
          "base_uri": "https://localhost:8080/"
        },
        "outputId": "72f76549-b16e-4619-fb2b-0106ef0dc2f6"
      },
      "source": [
        "apple.sort(reverse = True)\n",
        "apple"
      ],
      "id": "SI4TCAunxFjz",
      "execution_count": null,
      "outputs": [
        {
          "output_type": "execute_result",
          "data": {
            "text/plain": [
              "[5, 3.14, 2, 1, -7]"
            ]
          },
          "metadata": {},
          "execution_count": 92
        }
      ]
    },
    {
      "cell_type": "code",
      "metadata": {
        "id": "B7VAtROZxFjz",
        "colab": {
          "base_uri": "https://localhost:8080/"
        },
        "outputId": "193fcc4a-588e-4d6d-87bb-0b671cc1cde3"
      },
      "source": [
        "apple = ['ants', 'cats', 'dogs', 'badgers', 'elephants']\n",
        "apple.sort()\n",
        "apple"
      ],
      "id": "B7VAtROZxFjz",
      "execution_count": null,
      "outputs": [
        {
          "output_type": "execute_result",
          "data": {
            "text/plain": [
              "['ants', 'badgers', 'cats', 'dogs', 'elephants']"
            ]
          },
          "metadata": {},
          "execution_count": 93
        }
      ]
    },
    {
      "cell_type": "markdown",
      "metadata": {
        "id": "5qti3aoPxFjz"
      },
      "source": [
        "You can also pass`True` for the reverse keyword argument to have `sort()` sort the values in reverse order."
      ],
      "id": "5qti3aoPxFjz"
    },
    {
      "cell_type": "code",
      "metadata": {
        "id": "RHS544aVxFjz",
        "colab": {
          "base_uri": "https://localhost:8080/"
        },
        "outputId": "a3e86482-540a-4730-f23a-42a43c2d1611"
      },
      "source": [
        "apple.sort(reverse=True)\n",
        "apple"
      ],
      "id": "RHS544aVxFjz",
      "execution_count": null,
      "outputs": [
        {
          "output_type": "execute_result",
          "data": {
            "text/plain": [
              "['elephants', 'dogs', 'cats', 'badgers', 'ants']"
            ]
          },
          "metadata": {},
          "execution_count": 94
        }
      ]
    },
    {
      "cell_type": "markdown",
      "metadata": {
        "id": "jMQjZHUexFj0"
      },
      "source": [
        "There are three things you should note about the `sort` method. **First**,  the`sort()` method sorts the list in place; don’t try to capture the return value by writing code like `apple = apple.sort()`."
      ],
      "id": "jMQjZHUexFj0"
    },
    {
      "cell_type": "markdown",
      "metadata": {
        "id": "w2R8I7crxFj0"
      },
      "source": [
        "**Second**, you cannot sort lists that have both number values and string values in them, since Python doesn’t know how to compare these values. Type the following and notice the TypeError error:"
      ],
      "id": "w2R8I7crxFj0"
    },
    {
      "cell_type": "code",
      "metadata": {
        "id": "B18ff4b5xFj0",
        "outputId": "fa80807e-6d35-4884-b180-696c04e6b5f4"
      },
      "source": [
        "apple = [1, 3, 2, 4, 'Thecla', 'Victor']\n",
        "apple.sort()"
      ],
      "id": "B18ff4b5xFj0",
      "execution_count": null,
      "outputs": [
        {
          "ename": "TypeError",
          "evalue": "'<' not supported between instances of 'str' and 'int'",
          "output_type": "error",
          "traceback": [
            "\u001b[1;31m---------------------------------------------------------------------------\u001b[0m",
            "\u001b[1;31mTypeError\u001b[0m                                 Traceback (most recent call last)",
            "\u001b[1;32m<ipython-input-74-6c77a4c707a2>\u001b[0m in \u001b[0;36m<module>\u001b[1;34m\u001b[0m\n\u001b[0;32m      1\u001b[0m \u001b[0mspam\u001b[0m \u001b[1;33m=\u001b[0m \u001b[1;33m[\u001b[0m\u001b[1;36m1\u001b[0m\u001b[1;33m,\u001b[0m \u001b[1;36m3\u001b[0m\u001b[1;33m,\u001b[0m \u001b[1;36m2\u001b[0m\u001b[1;33m,\u001b[0m \u001b[1;36m4\u001b[0m\u001b[1;33m,\u001b[0m \u001b[1;34m'Thecla'\u001b[0m\u001b[1;33m,\u001b[0m \u001b[1;34m'Victor'\u001b[0m\u001b[1;33m]\u001b[0m\u001b[1;33m\u001b[0m\u001b[1;33m\u001b[0m\u001b[0m\n\u001b[1;32m----> 2\u001b[1;33m \u001b[0mspam\u001b[0m\u001b[1;33m.\u001b[0m\u001b[0msort\u001b[0m\u001b[1;33m(\u001b[0m\u001b[1;33m)\u001b[0m\u001b[1;33m\u001b[0m\u001b[1;33m\u001b[0m\u001b[0m\n\u001b[0m",
            "\u001b[1;31mTypeError\u001b[0m: '<' not supported between instances of 'str' and 'int'"
          ]
        }
      ]
    },
    {
      "cell_type": "markdown",
      "metadata": {
        "id": "4bRtZryhxFj0"
      },
      "source": [
        "**Third**, `sort()` uses **“ASCIIbetical order”** rather than actual alphabetical order for sorting strings. This means uppercase letters come before lowercase letters. Therefore, the lowercase *a* is sorted so that it comes after the uppercase *Z*. For an example"
      ],
      "id": "4bRtZryhxFj0"
    },
    {
      "cell_type": "code",
      "metadata": {
        "id": "rVTtnMmnxFj0",
        "colab": {
          "base_uri": "https://localhost:8080/"
        },
        "outputId": "c0b5f18f-e01c-4158-aabf-97d6a3885ec1"
      },
      "source": [
        "apple = ['Alice', 'ants', 'Bob', 'badgers', 'Carol', 'cats']\n",
        "apple.sort()\n",
        "print (apple)"
      ],
      "id": "rVTtnMmnxFj0",
      "execution_count": null,
      "outputs": [
        {
          "output_type": "stream",
          "name": "stdout",
          "text": [
            "['Alice', 'Bob', 'Carol', 'ants', 'badgers', 'cats']\n"
          ]
        }
      ]
    },
    {
      "cell_type": "code",
      "metadata": {
        "id": "3VTUDEW1xFj1",
        "outputId": "86f508b2-215b-4820-889c-56803c2b06e1"
      },
      "source": [
        "apple"
      ],
      "id": "3VTUDEW1xFj1",
      "execution_count": null,
      "outputs": [
        {
          "data": {
            "text/plain": [
              "['Alice', 'Bob', 'Carol', 'ants', 'badgers', 'cats']"
            ]
          },
          "execution_count": 76,
          "metadata": {},
          "output_type": "execute_result"
        }
      ]
    },
    {
      "cell_type": "markdown",
      "metadata": {
        "id": "5gNiK67mxFj1"
      },
      "source": [
        "If you need to sort the values in regular alphabetical order, pass `str.lower` for the key keyword argument in the `sort()` method call."
      ],
      "id": "5gNiK67mxFj1"
    },
    {
      "cell_type": "code",
      "metadata": {
        "id": "sfeYENOaxFj1"
      },
      "source": [
        "apple.sort(key = str.lower)"
      ],
      "id": "sfeYENOaxFj1",
      "execution_count": null,
      "outputs": []
    },
    {
      "cell_type": "code",
      "metadata": {
        "id": "m5YF2C3txFj1",
        "outputId": "620108e2-c528-4d25-a8b7-c3b79cc0d01c"
      },
      "source": [
        "apple"
      ],
      "id": "m5YF2C3txFj1",
      "execution_count": null,
      "outputs": [
        {
          "data": {
            "text/plain": [
              "['Alice', 'ants', 'badgers', 'Bob', 'Carol', 'cats']"
            ]
          },
          "execution_count": 78,
          "metadata": {},
          "output_type": "execute_result"
        }
      ]
    },
    {
      "cell_type": "markdown",
      "metadata": {
        "id": "WQOJPy23xFj1"
      },
      "source": [
        ""
      ],
      "id": "WQOJPy23xFj1"
    },
    {
      "cell_type": "markdown",
      "metadata": {
        "id": "yuZV1R7LxFj1"
      },
      "source": [
        "## The Tuple Data Type\n",
        "The tuple data type is almost identical to the list data type, except in two ways. First, tuples are typed with parentheses, ( and ), instead of square brackets, [ and ]. For example:"
      ],
      "id": "yuZV1R7LxFj1"
    },
    {
      "cell_type": "code",
      "metadata": {
        "id": "hfeYxdy_xFj2",
        "colab": {
          "base_uri": "https://localhost:8080/"
        },
        "outputId": "c8483ccf-45fb-479c-a5fa-3608e8fe9f31"
      },
      "source": [
        "apple = ('Hello', 1, 3.5)\n",
        "type (apple)"
      ],
      "id": "hfeYxdy_xFj2",
      "execution_count": null,
      "outputs": [
        {
          "output_type": "execute_result",
          "data": {
            "text/plain": [
              "tuple"
            ]
          },
          "metadata": {},
          "execution_count": 96
        }
      ]
    },
    {
      "cell_type": "code",
      "metadata": {
        "id": "3RUSZeeAxFj2",
        "colab": {
          "base_uri": "https://localhost:8080/",
          "height": 35
        },
        "outputId": "0ab5c3d5-bb0e-4c0d-8c15-ec70873add7f"
      },
      "source": [
        "apple[0]"
      ],
      "id": "3RUSZeeAxFj2",
      "execution_count": null,
      "outputs": [
        {
          "output_type": "execute_result",
          "data": {
            "application/vnd.google.colaboratory.intrinsic+json": {
              "type": "string"
            },
            "text/plain": [
              "'Hello'"
            ]
          },
          "metadata": {},
          "execution_count": 98
        }
      ]
    },
    {
      "cell_type": "code",
      "metadata": {
        "id": "RG9mulB1xFj2",
        "outputId": "82c675d7-28f6-46fe-94a8-86a3a68d02c2"
      },
      "source": [
        "apple[:2]"
      ],
      "id": "RG9mulB1xFj2",
      "execution_count": null,
      "outputs": [
        {
          "data": {
            "text/plain": [
              "('Hello', 1)"
            ]
          },
          "execution_count": 19,
          "metadata": {},
          "output_type": "execute_result"
        }
      ]
    },
    {
      "cell_type": "code",
      "metadata": {
        "id": "DrWw5WtAxFj2",
        "outputId": "1eb5447f-0463-4ed8-a793-9eb7615bae9d"
      },
      "source": [
        "len(apple)"
      ],
      "id": "DrWw5WtAxFj2",
      "execution_count": null,
      "outputs": [
        {
          "data": {
            "text/plain": [
              "3"
            ]
          },
          "execution_count": 20,
          "metadata": {},
          "output_type": "execute_result"
        }
      ]
    },
    {
      "cell_type": "markdown",
      "metadata": {
        "id": "j82rtmVOxFj3"
      },
      "source": [
        "But the main way that tuples are different from lists is that tuples, like strings, are immutable. Tuples cannot have their values modified, appended, or removed."
      ],
      "id": "j82rtmVOxFj3"
    },
    {
      "cell_type": "code",
      "metadata": {
        "id": "B3BOKOS9xFj3",
        "colab": {
          "base_uri": "https://localhost:8080/",
          "height": 166
        },
        "outputId": "32402202-d706-4a1b-c242-2defa1c8836c"
      },
      "source": [
        "apple[0] = 'Hi'"
      ],
      "id": "B3BOKOS9xFj3",
      "execution_count": null,
      "outputs": [
        {
          "output_type": "error",
          "ename": "TypeError",
          "evalue": "ignored",
          "traceback": [
            "\u001b[0;31m---------------------------------------------------------------------------\u001b[0m",
            "\u001b[0;31mTypeError\u001b[0m                                 Traceback (most recent call last)",
            "\u001b[0;32m<ipython-input-99-0fbe06eec1a2>\u001b[0m in \u001b[0;36m<module>\u001b[0;34m()\u001b[0m\n\u001b[0;32m----> 1\u001b[0;31m \u001b[0mapple\u001b[0m\u001b[0;34m[\u001b[0m\u001b[0;36m0\u001b[0m\u001b[0;34m]\u001b[0m \u001b[0;34m=\u001b[0m \u001b[0;34m'Hi'\u001b[0m\u001b[0;34m\u001b[0m\u001b[0;34m\u001b[0m\u001b[0m\n\u001b[0m",
            "\u001b[0;31mTypeError\u001b[0m: 'tuple' object does not support item assignment"
          ]
        }
      ]
    },
    {
      "cell_type": "code",
      "metadata": {
        "colab": {
          "base_uri": "https://localhost:8080/",
          "height": 166
        },
        "id": "WQX0aUimRiTC",
        "outputId": "d8facf2e-8897-4156-e837-a754197cc6eb"
      },
      "source": [
        "apple.append('Hi')"
      ],
      "id": "WQX0aUimRiTC",
      "execution_count": null,
      "outputs": [
        {
          "output_type": "error",
          "ename": "AttributeError",
          "evalue": "ignored",
          "traceback": [
            "\u001b[0;31m---------------------------------------------------------------------------\u001b[0m",
            "\u001b[0;31mAttributeError\u001b[0m                            Traceback (most recent call last)",
            "\u001b[0;32m<ipython-input-105-e56c62b7af39>\u001b[0m in \u001b[0;36m<module>\u001b[0;34m()\u001b[0m\n\u001b[0;32m----> 1\u001b[0;31m \u001b[0mapple\u001b[0m\u001b[0;34m.\u001b[0m\u001b[0mappend\u001b[0m\u001b[0;34m(\u001b[0m\u001b[0;34m'Hi'\u001b[0m\u001b[0;34m)\u001b[0m\u001b[0;34m\u001b[0m\u001b[0;34m\u001b[0m\u001b[0m\n\u001b[0m",
            "\u001b[0;31mAttributeError\u001b[0m: 'tuple' object has no attribute 'append'"
          ]
        }
      ]
    },
    {
      "cell_type": "markdown",
      "metadata": {
        "id": "NBV9Vy1NxFj3"
      },
      "source": [
        "## The Dictionary Data Type\n",
        "Like a list, a dictionary is a collection of many values. But unlike indexes for lists, indexes for dictionaries can use many different data types, not just integers. Indexes for dictionaries are called keys, and a key with its associated\n",
        "value is called a key-value pair. In code, a dictionary is typed with braces, {}."
      ],
      "id": "NBV9Vy1NxFj3"
    },
    {
      "cell_type": "code",
      "metadata": {
        "colab": {
          "base_uri": "https://localhost:8080/",
          "height": 35
        },
        "id": "WZNUdJ79Q4hH",
        "outputId": "6abe45ba-76b5-49c2-e8f0-edccd9e93edf"
      },
      "source": [
        "#dict = {key1: value1, key2: value2, key3=value3}\n",
        "dict_1 = {'name': 'Mary', 'year': 1990, 'color': 'red'}  \n",
        "dict_1['name']"
      ],
      "id": "WZNUdJ79Q4hH",
      "execution_count": null,
      "outputs": [
        {
          "output_type": "execute_result",
          "data": {
            "application/vnd.google.colaboratory.intrinsic+json": {
              "type": "string"
            },
            "text/plain": [
              "'Mary'"
            ]
          },
          "metadata": {},
          "execution_count": 127
        }
      ]
    },
    {
      "cell_type": "code",
      "metadata": {
        "id": "Tv8t7n9oxFj3"
      },
      "source": [
        "dict_2 = {'size': 'fat', 'color': 'gray', 'disposition': 'loud'}"
      ],
      "id": "Tv8t7n9oxFj3",
      "execution_count": null,
      "outputs": []
    },
    {
      "cell_type": "code",
      "metadata": {
        "id": "HvclqdCexFj4",
        "outputId": "b945ae38-2bc6-4908-df6b-ef4261c3bcd0"
      },
      "source": [
        "dict_2"
      ],
      "id": "HvclqdCexFj4",
      "execution_count": null,
      "outputs": [
        {
          "data": {
            "text/plain": [
              "{'size': 'fat', 'color': 'gray', 'disposition': 'loud'}"
            ]
          },
          "execution_count": 23,
          "metadata": {},
          "output_type": "execute_result"
        }
      ]
    },
    {
      "cell_type": "markdown",
      "metadata": {
        "id": "OdYiNCd3xFj4"
      },
      "source": [
        "This assigns a dictionary to the dict_2 variable. These dictionary’s keys are 'size', 'color', and 'disposition'. The values for these keys are 'fat', 'gray', and 'loud', respectively. You can access these values through their keys:"
      ],
      "id": "OdYiNCd3xFj4"
    },
    {
      "cell_type": "code",
      "metadata": {
        "id": "xC4DohbAxFj4",
        "colab": {
          "base_uri": "https://localhost:8080/",
          "height": 35
        },
        "outputId": "f7be1898-7b2c-4bea-b782-5942eca93440"
      },
      "source": [
        "dict_2['size']"
      ],
      "id": "xC4DohbAxFj4",
      "execution_count": null,
      "outputs": [
        {
          "output_type": "execute_result",
          "data": {
            "application/vnd.google.colaboratory.intrinsic+json": {
              "type": "string"
            },
            "text/plain": [
              "'fat'"
            ]
          },
          "metadata": {},
          "execution_count": 104
        }
      ]
    },
    {
      "cell_type": "code",
      "metadata": {
        "id": "qLHtD8goxFj5",
        "outputId": "b1f28fb5-a06b-4717-f222-63cc566cc8ce"
      },
      "source": [
        "dict_2['color']"
      ],
      "id": "qLHtD8goxFj5",
      "execution_count": null,
      "outputs": [
        {
          "data": {
            "text/plain": [
              "'gray'"
            ]
          },
          "execution_count": 25,
          "metadata": {},
          "output_type": "execute_result"
        }
      ]
    },
    {
      "cell_type": "code",
      "metadata": {
        "id": "Q-xD8Q8mxFj5",
        "outputId": "03feeadd-1f3d-4225-a15a-1938903ef414"
      },
      "source": [
        "'The cat has ' + dict_2['color'] + ' fur.'"
      ],
      "id": "Q-xD8Q8mxFj5",
      "execution_count": null,
      "outputs": [
        {
          "data": {
            "text/plain": [
              "'The cat has gray fur.'"
            ]
          },
          "execution_count": 28,
          "metadata": {},
          "output_type": "execute_result"
        }
      ]
    },
    {
      "cell_type": "markdown",
      "metadata": {
        "id": "rrE5kdFXxFj5"
      },
      "source": [
        "Dictionaries can still use integer values as keys, just like lists use integers for indexes, but they do not have to start at 0 and can be any number."
      ],
      "id": "rrE5kdFXxFj5"
    },
    {
      "cell_type": "code",
      "metadata": {
        "id": "YDQSibf0xFj6"
      },
      "source": [
        "apple = {123: 'number', 456: 'answer'}"
      ],
      "id": "YDQSibf0xFj6",
      "execution_count": null,
      "outputs": []
    },
    {
      "cell_type": "code",
      "metadata": {
        "id": "gBd7R0kxxFj6",
        "outputId": "78f2edf9-2e1a-408d-8825-dfb52ad1a305"
      },
      "source": [
        "apple[123]"
      ],
      "id": "gBd7R0kxxFj6",
      "execution_count": null,
      "outputs": [
        {
          "data": {
            "text/plain": [
              "'number'"
            ]
          },
          "execution_count": 30,
          "metadata": {},
          "output_type": "execute_result"
        }
      ]
    },
    {
      "cell_type": "markdown",
      "metadata": {
        "id": "f--Lx3tdxFj6"
      },
      "source": [
        "#### Dictionaries vs. Lists\n",
        "Unlike lists, items in dictionaries are unordered. The first item in a list named `apple` would be `apple[0]`. But there is no “first” item in a dictionary. While the order of items matters for determining whether two lists are the same, it does not matter in what order the key-value pairs are typed in a dictionary."
      ],
      "id": "f--Lx3tdxFj6"
    },
    {
      "cell_type": "code",
      "metadata": {
        "id": "g6MOPA_LxFj6",
        "colab": {
          "base_uri": "https://localhost:8080/"
        },
        "outputId": "d948472d-90eb-40da-96d8-2cfe530916c7"
      },
      "source": [
        "apple = ['cats', 'dogs', 'moose']\n",
        "bacon = ['dogs', 'moose', 'cats']\n",
        "apple == bacon"
      ],
      "id": "g6MOPA_LxFj6",
      "execution_count": null,
      "outputs": [
        {
          "output_type": "execute_result",
          "data": {
            "text/plain": [
              "False"
            ]
          },
          "metadata": {},
          "execution_count": 139
        }
      ]
    },
    {
      "cell_type": "code",
      "metadata": {
        "colab": {
          "base_uri": "https://localhost:8080/"
        },
        "id": "KecUcg1tXGz1",
        "outputId": "581765aa-ccdb-48b0-ca68-3a2177cc1968"
      },
      "source": [
        "apple.sort()\n",
        "bacon.sort()\n",
        "print (apple)\n",
        "print (bacon)\n",
        "apple == bacon"
      ],
      "id": "KecUcg1tXGz1",
      "execution_count": null,
      "outputs": [
        {
          "output_type": "stream",
          "name": "stdout",
          "text": [
            "['cats', 'dogs', 'moose']\n",
            "['cats', 'dogs', 'moose']\n"
          ]
        },
        {
          "output_type": "execute_result",
          "data": {
            "text/plain": [
              "True"
            ]
          },
          "metadata": {},
          "execution_count": 141
        }
      ]
    },
    {
      "cell_type": "code",
      "metadata": {
        "colab": {
          "base_uri": "https://localhost:8080/",
          "height": 35
        },
        "id": "sm-DVqjYWq4u",
        "outputId": "98a82bce-2f8b-440f-f9c7-99c2e8ba486d"
      },
      "source": [
        "apple[0]"
      ],
      "id": "sm-DVqjYWq4u",
      "execution_count": null,
      "outputs": [
        {
          "output_type": "execute_result",
          "data": {
            "application/vnd.google.colaboratory.intrinsic+json": {
              "type": "string"
            },
            "text/plain": [
              "'cats'"
            ]
          },
          "metadata": {},
          "execution_count": 130
        }
      ]
    },
    {
      "cell_type": "code",
      "metadata": {
        "id": "ZRogT6kKxFj6",
        "colab": {
          "base_uri": "https://localhost:8080/"
        },
        "outputId": "09130222-293d-4f94-eaaa-e90cabbe2f00"
      },
      "source": [
        "eggs = {'name': 'Zophie', 'species': 'cat', 'age': 8}\n",
        "ham = {'species': 'cat', 'age': 8, 'name': 'Zophie'}\n",
        "eggs == ham"
      ],
      "id": "ZRogT6kKxFj6",
      "execution_count": null,
      "outputs": [
        {
          "output_type": "execute_result",
          "data": {
            "text/plain": [
              "True"
            ]
          },
          "metadata": {},
          "execution_count": 107
        }
      ]
    },
    {
      "cell_type": "markdown",
      "metadata": {
        "id": "KKTXJTScxFj7"
      },
      "source": [
        "Because dictionaries are not ordered, they can’t be sliced like lists. Trying to access a key that does not exist in a dictionary will result in a `KeyError` error message, much like a list’s “out-of-range” `IndexError error` message."
      ],
      "id": "KKTXJTScxFj7"
    },
    {
      "cell_type": "code",
      "metadata": {
        "id": "VNaWAksNxFj7",
        "colab": {
          "base_uri": "https://localhost:8080/",
          "height": 35
        },
        "outputId": "de47040e-06f7-45b9-81cb-e33bde480636"
      },
      "source": [
        "apple = {'name': 'Zophie', 'age': 7}\n",
        "apple['name']"
      ],
      "id": "VNaWAksNxFj7",
      "execution_count": null,
      "outputs": [
        {
          "output_type": "execute_result",
          "data": {
            "application/vnd.google.colaboratory.intrinsic+json": {
              "type": "string"
            },
            "text/plain": [
              "'Zophie'"
            ]
          },
          "metadata": {},
          "execution_count": 109
        }
      ]
    },
    {
      "cell_type": "markdown",
      "metadata": {
        "id": "2cd4F6-bxFj7"
      },
      "source": [
        "Though dictionaries are not ordered, the fact that you can have arbitrary values for the keys allows you to organize your data in powerful ways. Say you wanted your program to store data about your friends’ birthdays. You can use a dictionary with the names as keys and the birthdays as values. "
      ],
      "id": "2cd4F6-bxFj7"
    },
    {
      "cell_type": "code",
      "metadata": {
        "id": "TFd8ekUsxFj_",
        "colab": {
          "base_uri": "https://localhost:8080/"
        },
        "outputId": "0d8ba40d-f637-47df-deee-2d8ad0607e9c"
      },
      "source": [
        "birthdays = {'Sam': 'Nov 5', 'Pat': 'Jan 13', 'Thecla': 'Mar 19'}\n",
        "while True:\n",
        "    print('Enter a name: (blank to quit)')\n",
        "    name = input()\n",
        "    if name == '':\n",
        "        break\n",
        "    if name in birthdays:\n",
        "        print(birthdays[name] + ' is the birthday of ' + name)\n",
        "    else:\n",
        "        print('I do not have birthday information for ' + name)\n",
        "        print('What is their birthday?')\n",
        "        bday = input()\n",
        "        birthdays[name] = bday\n",
        "        print('Birthday database updated.')"
      ],
      "id": "TFd8ekUsxFj_",
      "execution_count": null,
      "outputs": [
        {
          "name": "stdout",
          "output_type": "stream",
          "text": [
            "Enter a name: (blank to quit)\n",
            "Maria\n",
            "I do not have birthday information for Maria\n",
            "What is their birthday?\n",
            "Jan 15\n",
            "Birthday database updated.\n",
            "Enter a name: (blank to quit)\n",
            "\n"
          ]
        }
      ]
    },
    {
      "cell_type": "code",
      "metadata": {
        "colab": {
          "base_uri": "https://localhost:8080/"
        },
        "id": "QV39ovO_UBbL",
        "outputId": "335c7e1d-92ad-49ce-8949-64472400dce8"
      },
      "source": [
        "birthdays"
      ],
      "id": "QV39ovO_UBbL",
      "execution_count": null,
      "outputs": [
        {
          "output_type": "execute_result",
          "data": {
            "text/plain": [
              "{'Maria': 'Jan 15', 'Pat': 'Jan 13', 'Sam': 'Nov 5', 'Thecla': 'Mar 19'}"
            ]
          },
          "metadata": {},
          "execution_count": 112
        }
      ]
    },
    {
      "cell_type": "markdown",
      "metadata": {
        "id": "U23jSMOexFj_"
      },
      "source": [
        "#### The keys(), values(), and items() Methods\n",
        "There are three dictionary methods that will return list-like values of the dictionary’s keys, values, or both keys and values: keys(), values(), and items(). The values returned by these methods are not true lists: They cannot be modified and do not have an append() method. But these data types (dict_keys,dict_values, and dict_items, respectively) can be used in for loops."
      ],
      "id": "U23jSMOexFj_"
    },
    {
      "cell_type": "code",
      "metadata": {
        "id": "OGeZxCHNxFj_",
        "colab": {
          "base_uri": "https://localhost:8080/"
        },
        "outputId": "0ddbda9c-2cba-4a80-aedf-bf1befb7fb09"
      },
      "source": [
        "apple = {'color': 'red', 'age': 42}\n",
        "apple.items()"
      ],
      "id": "OGeZxCHNxFj_",
      "execution_count": null,
      "outputs": [
        {
          "output_type": "execute_result",
          "data": {
            "text/plain": [
              "dict_items([('color', 'red'), ('age', 42)])"
            ]
          },
          "metadata": {},
          "execution_count": 143
        }
      ]
    },
    {
      "cell_type": "code",
      "metadata": {
        "colab": {
          "base_uri": "https://localhost:8080/"
        },
        "id": "fjo1Nwc0UTTV",
        "outputId": "31f32dc9-f41a-4a18-c611-b8de8f78460a"
      },
      "source": [
        "values = []\n",
        "for v in apple.values():\n",
        "  values.append(v)\n",
        "print (values)"
      ],
      "id": "fjo1Nwc0UTTV",
      "execution_count": null,
      "outputs": [
        {
          "output_type": "stream",
          "name": "stdout",
          "text": [
            "['red', 42]\n"
          ]
        }
      ]
    },
    {
      "cell_type": "code",
      "metadata": {
        "id": "YyDBTB60xFj_",
        "outputId": "2cc30d9c-8f2e-4f55-9883-1ead1377bb7d"
      },
      "source": [
        "for k in apple.keys():\n",
        "    print(k)"
      ],
      "id": "YyDBTB60xFj_",
      "execution_count": null,
      "outputs": [
        {
          "name": "stdout",
          "output_type": "stream",
          "text": [
            "color\n",
            "age\n"
          ]
        }
      ]
    },
    {
      "cell_type": "code",
      "metadata": {
        "id": "3k8B7Q1zxFj_",
        "colab": {
          "base_uri": "https://localhost:8080/"
        },
        "outputId": "ec459e70-4694-404c-f9a6-55510f5a013a"
      },
      "source": [
        "for i in apple.items():\n",
        "    print(i)"
      ],
      "id": "3k8B7Q1zxFj_",
      "execution_count": null,
      "outputs": [
        {
          "output_type": "stream",
          "name": "stdout",
          "text": [
            "('color', 'red')\n",
            "('age', 42)\n"
          ]
        }
      ]
    },
    {
      "cell_type": "markdown",
      "metadata": {
        "id": "huFdJ-eBxFkA"
      },
      "source": [
        "#### The get() Method\n",
        "It’s tedious to check whether a key exists in a dictionary before accessing that key’s value. Fortunately, dictionaries have a get() method that takes two arguments: the key of the value to retrieve and a fallback value to return if that key does not exist."
      ],
      "id": "huFdJ-eBxFkA"
    },
    {
      "cell_type": "code",
      "metadata": {
        "id": "QxYkki1GxFkA",
        "colab": {
          "base_uri": "https://localhost:8080/"
        },
        "outputId": "bb2e294e-f8da-4987-ba6d-25314d5324fd"
      },
      "source": [
        "picnicItems = {'apples': 5, 'cups': 2}\n",
        "picnicItems.get('cup', 0)"
      ],
      "id": "QxYkki1GxFkA",
      "execution_count": null,
      "outputs": [
        {
          "output_type": "execute_result",
          "data": {
            "text/plain": [
              "0"
            ]
          },
          "metadata": {},
          "execution_count": 148
        }
      ]
    },
    {
      "cell_type": "code",
      "metadata": {
        "id": "k9rHofICxFkA",
        "outputId": "401f4fcd-f018-4db8-af3f-92c61be3ab30"
      },
      "source": [
        "'I am bringing ' + str(picnicItems.get('cups', 0)) + ' cups.'"
      ],
      "id": "k9rHofICxFkA",
      "execution_count": null,
      "outputs": [
        {
          "data": {
            "text/plain": [
              "'I am bringing 2 cups.'"
            ]
          },
          "execution_count": 39,
          "metadata": {},
          "output_type": "execute_result"
        }
      ]
    },
    {
      "cell_type": "code",
      "metadata": {
        "id": "RSmoeRdvxFkA",
        "outputId": "42074f2b-d0fa-459a-dab4-cd00407336ab"
      },
      "source": [
        "'I am bringing ' + str(picnicItems.get('eggs', 0)) + ' eggs.'"
      ],
      "id": "RSmoeRdvxFkA",
      "execution_count": null,
      "outputs": [
        {
          "data": {
            "text/plain": [
              "'I am bringing 0 eggs.'"
            ]
          },
          "execution_count": 40,
          "metadata": {},
          "output_type": "execute_result"
        }
      ]
    },
    {
      "cell_type": "markdown",
      "metadata": {
        "id": "62jzvjqzxFkB"
      },
      "source": [
        "#### The End!\n"
      ],
      "id": "62jzvjqzxFkB"
    },
    {
      "cell_type": "code",
      "metadata": {
        "id": "_F5jLherxFkB"
      },
      "source": [
        ""
      ],
      "id": "_F5jLherxFkB",
      "execution_count": null,
      "outputs": []
    }
  ]
}